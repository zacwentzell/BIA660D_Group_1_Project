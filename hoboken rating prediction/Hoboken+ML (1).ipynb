{
 "cells": [
  {
   "cell_type": "code",
   "execution_count": 1,
   "metadata": {},
   "outputs": [
    {
     "name": "stderr",
     "output_type": "stream",
     "text": [
      "/anaconda3/lib/python3.6/site-packages/sklearn/cross_validation.py:41: DeprecationWarning: This module was deprecated in version 0.18 in favor of the model_selection module into which all the refactored classes and functions are moved. Also note that the interface of the new CV iterators are different from that of this module. This module will be removed in 0.20.\n",
      "  \"This module will be removed in 0.20.\", DeprecationWarning)\n",
      "/anaconda3/lib/python3.6/site-packages/sklearn/grid_search.py:42: DeprecationWarning: This module was deprecated in version 0.18 in favor of the model_selection module into which all the refactored classes and functions are moved. This module will be removed in 0.20.\n",
      "  DeprecationWarning)\n",
      "/anaconda3/lib/python3.6/site-packages/nltk/twitter/__init__.py:20: UserWarning: The twython library has not been installed. Some functionality from the twitter package will not be available.\n",
      "  warnings.warn(\"The twython library has not been installed. \"\n"
     ]
    }
   ],
   "source": [
    "import numpy as np\n",
    "import matplotlib.pyplot as plt\n",
    "import pandas as pd\n",
    "import re \n",
    "import itertools\n",
    "import seaborn as sns\n",
    "from sklearn.feature_extraction.text import CountVectorizer,TfidfVectorizer\n",
    "from nltk.stem.porter import PorterStemmer\n",
    "from nltk.corpus import stopwords\n",
    "from sklearn.grid_search import GridSearchCV\n",
    "from sklearn.metrics import classification_report\n",
    "from sklearn.model_selection import train_test_split, cross_val_score\n",
    "from sklearn.model_selection import GridSearchCV\n",
    "from sklearn.metrics import accuracy_score, confusion_matrix, f1_score\n",
    "from sklearn.model_selection import cross_validate\n",
    "from nltk import tokenize\n",
    "from nltk.sentiment.vader import SentimentIntensityAnalyzer"
   ]
  },
  {
   "cell_type": "code",
   "execution_count": 2,
   "metadata": {
    "collapsed": true
   },
   "outputs": [],
   "source": [
    "dataset=pd.read_csv('review_cleaned')"
   ]
  },
  {
   "cell_type": "markdown",
   "metadata": {},
   "source": [
    "#### delete useless column"
   ]
  },
  {
   "cell_type": "code",
   "execution_count": 3,
   "metadata": {},
   "outputs": [
    {
     "data": {
      "text/html": [
       "<div>\n",
       "<style>\n",
       "    .dataframe thead tr:only-child th {\n",
       "        text-align: right;\n",
       "    }\n",
       "\n",
       "    .dataframe thead th {\n",
       "        text-align: left;\n",
       "    }\n",
       "\n",
       "    .dataframe tbody tr th {\n",
       "        vertical-align: top;\n",
       "    }\n",
       "</style>\n",
       "<table border=\"1\" class=\"dataframe\">\n",
       "  <thead>\n",
       "    <tr style=\"text-align: right;\">\n",
       "      <th></th>\n",
       "      <th>user_id</th>\n",
       "      <th>user_name</th>\n",
       "      <th>user_rating</th>\n",
       "      <th>user_text</th>\n",
       "      <th>restaurant_name</th>\n",
       "      <th>restaurant_rating</th>\n",
       "      <th>restaurant_price</th>\n",
       "      <th>restaurant_type</th>\n",
       "      <th>rating_level</th>\n",
       "      <th>cleaned_review</th>\n",
       "    </tr>\n",
       "  </thead>\n",
       "  <tbody>\n",
       "    <tr>\n",
       "      <th>0</th>\n",
       "      <td>dRuCO4NYO7zyAF8-CeJmZg</td>\n",
       "      <td>Jason L.</td>\n",
       "      <td>5</td>\n",
       "      <td>We booked Grand Vin as our brunch location to ...</td>\n",
       "      <td>Grand Vin</td>\n",
       "      <td>4.0 star rating</td>\n",
       "      <td>$$</td>\n",
       "      <td>Wine, Bars,, Italian,, Cocktail, Bars</td>\n",
       "      <td>high</td>\n",
       "      <td>book grand vin brunch locat celebr wed day cou...</td>\n",
       "    </tr>\n",
       "    <tr>\n",
       "      <th>1</th>\n",
       "      <td>f36YZ1cA291bNtMHXWtu1Q</td>\n",
       "      <td>Danyale W.</td>\n",
       "      <td>4</td>\n",
       "      <td>Sooooo for date night it was his turn to pick ...</td>\n",
       "      <td>Grand Vin</td>\n",
       "      <td>4.0 star rating</td>\n",
       "      <td>$$</td>\n",
       "      <td>Wine, Bars,, Italian,, Cocktail, Bars</td>\n",
       "      <td>high</td>\n",
       "      <td>sooooo date night turn pick random yelp select...</td>\n",
       "    </tr>\n",
       "    <tr>\n",
       "      <th>2</th>\n",
       "      <td>-xYUKfWQTaB-7BeizsQA3w</td>\n",
       "      <td>Robin G.</td>\n",
       "      <td>5</td>\n",
       "      <td>Adorable little wine bar with outdoor seating ...</td>\n",
       "      <td>Grand Vin</td>\n",
       "      <td>4.0 star rating</td>\n",
       "      <td>$$</td>\n",
       "      <td>Wine, Bars,, Italian,, Cocktail, Bars</td>\n",
       "      <td>high</td>\n",
       "      <td>ador littl wine bar outdoor seat avail wine ta...</td>\n",
       "    </tr>\n",
       "    <tr>\n",
       "      <th>3</th>\n",
       "      <td>tt1vLgAP5UpRXAKJLT2KWg</td>\n",
       "      <td>Alec K.</td>\n",
       "      <td>4</td>\n",
       "      <td>One of the top restaurants in Hoboken. Well ma...</td>\n",
       "      <td>Grand Vin</td>\n",
       "      <td>4.0 star rating</td>\n",
       "      <td>$$</td>\n",
       "      <td>Wine, Bars,, Italian,, Cocktail, Bars</td>\n",
       "      <td>high</td>\n",
       "      <td>top hoboken well made pleasant atmospher make ...</td>\n",
       "    </tr>\n",
       "    <tr>\n",
       "      <th>4</th>\n",
       "      <td>-K79Xep4lElqIChsJYWuiQ</td>\n",
       "      <td>Robbie O.</td>\n",
       "      <td>5</td>\n",
       "      <td>Great space- service is on point -  short rib ...</td>\n",
       "      <td>Grand Vin</td>\n",
       "      <td>4.0 star rating</td>\n",
       "      <td>$$</td>\n",
       "      <td>Wine, Bars,, Italian,, Cocktail, Bars</td>\n",
       "      <td>high</td>\n",
       "      <td>great space servic point short rib risotto cha...</td>\n",
       "    </tr>\n",
       "  </tbody>\n",
       "</table>\n",
       "</div>"
      ],
      "text/plain": [
       "                  user_id   user_name  user_rating  \\\n",
       "0  dRuCO4NYO7zyAF8-CeJmZg    Jason L.            5   \n",
       "1  f36YZ1cA291bNtMHXWtu1Q  Danyale W.            4   \n",
       "2  -xYUKfWQTaB-7BeizsQA3w    Robin G.            5   \n",
       "3  tt1vLgAP5UpRXAKJLT2KWg     Alec K.            4   \n",
       "4  -K79Xep4lElqIChsJYWuiQ   Robbie O.            5   \n",
       "\n",
       "                                           user_text restaurant_name  \\\n",
       "0  We booked Grand Vin as our brunch location to ...       Grand Vin   \n",
       "1  Sooooo for date night it was his turn to pick ...       Grand Vin   \n",
       "2  Adorable little wine bar with outdoor seating ...       Grand Vin   \n",
       "3  One of the top restaurants in Hoboken. Well ma...       Grand Vin   \n",
       "4  Great space- service is on point -  short rib ...       Grand Vin   \n",
       "\n",
       "  restaurant_rating restaurant_price                        restaurant_type  \\\n",
       "0   4.0 star rating               $$  Wine, Bars,, Italian,, Cocktail, Bars   \n",
       "1   4.0 star rating               $$  Wine, Bars,, Italian,, Cocktail, Bars   \n",
       "2   4.0 star rating               $$  Wine, Bars,, Italian,, Cocktail, Bars   \n",
       "3   4.0 star rating               $$  Wine, Bars,, Italian,, Cocktail, Bars   \n",
       "4   4.0 star rating               $$  Wine, Bars,, Italian,, Cocktail, Bars   \n",
       "\n",
       "  rating_level                                     cleaned_review  \n",
       "0         high  book grand vin brunch locat celebr wed day cou...  \n",
       "1         high  sooooo date night turn pick random yelp select...  \n",
       "2         high  ador littl wine bar outdoor seat avail wine ta...  \n",
       "3         high  top hoboken well made pleasant atmospher make ...  \n",
       "4         high  great space servic point short rib risotto cha...  "
      ]
     },
     "execution_count": 3,
     "metadata": {},
     "output_type": "execute_result"
    }
   ],
   "source": [
    "dataset = dataset.drop(['Unnamed: 0'],axis = 1)\n",
    "dataset.head()"
   ]
  },
  {
   "cell_type": "markdown",
   "metadata": {},
   "source": [
    "#### creating the bag of words model###"
   ]
  },
  {
   "cell_type": "code",
   "execution_count": 4,
   "metadata": {
    "collapsed": true
   },
   "outputs": [],
   "source": [
    "dataset.dropna(axis=0, how='any',inplace=True)"
   ]
  },
  {
   "cell_type": "code",
   "execution_count": 5,
   "metadata": {
    "collapsed": true
   },
   "outputs": [],
   "source": [
    "score=[]\n",
    "for i in dataset['restaurant_rating']:\n",
    "    c=i[0]\n",
    "    score.append(c)"
   ]
  },
  {
   "cell_type": "code",
   "execution_count": 6,
   "metadata": {
    "collapsed": true
   },
   "outputs": [],
   "source": [
    "dataset['restaurant_rating']=score"
   ]
  },
  {
   "cell_type": "markdown",
   "metadata": {},
   "source": [
    "#### delete some data"
   ]
  },
  {
   "cell_type": "code",
   "execution_count": 7,
   "metadata": {
    "collapsed": true
   },
   "outputs": [],
   "source": [
    "dataset = dataset[dataset['user_text'].apply(lambda x: len(x.split())>=50)]"
   ]
  },
  {
   "cell_type": "code",
   "execution_count": 8,
   "metadata": {
    "collapsed": true
   },
   "outputs": [],
   "source": [
    "cv = CountVectorizer()\n",
    "X = cv.fit_transform(dataset['cleaned_review']).toarray()\n",
    "y = dataset.iloc[:, 8].values"
   ]
  },
  {
   "cell_type": "markdown",
   "metadata": {},
   "source": [
    "#### set training set and test set"
   ]
  },
  {
   "cell_type": "code",
   "execution_count": 9,
   "metadata": {
    "collapsed": true
   },
   "outputs": [],
   "source": [
    "X_train, X_test, y_train, y_test = train_test_split(X, y, test_size = 0.20, random_state = 0)\n"
   ]
  },
  {
   "cell_type": "markdown",
   "metadata": {
    "collapsed": true
   },
   "source": [
    "### Logistic Regression"
   ]
  },
  {
   "cell_type": "code",
   "execution_count": 22,
   "metadata": {
    "collapsed": true
   },
   "outputs": [],
   "source": [
    "from sklearn.linear_model import LogisticRegression"
   ]
  },
  {
   "cell_type": "code",
   "execution_count": 11,
   "metadata": {},
   "outputs": [
    {
     "data": {
      "text/plain": [
       "LogisticRegression(C=0.01, class_weight=None, dual=False, fit_intercept=True,\n",
       "          intercept_scaling=1, max_iter=100, multi_class='ovr', n_jobs=1,\n",
       "          penalty='l2', random_state=0, solver='liblinear', tol=0.0001,\n",
       "          verbose=0, warm_start=False)"
      ]
     },
     "execution_count": 11,
     "metadata": {},
     "output_type": "execute_result"
    }
   ],
   "source": [
    "classifier = LogisticRegression(random_state = 0, C=0.01)\n",
    "classifier.fit(X_train, y_train)\n",
    "y_pred = classifier.predict(X_test)"
   ]
  },
  {
   "cell_type": "code",
   "execution_count": 14,
   "metadata": {
    "collapsed": true
   },
   "outputs": [],
   "source": [
    "from sklearn.metrics import confusion_matrix\n",
    "cm = confusion_matrix(y_test, y_pred)\n",
    "accuracy_logistic = cm.trace()/cm.sum()"
   ]
  },
  {
   "cell_type": "code",
   "execution_count": 17,
   "metadata": {},
   "outputs": [
    {
     "data": {
      "text/plain": [
       "0.82042158968850698"
      ]
     },
     "execution_count": 17,
     "metadata": {},
     "output_type": "execute_result"
    }
   ],
   "source": [
    "accuracy_logistic"
   ]
  },
  {
   "cell_type": "code",
   "execution_count": 18,
   "metadata": {
    "collapsed": true
   },
   "outputs": [],
   "source": [
    "classifier = LogisticRegression(random_state = 0, C=0.001)\n",
    "classifier.fit(X_train, y_train)\n",
    "y_pred = classifier.predict(X_test)"
   ]
  },
  {
   "cell_type": "code",
   "execution_count": 19,
   "metadata": {},
   "outputs": [
    {
     "data": {
      "text/plain": [
       "0.78558002148227712"
      ]
     },
     "execution_count": 19,
     "metadata": {},
     "output_type": "execute_result"
    }
   ],
   "source": [
    "cm = confusion_matrix(y_test, y_pred)\n",
    "cm\n",
    "accuracy_logistic = cm.trace()/cm.sum()\n",
    "accuracy_logistic"
   ]
  },
  {
   "cell_type": "code",
   "execution_count": 20,
   "metadata": {
    "collapsed": true
   },
   "outputs": [],
   "source": [
    "classifier = LogisticRegression(random_state = 0, C=1)\n",
    "classifier.fit(X_train, y_train)\n",
    "y_pred = classifier.predict(X_test)"
   ]
  },
  {
   "cell_type": "code",
   "execution_count": 21,
   "metadata": {},
   "outputs": [
    {
     "data": {
      "text/plain": [
       "0.83545918367346939"
      ]
     },
     "execution_count": 21,
     "metadata": {},
     "output_type": "execute_result"
    }
   ],
   "source": [
    "cm = confusion_matrix(y_test, y_pred)\n",
    "accuracy_logistic = cm.trace()/cm.sum()\n",
    "accuracy_logistic"
   ]
  },
  {
   "cell_type": "code",
   "execution_count": 22,
   "metadata": {
    "collapsed": true
   },
   "outputs": [],
   "source": [
    "classifier = LogisticRegression(random_state = 0, C=10)\n",
    "classifier.fit(X_train, y_train)\n",
    "y_pred = classifier.predict(X_test)"
   ]
  },
  {
   "cell_type": "code",
   "execution_count": 23,
   "metadata": {},
   "outputs": [
    {
     "data": {
      "text/plain": [
       "0.8253222341568206"
      ]
     },
     "execution_count": 23,
     "metadata": {},
     "output_type": "execute_result"
    }
   ],
   "source": [
    "cm = confusion_matrix(y_test, y_pred)\n",
    "accuracy_logistic = cm.trace()/cm.sum()\n",
    "accuracy_logistic"
   ]
  },
  {
   "cell_type": "code",
   "execution_count": 24,
   "metadata": {
    "collapsed": true
   },
   "outputs": [],
   "source": [
    "classifier = LogisticRegression(random_state = 0, C=100)\n",
    "classifier.fit(X_train, y_train)\n",
    "y_pred = classifier.predict(X_test)"
   ]
  },
  {
   "cell_type": "code",
   "execution_count": 25,
   "metadata": {},
   "outputs": [
    {
     "data": {
      "text/plain": [
       "0.82042158968850698"
      ]
     },
     "execution_count": 25,
     "metadata": {},
     "output_type": "execute_result"
    }
   ],
   "source": [
    "cm = confusion_matrix(y_test, y_pred)\n",
    "accuracy_logistic = cm.trace()/cm.sum()\n",
    "accuracy_logistic"
   ]
  },
  {
   "cell_type": "code",
   "execution_count": 26,
   "metadata": {
    "collapsed": true
   },
   "outputs": [],
   "source": [
    "classifier = LogisticRegression(random_state = 0, C=0.1)\n",
    "classifier.fit(X_train, y_train)\n",
    "y_pred = classifier.predict(X_test)"
   ]
  },
  {
   "cell_type": "code",
   "execution_count": 27,
   "metadata": {},
   "outputs": [
    {
     "data": {
      "text/plain": [
       "0.83485499462943069"
      ]
     },
     "execution_count": 27,
     "metadata": {},
     "output_type": "execute_result"
    }
   ],
   "source": [
    "cm = confusion_matrix(y_test, y_pred)\n",
    "accuracy_logistic = cm.trace()/cm.sum()\n",
    "accuracy_logistic"
   ]
  },
  {
   "cell_type": "markdown",
   "metadata": {},
   "source": [
    "### Summary: \n",
    "#### As compared, the best score is 84%, and the best parameters is c=1"
   ]
  },
  {
   "cell_type": "code",
   "execution_count": 28,
   "metadata": {},
   "outputs": [
    {
     "data": {
      "text/plain": [
       "0.83545918367346939"
      ]
     },
     "execution_count": 28,
     "metadata": {},
     "output_type": "execute_result"
    }
   ],
   "source": [
    "classifier = LogisticRegression(random_state = 0, C=1)\n",
    "classifier.fit(X_train, y_train)\n",
    "y_pred = classifier.predict(X_test)\n",
    "cm = confusion_matrix(y_test, y_pred)\n",
    "accuracy_logistic = cm.trace()/cm.sum()\n",
    "accuracy_logistic"
   ]
  },
  {
   "cell_type": "code",
   "execution_count": null,
   "metadata": {
    "collapsed": true
   },
   "outputs": [],
   "source": [
    "cm"
   ]
  },
  {
   "cell_type": "code",
   "execution_count": 76,
   "metadata": {},
   "outputs": [
    {
     "data": {
      "image/png": "[encoded data removed]",
      "text/plain": [
       "<matplotlib.figure.Figure at 0x25c2cecda0>"
      ]
     },
     "metadata": {},
     "output_type": "display_data"
    }
   ],
   "source": [
    "plt.imshow(cm, interpolation = 'nearest')\n",
    "\n",
    "for i, j in itertools.product(range(cm.shape[0]), range(cm.shape[1])):\n",
    "    plt.text(j, i, cm[i, j],\n",
    "             horizontalalignment=\"center\",\n",
    "             color=\"white\")\n",
    "\n",
    "plt.ylabel('True label (Recall)')\n",
    "plt.xlabel('Predicted label (Precision)')\n",
    "plt.title('Logistic Reg | Confusion Matrix')\n",
    "plt.colorbar()\n",
    "plt.show()"
   ]
  },
  {
   "cell_type": "markdown",
   "metadata": {},
   "source": [
    "### Random Forest(after deleting)"
   ]
  },
  {
   "cell_type": "code",
   "execution_count": 52,
   "metadata": {
    "collapsed": true
   },
   "outputs": [],
   "source": [
    "cv = CountVectorizer()\n",
    "X = cv.fit_transform(dataset['cleaned_review']).toarray()\n",
    "y = dataset.iloc[:, 8].values"
   ]
  },
  {
   "cell_type": "code",
   "execution_count": 53,
   "metadata": {
    "collapsed": true
   },
   "outputs": [],
   "source": [
    "X_train, X_test, y_train, y_test = train_test_split(X, y, test_size = 0.20, random_state = 0)\n"
   ]
  },
  {
   "cell_type": "code",
   "execution_count": 55,
   "metadata": {
    "collapsed": true
   },
   "outputs": [],
   "source": [
    "from sklearn.ensemble import RandomForestClassifier\n",
    "classifier = RandomForestClassifier()\n",
    "classifier.fit(X_train, y_train)\n",
    "y_pred = classifier.predict(X_test)"
   ]
  },
  {
   "cell_type": "code",
   "execution_count": 56,
   "metadata": {},
   "outputs": [
    {
     "data": {
      "text/plain": [
       "0.75850498648522691"
      ]
     },
     "execution_count": 56,
     "metadata": {},
     "output_type": "execute_result"
    }
   ],
   "source": [
    "cm = confusion_matrix(y_test, y_pred)\n",
    "accuracy = cm.trace()/cm.sum()\n",
    "accuracy"
   ]
  },
  {
   "cell_type": "markdown",
   "metadata": {},
   "source": [
    "###  Naive Bayes¶"
   ]
  },
  {
   "cell_type": "code",
   "execution_count": 10,
   "metadata": {
    "collapsed": true
   },
   "outputs": [],
   "source": [
    "from sklearn.naive_bayes import GaussianNB\n",
    "classifier = GaussianNB()\n",
    "classifier.fit(X_train, y_train)\n",
    "y_pred = classifier.predict(X_test)"
   ]
  },
  {
   "cell_type": "code",
   "execution_count": 11,
   "metadata": {},
   "outputs": [
    {
     "data": {
      "text/plain": [
       "0.36890670146332372"
      ]
     },
     "execution_count": 11,
     "metadata": {},
     "output_type": "execute_result"
    }
   ],
   "source": [
    "cm = confusion_matrix(y_test, y_pred)\n",
    "NBaccuracy = cm.trace()/cm.sum()\n",
    "NBaccuracy"
   ]
  },
  {
   "cell_type": "markdown",
   "metadata": {
    "collapsed": true
   },
   "source": [
    "### Summary:\n",
    "### 1. The logistic regression has the best score(84%)\n",
    "### 2. The naive bayes has the worse score(37%)"
   ]
  },
  {
   "cell_type": "markdown",
   "metadata": {},
   "source": [
    "###  Now, i want to do sentiment analysis, to increase accuracy"
   ]
  },
  {
   "cell_type": "code",
   "execution_count": 8,
   "metadata": {
    "collapsed": true
   },
   "outputs": [],
   "source": [
    "train_data = np.array(dataset['cleaned_review'])\n",
    "train_review_list = train_data.tolist()"
   ]
  },
  {
   "cell_type": "code",
   "execution_count": 9,
   "metadata": {},
   "outputs": [
    {
     "data": {
      "text/plain": [
       "53641"
      ]
     },
     "execution_count": 9,
     "metadata": {},
     "output_type": "execute_result"
    }
   ],
   "source": [
    "len(train_review_list)"
   ]
  },
  {
   "cell_type": "code",
   "execution_count": 10,
   "metadata": {
    "collapsed": true
   },
   "outputs": [],
   "source": [
    "import nltk"
   ]
  },
  {
   "cell_type": "code",
   "execution_count": 38,
   "metadata": {},
   "outputs": [
    {
     "name": "stdout",
     "output_type": "stream",
     "text": [
      "[nltk_data] Downloading package vader_lexicon to\n",
      "[nltk_data]     /Users/heli/nltk_data...\n",
      "[nltk_data]   Package vader_lexicon is already up-to-date!\n"
     ]
    },
    {
     "data": {
      "text/plain": [
       "True"
      ]
     },
     "execution_count": 38,
     "metadata": {},
     "output_type": "execute_result"
    }
   ],
   "source": [
    "nltk.download('vader_lexicon')"
   ]
  },
  {
   "cell_type": "code",
   "execution_count": 16,
   "metadata": {
    "collapsed": true
   },
   "outputs": [],
   "source": [
    "neg=[]\n",
    "pos=[]\n",
    "neu=[]\n",
    "compound=[]\n",
    "sid = SentimentIntensityAnalyzer()\n",
    "for sentence in train_review_list:\n",
    "    ss = sid.polarity_scores(sentence)\n",
    "    neg.append(ss['neg'])\n",
    "    pos.append(ss['pos'])\n",
    "    neu.append(ss['neu'])\n",
    "    compound.append(ss['compound'])"
   ]
  },
  {
   "cell_type": "code",
   "execution_count": 17,
   "metadata": {},
   "outputs": [
    {
     "data": {
      "text/html": [
       "<div>\n",
       "<style>\n",
       "    .dataframe thead tr:only-child th {\n",
       "        text-align: right;\n",
       "    }\n",
       "\n",
       "    .dataframe thead th {\n",
       "        text-align: left;\n",
       "    }\n",
       "\n",
       "    .dataframe tbody tr th {\n",
       "        vertical-align: top;\n",
       "    }\n",
       "</style>\n",
       "<table border=\"1\" class=\"dataframe\">\n",
       "  <thead>\n",
       "    <tr style=\"text-align: right;\">\n",
       "      <th></th>\n",
       "      <th>user_id</th>\n",
       "      <th>user_name</th>\n",
       "      <th>user_rating</th>\n",
       "      <th>user_text</th>\n",
       "      <th>restaurant_name</th>\n",
       "      <th>restaurant_rating</th>\n",
       "      <th>restaurant_price</th>\n",
       "      <th>restaurant_type</th>\n",
       "      <th>rating_level</th>\n",
       "      <th>cleaned_review</th>\n",
       "      <th>neg</th>\n",
       "      <th>pos</th>\n",
       "      <th>neu</th>\n",
       "      <th>compound</th>\n",
       "    </tr>\n",
       "  </thead>\n",
       "  <tbody>\n",
       "    <tr>\n",
       "      <th>0</th>\n",
       "      <td>dRuCO4NYO7zyAF8-CeJmZg</td>\n",
       "      <td>Jason L.</td>\n",
       "      <td>5</td>\n",
       "      <td>We booked Grand Vin as our brunch location to ...</td>\n",
       "      <td>Grand Vin</td>\n",
       "      <td>4</td>\n",
       "      <td>$$</td>\n",
       "      <td>Wine, Bars,, Italian,, Cocktail, Bars</td>\n",
       "      <td>high</td>\n",
       "      <td>book grand vin brunch locat celebr wed day cou...</td>\n",
       "      <td>0.000</td>\n",
       "      <td>0.225</td>\n",
       "      <td>0.775</td>\n",
       "      <td>0.9565</td>\n",
       "    </tr>\n",
       "    <tr>\n",
       "      <th>1</th>\n",
       "      <td>f36YZ1cA291bNtMHXWtu1Q</td>\n",
       "      <td>Danyale W.</td>\n",
       "      <td>4</td>\n",
       "      <td>Sooooo for date night it was his turn to pick ...</td>\n",
       "      <td>Grand Vin</td>\n",
       "      <td>4</td>\n",
       "      <td>$$</td>\n",
       "      <td>Wine, Bars,, Italian,, Cocktail, Bars</td>\n",
       "      <td>high</td>\n",
       "      <td>sooooo date night turn pick random yelp select...</td>\n",
       "      <td>0.028</td>\n",
       "      <td>0.195</td>\n",
       "      <td>0.777</td>\n",
       "      <td>0.9705</td>\n",
       "    </tr>\n",
       "    <tr>\n",
       "      <th>2</th>\n",
       "      <td>-xYUKfWQTaB-7BeizsQA3w</td>\n",
       "      <td>Robin G.</td>\n",
       "      <td>5</td>\n",
       "      <td>Adorable little wine bar with outdoor seating ...</td>\n",
       "      <td>Grand Vin</td>\n",
       "      <td>4</td>\n",
       "      <td>$$</td>\n",
       "      <td>Wine, Bars,, Italian,, Cocktail, Bars</td>\n",
       "      <td>high</td>\n",
       "      <td>ador littl wine bar outdoor seat avail wine ta...</td>\n",
       "      <td>0.000</td>\n",
       "      <td>0.288</td>\n",
       "      <td>0.712</td>\n",
       "      <td>0.9709</td>\n",
       "    </tr>\n",
       "    <tr>\n",
       "      <th>3</th>\n",
       "      <td>tt1vLgAP5UpRXAKJLT2KWg</td>\n",
       "      <td>Alec K.</td>\n",
       "      <td>4</td>\n",
       "      <td>One of the top restaurants in Hoboken. Well ma...</td>\n",
       "      <td>Grand Vin</td>\n",
       "      <td>4</td>\n",
       "      <td>$$</td>\n",
       "      <td>Wine, Bars,, Italian,, Cocktail, Bars</td>\n",
       "      <td>high</td>\n",
       "      <td>top hoboken well made pleasant atmospher make ...</td>\n",
       "      <td>0.000</td>\n",
       "      <td>0.375</td>\n",
       "      <td>0.625</td>\n",
       "      <td>0.9274</td>\n",
       "    </tr>\n",
       "    <tr>\n",
       "      <th>4</th>\n",
       "      <td>-K79Xep4lElqIChsJYWuiQ</td>\n",
       "      <td>Robbie O.</td>\n",
       "      <td>5</td>\n",
       "      <td>Great space- service is on point -  short rib ...</td>\n",
       "      <td>Grand Vin</td>\n",
       "      <td>4</td>\n",
       "      <td>$$</td>\n",
       "      <td>Wine, Bars,, Italian,, Cocktail, Bars</td>\n",
       "      <td>high</td>\n",
       "      <td>great space servic point short rib risotto cha...</td>\n",
       "      <td>0.055</td>\n",
       "      <td>0.308</td>\n",
       "      <td>0.638</td>\n",
       "      <td>0.9022</td>\n",
       "    </tr>\n",
       "    <tr>\n",
       "      <th>5</th>\n",
       "      <td>a5KJFFLBMoEpU7Bogn8YdQ</td>\n",
       "      <td>Nicole C.</td>\n",
       "      <td>4</td>\n",
       "      <td>beautifully decorated wine bar with delicious ...</td>\n",
       "      <td>Grand Vin</td>\n",
       "      <td>4</td>\n",
       "      <td>$$</td>\n",
       "      <td>Wine, Bars,, Italian,, Cocktail, Bars</td>\n",
       "      <td>high</td>\n",
       "      <td>beauti decor wine bar delici servic mediocr ex...</td>\n",
       "      <td>0.067</td>\n",
       "      <td>0.166</td>\n",
       "      <td>0.767</td>\n",
       "      <td>0.7351</td>\n",
       "    </tr>\n",
       "    <tr>\n",
       "      <th>6</th>\n",
       "      <td>VG-EfMnPKHKHhEQZIWv1zQ</td>\n",
       "      <td>Kelly V.</td>\n",
       "      <td>3</td>\n",
       "      <td>We were there today, for brunch. Very disappoi...</td>\n",
       "      <td>Grand Vin</td>\n",
       "      <td>4</td>\n",
       "      <td>$$</td>\n",
       "      <td>Wine, Bars,, Italian,, Cocktail, Bars</td>\n",
       "      <td>mid</td>\n",
       "      <td>today brunch disappoint mean aw expect someth ...</td>\n",
       "      <td>0.060</td>\n",
       "      <td>0.193</td>\n",
       "      <td>0.747</td>\n",
       "      <td>0.9403</td>\n",
       "    </tr>\n",
       "    <tr>\n",
       "      <th>7</th>\n",
       "      <td>y_LETSyVwMVKbMSHwHDioQ</td>\n",
       "      <td>Erin A.</td>\n",
       "      <td>3</td>\n",
       "      <td>I am feeling more 3 and 1/2 stars here, so let...</td>\n",
       "      <td>Grand Vin</td>\n",
       "      <td>4</td>\n",
       "      <td>$$</td>\n",
       "      <td>Wine, Bars,, Italian,, Cocktail, Bars</td>\n",
       "      <td>mid</td>\n",
       "      <td>feel star let imagin far away popular hoboken ...</td>\n",
       "      <td>0.053</td>\n",
       "      <td>0.361</td>\n",
       "      <td>0.586</td>\n",
       "      <td>0.9896</td>\n",
       "    </tr>\n",
       "    <tr>\n",
       "      <th>9</th>\n",
       "      <td>ZZELut-m0rSyivf8saCMKA</td>\n",
       "      <td>Mark S.</td>\n",
       "      <td>4</td>\n",
       "      <td>It certainly wasn't easy...When the better hal...</td>\n",
       "      <td>Grand Vin</td>\n",
       "      <td>4</td>\n",
       "      <td>$$</td>\n",
       "      <td>Wine, Bars,, Italian,, Cocktail, Bars</td>\n",
       "      <td>high</td>\n",
       "      <td>certainli easi better half offer take dinner a...</td>\n",
       "      <td>0.000</td>\n",
       "      <td>0.174</td>\n",
       "      <td>0.826</td>\n",
       "      <td>0.9509</td>\n",
       "    </tr>\n",
       "    <tr>\n",
       "      <th>10</th>\n",
       "      <td>fbhRFckDkMOCZFSxpOM4xA</td>\n",
       "      <td>Kimberly M.</td>\n",
       "      <td>5</td>\n",
       "      <td>Had a really fun first visit here during the f...</td>\n",
       "      <td>Grand Vin</td>\n",
       "      <td>4</td>\n",
       "      <td>$$</td>\n",
       "      <td>Wine, Bars,, Italian,, Cocktail, Bars</td>\n",
       "      <td>high</td>\n",
       "      <td>fun first visit first hoboken snow season bart...</td>\n",
       "      <td>0.000</td>\n",
       "      <td>0.435</td>\n",
       "      <td>0.565</td>\n",
       "      <td>0.9565</td>\n",
       "    </tr>\n",
       "    <tr>\n",
       "      <th>11</th>\n",
       "      <td>TElrSXVXrwDk4Czg0Q5meQ</td>\n",
       "      <td>Roxanne O.</td>\n",
       "      <td>5</td>\n",
       "      <td>Came here on a Tuesday evening and it seemed w...</td>\n",
       "      <td>Grand Vin</td>\n",
       "      <td>4</td>\n",
       "      <td>$$</td>\n",
       "      <td>Wine, Bars,, Italian,, Cocktail, Bars</td>\n",
       "      <td>high</td>\n",
       "      <td>came tuesday seem lucki rel earli got super pa...</td>\n",
       "      <td>0.000</td>\n",
       "      <td>0.274</td>\n",
       "      <td>0.726</td>\n",
       "      <td>0.9682</td>\n",
       "    </tr>\n",
       "    <tr>\n",
       "      <th>12</th>\n",
       "      <td>GRY2acZtI5q4P1KdCWhcUQ</td>\n",
       "      <td>Dave F.</td>\n",
       "      <td>3</td>\n",
       "      <td>A freshly renovated space; the owners did a re...</td>\n",
       "      <td>Grand Vin</td>\n",
       "      <td>4</td>\n",
       "      <td>$$</td>\n",
       "      <td>Wine, Bars,, Italian,, Cocktail, Bars</td>\n",
       "      <td>mid</td>\n",
       "      <td>freshli renov space owner nice job upgrad dive...</td>\n",
       "      <td>0.015</td>\n",
       "      <td>0.269</td>\n",
       "      <td>0.716</td>\n",
       "      <td>0.9901</td>\n",
       "    </tr>\n",
       "    <tr>\n",
       "      <th>13</th>\n",
       "      <td>7kJGuiBmOTPpWWJ499gxjQ</td>\n",
       "      <td>Nina D.</td>\n",
       "      <td>4</td>\n",
       "      <td>This restaurant is delicious, and the ambiance...</td>\n",
       "      <td>Grand Vin</td>\n",
       "      <td>4</td>\n",
       "      <td>$$</td>\n",
       "      <td>Wine, Bars,, Italian,, Cocktail, Bars</td>\n",
       "      <td>high</td>\n",
       "      <td>delici ambianc fantast side book quickli somet...</td>\n",
       "      <td>0.000</td>\n",
       "      <td>0.000</td>\n",
       "      <td>1.000</td>\n",
       "      <td>0.0000</td>\n",
       "    </tr>\n",
       "    <tr>\n",
       "      <th>14</th>\n",
       "      <td>U_UvZKuqTV35_R_QaUsVPA</td>\n",
       "      <td>Christina G.</td>\n",
       "      <td>3</td>\n",
       "      <td>im between 3 and 4 stars on this spot. there w...</td>\n",
       "      <td>Grand Vin</td>\n",
       "      <td>4</td>\n",
       "      <td>$$</td>\n",
       "      <td>Wine, Bars,, Italian,, Cocktail, Bars</td>\n",
       "      <td>mid</td>\n",
       "      <td>im star spot definit hit miss overarch best th...</td>\n",
       "      <td>0.030</td>\n",
       "      <td>0.242</td>\n",
       "      <td>0.728</td>\n",
       "      <td>0.9783</td>\n",
       "    </tr>\n",
       "    <tr>\n",
       "      <th>16</th>\n",
       "      <td>91s3gCyxBSuP_u_eZtSrFA</td>\n",
       "      <td>Kaitlin F.</td>\n",
       "      <td>5</td>\n",
       "      <td>I am so glad that I found Grand Vin on Open Ta...</td>\n",
       "      <td>Grand Vin</td>\n",
       "      <td>4</td>\n",
       "      <td>$$</td>\n",
       "      <td>Wine, Bars,, Italian,, Cocktail, Bars</td>\n",
       "      <td>high</td>\n",
       "      <td>glad found grand vin open look cute nice dinne...</td>\n",
       "      <td>0.015</td>\n",
       "      <td>0.398</td>\n",
       "      <td>0.587</td>\n",
       "      <td>0.9945</td>\n",
       "    </tr>\n",
       "    <tr>\n",
       "      <th>17</th>\n",
       "      <td>AP-QqWMEsyiHb5eRAdQVGg</td>\n",
       "      <td>Jenni K.</td>\n",
       "      <td>4</td>\n",
       "      <td>I came to Grand Vin with my best friend one of...</td>\n",
       "      <td>Grand Vin</td>\n",
       "      <td>4</td>\n",
       "      <td>$$</td>\n",
       "      <td>Wine, Bars,, Italian,, Cocktail, Bars</td>\n",
       "      <td>high</td>\n",
       "      <td>came grand vin best friend first time came hob...</td>\n",
       "      <td>0.000</td>\n",
       "      <td>0.455</td>\n",
       "      <td>0.545</td>\n",
       "      <td>0.9867</td>\n",
       "    </tr>\n",
       "    <tr>\n",
       "      <th>18</th>\n",
       "      <td>mTrXfM4209GtIFrFiEsP5Q</td>\n",
       "      <td>Victoria X.</td>\n",
       "      <td>3</td>\n",
       "      <td>Walked past this place plenty of times and was...</td>\n",
       "      <td>Grand Vin</td>\n",
       "      <td>4</td>\n",
       "      <td>$$</td>\n",
       "      <td>Wine, Bars,, Italian,, Cocktail, Bars</td>\n",
       "      <td>mid</td>\n",
       "      <td>walk past plenti time alway intrigu look like ...</td>\n",
       "      <td>0.034</td>\n",
       "      <td>0.237</td>\n",
       "      <td>0.730</td>\n",
       "      <td>0.9848</td>\n",
       "    </tr>\n",
       "    <tr>\n",
       "      <th>19</th>\n",
       "      <td>VdjkJ99vMoZ-HuShcgQOUw</td>\n",
       "      <td>Megha W.</td>\n",
       "      <td>1</td>\n",
       "      <td>The ambience is great and so are the cocktails...</td>\n",
       "      <td>Grand Vin</td>\n",
       "      <td>4</td>\n",
       "      <td>$$</td>\n",
       "      <td>Wine, Bars,, Italian,, Cocktail, Bars</td>\n",
       "      <td>low</td>\n",
       "      <td>ambienc great cocktail howev servic great host...</td>\n",
       "      <td>0.000</td>\n",
       "      <td>0.266</td>\n",
       "      <td>0.734</td>\n",
       "      <td>0.9485</td>\n",
       "    </tr>\n",
       "    <tr>\n",
       "      <th>20</th>\n",
       "      <td>dRuCO4NYO7zyAF8-CeJmZg</td>\n",
       "      <td>Jason L.</td>\n",
       "      <td>5</td>\n",
       "      <td>We booked Grand Vin as our brunch location to ...</td>\n",
       "      <td>Grand Vin</td>\n",
       "      <td>4</td>\n",
       "      <td>$$</td>\n",
       "      <td>Wine, Bars,, Italian,, Cocktail, Bars</td>\n",
       "      <td>high</td>\n",
       "      <td>book grand vin brunch locat celebr wed day cou...</td>\n",
       "      <td>0.000</td>\n",
       "      <td>0.225</td>\n",
       "      <td>0.775</td>\n",
       "      <td>0.9565</td>\n",
       "    </tr>\n",
       "    <tr>\n",
       "      <th>21</th>\n",
       "      <td>f36YZ1cA291bNtMHXWtu1Q</td>\n",
       "      <td>Danyale W.</td>\n",
       "      <td>4</td>\n",
       "      <td>Sooooo for date night it was his turn to pick ...</td>\n",
       "      <td>Grand Vin</td>\n",
       "      <td>4</td>\n",
       "      <td>$$</td>\n",
       "      <td>Wine, Bars,, Italian,, Cocktail, Bars</td>\n",
       "      <td>high</td>\n",
       "      <td>sooooo date night turn pick random yelp select...</td>\n",
       "      <td>0.028</td>\n",
       "      <td>0.195</td>\n",
       "      <td>0.777</td>\n",
       "      <td>0.9705</td>\n",
       "    </tr>\n",
       "    <tr>\n",
       "      <th>22</th>\n",
       "      <td>-xYUKfWQTaB-7BeizsQA3w</td>\n",
       "      <td>Robin G.</td>\n",
       "      <td>5</td>\n",
       "      <td>Adorable little wine bar with outdoor seating ...</td>\n",
       "      <td>Grand Vin</td>\n",
       "      <td>4</td>\n",
       "      <td>$$</td>\n",
       "      <td>Wine, Bars,, Italian,, Cocktail, Bars</td>\n",
       "      <td>high</td>\n",
       "      <td>ador littl wine bar outdoor seat avail wine ta...</td>\n",
       "      <td>0.000</td>\n",
       "      <td>0.288</td>\n",
       "      <td>0.712</td>\n",
       "      <td>0.9709</td>\n",
       "    </tr>\n",
       "    <tr>\n",
       "      <th>23</th>\n",
       "      <td>tt1vLgAP5UpRXAKJLT2KWg</td>\n",
       "      <td>Alec K.</td>\n",
       "      <td>4</td>\n",
       "      <td>One of the top restaurants in Hoboken. Well ma...</td>\n",
       "      <td>Grand Vin</td>\n",
       "      <td>4</td>\n",
       "      <td>$$</td>\n",
       "      <td>Wine, Bars,, Italian,, Cocktail, Bars</td>\n",
       "      <td>high</td>\n",
       "      <td>top hoboken well made pleasant atmospher make ...</td>\n",
       "      <td>0.000</td>\n",
       "      <td>0.375</td>\n",
       "      <td>0.625</td>\n",
       "      <td>0.9274</td>\n",
       "    </tr>\n",
       "    <tr>\n",
       "      <th>24</th>\n",
       "      <td>-K79Xep4lElqIChsJYWuiQ</td>\n",
       "      <td>Robbie O.</td>\n",
       "      <td>5</td>\n",
       "      <td>Great space- service is on point -  short rib ...</td>\n",
       "      <td>Grand Vin</td>\n",
       "      <td>4</td>\n",
       "      <td>$$</td>\n",
       "      <td>Wine, Bars,, Italian,, Cocktail, Bars</td>\n",
       "      <td>high</td>\n",
       "      <td>great space servic point short rib risotto cha...</td>\n",
       "      <td>0.055</td>\n",
       "      <td>0.308</td>\n",
       "      <td>0.638</td>\n",
       "      <td>0.9022</td>\n",
       "    </tr>\n",
       "    <tr>\n",
       "      <th>25</th>\n",
       "      <td>a5KJFFLBMoEpU7Bogn8YdQ</td>\n",
       "      <td>Nicole C.</td>\n",
       "      <td>4</td>\n",
       "      <td>beautifully decorated wine bar with delicious ...</td>\n",
       "      <td>Grand Vin</td>\n",
       "      <td>4</td>\n",
       "      <td>$$</td>\n",
       "      <td>Wine, Bars,, Italian,, Cocktail, Bars</td>\n",
       "      <td>high</td>\n",
       "      <td>beauti decor wine bar delici servic mediocr ex...</td>\n",
       "      <td>0.067</td>\n",
       "      <td>0.166</td>\n",
       "      <td>0.767</td>\n",
       "      <td>0.7351</td>\n",
       "    </tr>\n",
       "    <tr>\n",
       "      <th>26</th>\n",
       "      <td>VG-EfMnPKHKHhEQZIWv1zQ</td>\n",
       "      <td>Kelly V.</td>\n",
       "      <td>3</td>\n",
       "      <td>We were there today, for brunch. Very disappoi...</td>\n",
       "      <td>Grand Vin</td>\n",
       "      <td>4</td>\n",
       "      <td>$$</td>\n",
       "      <td>Wine, Bars,, Italian,, Cocktail, Bars</td>\n",
       "      <td>mid</td>\n",
       "      <td>today brunch disappoint mean aw expect someth ...</td>\n",
       "      <td>0.060</td>\n",
       "      <td>0.193</td>\n",
       "      <td>0.747</td>\n",
       "      <td>0.9403</td>\n",
       "    </tr>\n",
       "    <tr>\n",
       "      <th>27</th>\n",
       "      <td>y_LETSyVwMVKbMSHwHDioQ</td>\n",
       "      <td>Erin A.</td>\n",
       "      <td>3</td>\n",
       "      <td>I am feeling more 3 and 1/2 stars here, so let...</td>\n",
       "      <td>Grand Vin</td>\n",
       "      <td>4</td>\n",
       "      <td>$$</td>\n",
       "      <td>Wine, Bars,, Italian,, Cocktail, Bars</td>\n",
       "      <td>mid</td>\n",
       "      <td>feel star let imagin far away popular hoboken ...</td>\n",
       "      <td>0.053</td>\n",
       "      <td>0.361</td>\n",
       "      <td>0.586</td>\n",
       "      <td>0.9896</td>\n",
       "    </tr>\n",
       "    <tr>\n",
       "      <th>29</th>\n",
       "      <td>ZZELut-m0rSyivf8saCMKA</td>\n",
       "      <td>Mark S.</td>\n",
       "      <td>4</td>\n",
       "      <td>It certainly wasn't easy...When the better hal...</td>\n",
       "      <td>Grand Vin</td>\n",
       "      <td>4</td>\n",
       "      <td>$$</td>\n",
       "      <td>Wine, Bars,, Italian,, Cocktail, Bars</td>\n",
       "      <td>high</td>\n",
       "      <td>certainli easi better half offer take dinner a...</td>\n",
       "      <td>0.000</td>\n",
       "      <td>0.174</td>\n",
       "      <td>0.826</td>\n",
       "      <td>0.9509</td>\n",
       "    </tr>\n",
       "    <tr>\n",
       "      <th>30</th>\n",
       "      <td>fbhRFckDkMOCZFSxpOM4xA</td>\n",
       "      <td>Kimberly M.</td>\n",
       "      <td>5</td>\n",
       "      <td>Had a really fun first visit here during the f...</td>\n",
       "      <td>Grand Vin</td>\n",
       "      <td>4</td>\n",
       "      <td>$$</td>\n",
       "      <td>Wine, Bars,, Italian,, Cocktail, Bars</td>\n",
       "      <td>high</td>\n",
       "      <td>fun first visit first hoboken snow season bart...</td>\n",
       "      <td>0.000</td>\n",
       "      <td>0.435</td>\n",
       "      <td>0.565</td>\n",
       "      <td>0.9565</td>\n",
       "    </tr>\n",
       "    <tr>\n",
       "      <th>31</th>\n",
       "      <td>TElrSXVXrwDk4Czg0Q5meQ</td>\n",
       "      <td>Roxanne O.</td>\n",
       "      <td>5</td>\n",
       "      <td>Came here on a Tuesday evening and it seemed w...</td>\n",
       "      <td>Grand Vin</td>\n",
       "      <td>4</td>\n",
       "      <td>$$</td>\n",
       "      <td>Wine, Bars,, Italian,, Cocktail, Bars</td>\n",
       "      <td>high</td>\n",
       "      <td>came tuesday seem lucki rel earli got super pa...</td>\n",
       "      <td>0.000</td>\n",
       "      <td>0.274</td>\n",
       "      <td>0.726</td>\n",
       "      <td>0.9682</td>\n",
       "    </tr>\n",
       "    <tr>\n",
       "      <th>32</th>\n",
       "      <td>GRY2acZtI5q4P1KdCWhcUQ</td>\n",
       "      <td>Dave F.</td>\n",
       "      <td>3</td>\n",
       "      <td>A freshly renovated space; the owners did a re...</td>\n",
       "      <td>Grand Vin</td>\n",
       "      <td>4</td>\n",
       "      <td>$$</td>\n",
       "      <td>Wine, Bars,, Italian,, Cocktail, Bars</td>\n",
       "      <td>mid</td>\n",
       "      <td>freshli renov space owner nice job upgrad dive...</td>\n",
       "      <td>0.015</td>\n",
       "      <td>0.269</td>\n",
       "      <td>0.716</td>\n",
       "      <td>0.9901</td>\n",
       "    </tr>\n",
       "    <tr>\n",
       "      <th>...</th>\n",
       "      <td>...</td>\n",
       "      <td>...</td>\n",
       "      <td>...</td>\n",
       "      <td>...</td>\n",
       "      <td>...</td>\n",
       "      <td>...</td>\n",
       "      <td>...</td>\n",
       "      <td>...</td>\n",
       "      <td>...</td>\n",
       "      <td>...</td>\n",
       "      <td>...</td>\n",
       "      <td>...</td>\n",
       "      <td>...</td>\n",
       "      <td>...</td>\n",
       "    </tr>\n",
       "    <tr>\n",
       "      <th>74549</th>\n",
       "      <td>krGhEGcZoGIXNxGU_xl3uw</td>\n",
       "      <td>Carrie W.</td>\n",
       "      <td>5</td>\n",
       "      <td>My family and I went to Tony Boloney's for the...</td>\n",
       "      <td>Tony Boloney’s</td>\n",
       "      <td>3</td>\n",
       "      <td>$$</td>\n",
       "      <td>Salad,, Pizza,, Sandwiches</td>\n",
       "      <td>high</td>\n",
       "      <td>famili went toni boloney first time friday nig...</td>\n",
       "      <td>0.034</td>\n",
       "      <td>0.257</td>\n",
       "      <td>0.709</td>\n",
       "      <td>0.9517</td>\n",
       "    </tr>\n",
       "    <tr>\n",
       "      <th>74550</th>\n",
       "      <td>VSezDWeJT8SRYZtA3lNh5g</td>\n",
       "      <td>Kelsey B.</td>\n",
       "      <td>1</td>\n",
       "      <td>Food amazing. Do Not do Delivery!!!!!!!!! So l...</td>\n",
       "      <td>Tony Boloney’s</td>\n",
       "      <td>3</td>\n",
       "      <td>$$</td>\n",
       "      <td>Salad,, Pizza,, Sandwiches</td>\n",
       "      <td>low</td>\n",
       "      <td>amaz deliveri long reliabl call multipl time t...</td>\n",
       "      <td>0.074</td>\n",
       "      <td>0.091</td>\n",
       "      <td>0.835</td>\n",
       "      <td>-0.0772</td>\n",
       "    </tr>\n",
       "    <tr>\n",
       "      <th>74551</th>\n",
       "      <td>WplzCdA6LvLOUbGA0dhrgA</td>\n",
       "      <td>Paul F.</td>\n",
       "      <td>5</td>\n",
       "      <td>I have never, ever called a pizza place back, ...</td>\n",
       "      <td>Tony Boloney’s</td>\n",
       "      <td>3</td>\n",
       "      <td>$$</td>\n",
       "      <td>Salad,, Pizza,, Sandwiches</td>\n",
       "      <td>high</td>\n",
       "      <td>never ever call pizza back tonight chicken par...</td>\n",
       "      <td>0.038</td>\n",
       "      <td>0.253</td>\n",
       "      <td>0.708</td>\n",
       "      <td>0.8360</td>\n",
       "    </tr>\n",
       "    <tr>\n",
       "      <th>74554</th>\n",
       "      <td>lfAaelNHjVdjDAu8A89mNw</td>\n",
       "      <td>Randi C.</td>\n",
       "      <td>4</td>\n",
       "      <td>It is Hoboken, so I didn't question why a sub,...</td>\n",
       "      <td>Tony Boloney’s</td>\n",
       "      <td>3</td>\n",
       "      <td>$$</td>\n",
       "      <td>Salad,, Pizza,, Sandwiches</td>\n",
       "      <td>high</td>\n",
       "      <td>hoboken question sub salad without meat founta...</td>\n",
       "      <td>0.011</td>\n",
       "      <td>0.228</td>\n",
       "      <td>0.761</td>\n",
       "      <td>0.9771</td>\n",
       "    </tr>\n",
       "    <tr>\n",
       "      <th>74555</th>\n",
       "      <td>XF0OqM4zRWKUH5r9_pu7rA</td>\n",
       "      <td>Lauren S.</td>\n",
       "      <td>5</td>\n",
       "      <td>I have no complaints about this teeny tiny  of...</td>\n",
       "      <td>Tony Boloney’s</td>\n",
       "      <td>3</td>\n",
       "      <td>$$</td>\n",
       "      <td>Salad,, Pizza,, Sandwiches</td>\n",
       "      <td>high</td>\n",
       "      <td>complaint teeni tini beaten path spot hoboken ...</td>\n",
       "      <td>0.084</td>\n",
       "      <td>0.323</td>\n",
       "      <td>0.593</td>\n",
       "      <td>0.9756</td>\n",
       "    </tr>\n",
       "    <tr>\n",
       "      <th>74556</th>\n",
       "      <td>AE1RnOAp6A8OBP3qgzEOig</td>\n",
       "      <td>Chris A.</td>\n",
       "      <td>5</td>\n",
       "      <td>Love this place! Food is delicious and the sta...</td>\n",
       "      <td>Tony Boloney’s</td>\n",
       "      <td>3</td>\n",
       "      <td>$$</td>\n",
       "      <td>Salad,, Pizza,, Sandwiches</td>\n",
       "      <td>high</td>\n",
       "      <td>love delici staff alway friendli came late tue...</td>\n",
       "      <td>0.064</td>\n",
       "      <td>0.219</td>\n",
       "      <td>0.717</td>\n",
       "      <td>0.8225</td>\n",
       "    </tr>\n",
       "    <tr>\n",
       "      <th>74557</th>\n",
       "      <td>7MWcuLlGnkXxSvLefnSCLg</td>\n",
       "      <td>Stefanie L.</td>\n",
       "      <td>4</td>\n",
       "      <td>Love Tony's. Variety of creative menu selectio...</td>\n",
       "      <td>Tony Boloney’s</td>\n",
       "      <td>3</td>\n",
       "      <td>$$</td>\n",
       "      <td>Salad,, Pizza,, Sandwiches</td>\n",
       "      <td>high</td>\n",
       "      <td>love toni varieti creativ menu select sub pizz...</td>\n",
       "      <td>0.000</td>\n",
       "      <td>0.395</td>\n",
       "      <td>0.605</td>\n",
       "      <td>0.9559</td>\n",
       "    </tr>\n",
       "    <tr>\n",
       "      <th>74560</th>\n",
       "      <td>WIyVB8oICAB2jNf0BFX9WQ</td>\n",
       "      <td>Dana S.</td>\n",
       "      <td>1</td>\n",
       "      <td>the food is amazing, the guys working in the s...</td>\n",
       "      <td>Tony Boloney’s</td>\n",
       "      <td>3</td>\n",
       "      <td>$$</td>\n",
       "      <td>Salad,, Pizza,, Sandwiches</td>\n",
       "      <td>low</td>\n",
       "      <td>amaz guy work store funni repeat deliveri live...</td>\n",
       "      <td>0.107</td>\n",
       "      <td>0.104</td>\n",
       "      <td>0.788</td>\n",
       "      <td>-0.1027</td>\n",
       "    </tr>\n",
       "    <tr>\n",
       "      <th>74561</th>\n",
       "      <td>ejuEULIrCGCLcEhBLLCyHg</td>\n",
       "      <td>Andrew B.</td>\n",
       "      <td>3</td>\n",
       "      <td>A pizza joint for the drunk and hungry. Open u...</td>\n",
       "      <td>Tony Boloney’s</td>\n",
       "      <td>3</td>\n",
       "      <td>$$</td>\n",
       "      <td>Salad,, Pizza,, Sandwiches</td>\n",
       "      <td>mid</td>\n",
       "      <td>pizza joint drunk hungri open believ weekend g...</td>\n",
       "      <td>0.073</td>\n",
       "      <td>0.251</td>\n",
       "      <td>0.675</td>\n",
       "      <td>0.9081</td>\n",
       "    </tr>\n",
       "    <tr>\n",
       "      <th>74562</th>\n",
       "      <td>o-nix2LRZmtOg4eSSE8yBA</td>\n",
       "      <td>Shariff M.</td>\n",
       "      <td>1</td>\n",
       "      <td>Can't comment on the food because it arrived i...</td>\n",
       "      <td>Tony Boloney’s</td>\n",
       "      <td>3</td>\n",
       "      <td>$$</td>\n",
       "      <td>Salad,, Pizza,, Sandwiches</td>\n",
       "      <td>low</td>\n",
       "      <td>comment arriv ice cold hour late base terribl ...</td>\n",
       "      <td>0.066</td>\n",
       "      <td>0.253</td>\n",
       "      <td>0.681</td>\n",
       "      <td>0.9349</td>\n",
       "    </tr>\n",
       "    <tr>\n",
       "      <th>74563</th>\n",
       "      <td>tqzK-__3-PkYfUYymts2Sg</td>\n",
       "      <td>Krista C.</td>\n",
       "      <td>5</td>\n",
       "      <td>Can't say enough great things about Tony Balon...</td>\n",
       "      <td>Tony Boloney’s</td>\n",
       "      <td>3</td>\n",
       "      <td>$$</td>\n",
       "      <td>Salad,, Pizza,, Sandwiches</td>\n",
       "      <td>high</td>\n",
       "      <td>say enough great thing toni baloney love atlan...</td>\n",
       "      <td>0.108</td>\n",
       "      <td>0.379</td>\n",
       "      <td>0.514</td>\n",
       "      <td>0.9509</td>\n",
       "    </tr>\n",
       "    <tr>\n",
       "      <th>74565</th>\n",
       "      <td>SGQgiBCqkcLT8B9716ZrTQ</td>\n",
       "      <td>Nick L.</td>\n",
       "      <td>1</td>\n",
       "      <td>I didn't even get to try their food because th...</td>\n",
       "      <td>Tony Boloney’s</td>\n",
       "      <td>3</td>\n",
       "      <td>$$</td>\n",
       "      <td>Salad,, Pizza,, Sandwiches</td>\n",
       "      <td>low</td>\n",
       "      <td>rude leav line friend ahead plan separ employe...</td>\n",
       "      <td>0.241</td>\n",
       "      <td>0.198</td>\n",
       "      <td>0.560</td>\n",
       "      <td>-0.2500</td>\n",
       "    </tr>\n",
       "    <tr>\n",
       "      <th>74566</th>\n",
       "      <td>7YgvR31HLBpoMCZEHkrS9Q</td>\n",
       "      <td>Mike D.</td>\n",
       "      <td>3</td>\n",
       "      <td>It was love at first sight with Tony B's but a...</td>\n",
       "      <td>Tony Boloney’s</td>\n",
       "      <td>3</td>\n",
       "      <td>$$</td>\n",
       "      <td>Salad,, Pizza,, Sandwiches</td>\n",
       "      <td>mid</td>\n",
       "      <td>love first sight toni b time went notic lack c...</td>\n",
       "      <td>0.048</td>\n",
       "      <td>0.236</td>\n",
       "      <td>0.716</td>\n",
       "      <td>0.8720</td>\n",
       "    </tr>\n",
       "    <tr>\n",
       "      <th>74568</th>\n",
       "      <td>cWL2Nn40pxyppPUPDcgu4A</td>\n",
       "      <td>C K.</td>\n",
       "      <td>1</td>\n",
       "      <td>Over the weekend, we tried a Grandma Patti pie...</td>\n",
       "      <td>Tony Boloney’s</td>\n",
       "      <td>3</td>\n",
       "      <td>$$</td>\n",
       "      <td>Salad,, Pizza,, Sandwiches</td>\n",
       "      <td>low</td>\n",
       "      <td>weekend grandma patti pie certainli flavor nea...</td>\n",
       "      <td>0.045</td>\n",
       "      <td>0.159</td>\n",
       "      <td>0.795</td>\n",
       "      <td>0.9325</td>\n",
       "    </tr>\n",
       "    <tr>\n",
       "      <th>74569</th>\n",
       "      <td>ARjBR6PyENA4FJIXCJF81w</td>\n",
       "      <td>Robert B.</td>\n",
       "      <td>3</td>\n",
       "      <td>Stick to the pizza at this place.  Very good s...</td>\n",
       "      <td>Tony Boloney’s</td>\n",
       "      <td>3</td>\n",
       "      <td>$$</td>\n",
       "      <td>Salad,, Pizza,, Sandwiches</td>\n",
       "      <td>mid</td>\n",
       "      <td>stick pizza good specialti pie creativ top com...</td>\n",
       "      <td>0.000</td>\n",
       "      <td>0.357</td>\n",
       "      <td>0.643</td>\n",
       "      <td>0.9062</td>\n",
       "    </tr>\n",
       "    <tr>\n",
       "      <th>74571</th>\n",
       "      <td>9uzcsNA0CGK_339z56__HQ</td>\n",
       "      <td>Vic L.</td>\n",
       "      <td>3</td>\n",
       "      <td>Food is ok and priced too high for what they g...</td>\n",
       "      <td>Tony Boloney’s</td>\n",
       "      <td>3</td>\n",
       "      <td>$$</td>\n",
       "      <td>Salad,, Pizza,, Sandwiches</td>\n",
       "      <td>mid</td>\n",
       "      <td>ok price high give imo pesto chicken sandwich ...</td>\n",
       "      <td>0.101</td>\n",
       "      <td>0.410</td>\n",
       "      <td>0.489</td>\n",
       "      <td>0.9493</td>\n",
       "    </tr>\n",
       "    <tr>\n",
       "      <th>74573</th>\n",
       "      <td>DVXcnUaGoKmZXe1mCPkNrQ</td>\n",
       "      <td>Chris J.</td>\n",
       "      <td>5</td>\n",
       "      <td>Wow. Just Wow. This place is probably the most...</td>\n",
       "      <td>Tony Boloney’s</td>\n",
       "      <td>3</td>\n",
       "      <td>$$</td>\n",
       "      <td>Salad,, Pizza,, Sandwiches</td>\n",
       "      <td>high</td>\n",
       "      <td>wow wow probabl friendli pizza shop ever seen ...</td>\n",
       "      <td>0.073</td>\n",
       "      <td>0.311</td>\n",
       "      <td>0.616</td>\n",
       "      <td>0.9601</td>\n",
       "    </tr>\n",
       "    <tr>\n",
       "      <th>74577</th>\n",
       "      <td>WNRyZ2bZ0JS4nxtvMrje_A</td>\n",
       "      <td>Philip F.</td>\n",
       "      <td>4</td>\n",
       "      <td>Tony B's came highly recommended to me by a pa...</td>\n",
       "      <td>Tony Boloney’s</td>\n",
       "      <td>3</td>\n",
       "      <td>$$</td>\n",
       "      <td>Salad,, Pizza,, Sandwiches</td>\n",
       "      <td>high</td>\n",
       "      <td>toni b came highli recommend patron atlant cit...</td>\n",
       "      <td>0.027</td>\n",
       "      <td>0.231</td>\n",
       "      <td>0.742</td>\n",
       "      <td>0.9382</td>\n",
       "    </tr>\n",
       "    <tr>\n",
       "      <th>74578</th>\n",
       "      <td>q25vItQXMYPejdqsccLFLg</td>\n",
       "      <td>Joe F.</td>\n",
       "      <td>1</td>\n",
       "      <td>One star for the delivery time.  Apart from th...</td>\n",
       "      <td>Tony Boloney’s</td>\n",
       "      <td>3</td>\n",
       "      <td>$$</td>\n",
       "      <td>Salad,, Pizza,, Sandwiches</td>\n",
       "      <td>low</td>\n",
       "      <td>star deliveri time apart pizza terribl buffalo...</td>\n",
       "      <td>0.000</td>\n",
       "      <td>0.051</td>\n",
       "      <td>0.949</td>\n",
       "      <td>0.3612</td>\n",
       "    </tr>\n",
       "    <tr>\n",
       "      <th>74580</th>\n",
       "      <td>gP0n1dLrp51o1J0KA0Z09w</td>\n",
       "      <td>Christina A.</td>\n",
       "      <td>5</td>\n",
       "      <td>I have mixed feelings because of how much mone...</td>\n",
       "      <td>Tony Boloney’s</td>\n",
       "      <td>3</td>\n",
       "      <td>$$</td>\n",
       "      <td>Salad,, Pizza,, Sandwiches</td>\n",
       "      <td>high</td>\n",
       "      <td>mix feel much money spend way buy bigger pant ...</td>\n",
       "      <td>0.000</td>\n",
       "      <td>0.273</td>\n",
       "      <td>0.727</td>\n",
       "      <td>0.8720</td>\n",
       "    </tr>\n",
       "    <tr>\n",
       "      <th>74583</th>\n",
       "      <td>qEfP7sqjM7U7KOsvaLGnfA</td>\n",
       "      <td>Amanda M.</td>\n",
       "      <td>2</td>\n",
       "      <td>We were so excited to try this place. I was am...</td>\n",
       "      <td>Tony Boloney’s</td>\n",
       "      <td>3</td>\n",
       "      <td>$$</td>\n",
       "      <td>Salad,, Pizza,, Sandwiches</td>\n",
       "      <td>low</td>\n",
       "      <td>excit amaz creativ option menu sure decent hat...</td>\n",
       "      <td>0.272</td>\n",
       "      <td>0.087</td>\n",
       "      <td>0.642</td>\n",
       "      <td>-0.7096</td>\n",
       "    </tr>\n",
       "    <tr>\n",
       "      <th>74585</th>\n",
       "      <td>hWkF0Aoa7SS0SkwnyuMc5w</td>\n",
       "      <td>Taryn M.</td>\n",
       "      <td>5</td>\n",
       "      <td>I have now been here about 3-4 times since it ...</td>\n",
       "      <td>Tony Boloney’s</td>\n",
       "      <td>3</td>\n",
       "      <td>$$</td>\n",
       "      <td>Salad,, Pizza,, Sandwiches</td>\n",
       "      <td>high</td>\n",
       "      <td>time sinc open cheesesteak ole simpli world en...</td>\n",
       "      <td>0.000</td>\n",
       "      <td>0.287</td>\n",
       "      <td>0.713</td>\n",
       "      <td>0.9100</td>\n",
       "    </tr>\n",
       "    <tr>\n",
       "      <th>74593</th>\n",
       "      <td>YC_KxVZglwk2goxi4uhONA</td>\n",
       "      <td>J G.</td>\n",
       "      <td>1</td>\n",
       "      <td>Placed an order through seamless and we were q...</td>\n",
       "      <td>Tony Boloney’s</td>\n",
       "      <td>3</td>\n",
       "      <td>$$</td>\n",
       "      <td>Salad,, Pizza,, Sandwiches</td>\n",
       "      <td>low</td>\n",
       "      <td>seamless quot minut took two hour arriv first ...</td>\n",
       "      <td>0.113</td>\n",
       "      <td>0.000</td>\n",
       "      <td>0.887</td>\n",
       "      <td>-0.4976</td>\n",
       "    </tr>\n",
       "    <tr>\n",
       "      <th>74595</th>\n",
       "      <td>xfmdqJ2-rMrOiVoAOkl4hw</td>\n",
       "      <td>Jason M.</td>\n",
       "      <td>5</td>\n",
       "      <td>This place is EPIC. I am not ashamed to say th...</td>\n",
       "      <td>Tony Boloney’s</td>\n",
       "      <td>3</td>\n",
       "      <td>$$</td>\n",
       "      <td>Salad,, Pizza,, Sandwiches</td>\n",
       "      <td>high</td>\n",
       "      <td>epic asham say went three consecut meal last w...</td>\n",
       "      <td>0.000</td>\n",
       "      <td>0.311</td>\n",
       "      <td>0.689</td>\n",
       "      <td>0.9623</td>\n",
       "    </tr>\n",
       "    <tr>\n",
       "      <th>74597</th>\n",
       "      <td>4M0TZBlB6PmxobVgmJHhQw</td>\n",
       "      <td>Sammy P.</td>\n",
       "      <td>3</td>\n",
       "      <td>I have mixed feelings about this place. It's g...</td>\n",
       "      <td>Tony Boloney’s</td>\n",
       "      <td>3</td>\n",
       "      <td>$$</td>\n",
       "      <td>Salad,, Pizza,, Sandwiches</td>\n",
       "      <td>mid</td>\n",
       "      <td>mix feel gener pretti good deliveri alway quic...</td>\n",
       "      <td>0.099</td>\n",
       "      <td>0.160</td>\n",
       "      <td>0.741</td>\n",
       "      <td>0.3612</td>\n",
       "    </tr>\n",
       "    <tr>\n",
       "      <th>74599</th>\n",
       "      <td>R7Nt2gpPkHIRgp9U0pLqGA</td>\n",
       "      <td>Bonnie G.</td>\n",
       "      <td>3</td>\n",
       "      <td>I am def. going to give this place another try...</td>\n",
       "      <td>Tony Boloney’s</td>\n",
       "      <td>3</td>\n",
       "      <td>$$</td>\n",
       "      <td>Salad,, Pizza,, Sandwiches</td>\n",
       "      <td>mid</td>\n",
       "      <td>def give anoth pizza deliveri guess deliveri w...</td>\n",
       "      <td>0.092</td>\n",
       "      <td>0.063</td>\n",
       "      <td>0.845</td>\n",
       "      <td>-0.2023</td>\n",
       "    </tr>\n",
       "    <tr>\n",
       "      <th>74601</th>\n",
       "      <td>T5Tax9LbvW7DDRZjg6i7BQ</td>\n",
       "      <td>Melissa C.</td>\n",
       "      <td>5</td>\n",
       "      <td>This is hands down one of the most amazing san...</td>\n",
       "      <td>Tony Boloney’s</td>\n",
       "      <td>3</td>\n",
       "      <td>$$</td>\n",
       "      <td>Salad,, Pizza,, Sandwiches</td>\n",
       "      <td>high</td>\n",
       "      <td>hand amaz sandwich boyfriend ever kaka sandwic...</td>\n",
       "      <td>0.000</td>\n",
       "      <td>0.231</td>\n",
       "      <td>0.769</td>\n",
       "      <td>0.6908</td>\n",
       "    </tr>\n",
       "    <tr>\n",
       "      <th>74604</th>\n",
       "      <td>jS4BO5hsQp0DGTNmnjOjqw</td>\n",
       "      <td>Tiffany M.</td>\n",
       "      <td>5</td>\n",
       "      <td>Tony Boloney hands down has the BEST buffalo p...</td>\n",
       "      <td>Tony Boloney’s</td>\n",
       "      <td>3</td>\n",
       "      <td>$$</td>\n",
       "      <td>Salad,, Pizza,, Sandwiches</td>\n",
       "      <td>high</td>\n",
       "      <td>toni boloney hand best buffalo pizza ever eate...</td>\n",
       "      <td>0.000</td>\n",
       "      <td>0.473</td>\n",
       "      <td>0.527</td>\n",
       "      <td>0.9794</td>\n",
       "    </tr>\n",
       "    <tr>\n",
       "      <th>74607</th>\n",
       "      <td>4HAVtMdjPSrHCmXW9pmCDw</td>\n",
       "      <td>Andy N.</td>\n",
       "      <td>1</td>\n",
       "      <td>Ordered for the first time: Salad had two litt...</td>\n",
       "      <td>Tony Boloney’s</td>\n",
       "      <td>3</td>\n",
       "      <td>$$</td>\n",
       "      <td>Salad,, Pizza,, Sandwiches</td>\n",
       "      <td>low</td>\n",
       "      <td>first time salad two littl oliv gee spare two ...</td>\n",
       "      <td>0.265</td>\n",
       "      <td>0.049</td>\n",
       "      <td>0.686</td>\n",
       "      <td>-0.9001</td>\n",
       "    </tr>\n",
       "    <tr>\n",
       "      <th>74610</th>\n",
       "      <td>w4oh-xGruH-FD2Z6S6pmJg</td>\n",
       "      <td>George J.</td>\n",
       "      <td>1</td>\n",
       "      <td>Ordered from this placing thinking our food wo...</td>\n",
       "      <td>Tony Boloney’s</td>\n",
       "      <td>3</td>\n",
       "      <td>$$</td>\n",
       "      <td>Salad,, Pizza,, Sandwiches</td>\n",
       "      <td>low</td>\n",
       "      <td>think would quick easi sunday afternoon afraid...</td>\n",
       "      <td>0.075</td>\n",
       "      <td>0.091</td>\n",
       "      <td>0.833</td>\n",
       "      <td>0.2023</td>\n",
       "    </tr>\n",
       "  </tbody>\n",
       "</table>\n",
       "<p>53641 rows × 14 columns</p>\n",
       "</div>"
      ],
      "text/plain": [
       "                      user_id     user_name  user_rating  \\\n",
       "0      dRuCO4NYO7zyAF8-CeJmZg      Jason L.            5   \n",
       "1      f36YZ1cA291bNtMHXWtu1Q    Danyale W.            4   \n",
       "2      -xYUKfWQTaB-7BeizsQA3w      Robin G.            5   \n",
       "3      tt1vLgAP5UpRXAKJLT2KWg       Alec K.            4   \n",
       "4      -K79Xep4lElqIChsJYWuiQ     Robbie O.            5   \n",
       "5      a5KJFFLBMoEpU7Bogn8YdQ     Nicole C.            4   \n",
       "6      VG-EfMnPKHKHhEQZIWv1zQ      Kelly V.            3   \n",
       "7      y_LETSyVwMVKbMSHwHDioQ       Erin A.            3   \n",
       "9      ZZELut-m0rSyivf8saCMKA       Mark S.            4   \n",
       "10     fbhRFckDkMOCZFSxpOM4xA   Kimberly M.            5   \n",
       "11     TElrSXVXrwDk4Czg0Q5meQ    Roxanne O.            5   \n",
       "12     GRY2acZtI5q4P1KdCWhcUQ       Dave F.            3   \n",
       "13     7kJGuiBmOTPpWWJ499gxjQ       Nina D.            4   \n",
       "14     U_UvZKuqTV35_R_QaUsVPA  Christina G.            3   \n",
       "16     91s3gCyxBSuP_u_eZtSrFA    Kaitlin F.            5   \n",
       "17     AP-QqWMEsyiHb5eRAdQVGg      Jenni K.            4   \n",
       "18     mTrXfM4209GtIFrFiEsP5Q   Victoria X.            3   \n",
       "19     VdjkJ99vMoZ-HuShcgQOUw      Megha W.            1   \n",
       "20     dRuCO4NYO7zyAF8-CeJmZg      Jason L.            5   \n",
       "21     f36YZ1cA291bNtMHXWtu1Q    Danyale W.            4   \n",
       "22     -xYUKfWQTaB-7BeizsQA3w      Robin G.            5   \n",
       "23     tt1vLgAP5UpRXAKJLT2KWg       Alec K.            4   \n",
       "24     -K79Xep4lElqIChsJYWuiQ     Robbie O.            5   \n",
       "25     a5KJFFLBMoEpU7Bogn8YdQ     Nicole C.            4   \n",
       "26     VG-EfMnPKHKHhEQZIWv1zQ      Kelly V.            3   \n",
       "27     y_LETSyVwMVKbMSHwHDioQ       Erin A.            3   \n",
       "29     ZZELut-m0rSyivf8saCMKA       Mark S.            4   \n",
       "30     fbhRFckDkMOCZFSxpOM4xA   Kimberly M.            5   \n",
       "31     TElrSXVXrwDk4Czg0Q5meQ    Roxanne O.            5   \n",
       "32     GRY2acZtI5q4P1KdCWhcUQ       Dave F.            3   \n",
       "...                       ...           ...          ...   \n",
       "74549  krGhEGcZoGIXNxGU_xl3uw     Carrie W.            5   \n",
       "74550  VSezDWeJT8SRYZtA3lNh5g     Kelsey B.            1   \n",
       "74551  WplzCdA6LvLOUbGA0dhrgA       Paul F.            5   \n",
       "74554  lfAaelNHjVdjDAu8A89mNw      Randi C.            4   \n",
       "74555  XF0OqM4zRWKUH5r9_pu7rA     Lauren S.            5   \n",
       "74556  AE1RnOAp6A8OBP3qgzEOig      Chris A.            5   \n",
       "74557  7MWcuLlGnkXxSvLefnSCLg   Stefanie L.            4   \n",
       "74560  WIyVB8oICAB2jNf0BFX9WQ       Dana S.            1   \n",
       "74561  ejuEULIrCGCLcEhBLLCyHg     Andrew B.            3   \n",
       "74562  o-nix2LRZmtOg4eSSE8yBA    Shariff M.            1   \n",
       "74563  tqzK-__3-PkYfUYymts2Sg     Krista C.            5   \n",
       "74565  SGQgiBCqkcLT8B9716ZrTQ       Nick L.            1   \n",
       "74566  7YgvR31HLBpoMCZEHkrS9Q       Mike D.            3   \n",
       "74568  cWL2Nn40pxyppPUPDcgu4A          C K.            1   \n",
       "74569  ARjBR6PyENA4FJIXCJF81w     Robert B.            3   \n",
       "74571  9uzcsNA0CGK_339z56__HQ        Vic L.            3   \n",
       "74573  DVXcnUaGoKmZXe1mCPkNrQ      Chris J.            5   \n",
       "74577  WNRyZ2bZ0JS4nxtvMrje_A     Philip F.            4   \n",
       "74578  q25vItQXMYPejdqsccLFLg        Joe F.            1   \n",
       "74580  gP0n1dLrp51o1J0KA0Z09w  Christina A.            5   \n",
       "74583  qEfP7sqjM7U7KOsvaLGnfA     Amanda M.            2   \n",
       "74585  hWkF0Aoa7SS0SkwnyuMc5w      Taryn M.            5   \n",
       "74593  YC_KxVZglwk2goxi4uhONA          J G.            1   \n",
       "74595  xfmdqJ2-rMrOiVoAOkl4hw      Jason M.            5   \n",
       "74597  4M0TZBlB6PmxobVgmJHhQw      Sammy P.            3   \n",
       "74599  R7Nt2gpPkHIRgp9U0pLqGA     Bonnie G.            3   \n",
       "74601  T5Tax9LbvW7DDRZjg6i7BQ    Melissa C.            5   \n",
       "74604  jS4BO5hsQp0DGTNmnjOjqw    Tiffany M.            5   \n",
       "74607  4HAVtMdjPSrHCmXW9pmCDw       Andy N.            1   \n",
       "74610  w4oh-xGruH-FD2Z6S6pmJg     George J.            1   \n",
       "\n",
       "                                               user_text restaurant_name  \\\n",
       "0      We booked Grand Vin as our brunch location to ...       Grand Vin   \n",
       "1      Sooooo for date night it was his turn to pick ...       Grand Vin   \n",
       "2      Adorable little wine bar with outdoor seating ...       Grand Vin   \n",
       "3      One of the top restaurants in Hoboken. Well ma...       Grand Vin   \n",
       "4      Great space- service is on point -  short rib ...       Grand Vin   \n",
       "5      beautifully decorated wine bar with delicious ...       Grand Vin   \n",
       "6      We were there today, for brunch. Very disappoi...       Grand Vin   \n",
       "7      I am feeling more 3 and 1/2 stars here, so let...       Grand Vin   \n",
       "9      It certainly wasn't easy...When the better hal...       Grand Vin   \n",
       "10     Had a really fun first visit here during the f...       Grand Vin   \n",
       "11     Came here on a Tuesday evening and it seemed w...       Grand Vin   \n",
       "12     A freshly renovated space; the owners did a re...       Grand Vin   \n",
       "13     This restaurant is delicious, and the ambiance...       Grand Vin   \n",
       "14     im between 3 and 4 stars on this spot. there w...       Grand Vin   \n",
       "16     I am so glad that I found Grand Vin on Open Ta...       Grand Vin   \n",
       "17     I came to Grand Vin with my best friend one of...       Grand Vin   \n",
       "18     Walked past this place plenty of times and was...       Grand Vin   \n",
       "19     The ambience is great and so are the cocktails...       Grand Vin   \n",
       "20     We booked Grand Vin as our brunch location to ...       Grand Vin   \n",
       "21     Sooooo for date night it was his turn to pick ...       Grand Vin   \n",
       "22     Adorable little wine bar with outdoor seating ...       Grand Vin   \n",
       "23     One of the top restaurants in Hoboken. Well ma...       Grand Vin   \n",
       "24     Great space- service is on point -  short rib ...       Grand Vin   \n",
       "25     beautifully decorated wine bar with delicious ...       Grand Vin   \n",
       "26     We were there today, for brunch. Very disappoi...       Grand Vin   \n",
       "27     I am feeling more 3 and 1/2 stars here, so let...       Grand Vin   \n",
       "29     It certainly wasn't easy...When the better hal...       Grand Vin   \n",
       "30     Had a really fun first visit here during the f...       Grand Vin   \n",
       "31     Came here on a Tuesday evening and it seemed w...       Grand Vin   \n",
       "32     A freshly renovated space; the owners did a re...       Grand Vin   \n",
       "...                                                  ...             ...   \n",
       "74549  My family and I went to Tony Boloney's for the...  Tony Boloney’s   \n",
       "74550  Food amazing. Do Not do Delivery!!!!!!!!! So l...  Tony Boloney’s   \n",
       "74551  I have never, ever called a pizza place back, ...  Tony Boloney’s   \n",
       "74554  It is Hoboken, so I didn't question why a sub,...  Tony Boloney’s   \n",
       "74555  I have no complaints about this teeny tiny  of...  Tony Boloney’s   \n",
       "74556  Love this place! Food is delicious and the sta...  Tony Boloney’s   \n",
       "74557  Love Tony's. Variety of creative menu selectio...  Tony Boloney’s   \n",
       "74560  the food is amazing, the guys working in the s...  Tony Boloney’s   \n",
       "74561  A pizza joint for the drunk and hungry. Open u...  Tony Boloney’s   \n",
       "74562  Can't comment on the food because it arrived i...  Tony Boloney’s   \n",
       "74563  Can't say enough great things about Tony Balon...  Tony Boloney’s   \n",
       "74565  I didn't even get to try their food because th...  Tony Boloney’s   \n",
       "74566  It was love at first sight with Tony B's but a...  Tony Boloney’s   \n",
       "74568  Over the weekend, we tried a Grandma Patti pie...  Tony Boloney’s   \n",
       "74569  Stick to the pizza at this place.  Very good s...  Tony Boloney’s   \n",
       "74571  Food is ok and priced too high for what they g...  Tony Boloney’s   \n",
       "74573  Wow. Just Wow. This place is probably the most...  Tony Boloney’s   \n",
       "74577  Tony B's came highly recommended to me by a pa...  Tony Boloney’s   \n",
       "74578  One star for the delivery time.  Apart from th...  Tony Boloney’s   \n",
       "74580  I have mixed feelings because of how much mone...  Tony Boloney’s   \n",
       "74583  We were so excited to try this place. I was am...  Tony Boloney’s   \n",
       "74585  I have now been here about 3-4 times since it ...  Tony Boloney’s   \n",
       "74593  Placed an order through seamless and we were q...  Tony Boloney’s   \n",
       "74595  This place is EPIC. I am not ashamed to say th...  Tony Boloney’s   \n",
       "74597  I have mixed feelings about this place. It's g...  Tony Boloney’s   \n",
       "74599  I am def. going to give this place another try...  Tony Boloney’s   \n",
       "74601  This is hands down one of the most amazing san...  Tony Boloney’s   \n",
       "74604  Tony Boloney hands down has the BEST buffalo p...  Tony Boloney’s   \n",
       "74607  Ordered for the first time: Salad had two litt...  Tony Boloney’s   \n",
       "74610  Ordered from this placing thinking our food wo...  Tony Boloney’s   \n",
       "\n",
       "      restaurant_rating restaurant_price  \\\n",
       "0                     4               $$   \n",
       "1                     4               $$   \n",
       "2                     4               $$   \n",
       "3                     4               $$   \n",
       "4                     4               $$   \n",
       "5                     4               $$   \n",
       "6                     4               $$   \n",
       "7                     4               $$   \n",
       "9                     4               $$   \n",
       "10                    4               $$   \n",
       "11                    4               $$   \n",
       "12                    4               $$   \n",
       "13                    4               $$   \n",
       "14                    4               $$   \n",
       "16                    4               $$   \n",
       "17                    4               $$   \n",
       "18                    4               $$   \n",
       "19                    4               $$   \n",
       "20                    4               $$   \n",
       "21                    4               $$   \n",
       "22                    4               $$   \n",
       "23                    4               $$   \n",
       "24                    4               $$   \n",
       "25                    4               $$   \n",
       "26                    4               $$   \n",
       "27                    4               $$   \n",
       "29                    4               $$   \n",
       "30                    4               $$   \n",
       "31                    4               $$   \n",
       "32                    4               $$   \n",
       "...                 ...              ...   \n",
       "74549                 3               $$   \n",
       "74550                 3               $$   \n",
       "74551                 3               $$   \n",
       "74554                 3               $$   \n",
       "74555                 3               $$   \n",
       "74556                 3               $$   \n",
       "74557                 3               $$   \n",
       "74560                 3               $$   \n",
       "74561                 3               $$   \n",
       "74562                 3               $$   \n",
       "74563                 3               $$   \n",
       "74565                 3               $$   \n",
       "74566                 3               $$   \n",
       "74568                 3               $$   \n",
       "74569                 3               $$   \n",
       "74571                 3               $$   \n",
       "74573                 3               $$   \n",
       "74577                 3               $$   \n",
       "74578                 3               $$   \n",
       "74580                 3               $$   \n",
       "74583                 3               $$   \n",
       "74585                 3               $$   \n",
       "74593                 3               $$   \n",
       "74595                 3               $$   \n",
       "74597                 3               $$   \n",
       "74599                 3               $$   \n",
       "74601                 3               $$   \n",
       "74604                 3               $$   \n",
       "74607                 3               $$   \n",
       "74610                 3               $$   \n",
       "\n",
       "                             restaurant_type rating_level  \\\n",
       "0      Wine, Bars,, Italian,, Cocktail, Bars         high   \n",
       "1      Wine, Bars,, Italian,, Cocktail, Bars         high   \n",
       "2      Wine, Bars,, Italian,, Cocktail, Bars         high   \n",
       "3      Wine, Bars,, Italian,, Cocktail, Bars         high   \n",
       "4      Wine, Bars,, Italian,, Cocktail, Bars         high   \n",
       "5      Wine, Bars,, Italian,, Cocktail, Bars         high   \n",
       "6      Wine, Bars,, Italian,, Cocktail, Bars          mid   \n",
       "7      Wine, Bars,, Italian,, Cocktail, Bars          mid   \n",
       "9      Wine, Bars,, Italian,, Cocktail, Bars         high   \n",
       "10     Wine, Bars,, Italian,, Cocktail, Bars         high   \n",
       "11     Wine, Bars,, Italian,, Cocktail, Bars         high   \n",
       "12     Wine, Bars,, Italian,, Cocktail, Bars          mid   \n",
       "13     Wine, Bars,, Italian,, Cocktail, Bars         high   \n",
       "14     Wine, Bars,, Italian,, Cocktail, Bars          mid   \n",
       "16     Wine, Bars,, Italian,, Cocktail, Bars         high   \n",
       "17     Wine, Bars,, Italian,, Cocktail, Bars         high   \n",
       "18     Wine, Bars,, Italian,, Cocktail, Bars          mid   \n",
       "19     Wine, Bars,, Italian,, Cocktail, Bars          low   \n",
       "20     Wine, Bars,, Italian,, Cocktail, Bars         high   \n",
       "21     Wine, Bars,, Italian,, Cocktail, Bars         high   \n",
       "22     Wine, Bars,, Italian,, Cocktail, Bars         high   \n",
       "23     Wine, Bars,, Italian,, Cocktail, Bars         high   \n",
       "24     Wine, Bars,, Italian,, Cocktail, Bars         high   \n",
       "25     Wine, Bars,, Italian,, Cocktail, Bars         high   \n",
       "26     Wine, Bars,, Italian,, Cocktail, Bars          mid   \n",
       "27     Wine, Bars,, Italian,, Cocktail, Bars          mid   \n",
       "29     Wine, Bars,, Italian,, Cocktail, Bars         high   \n",
       "30     Wine, Bars,, Italian,, Cocktail, Bars         high   \n",
       "31     Wine, Bars,, Italian,, Cocktail, Bars         high   \n",
       "32     Wine, Bars,, Italian,, Cocktail, Bars          mid   \n",
       "...                                      ...          ...   \n",
       "74549             Salad,, Pizza,, Sandwiches         high   \n",
       "74550             Salad,, Pizza,, Sandwiches          low   \n",
       "74551             Salad,, Pizza,, Sandwiches         high   \n",
       "74554             Salad,, Pizza,, Sandwiches         high   \n",
       "74555             Salad,, Pizza,, Sandwiches         high   \n",
       "74556             Salad,, Pizza,, Sandwiches         high   \n",
       "74557             Salad,, Pizza,, Sandwiches         high   \n",
       "74560             Salad,, Pizza,, Sandwiches          low   \n",
       "74561             Salad,, Pizza,, Sandwiches          mid   \n",
       "74562             Salad,, Pizza,, Sandwiches          low   \n",
       "74563             Salad,, Pizza,, Sandwiches         high   \n",
       "74565             Salad,, Pizza,, Sandwiches          low   \n",
       "74566             Salad,, Pizza,, Sandwiches          mid   \n",
       "74568             Salad,, Pizza,, Sandwiches          low   \n",
       "74569             Salad,, Pizza,, Sandwiches          mid   \n",
       "74571             Salad,, Pizza,, Sandwiches          mid   \n",
       "74573             Salad,, Pizza,, Sandwiches         high   \n",
       "74577             Salad,, Pizza,, Sandwiches         high   \n",
       "74578             Salad,, Pizza,, Sandwiches          low   \n",
       "74580             Salad,, Pizza,, Sandwiches         high   \n",
       "74583             Salad,, Pizza,, Sandwiches          low   \n",
       "74585             Salad,, Pizza,, Sandwiches         high   \n",
       "74593             Salad,, Pizza,, Sandwiches          low   \n",
       "74595             Salad,, Pizza,, Sandwiches         high   \n",
       "74597             Salad,, Pizza,, Sandwiches          mid   \n",
       "74599             Salad,, Pizza,, Sandwiches          mid   \n",
       "74601             Salad,, Pizza,, Sandwiches         high   \n",
       "74604             Salad,, Pizza,, Sandwiches         high   \n",
       "74607             Salad,, Pizza,, Sandwiches          low   \n",
       "74610             Salad,, Pizza,, Sandwiches          low   \n",
       "\n",
       "                                          cleaned_review    neg    pos    neu  \\\n",
       "0      book grand vin brunch locat celebr wed day cou...  0.000  0.225  0.775   \n",
       "1      sooooo date night turn pick random yelp select...  0.028  0.195  0.777   \n",
       "2      ador littl wine bar outdoor seat avail wine ta...  0.000  0.288  0.712   \n",
       "3      top hoboken well made pleasant atmospher make ...  0.000  0.375  0.625   \n",
       "4      great space servic point short rib risotto cha...  0.055  0.308  0.638   \n",
       "5      beauti decor wine bar delici servic mediocr ex...  0.067  0.166  0.767   \n",
       "6      today brunch disappoint mean aw expect someth ...  0.060  0.193  0.747   \n",
       "7      feel star let imagin far away popular hoboken ...  0.053  0.361  0.586   \n",
       "9      certainli easi better half offer take dinner a...  0.000  0.174  0.826   \n",
       "10     fun first visit first hoboken snow season bart...  0.000  0.435  0.565   \n",
       "11     came tuesday seem lucki rel earli got super pa...  0.000  0.274  0.726   \n",
       "12     freshli renov space owner nice job upgrad dive...  0.015  0.269  0.716   \n",
       "13     delici ambianc fantast side book quickli somet...  0.000  0.000  1.000   \n",
       "14     im star spot definit hit miss overarch best th...  0.030  0.242  0.728   \n",
       "16     glad found grand vin open look cute nice dinne...  0.015  0.398  0.587   \n",
       "17     came grand vin best friend first time came hob...  0.000  0.455  0.545   \n",
       "18     walk past plenti time alway intrigu look like ...  0.034  0.237  0.730   \n",
       "19     ambienc great cocktail howev servic great host...  0.000  0.266  0.734   \n",
       "20     book grand vin brunch locat celebr wed day cou...  0.000  0.225  0.775   \n",
       "21     sooooo date night turn pick random yelp select...  0.028  0.195  0.777   \n",
       "22     ador littl wine bar outdoor seat avail wine ta...  0.000  0.288  0.712   \n",
       "23     top hoboken well made pleasant atmospher make ...  0.000  0.375  0.625   \n",
       "24     great space servic point short rib risotto cha...  0.055  0.308  0.638   \n",
       "25     beauti decor wine bar delici servic mediocr ex...  0.067  0.166  0.767   \n",
       "26     today brunch disappoint mean aw expect someth ...  0.060  0.193  0.747   \n",
       "27     feel star let imagin far away popular hoboken ...  0.053  0.361  0.586   \n",
       "29     certainli easi better half offer take dinner a...  0.000  0.174  0.826   \n",
       "30     fun first visit first hoboken snow season bart...  0.000  0.435  0.565   \n",
       "31     came tuesday seem lucki rel earli got super pa...  0.000  0.274  0.726   \n",
       "32     freshli renov space owner nice job upgrad dive...  0.015  0.269  0.716   \n",
       "...                                                  ...    ...    ...    ...   \n",
       "74549  famili went toni boloney first time friday nig...  0.034  0.257  0.709   \n",
       "74550  amaz deliveri long reliabl call multipl time t...  0.074  0.091  0.835   \n",
       "74551  never ever call pizza back tonight chicken par...  0.038  0.253  0.708   \n",
       "74554  hoboken question sub salad without meat founta...  0.011  0.228  0.761   \n",
       "74555  complaint teeni tini beaten path spot hoboken ...  0.084  0.323  0.593   \n",
       "74556  love delici staff alway friendli came late tue...  0.064  0.219  0.717   \n",
       "74557  love toni varieti creativ menu select sub pizz...  0.000  0.395  0.605   \n",
       "74560  amaz guy work store funni repeat deliveri live...  0.107  0.104  0.788   \n",
       "74561  pizza joint drunk hungri open believ weekend g...  0.073  0.251  0.675   \n",
       "74562  comment arriv ice cold hour late base terribl ...  0.066  0.253  0.681   \n",
       "74563  say enough great thing toni baloney love atlan...  0.108  0.379  0.514   \n",
       "74565  rude leav line friend ahead plan separ employe...  0.241  0.198  0.560   \n",
       "74566  love first sight toni b time went notic lack c...  0.048  0.236  0.716   \n",
       "74568  weekend grandma patti pie certainli flavor nea...  0.045  0.159  0.795   \n",
       "74569  stick pizza good specialti pie creativ top com...  0.000  0.357  0.643   \n",
       "74571  ok price high give imo pesto chicken sandwich ...  0.101  0.410  0.489   \n",
       "74573  wow wow probabl friendli pizza shop ever seen ...  0.073  0.311  0.616   \n",
       "74577  toni b came highli recommend patron atlant cit...  0.027  0.231  0.742   \n",
       "74578  star deliveri time apart pizza terribl buffalo...  0.000  0.051  0.949   \n",
       "74580  mix feel much money spend way buy bigger pant ...  0.000  0.273  0.727   \n",
       "74583  excit amaz creativ option menu sure decent hat...  0.272  0.087  0.642   \n",
       "74585  time sinc open cheesesteak ole simpli world en...  0.000  0.287  0.713   \n",
       "74593  seamless quot minut took two hour arriv first ...  0.113  0.000  0.887   \n",
       "74595  epic asham say went three consecut meal last w...  0.000  0.311  0.689   \n",
       "74597  mix feel gener pretti good deliveri alway quic...  0.099  0.160  0.741   \n",
       "74599  def give anoth pizza deliveri guess deliveri w...  0.092  0.063  0.845   \n",
       "74601  hand amaz sandwich boyfriend ever kaka sandwic...  0.000  0.231  0.769   \n",
       "74604  toni boloney hand best buffalo pizza ever eate...  0.000  0.473  0.527   \n",
       "74607  first time salad two littl oliv gee spare two ...  0.265  0.049  0.686   \n",
       "74610  think would quick easi sunday afternoon afraid...  0.075  0.091  0.833   \n",
       "\n",
       "       compound  \n",
       "0        0.9565  \n",
       "1        0.9705  \n",
       "2        0.9709  \n",
       "3        0.9274  \n",
       "4        0.9022  \n",
       "5        0.7351  \n",
       "6        0.9403  \n",
       "7        0.9896  \n",
       "9        0.9509  \n",
       "10       0.9565  \n",
       "11       0.9682  \n",
       "12       0.9901  \n",
       "13       0.0000  \n",
       "14       0.9783  \n",
       "16       0.9945  \n",
       "17       0.9867  \n",
       "18       0.9848  \n",
       "19       0.9485  \n",
       "20       0.9565  \n",
       "21       0.9705  \n",
       "22       0.9709  \n",
       "23       0.9274  \n",
       "24       0.9022  \n",
       "25       0.7351  \n",
       "26       0.9403  \n",
       "27       0.9896  \n",
       "29       0.9509  \n",
       "30       0.9565  \n",
       "31       0.9682  \n",
       "32       0.9901  \n",
       "...         ...  \n",
       "74549    0.9517  \n",
       "74550   -0.0772  \n",
       "74551    0.8360  \n",
       "74554    0.9771  \n",
       "74555    0.9756  \n",
       "74556    0.8225  \n",
       "74557    0.9559  \n",
       "74560   -0.1027  \n",
       "74561    0.9081  \n",
       "74562    0.9349  \n",
       "74563    0.9509  \n",
       "74565   -0.2500  \n",
       "74566    0.8720  \n",
       "74568    0.9325  \n",
       "74569    0.9062  \n",
       "74571    0.9493  \n",
       "74573    0.9601  \n",
       "74577    0.9382  \n",
       "74578    0.3612  \n",
       "74580    0.8720  \n",
       "74583   -0.7096  \n",
       "74585    0.9100  \n",
       "74593   -0.4976  \n",
       "74595    0.9623  \n",
       "74597    0.3612  \n",
       "74599   -0.2023  \n",
       "74601    0.6908  \n",
       "74604    0.9794  \n",
       "74607   -0.9001  \n",
       "74610    0.2023  \n",
       "\n",
       "[53641 rows x 14 columns]"
      ]
     },
     "execution_count": 17,
     "metadata": {},
     "output_type": "execute_result"
    }
   ],
   "source": [
    "dataset['neg']=neg\n",
    "dataset['pos']=pos\n",
    "dataset['neu']=neu\n",
    "dataset['compound']=compound\n",
    "dataset"
   ]
  },
  {
   "cell_type": "code",
   "execution_count": 41,
   "metadata": {},
   "outputs": [
    {
     "data": {
      "image/png": "[encoded data removed]",
      "text/plain": [
       "<matplotlib.figure.Figure at 0x1a1c527ba8>"
      ]
     },
     "metadata": {},
     "output_type": "display_data"
    }
   ],
   "source": [
    "dataset.hist(bins=50,figsize=(20,15))\n",
    "plt.show()"
   ]
  },
  {
   "cell_type": "markdown",
   "metadata": {},
   "source": [
    "#### It seems like, this features are usefull"
   ]
  },
  {
   "cell_type": "markdown",
   "metadata": {},
   "source": [
    "#### bag of words"
   ]
  },
  {
   "cell_type": "code",
   "execution_count": 12,
   "metadata": {
    "collapsed": true
   },
   "outputs": [],
   "source": [
    "cv = CountVectorizer()\n",
    "X = cv.fit_transform(dataset['cleaned_review']).toarray()\n",
    "y = dataset.iloc[:, 8].values"
   ]
  },
  {
   "cell_type": "code",
   "execution_count": 18,
   "metadata": {
    "collapsed": true
   },
   "outputs": [],
   "source": [
    "dataset_X = pd.DataFrame(X)"
   ]
  },
  {
   "cell_type": "code",
   "execution_count": 19,
   "metadata": {},
   "outputs": [
    {
     "data": {
      "text/html": [
       "<div>\n",
       "<style>\n",
       "    .dataframe thead tr:only-child th {\n",
       "        text-align: right;\n",
       "    }\n",
       "\n",
       "    .dataframe thead th {\n",
       "        text-align: left;\n",
       "    }\n",
       "\n",
       "    .dataframe tbody tr th {\n",
       "        vertical-align: top;\n",
       "    }\n",
       "</style>\n",
       "<table border=\"1\" class=\"dataframe\">\n",
       "  <thead>\n",
       "    <tr style=\"text-align: right;\">\n",
       "      <th></th>\n",
       "      <th>0</th>\n",
       "      <th>1</th>\n",
       "      <th>2</th>\n",
       "      <th>3</th>\n",
       "      <th>4</th>\n",
       "      <th>5</th>\n",
       "      <th>6</th>\n",
       "      <th>7</th>\n",
       "      <th>8</th>\n",
       "      <th>9</th>\n",
       "      <th>...</th>\n",
       "      <th>38203</th>\n",
       "      <th>38204</th>\n",
       "      <th>38205</th>\n",
       "      <th>38206</th>\n",
       "      <th>38207</th>\n",
       "      <th>38208</th>\n",
       "      <th>neg</th>\n",
       "      <th>pos</th>\n",
       "      <th>neu</th>\n",
       "      <th>compound</th>\n",
       "    </tr>\n",
       "  </thead>\n",
       "  <tbody>\n",
       "    <tr>\n",
       "      <th>0</th>\n",
       "      <td>0</td>\n",
       "      <td>0</td>\n",
       "      <td>0</td>\n",
       "      <td>0</td>\n",
       "      <td>0</td>\n",
       "      <td>0</td>\n",
       "      <td>0</td>\n",
       "      <td>0</td>\n",
       "      <td>0</td>\n",
       "      <td>0</td>\n",
       "      <td>...</td>\n",
       "      <td>0</td>\n",
       "      <td>0</td>\n",
       "      <td>0</td>\n",
       "      <td>0</td>\n",
       "      <td>0</td>\n",
       "      <td>0</td>\n",
       "      <td>0.000</td>\n",
       "      <td>0.225</td>\n",
       "      <td>0.775</td>\n",
       "      <td>0.9565</td>\n",
       "    </tr>\n",
       "    <tr>\n",
       "      <th>1</th>\n",
       "      <td>0</td>\n",
       "      <td>0</td>\n",
       "      <td>0</td>\n",
       "      <td>0</td>\n",
       "      <td>0</td>\n",
       "      <td>0</td>\n",
       "      <td>0</td>\n",
       "      <td>0</td>\n",
       "      <td>0</td>\n",
       "      <td>0</td>\n",
       "      <td>...</td>\n",
       "      <td>0</td>\n",
       "      <td>0</td>\n",
       "      <td>0</td>\n",
       "      <td>0</td>\n",
       "      <td>0</td>\n",
       "      <td>0</td>\n",
       "      <td>0.028</td>\n",
       "      <td>0.195</td>\n",
       "      <td>0.777</td>\n",
       "      <td>0.9705</td>\n",
       "    </tr>\n",
       "    <tr>\n",
       "      <th>2</th>\n",
       "      <td>0</td>\n",
       "      <td>0</td>\n",
       "      <td>0</td>\n",
       "      <td>0</td>\n",
       "      <td>0</td>\n",
       "      <td>0</td>\n",
       "      <td>0</td>\n",
       "      <td>0</td>\n",
       "      <td>0</td>\n",
       "      <td>0</td>\n",
       "      <td>...</td>\n",
       "      <td>0</td>\n",
       "      <td>0</td>\n",
       "      <td>0</td>\n",
       "      <td>0</td>\n",
       "      <td>0</td>\n",
       "      <td>0</td>\n",
       "      <td>0.000</td>\n",
       "      <td>0.288</td>\n",
       "      <td>0.712</td>\n",
       "      <td>0.9709</td>\n",
       "    </tr>\n",
       "  </tbody>\n",
       "</table>\n",
       "<p>3 rows × 38213 columns</p>\n",
       "</div>"
      ],
      "text/plain": [
       "   0  1  2  3  4  5  6  7  8  9    ...     38203  38204  38205  38206  38207  \\\n",
       "0  0  0  0  0  0  0  0  0  0  0    ...         0      0      0      0      0   \n",
       "1  0  0  0  0  0  0  0  0  0  0    ...         0      0      0      0      0   \n",
       "2  0  0  0  0  0  0  0  0  0  0    ...         0      0      0      0      0   \n",
       "\n",
       "   38208    neg    pos    neu  compound  \n",
       "0      0  0.000  0.225  0.775    0.9565  \n",
       "1      0  0.028  0.195  0.777    0.9705  \n",
       "2      0  0.000  0.288  0.712    0.9709  \n",
       "\n",
       "[3 rows x 38213 columns]"
      ]
     },
     "execution_count": 19,
     "metadata": {},
     "output_type": "execute_result"
    }
   ],
   "source": [
    "dataset_X['neg']=neg\n",
    "dataset_X['pos']=pos\n",
    "dataset_X['neu']=neu\n",
    "dataset_X['compound']=compound\n",
    "\n",
    "dataset_X.head(3)\n"
   ]
  },
  {
   "cell_type": "code",
   "execution_count": 20,
   "metadata": {
    "collapsed": true
   },
   "outputs": [],
   "source": [
    "X = dataset_X\n",
    "y = dataset.iloc[:,8].values"
   ]
  },
  {
   "cell_type": "code",
   "execution_count": 21,
   "metadata": {},
   "outputs": [
    {
     "data": {
      "text/plain": [
       "array(['high', 'high', 'high', ..., 'high', 'low', 'low'], dtype=object)"
      ]
     },
     "execution_count": 21,
     "metadata": {},
     "output_type": "execute_result"
    }
   ],
   "source": [
    "y"
   ]
  },
  {
   "cell_type": "code",
   "execution_count": 22,
   "metadata": {
    "collapsed": true
   },
   "outputs": [],
   "source": [
    "from sklearn.model_selection import train_test_split             \n",
    "X_train, X_test, y_train, y_test = train_test_split(X, y, test_size = 0.25, random_state = 0)    "
   ]
  },
  {
   "cell_type": "code",
   "execution_count": 23,
   "metadata": {},
   "outputs": [
    {
     "data": {
      "text/plain": [
       "array(['high', 'high', 'mid', ..., 'high', 'high', 'mid'], dtype=object)"
      ]
     },
     "execution_count": 23,
     "metadata": {},
     "output_type": "execute_result"
    }
   ],
   "source": [
    "y_train"
   ]
  },
  {
   "cell_type": "code",
   "execution_count": 23,
   "metadata": {},
   "outputs": [
    {
     "data": {
      "text/plain": [
       "LogisticRegression(C=1, class_weight=None, dual=False, fit_intercept=True,\n",
       "          intercept_scaling=1, max_iter=100, multi_class='ovr', n_jobs=1,\n",
       "          penalty='l2', random_state=0, solver='liblinear', tol=0.0001,\n",
       "          verbose=0, warm_start=False)"
      ]
     },
     "execution_count": 23,
     "metadata": {},
     "output_type": "execute_result"
    }
   ],
   "source": [
    "classifier = LogisticRegression(random_state = 0, C=1)\n",
    "classifier.fit(X_train, y_train)\n"
   ]
  },
  {
   "cell_type": "code",
   "execution_count": 24,
   "metadata": {
    "collapsed": true
   },
   "outputs": [],
   "source": [
    "y_pred = classifier.predict(X_test)"
   ]
  },
  {
   "cell_type": "code",
   "execution_count": 25,
   "metadata": {},
   "outputs": [
    {
     "data": {
      "text/plain": [
       "0.81269107449108935"
      ]
     },
     "execution_count": 25,
     "metadata": {},
     "output_type": "execute_result"
    }
   ],
   "source": [
    "cm = confusion_matrix(y_test, y_pred)\n",
    "accuracy_logistic = cm.trace()/cm.sum()\n",
    "accuracy_logistic"
   ]
  },
  {
   "cell_type": "markdown",
   "metadata": {},
   "source": [
    "##### cause the data is pretty huge, the laptop cannot handle it, so i deleted some data, now try the logistic method, without sentiment analysis"
   ]
  },
  {
   "cell_type": "code",
   "execution_count": 46,
   "metadata": {
    "collapsed": true
   },
   "outputs": [],
   "source": [
    "cv = CountVectorizer()\n",
    "X = cv.fit_transform(dataset['cleaned_review']).toarray()\n",
    "y = dataset.iloc[:, 8].values"
   ]
  },
  {
   "cell_type": "code",
   "execution_count": 47,
   "metadata": {
    "collapsed": true
   },
   "outputs": [],
   "source": [
    "X_train, X_test, y_train, y_test = train_test_split(X, y, test_size = 0.20, random_state = 0)\n"
   ]
  },
  {
   "cell_type": "code",
   "execution_count": 48,
   "metadata": {
    "collapsed": true
   },
   "outputs": [],
   "source": [
    "from sklearn.linear_model import LogisticRegression"
   ]
  },
  {
   "cell_type": "code",
   "execution_count": 49,
   "metadata": {},
   "outputs": [
    {
     "data": {
      "text/plain": [
       "0.81321651598471434"
      ]
     },
     "execution_count": 49,
     "metadata": {},
     "output_type": "execute_result"
    }
   ],
   "source": [
    "classifier = LogisticRegression(random_state = 0, C=1)\n",
    "classifier.fit(X_train, y_train)\n",
    "y_pred = classifier.predict(X_test)\n",
    "cm = confusion_matrix(y_test, y_pred)\n",
    "accuracy_logistic = cm.trace()/cm.sum()\n",
    "accuracy_logistic"
   ]
  },
  {
   "cell_type": "markdown",
   "metadata": {},
   "source": [
    "#### we can find that sentiment analysis cannot help us to increase accuracy"
   ]
  },
  {
   "cell_type": "markdown",
   "metadata": {},
   "source": [
    "#### now put out review in the bag of words, only use the sentiment words "
   ]
  },
  {
   "cell_type": "code",
   "execution_count": 29,
   "metadata": {
    "collapsed": true
   },
   "outputs": [],
   "source": [
    "only_sen = dataset.iloc[:,10:14]"
   ]
  },
  {
   "cell_type": "code",
   "execution_count": 35,
   "metadata": {
    "collapsed": true
   },
   "outputs": [],
   "source": [
    "cv = CountVectorizer()\n",
    "X = only_sen\n",
    "y = dataset.iloc[:, 8].values"
   ]
  },
  {
   "cell_type": "code",
   "execution_count": 36,
   "metadata": {
    "collapsed": true
   },
   "outputs": [],
   "source": [
    "from sklearn.model_selection import train_test_split             \n",
    "X_train, X_test, y_train, y_test = train_test_split(X, y, test_size = 0.25, random_state = 0)    "
   ]
  },
  {
   "cell_type": "code",
   "execution_count": 37,
   "metadata": {},
   "outputs": [
    {
     "data": {
      "text/plain": [
       "LogisticRegression(C=1, class_weight=None, dual=False, fit_intercept=True,\n",
       "          intercept_scaling=1, max_iter=100, multi_class='ovr', n_jobs=1,\n",
       "          penalty='l2', random_state=0, solver='liblinear', tol=0.0001,\n",
       "          verbose=0, warm_start=False)"
      ]
     },
     "execution_count": 37,
     "metadata": {},
     "output_type": "execute_result"
    }
   ],
   "source": [
    "classifier = LogisticRegression(random_state = 0, C=1)\n",
    "classifier.fit(X_train, y_train)"
   ]
  },
  {
   "cell_type": "code",
   "execution_count": 38,
   "metadata": {
    "collapsed": true
   },
   "outputs": [],
   "source": [
    "y_pred = classifier.predict(X_test)"
   ]
  },
  {
   "cell_type": "code",
   "execution_count": 39,
   "metadata": {},
   "outputs": [
    {
     "data": {
      "text/plain": [
       "0.68317053165312058"
      ]
     },
     "execution_count": 39,
     "metadata": {},
     "output_type": "execute_result"
    }
   ],
   "source": [
    "cm = confusion_matrix(y_test, y_pred)\n",
    "accuracy_logistic = cm.trace()/cm.sum()\n",
    "accuracy_logistic"
   ]
  },
  {
   "cell_type": "markdown",
   "metadata": {},
   "source": [
    "\n",
    "#### As we can see, user reviews are the most meaning during predicting rating part"
   ]
  },
  {
   "cell_type": "markdown",
   "metadata": {},
   "source": [
    "\n",
    "### Randome Forest"
   ]
  },
  {
   "cell_type": "code",
   "execution_count": 24,
   "metadata": {
    "collapsed": true
   },
   "outputs": [],
   "source": [
    "from sklearn.ensemble import RandomForestClassifier\n",
    "classifier = RandomForestClassifier()\n",
    "classifier.fit(X_train, y_train)\n",
    "y_pred = classifier.predict(X_test)\n"
   ]
  },
  {
   "cell_type": "code",
   "execution_count": 25,
   "metadata": {},
   "outputs": [
    {
     "data": {
      "text/plain": [
       "0.75639400492133324"
      ]
     },
     "execution_count": 25,
     "metadata": {},
     "output_type": "execute_result"
    }
   ],
   "source": [
    "cm = confusion_matrix(y_test, y_pred)\n",
    "RMaccuracy = cm.trace()/cm.sum()\n",
    "RMaccuracy\n"
   ]
  },
  {
   "cell_type": "markdown",
   "metadata": {},
   "source": [
    "### Naive Bayes"
   ]
  },
  {
   "cell_type": "code",
   "execution_count": 26,
   "metadata": {
    "collapsed": true
   },
   "outputs": [],
   "source": [
    "from sklearn.naive_bayes import GaussianNB\n",
    "classifier = GaussianNB()\n",
    "classifier.fit(X_train, y_train)\n",
    "y_pred = classifier.predict(X_test)"
   ]
  },
  {
   "cell_type": "code",
   "execution_count": 27,
   "metadata": {},
   "outputs": [
    {
     "data": {
      "text/plain": [
       "0.37126239654015358"
      ]
     },
     "execution_count": 27,
     "metadata": {},
     "output_type": "execute_result"
    }
   ],
   "source": [
    "cm = confusion_matrix(y_test, y_pred)\n",
    "NBaccuracy = cm.trace()/cm.sum()\n",
    "NBaccuracy\n"
   ]
  },
  {
   "cell_type": "markdown",
   "metadata": {
    "collapsed": true
   },
   "source": [
    "### After using sentiment analysis, we can find naive beyes accuracy increase 1%(36-37)"
   ]
  },
  {
   "cell_type": "code",
   "execution_count": null,
   "metadata": {
    "collapsed": true
   },
   "outputs": [],
   "source": []
  }
 ],
 "metadata": {
  "kernelspec": {
   "display_name": "Python 3",
   "language": "python",
   "name": "python3"
  },
  "language_info": {
   "codemirror_mode": {
    "name": "ipython",
    "version": 3
   },
   "file_extension": ".py",
   "mimetype": "text/x-python",
   "name": "python",
   "nbconvert_exporter": "python",
   "pygments_lexer": "ipython3",
   "version": "3.6.2"
  }
 },
 "nbformat": 4,
 "nbformat_minor": 2
}

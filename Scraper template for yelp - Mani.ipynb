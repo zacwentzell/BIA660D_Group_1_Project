{
 "cells": [
  {
   "cell_type": "markdown",
   "metadata": {},
   "source": [
    "- A function to open home page"
   ]
  },
  {
   "cell_type": "code",
   "execution_count": 1,
   "metadata": {},
   "outputs": [],
   "source": [
    "from selenium import webdriver\n",
    "from selenium.webdriver.support.select import Select\n",
    "from selenium.webdriver import ActionChains\n",
    "from selenium.webdriver.common.by import By\n",
    "from selenium.webdriver.support import expected_conditions as EC\n",
    "from selenium.webdriver.support.wait import WebDriverWait\n",
    "from selenium.webdriver.common.keys import Keys\n",
    "import random\n",
    "import time\n",
    "import bs4"
   ]
  },
  {
   "cell_type": "code",
   "execution_count": 2,
   "metadata": {},
   "outputs": [],
   "source": [
    "def open_website(URL='https://www.yelp.com/'):\n",
    "    driver = webdriver.Chrome(executable_path='./chromedriver')\n",
    "    driver.get(URL)\n",
    "    return driver"
   ]
  },
  {
   "cell_type": "markdown",
   "metadata": {},
   "source": [
    "- Test the function"
   ]
  },
  {
   "cell_type": "code",
   "execution_count": 3,
   "metadata": {},
   "outputs": [],
   "source": [
    "driver = open_website('https://www.yelp.com/')"
   ]
  },
  {
   "cell_type": "markdown",
   "metadata": {},
   "source": [
    "- A function to type hoboken(zipcode 07030) + restaurant"
   ]
  },
  {
   "cell_type": "code",
   "execution_count": 4,
   "metadata": {},
   "outputs": [],
   "source": [
    "def select_location_business(driver, location_input = '07030', business_type = 'Restaurant'):\n",
    "    #Option 1 to delay\n",
    "    normal_delay = random.normalvariate(2, 0.5) #step 1\n",
    "    time.sleep(normal_delay) #step 2\n",
    "    \n",
    "    #find the location bar\n",
    "    #you could use another format @ http://selenium-python.readthedocs.io/locating-elements.html\n",
    "    active_location_search_input = driver.find_element_by_id(\"dropperText_Mast\")\n",
    "    #type hoboken in the location bar\n",
    "    active_location_search_input.clear()\n",
    "    active_location_search_input.send_keys(location_input)\n",
    "    #find the business bar\n",
    "    \n",
    "    \n",
    "    #Option 2 to delay\n",
    "    wait = WebDriverWait(driver, 10) #step 1\n",
    "    #find the location bar\n",
    "    #other format @ http://selenium-python.readthedocs.io/waits.html\n",
    "    active_business_search_input = wait.until(EC.element_to_be_clickable((By.ID, \"find_desc\"))) #step 2\n",
    "    \n",
    "    #active_restaurant_search_input = active_business_search_div.find_element_by_xpath()\n",
    "    #type restaurant in the bar\n",
    "    active_business_search_input.send_keys(business_type)\n",
    "    #find the search button\n",
    "    hit_search = driver.find_element_by_id(\"header-search-submit\")\n",
    "    #click the search button\n",
    "    search_result = hit_search.click()\n",
    "    return driver"
   ]
  },
  {
   "cell_type": "markdown",
   "metadata": {},
   "source": [
    "- test"
   ]
  },
  {
   "cell_type": "code",
   "execution_count": 5,
   "metadata": {},
   "outputs": [],
   "source": [
    "driver = select_location_business(driver, '07030', 'Restaurant')"
   ]
  },
  {
   "cell_type": "markdown",
   "metadata": {},
   "source": [
    "### select restaurant\n",
    "- select each re at one page"
   ]
  },
  {
   "cell_type": "code",
   "execution_count": 11,
   "metadata": {},
   "outputs": [],
   "source": [
    "def select_back_all_re(driver,restaurant_no, ad_no):\n",
    "    global restaurant_xpath_li, select_business, click_business\n",
    "    restaurant_no = 10\n",
    "    ad_no = 2\n",
    "    restaurant_xpath_li = []\n",
    "    for i in range(restaurant_no):\n",
    "        no = str(i+1+ad_no)\n",
    "        re_xpath = \"\"\"//*[@id=\"super-container\"]/div/div[2]/div[1]/div/div[5]/ul[2]/li[{}]/div/div[1]/div[1]/div/div[2]/h3/span/a\"\"\"\n",
    "        re_xpath = re_xpath.format(no)\n",
    "        restaurant_xpath_li.append(re_xpath)\n",
    "    for i in range(len(restaurant_xpath_li)):\n",
    "        normal_delay = random.normalvariate(3, 0.5)\n",
    "        time.sleep(normal_delay)\n",
    "        select_business = driver.find_element_by_xpath(restaurant_xpath_li[i])\n",
    "        click_business = select_business.click()\n",
    "        \n",
    "        \"\"\"\n",
    "        Notice:\n",
    "        \n",
    "        you should add more codes here to collect the data:\n",
    "        driver = extract_data()\n",
    "        \n",
    "        and store the data:\n",
    "        driver = store_data()\n",
    "        \n",
    "        and click next page reviews:\n",
    "        driver = click_next_page_review()\n",
    "        \n",
    "        and back to the restaurant page:\n",
    "        driver = back_re_page()\n",
    "        \n",
    "        \"\"\"\n",
    "        \n",
    "        ###after you add above function, please delete following codes\n",
    "        normal_delay = random.normalvariate(5, 0.5)\n",
    "        time.sleep(normal_delay)\n",
    "        driver.back()\n",
    "        ###\n",
    "        \n",
    "    return driver\n"
   ]
  },
  {
   "cell_type": "code",
   "execution_count": 12,
   "metadata": {},
   "outputs": [],
   "source": [
    "#you need one more step to detect ad_no at each page\n",
    "#ad_no = ?\n",
    "ad_no = 2\n",
    "restaurant_no = 10"
   ]
  },
  {
   "cell_type": "code",
   "execution_count": 13,
   "metadata": {},
   "outputs": [],
   "source": [
    "#test\n",
    "driver = select_back_all_re(driver,restaurant_no = restaurant_no, ad_no = ad_no)"
   ]
  },
  {
   "cell_type": "markdown",
   "metadata": {},
   "source": [
    "### Extract data\n",
    "\n",
    "we require:\n",
    "1. restaurant name(Grand Vin)\n",
    "2. restaurant id \n",
    "3. restaurant general star range (4.0)\n",
    "4. restaurant price range ($$)\n",
    "5. restaurant category list (Wine Bars, Italian, Cocktail)\n",
    "6. each review under a restaurant  \n",
    "    - user name (Jason L.)\n",
    "    - user id (\"/user_details?userid=K58UsGqR6k5lhPZKCVcuRg\")\n",
    "    - review text (...)\n",
    "    - rating (5.0 star rating)  \n"
   ]
  },
  {
   "cell_type": "code",
   "execution_count": 14,
   "metadata": {},
   "outputs": [
    {
     "data": {
      "text/plain": [
       "'\\nyou should build one function to extract and store data\\n\\ndef extract_data():\\n\\n\\n'"
      ]
     },
     "execution_count": 14,
     "metadata": {},
     "output_type": "execute_result"
    }
   ],
   "source": [
    "\"\"\"\n",
    "you should build one function to extract and store data\n",
    "\n",
    "def extract_data():\n",
    "\n",
    "\n",
    "\"\"\""
   ]
  },
  {
   "cell_type": "markdown",
   "metadata": {},
   "source": [
    "### Next page"
   ]
  },
  {
   "cell_type": "code",
   "execution_count": null,
   "metadata": {},
   "outputs": [],
   "source": [
    "# button class?\n",
    "\"\"\"\n",
    "you should build one function to click next page reviews:\n",
    "\n",
    "def click_next_page_review():\n",
    "\n",
    "\"\"\""
   ]
  },
  {
   "cell_type": "markdown",
   "metadata": {},
   "source": [
    "### Store and Update csv"
   ]
  },
  {
   "cell_type": "code",
   "execution_count": null,
   "metadata": {},
   "outputs": [],
   "source": [
    "\"\"\"\n",
    "you should build one function to store the extracted data:\n",
    "\n",
    "def store_data()\n",
    "\n",
    "\"\"\""
   ]
  },
  {
   "cell_type": "markdown",
   "metadata": {},
   "source": [
    "### Main scraper"
   ]
  },
  {
   "cell_type": "code",
   "execution_count": null,
   "metadata": {},
   "outputs": [],
   "source": [
    "\"\"\"\n",
    "create a main function to call all above function in one cell:\n",
    "\n",
    "def main():\n",
    "\n",
    "\n",
    "\"\"\""
   ]
  },
  {
   "cell_type": "markdown",
   "metadata": {},
   "source": [
    "### Run scraper"
   ]
  },
  {
   "cell_type": "code",
   "execution_count": null,
   "metadata": {},
   "outputs": [],
   "source": [
    "#main()"
   ]
  },
  {
   "cell_type": "code",
   "execution_count": null,
   "metadata": {},
   "outputs": [],
   "source": []
  },
  {
   "cell_type": "code",
   "execution_count": null,
   "metadata": {},
   "outputs": [],
   "source": []
  }
 ],
 "metadata": {
  "kernelspec": {
   "display_name": "Python 3",
   "language": "python",
   "name": "python3"
  },
  "language_info": {
   "codemirror_mode": {
    "name": "ipython",
    "version": 3
   },
   "file_extension": ".py",
   "mimetype": "text/x-python",
   "name": "python",
   "nbconvert_exporter": "python",
   "pygments_lexer": "ipython3",
   "version": "3.6.3"
  }
 },
 "nbformat": 4,
 "nbformat_minor": 2
}

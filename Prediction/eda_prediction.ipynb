{
 "cells": [
  {
   "cell_type": "markdown",
   "metadata": {},
   "source": [
    "The first step is to input the Hoboken restaurants review data from the previous data \n",
    "gathering done by the web scraper.  I printed the head of the dataframe (df) to see the first 5 rows."
   ]
  },
  {
   "cell_type": "code",
   "execution_count": 82,
   "metadata": {
    "collapsed": true
   },
   "outputs": [
    {
     "name": "stdout",
     "output_type": "stream",
     "text": [
      "   Unnamed: 0.1                 user_id   user_name      user_rating  \\\n0             0  dRuCO4NYO7zyAF8-CeJmZg    Jason L.  5.0 star rating   \n1             1  f36YZ1cA291bNtMHXWtu1Q  Danyale W.  4.0 star rating   \n2             2  -xYUKfWQTaB-7BeizsQA3w    Robin G.  5.0 star rating   \n3             3  tt1vLgAP5UpRXAKJLT2KWg     Alec K.  4.0 star rating   \n4             4  -K79Xep4lElqIChsJYWuiQ   Robbie O.  5.0 star rating   \n\n                                           user_text restaurant_name  \\\n0  We booked Grand Vin as our brunch location to ...       Grand Vin   \n1  Sooooo for date night it was his turn to pick ...       Grand Vin   \n2  Adorable little wine bar with outdoor seating ...       Grand Vin   \n3  One of the top restaurants in Hoboken. Well ma...       Grand Vin   \n4  Great space- service is on point -  short rib ...       Grand Vin   \n\n  restaurant_rating restaurant_price                        restaurant_type  \n0   4.0 star rating               $$  Wine, Bars,, Italian,, Cocktail, Bars  \n1   4.0 star rating               $$  Wine, Bars,, Italian,, Cocktail, Bars  \n2   4.0 star rating               $$  Wine, Bars,, Italian,, Cocktail, Bars  \n3   4.0 star rating               $$  Wine, Bars,, Italian,, Cocktail, Bars  \n4   4.0 star rating               $$  Wine, Bars,, Italian,, Cocktail, Bars  \n"
     ]
    }
   ],
   "source": [
    "import pandas as pd\n",
    "import numpy as np\n",
    "import json\n",
    "from pandas.io.json import json_normalize\n",
    "import matplotlib.pyplot as plt\n",
    "\n",
    "df = pd.read_csv(\"/Users/rickroma/Desktop/Hoboken_restaurants_reviews.csv\", index_col=0)\n",
    "print(df.head())"
   ]
  },
  {
   "cell_type": "markdown",
   "metadata": {},
   "source": [
    "The info method provides a quick description of the data such as number of rows, columns, and the heading of each column.  "
   ]
  },
  {
   "cell_type": "code",
   "execution_count": 83,
   "metadata": {},
   "outputs": [
    {
     "name": "stdout",
     "output_type": "stream",
     "text": [
      "<class 'pandas.core.frame.DataFrame'>\nInt64Index: 74611 entries, 0 to 74610\nData columns (total 9 columns):\nUnnamed: 0.1         74611 non-null int64\nuser_id              74611 non-null object\nuser_name            74611 non-null object\nuser_rating          74611 non-null object\nuser_text            74611 non-null object\nrestaurant_name      74611 non-null object\nrestaurant_rating    74611 non-null object\nrestaurant_price     74479 non-null object\nrestaurant_type      74611 non-null object\ndtypes: int64(1), object(8)\nmemory usage: 5.7+ MB\n"
     ]
    }
   ],
   "source": [
    "df.info()"
   ]
  },
  {
   "cell_type": "markdown",
   "metadata": {},
   "source": [
    "Since there were 132 missing rows for restaurant_price, I decided to remove those rows since \n",
    "they represented such a small number of the 74,000 plus rows."
   ]
  },
  {
   "cell_type": "code",
   "execution_count": 85,
   "metadata": {},
   "outputs": [
    {
     "name": "stdout",
     "output_type": "stream",
     "text": [
      "<class 'pandas.core.frame.DataFrame'>\nInt64Index: 74479 entries, 0 to 74610\nData columns (total 9 columns):\nUnnamed: 0.1         74479 non-null int64\nuser_id              74479 non-null object\nuser_name            74479 non-null object\nuser_rating          74479 non-null object\nuser_text            74479 non-null object\nrestaurant_name      74479 non-null object\nrestaurant_rating    74479 non-null object\nrestaurant_price     74479 non-null object\nrestaurant_type      74479 non-null object\ndtypes: int64(1), object(8)\nmemory usage: 5.7+ MB\n"
     ]
    }
   ],
   "source": [
    "df.dropna(inplace=True)\n",
    "df.info()"
   ]
  },
  {
   "cell_type": "markdown",
   "metadata": {},
   "source": [
    "Since the Unnamed: 0.1 column is an index column, I wanted to relabel the column."
   ]
  },
  {
   "cell_type": "code",
   "execution_count": 86,
   "metadata": {},
   "outputs": [
    {
     "name": "stdout",
     "output_type": "stream",
     "text": [
      "   Index                 user_id   user_name      user_rating  \\\n0      0  dRuCO4NYO7zyAF8-CeJmZg    Jason L.  5.0 star rating   \n1      1  f36YZ1cA291bNtMHXWtu1Q  Danyale W.  4.0 star rating   \n2      2  -xYUKfWQTaB-7BeizsQA3w    Robin G.  5.0 star rating   \n3      3  tt1vLgAP5UpRXAKJLT2KWg     Alec K.  4.0 star rating   \n4      4  -K79Xep4lElqIChsJYWuiQ   Robbie O.  5.0 star rating   \n\n                                           user_text restaurant_name  \\\n0  We booked Grand Vin as our brunch location to ...       Grand Vin   \n1  Sooooo for date night it was his turn to pick ...       Grand Vin   \n2  Adorable little wine bar with outdoor seating ...       Grand Vin   \n3  One of the top restaurants in Hoboken. Well ma...       Grand Vin   \n4  Great space- service is on point -  short rib ...       Grand Vin   \n\n  restaurant_rating restaurant_price                        restaurant_type  \n0   4.0 star rating               $$  Wine, Bars,, Italian,, Cocktail, Bars  \n1   4.0 star rating               $$  Wine, Bars,, Italian,, Cocktail, Bars  \n2   4.0 star rating               $$  Wine, Bars,, Italian,, Cocktail, Bars  \n3   4.0 star rating               $$  Wine, Bars,, Italian,, Cocktail, Bars  \n4   4.0 star rating               $$  Wine, Bars,, Italian,, Cocktail, Bars  \n"
     ]
    }
   ],
   "source": [
    "df.rename(columns={'Unnamed: 0.1':'Index'}, inplace=True)\n",
    "print(df.head())"
   ]
  },
  {
   "cell_type": "markdown",
   "metadata": {},
   "source": [
    "Since the variables user_rating and restaurant_rating are currently objects, I wanted to \n",
    "change them to numeric numbers so we could further explore their attributes."
   ]
  },
  {
   "cell_type": "code",
   "execution_count": 87,
   "metadata": {},
   "outputs": [
    {
     "data": {
      "text/plain": [
       "0    4.0\n1    4.0\n2    4.0\n3    4.0\n4    4.0\nName: restaurant_rating, dtype: float64"
      ]
     },
     "execution_count": 87,
     "metadata": {},
     "output_type": "execute_result"
    }
   ],
   "source": [
    "df['restaurant_rating'] = df['restaurant_rating'].str[:3]\n",
    "df['restaurant_rating'] = pd.to_numeric(df['restaurant_rating'], errors='coerce')\n",
    "df['restaurant_rating'].head()\n"
   ]
  },
  {
   "cell_type": "code",
   "execution_count": 88,
   "metadata": {},
   "outputs": [
    {
     "data": {
      "text/plain": [
       "0    5.0\n1    4.0\n2    5.0\n3    4.0\n4    5.0\nName: user_rating, dtype: float64"
      ]
     },
     "execution_count": 88,
     "metadata": {},
     "output_type": "execute_result"
    }
   ],
   "source": [
    "df['user_rating'] = df['user_rating'].str[:3]\n",
    "df['user_rating'] = pd.to_numeric(df['user_rating'], errors='coerce')\n",
    "df['user_rating'].head()"
   ]
  },
  {
   "cell_type": "markdown",
   "metadata": {},
   "source": [
    "Now I can use the describe() method to show a summary of the numerical attributes, with \n",
    "restaurant_rating and user_rating included"
   ]
  },
  {
   "cell_type": "code",
   "execution_count": 89,
   "metadata": {},
   "outputs": [
    {
     "data": {
      "text/html": [
       "<div>\n",
       "<style>\n",
       "    .dataframe thead tr:only-child th {\n",
       "        text-align: right;\n",
       "    }\n",
       "\n",
       "    .dataframe thead th {\n",
       "        text-align: left;\n",
       "    }\n",
       "\n",
       "    .dataframe tbody tr th {\n",
       "        vertical-align: top;\n",
       "    }\n",
       "</style>\n",
       "<table border=\"1\" class=\"dataframe\">\n",
       "  <thead>\n",
       "    <tr style=\"text-align: right;\">\n",
       "      <th></th>\n",
       "      <th>Index</th>\n",
       "      <th>user_rating</th>\n",
       "      <th>restaurant_rating</th>\n",
       "    </tr>\n",
       "  </thead>\n",
       "  <tbody>\n",
       "    <tr>\n",
       "      <th>count</th>\n",
       "      <td>74479.000000</td>\n",
       "      <td>74479.000000</td>\n",
       "      <td>74479.000000</td>\n",
       "    </tr>\n",
       "    <tr>\n",
       "      <th>mean</th>\n",
       "      <td>383.389855</td>\n",
       "      <td>3.791297</td>\n",
       "      <td>3.786410</td>\n",
       "    </tr>\n",
       "    <tr>\n",
       "      <th>std</th>\n",
       "      <td>477.556596</td>\n",
       "      <td>1.267112</td>\n",
       "      <td>0.431212</td>\n",
       "    </tr>\n",
       "    <tr>\n",
       "      <th>min</th>\n",
       "      <td>0.000000</td>\n",
       "      <td>1.000000</td>\n",
       "      <td>1.500000</td>\n",
       "    </tr>\n",
       "    <tr>\n",
       "      <th>25%</th>\n",
       "      <td>77.000000</td>\n",
       "      <td>3.000000</td>\n",
       "      <td>3.500000</td>\n",
       "    </tr>\n",
       "    <tr>\n",
       "      <th>50%</th>\n",
       "      <td>193.000000</td>\n",
       "      <td>4.000000</td>\n",
       "      <td>4.000000</td>\n",
       "    </tr>\n",
       "    <tr>\n",
       "      <th>75%</th>\n",
       "      <td>491.000000</td>\n",
       "      <td>5.000000</td>\n",
       "      <td>4.000000</td>\n",
       "    </tr>\n",
       "    <tr>\n",
       "      <th>max</th>\n",
       "      <td>2739.000000</td>\n",
       "      <td>5.000000</td>\n",
       "      <td>5.000000</td>\n",
       "    </tr>\n",
       "  </tbody>\n",
       "</table>\n",
       "</div>"
      ],
      "text/plain": [
       "<div>\n",
       "<style>\n",
       "    .dataframe thead tr:only-child th {\n",
       "        text-align: right;\n",
       "    }\n",
       "\n",
       "    .dataframe thead th {\n",
       "        text-align: left;\n",
       "    }\n",
       "\n",
       "    .dataframe tbody tr th {\n",
       "        vertical-align: top;\n",
       "    }\n",
       "</style>\n",
       "<table border=\"1\" class=\"dataframe\">\n",
       "  <thead>\n",
       "    <tr style=\"text-align: right;\">\n",
       "      <th></th>\n",
       "      <th>Index</th>\n",
       "      <th>user_rating</th>\n",
       "      <th>restaurant_rating</th>\n",
       "    </tr>\n",
       "  </thead>\n",
       "  <tbody>\n",
       "    <tr>\n",
       "      <th>count</th>\n",
       "      <td>74479.000000</td>\n",
       "      <td>74479.000000</td>\n",
       "      <td>74479.000000</td>\n",
       "    </tr>\n",
       "    <tr>\n",
       "      <th>mean</th>\n",
       "      <td>383.389855</td>\n",
       "      <td>3.791297</td>\n",
       "      <td>3.786410</td>\n",
       "    </tr>\n",
       "    <tr>\n",
       "      <th>std</th>\n",
       "      <td>477.556596</td>\n",
       "      <td>1.267112</td>\n",
       "      <td>0.431212</td>\n",
       "    </tr>\n",
       "    <tr>\n",
       "      <th>min</th>\n",
       "      <td>0.000000</td>\n",
       "      <td>1.000000</td>\n",
       "      <td>1.500000</td>\n",
       "    </tr>\n",
       "    <tr>\n",
       "      <th>25%</th>\n",
       "      <td>77.000000</td>\n",
       "      <td>3.000000</td>\n",
       "      <td>3.500000</td>\n",
       "    </tr>\n",
       "    <tr>\n",
       "      <th>50%</th>\n",
       "      <td>193.000000</td>\n",
       "      <td>4.000000</td>\n",
       "      <td>4.000000</td>\n",
       "    </tr>\n",
       "    <tr>\n",
       "      <th>75%</th>\n",
       "      <td>491.000000</td>\n",
       "      <td>5.000000</td>\n",
       "      <td>4.000000</td>\n",
       "    </tr>\n",
       "    <tr>\n",
       "      <th>max</th>\n",
       "      <td>2739.000000</td>\n",
       "      <td>5.000000</td>\n",
       "      <td>5.000000</td>\n",
       "    </tr>\n",
       "  </tbody>\n",
       "</table>\n",
       "</div>"
      ]
     },
     "execution_count": 89,
     "metadata": {},
     "output_type": "execute_result"
    }
   ],
   "source": [
    "df.describe()\n"
   ]
  },
  {
   "cell_type": "code",
   "execution_count": 90,
   "metadata": {},
   "outputs": [
    {
     "data": {
      "image/png": "[encoded data removed]",
      "text/plain": [
       "<matplotlib.figure.Figure at 0x670c82e80>"
      ]
     },
     "metadata": {},
     "output_type": "display_data"
    }
   ],
   "source": [
    "import matplotlib.pyplot as plt\n",
    "df['restaurant_rating'].hist(bins=50, figsize=(10,20))\n",
    "plt.show()"
   ]
  },
  {
   "cell_type": "markdown",
   "metadata": {},
   "source": [
    "The histogram above visually shows the restaurant_ratings in Hoboken.  A rating of '4' has themost ratings by far followed by 3.5.  Interestingly to me is the low number of '5' ratings an\n",
    "also that no one has given a '1' rating to a Hoboken restaurant. "
   ]
  },
  {
   "cell_type": "code",
   "execution_count": 91,
   "metadata": {},
   "outputs": [
    {
     "data": {
      "text/plain": [
       "user_rating          1.000000\nrestaurant_rating    0.322489\nIndex                0.028571\nName: user_rating, dtype: float64"
      ]
     },
     "execution_count": 91,
     "metadata": {},
     "output_type": "execute_result"
    }
   ],
   "source": [
    "corr_matrix = df.corr()\n",
    "corr_matrix['user_rating'].sort_values(ascending=False)"
   ]
  },
  {
   "cell_type": "markdown",
   "metadata": {},
   "source": [
    "Given the limited number of numerical variables, there was not much to be learned from the \n",
    "correlation matrix or from creating a multitude of plots."
   ]
  },
  {
   "cell_type": "markdown",
   "metadata": {},
   "source": [
    "Now I will begin training and evaluating on the training set."
   ]
  },
  {
   "cell_type": "code",
   "execution_count": 92,
   "metadata": {},
   "outputs": [
    {
     "name": "stdout",
     "output_type": "stream",
     "text": [
      "   Index                 user_id   user_name  user_rating  \\\n0      0  dRuCO4NYO7zyAF8-CeJmZg    Jason L.          5.0   \n1      1  f36YZ1cA291bNtMHXWtu1Q  Danyale W.          4.0   \n2      2  -xYUKfWQTaB-7BeizsQA3w    Robin G.          5.0   \n3      3  tt1vLgAP5UpRXAKJLT2KWg     Alec K.          4.0   \n4      4  -K79Xep4lElqIChsJYWuiQ   Robbie O.          5.0   \n\n                                           user_text restaurant_name  \\\n0  We booked Grand Vin as our brunch location to ...       Grand Vin   \n1  Sooooo for date night it was his turn to pick ...       Grand Vin   \n2  Adorable little wine bar with outdoor seating ...       Grand Vin   \n3  One of the top restaurants in Hoboken. Well ma...       Grand Vin   \n4  Great space- service is on point -  short rib ...       Grand Vin   \n\n   restaurant_rating restaurant_price                        restaurant_type  \\\n0                4.0               $$  Wine, Bars,, Italian,, Cocktail, Bars   \n1                4.0               $$  Wine, Bars,, Italian,, Cocktail, Bars   \n2                4.0               $$  Wine, Bars,, Italian,, Cocktail, Bars   \n3                4.0               $$  Wine, Bars,, Italian,, Cocktail, Bars   \n4                4.0               $$  Wine, Bars,, Italian,, Cocktail, Bars   \n\n   Positive  \n0         1  \n1         1  \n2         1  \n3         1  \n4         1  \n"
     ]
    }
   ],
   "source": [
    "df['Positive'] = np.where(df['restaurant_rating'] > 3, 1, 0)\n",
    "print(df.head())"
   ]
  },
  {
   "cell_type": "code",
   "execution_count": 93,
   "metadata": {},
   "outputs": [
    {
     "name": "stdout",
     "output_type": "stream",
     "text": [
      "X_train first entry: \n\n We booked Grand Vin as our brunch location to celebrate our wedding day. And we could not be happier!We had a group of 45 guests, and were able to reserve the back dining room. Everything about this restaurant is 5 stars. The decor was immaculate. Our food choices were loved by all (french onion burger and avocado toast eggs benedict were the biggest hits). Everything ran smoothly and without a hitch.However, the star of the day was our Event Director, Anne Marie. From the very beginning conversations, to the last minute changes, Anne Marie blew us away. She was meticulous, down to the most minute details. We wouldn't have nearly had as great of a time if it wasn't for her.We will definitely be bringing our business back to Grand Vin!\n\n\nX_train shape:  (55859,)\n"
     ]
    }
   ],
   "source": [
    "from sklearn.model_selection import train_test_split\n",
    "\n",
    "X = df['user_text']\n",
    "\n",
    "X_train, X_test, y_train, y_test = train_test_split(df['user_text'], df['Positive'], random_state = 0)\n",
    "print('X_train first entry: \\n\\n', X_train[0])\n",
    "print('\\n\\nX_train shape: ', X_train.shape)\n"
   ]
  },
  {
   "cell_type": "code",
   "execution_count": 94,
   "metadata": {},
   "outputs": [
    {
     "data": {
      "text/plain": [
       "CountVectorizer(analyzer='word', binary=False, decode_error='strict',\n        dtype=<class 'numpy.int64'>, encoding='utf-8', input='content',\n        lowercase=True, max_df=1.0, max_features=None, min_df=1,\n        ngram_range=(1, 1), preprocessor=None, stop_words=None,\n        strip_accents=None, token_pattern='(?u)\\\\b\\\\w\\\\w+\\\\b',\n        tokenizer=None, vocabulary=None)"
      ]
     },
     "execution_count": 94,
     "metadata": {},
     "output_type": "execute_result"
    }
   ],
   "source": [
    "from sklearn.feature_extraction.text import CountVectorizer\n",
    "vect = CountVectorizer().fit(X_train)\n",
    "vect"
   ]
  },
  {
   "cell_type": "code",
   "execution_count": 95,
   "metadata": {},
   "outputs": [
    {
     "data": {
      "text/plain": [
       "['00',\n '50ish',\n 'adorably',\n 'angling',\n 'attained',\n 'bavarian',\n 'blergh',\n 'brocc',\n 'cannellini',\n 'checknon',\n 'clothing',\n 'continue',\n 'crustinis',\n 'deliciousssssssss',\n 'disorderly',\n 'durian',\n 'eo',\n 'fam',\n 'flipflops',\n 'fry',\n 'gnawed',\n 'guiness',\n 'hiawatha',\n 'ice',\n 'internet',\n 'kababs',\n 'lavazza',\n 'loscharritos',\n 'maryi',\n 'minerality',\n 'murmurs',\n 'nopal',\n 'optimistic',\n 'pappardelle',\n 'phonetically',\n 'portuguese',\n 'pulav',\n 'recommendmy',\n 'reviewnot',\n 'salamis',\n 'seed',\n 'side',\n 'soho',\n 'staffers',\n 'sucker',\n 'tartar',\n 'tiffany',\n 'truffe',\n 'unpublished',\n 'vom',\n 'wildly',\n 'yummylamb']"
      ]
     },
     "execution_count": 95,
     "metadata": {},
     "output_type": "execute_result"
    }
   ],
   "source": [
    "vect.get_feature_names()[::1000]"
   ]
  },
  {
   "cell_type": "code",
   "execution_count": 96,
   "metadata": {},
   "outputs": [
    {
     "data": {
      "text/plain": [
       "51237"
      ]
     },
     "execution_count": 96,
     "metadata": {},
     "output_type": "execute_result"
    }
   ],
   "source": [
    "len(vect.get_feature_names())"
   ]
  },
  {
   "cell_type": "code",
   "execution_count": 97,
   "metadata": {},
   "outputs": [
    {
     "data": {
      "text/plain": [
       "<55859x51237 sparse matrix of type '<class 'numpy.int64'>'\n\twith 4139507 stored elements in Compressed Sparse Row format>"
      ]
     },
     "execution_count": 97,
     "metadata": {},
     "output_type": "execute_result"
    }
   ],
   "source": [
    "X_train_vectorized = vect.transform(X_train)\n",
    "X_train_vectorized"
   ]
  },
  {
   "cell_type": "code",
   "execution_count": 98,
   "metadata": {},
   "outputs": [
    {
     "data": {
      "text/plain": [
       "array([[0, 0, 0, ..., 0, 0, 0],\n       [0, 0, 0, ..., 0, 0, 0],\n       [0, 0, 0, ..., 0, 0, 0],\n       ..., \n       [0, 0, 0, ..., 0, 0, 0],\n       [0, 0, 0, ..., 0, 0, 0],\n       [0, 0, 0, ..., 0, 0, 0]])"
      ]
     },
     "execution_count": 98,
     "metadata": {},
     "output_type": "execute_result"
    }
   ],
   "source": [
    "X_train_vectorized.toarray()"
   ]
  },
  {
   "cell_type": "markdown",
   "metadata": {},
   "source": [
    "Logistic Regression"
   ]
  },
  {
   "cell_type": "code",
   "execution_count": 99,
   "metadata": {},
   "outputs": [
    {
     "data": {
      "text/plain": [
       "LogisticRegression(C=1.0, class_weight=None, dual=False, fit_intercept=True,\n          intercept_scaling=1, max_iter=100, multi_class='ovr', n_jobs=1,\n          penalty='l2', random_state=None, solver='liblinear', tol=0.0001,\n          verbose=0, warm_start=False)"
      ]
     },
     "execution_count": 99,
     "metadata": {},
     "output_type": "execute_result"
    }
   ],
   "source": [
    "from sklearn.linear_model import LogisticRegression\n",
    "model = LogisticRegression()\n",
    "model.fit(X_train_vectorized, y_train)"
   ]
  },
  {
   "cell_type": "code",
   "execution_count": 100,
   "metadata": {},
   "outputs": [
    {
     "name": "stdout",
     "output_type": "stream",
     "text": [
      "AUC:  0.717972699401\n"
     ]
    }
   ],
   "source": [
    "from sklearn.metrics import roc_auc_score\n",
    "predictions = model.predict(vect.transform(X_test))\n",
    "print('AUC: ', roc_auc_score(y_test, predictions))"
   ]
  },
  {
   "cell_type": "code",
   "execution_count": 101,
   "metadata": {},
   "outputs": [],
   "source": [
    "from sklearn.model_selection import cross_val_score\n",
    "scores = cross_val_score(model, vect.transform(X), df['Positive'],\n",
    "                         scoring=\"neg_mean_squared_error\", cv=10)\n",
    "tree_rmse_scores = np.sqrt(-scores)"
   ]
  },
  {
   "cell_type": "code",
   "execution_count": 102,
   "metadata": {},
   "outputs": [],
   "source": [
    "def display_scores(scores):\n",
    "    print(\"Accuracy: %0.3f (+/- %0.4f)\" % (scores.mean(), scores.std() * 2))"
   ]
  },
  {
   "cell_type": "code",
   "execution_count": 103,
   "metadata": {},
   "outputs": [
    {
     "name": "stdout",
     "output_type": "stream",
     "text": [
      "Accuracy: 0.342 (+/- 0.0971)\n"
     ]
    }
   ],
   "source": [
    "display_scores(tree_rmse_scores)"
   ]
  },
  {
   "cell_type": "code",
   "execution_count": 104,
   "metadata": {},
   "outputs": [
    {
     "name": "stdout",
     "output_type": "stream",
     "text": [
      "Smallest Coefs: \n['cluck' 'ainsworth' 'trees' 'bagatelle' 'serafina' 'houlihan' 'birch'\n 'pourhouse' 'noches' 'houlihans' 'atrium' 'catch' 'wolf' 'colombian'\n 'tower' 'malibu' 'teri' 'mrc' 'hbg' 'cheesecake' 'models' 'cheesecakes'\n 'birds' 'park' 'diner' '10th' 'hellfire' 'willow' 'nomenon' 'heaters'\n 'erica' 'popeyes' 'hundred' 'clubbing' 'garden' '8th' 'mores' 'coalhouse'\n 'filter' 'kali' 'greenhouse' 'cantonese' 'urbano' 'wicked' 'compensation'\n 'hamachi' 'tilapia' 'bonfire' 'minestrone' 'vegans']\n\nLargest Coefs: \n['baja' 'morimoto' 'sugar' 'shoestring' 'bear' 'chart' 'goblet' 'turtle'\n 'hamilton' 'shredded' 'fig' 'paella' 'deviled' 'madison' 'speakeasy'\n 'biergarten' 'pig' 'hibachi' 'sake' 'inn' 'liver' 'indian' 'shuffleboard'\n 'tenjune' 'lava' 'byob' 'goblets' 'byo' 'barbuto' 'olive' 'intimate'\n 'clam' 'korean' 'personable' 'lobsters' 'perry' '36' 'marrow' 'trout'\n 'duck' 'pastries' 'crepes' 'valet' 'omakase' 'promo' 'pita' 'robongi'\n 'medicore' 'german' 'ues']\n\n"
     ]
    }
   ],
   "source": [
    "feature_names = np.array(vect.get_feature_names())\n",
    "sorted_coef_index = model.coef_[0].argsort()\n",
    "print('Smallest Coefs: \\n{}\\n'.format(feature_names[sorted_coef_index[:50]]))\n",
    "print('Largest Coefs: \\n{}\\n'.format(feature_names[sorted_coef_index[:-51:-1]]))"
   ]
  },
  {
   "cell_type": "markdown",
   "metadata": {},
   "source": [
    "Tf-Idf"
   ]
  },
  {
   "cell_type": "code",
   "execution_count": 105,
   "metadata": {},
   "outputs": [
    {
     "data": {
      "text/plain": [
       "16123"
      ]
     },
     "execution_count": 105,
     "metadata": {},
     "output_type": "execute_result"
    }
   ],
   "source": [
    "from sklearn.feature_extraction.text import TfidfVectorizer\n",
    "vect = TfidfVectorizer(min_df = 5).fit(X_train)\n",
    "len(vect.get_feature_names())"
   ]
  },
  {
   "cell_type": "code",
   "execution_count": 106,
   "metadata": {},
   "outputs": [
    {
     "name": "stdout",
     "output_type": "stream",
     "text": [
      "AUC:  0.615289178942\n"
     ]
    }
   ],
   "source": [
    "X_train_vectorized = vect.transform(X_train)\n",
    "model = LogisticRegression()\n",
    "model.fit(X_train_vectorized, y_train)\n",
    "predictions = model.predict(vect.transform(X_test))\n",
    "print('AUC: ', roc_auc_score(y_test, predictions))"
   ]
  },
  {
   "cell_type": "code",
   "execution_count": 107,
   "metadata": {},
   "outputs": [
    {
     "name": "stdout",
     "output_type": "stream",
     "text": [
      "Accuracy: 0.312 (+/- 0.0548)\n"
     ]
    }
   ],
   "source": [
    "from sklearn.model_selection import cross_val_score\n",
    "scores = cross_val_score(model, vect.transform(X), df['Positive'],\n",
    "                         scoring=\"neg_mean_squared_error\", cv=10)\n",
    "tree_rmse_scores = np.sqrt(-scores)\n",
    "display_scores(tree_rmse_scores)\n"
   ]
  },
  {
   "cell_type": "code",
   "execution_count": 108,
   "metadata": {},
   "outputs": [
    {
     "name": "stdout",
     "output_type": "stream",
     "text": [
      "Smallest Tfidf: \n['quartet' 'capabilities' 'kimo' 'francescana' 'apician' 'lovage'\n 'awarding' 'kenscale' 'namul' 'nuttiness' 'protocol' 'transform'\n 'submerged' 'decadently' 'incredulous' 'recap' 'patches' 'assistants'\n 'missouri' 'relented' 'violated' 'surpassing' 'political' 'misled'\n 'signaled' 'complied' 'merited' 'mostarda' 'unrecognizable' 'elementary'\n 'losses' 'joys' 'segments' 'bark' 'flutes' 'concord' 'snapdragon'\n 'overjoyed' 'demonstrates' 'eustachio' 'sant' 'eponymous' 'verbal' 'suji'\n 'amouse' 'progression' '94' 'illustrated' 'unmistakable' 'morphed']\n\nLargest Tfidf: \n['dance' 'le' 'horrid' 'bikes' 'pizza' 'wiki' 'a1' 'nom' 'yum' 'looooong'\n 'word' 'dope' 'fugu' 'slider' 'lousy' 'cous' 'duck' 'pio' 'meh' 'ribs'\n 'ube' 'lovely' 'star' 'yup' 'pho' '99' 'mayonnaise' 'saki' 'wurst' 'mates'\n 'beautiful' 'tick' 'coctails' 'nasty' 'taste' 'cheesesteak' 'average'\n 'scott' 'fan' 'steph' 'nay' 'waffles' 'lobster' 'vito' 'wow' 'moran'\n 'specially' 'icecream' 'chops' 'hookah']\n\n"
     ]
    }
   ],
   "source": [
    "feature_names = np.array(vect.get_feature_names())\n",
    "sorted_tfidf_index = X_train_vectorized.max(0).toarray()[0].argsort()\n",
    "print('Smallest Tfidf: \\n{}\\n'.format(feature_names[sorted_tfidf_index[:50]]))\n",
    "print('Largest Tfidf: \\n{}\\n'.format(feature_names[sorted_tfidf_index[:-51:-1]]))"
   ]
  },
  {
   "cell_type": "markdown",
   "metadata": {},
   "source": [
    "Test the Prediction"
   ]
  },
  {
   "cell_type": "code",
   "execution_count": 109,
   "metadata": {},
   "outputs": [
    {
     "name": "stdout",
     "output_type": "stream",
     "text": [
      "[1 1]\n"
     ]
    }
   ],
   "source": [
    "print(model.predict(vect.transform([\"\"\"Went out to the food trucks on a warm day with a coworker. The day before, we were told by another coworker how Left Bank had, in her opinion, the best burgers in Jersey City. Needless to say, she wasn't far off.The truck had a sizable line in front of it, but the guy on the truck was quick to take orders. My coworker ordered the Bankrupt Burger (their classic cheeseburger), whereas I had the Garden State (black bean veggie burger). Both came with fries and cost $11 ($12 including a bottled water). Not a bad deal. My coworker LOVED her Bankrupt Burger, specifically for its Bank Sauce (an elevated version of Mac Sauce) and thought the fries were perfectly seasoned and didn't require your standard blast of Heinz. As for me, I'm not normally a veggie burger girl, but this burger was rich, flavorful and packed with yummy condiments. I almost forgot that I was having a veggie burger. Almost. As for the fries, my coworker was spot-on; good seasoning and no ketchup required.  Will definitely be coming back to LB's truck,and will need to hit up the restaurant location soon!\"\"\",\"\"\"I've been going here for almost two years before they renovated and changed their name.  When we arrived this evening I thought I knew what to expect- decent burgers with the usual 15-minute wait.  This evening my boyfriend and I came back-  I ordered the new Filipino-themed burger in lettuce (I'm Filipina so this was cool) he ordered the vintage burger with fries, etc.  It seemed like a simple order.  Tonight they were under-staffed and too inexperienced to handle the sudden influx of customers that came in for dinner, on the first heat wave of spring, on a Friday.  Given the circumstances I'd be very understanding, but it took an 1 hour and ten minutes to get our order!  It would have been helpful if we were told it was going to take much longer than usual.  We would have gone elsewhere, or prepared ourselves with snacks and beer.  Not knowing when our food was arriving annoyed me the most.  After asking twice about our food it finally came.  The Filipino-ness of the burger was as if your Filipino mom placed some leftover longanisa on your burger and squirted banana ketchup.  I think I'll go to Journal Square and get these ingredients to add to the burgers I'll cook for my boyfriend and I next time. My best suggestion is to properly manage your staff and your customers expectations! I understand you're still working out the kinks, but having your customers wait over an hour without managing expectations is unacceptable.  You're in a culture that expects prompt service (its NY/NJ after all).  There's a lot of competition, so best to step it up!\"\"\"])))"
   ]
  },
  {
   "cell_type": "markdown",
   "metadata": {},
   "source": [
    "N-Grams"
   ]
  },
  {
   "cell_type": "code",
   "execution_count": 110,
   "metadata": {},
   "outputs": [
    {
     "data": {
      "text/plain": [
       "144610"
      ]
     },
     "execution_count": 110,
     "metadata": {},
     "output_type": "execute_result"
    }
   ],
   "source": [
    "vect = CountVectorizer(min_df = 5, ngram_range = (1,2)).fit(X_train)\n",
    "X_train_vectorized = vect.transform(X_train)\n",
    "len(vect.get_feature_names())"
   ]
  },
  {
   "cell_type": "code",
   "execution_count": 111,
   "metadata": {},
   "outputs": [
    {
     "name": "stdout",
     "output_type": "stream",
     "text": [
      "Smallest Coef: \n['af' 'are food' '930pm' 'bass special' 'after receiving' 'also see'\n 'again yes' '20 will' 'and busier' 'are simple' 'and vegetables'\n 'again wish' 'atmosphere and' 'and hoped' 'and time' 'and traditional'\n 'because just' 'and unacceptable' 'because' '02' 'around 11pm'\n 'and vegetable' 'an unfortunate' 'avocado soup' 'absolute favorite'\n 'bar night' 'beautifully prepared' 'alone because' 'basically ignored'\n 'and hopefully' 'bathroom there' 'and yell' 'absolute gem' 'apologies and'\n 'and hoisin' 'because could' 'are hands' 'alone is' 'all work'\n 'and weekend' 'all perfectly' 'be honest' 'additionally there' 'astoria'\n 'and hoboken' 'and affordable' 'ayana' 'any style' 'accommodating staff'\n 'are close']\n\nLargest Coef: \n['addition it' 'bad option' 'any indication' 'at friend' 'always treat'\n 'because based' 'almond cake' 'and waited' 'available too' 'are talking'\n 'and mains' 'bathrooms and' 'also can' 'all remember' 'and engage'\n 'an elevator' 'appetizers not' '4th stomachs' 'bartender wasn' 'and stood'\n 'and saucy' 'and pack' 'and pepper' 'bagging' 'and compliment'\n 'acknowledge that' 'attentive at' 'azuki' 'and numerous' 'ago because'\n 'beautiful flowers' 'about pizza' 'again instead' 'back that'\n 'bathroom stalls' 'and baklava' 'anyway she' 'and mind' 'also lot'\n 'and stopped' 'additional hour' 'after lot' 'aren necessarily' 'back lot'\n 'be rushing' 'and but' 'almost exactly' 'and stuffy' 'again it'\n 'awful experience']\n\n"
     ]
    }
   ],
   "source": [
    "feature_names = np.array(vect.get_feature_names())\n",
    "sorted_coef_index = model.coef_[0].argsort()\n",
    "print('Smallest Coef: \\n{}\\n'.format(feature_names[sorted_coef_index][:50]))\n",
    "print('Largest Coef: \\n{}\\n'.format(feature_names[sorted_coef_index][:-51:-1]))"
   ]
  },
  {
   "cell_type": "code",
   "execution_count": 112,
   "metadata": {},
   "outputs": [
    {
     "name": "stdout",
     "output_type": "stream",
     "text": [
      "AUC:  0.727761729615\n"
     ]
    }
   ],
   "source": [
    "model = LogisticRegression()\n",
    "model.fit(X_train_vectorized, y_train)\n",
    "predictions = model.predict(vect.transform(X_test))\n",
    "print('AUC: ', roc_auc_score(y_test, predictions))"
   ]
  },
  {
   "cell_type": "code",
   "execution_count": null,
   "metadata": {},
   "outputs": [
    {
     "name": "stdout",
     "output_type": "stream",
     "text": [
      "[1 1]\n"
     ]
    }
   ],
   "source": [
    "print(model.predict(vect.transform([\"\"\"Went out to the food trucks on a warm day with a coworker. The day before, we were told by another coworker how Left Bank had, in her opinion, the best burgers in Jersey City. Needless to say, she wasn't far off.The truck had a sizable line in front of it, but the guy on the truck was quick to take orders. My coworker ordered the Bankrupt Burger (their classic cheeseburger), whereas I had the Garden State (black bean veggie burger). Both came with fries and cost $11 ($12 including a bottled water). Not a bad deal. My coworker LOVED her Bankrupt Burger, specifically for its Bank Sauce (an elevated version of Mac Sauce) and thought the fries were perfectly seasoned and didn't require your standard blast of Heinz. As for me, I'm not normally a veggie burger girl, but this burger was rich, flavorful and packed with yummy condiments. I almost forgot that I was having a veggie burger. Almost. As for the fries, my coworker was spot-on; good seasoning and no ketchup required.  Will definitely be coming back to LB's truck,and will need to hit up the restaurant location soon!\"\"\",\"\"\"I've been going here for almost two years before they renovated and changed their name.  When we arrived this evening I thought I knew what to expect- decent burgers with the usual 15-minute wait.  This evening my boyfriend and I came back-  I ordered the new Filipino-themed burger in lettuce (I'm Filipina so this was cool) he ordered the vintage burger with fries, etc.  It seemed like a simple order.  Tonight they were under-staffed and too inexperienced to handle the sudden influx of customers that came in for dinner, on the first heat wave of spring, on a Friday.  Given the circumstances I'd be very understanding, but it took an 1 hour and ten minutes to get our order!  It would have been helpful if we were told it was going to take much longer than usual.  We would have gone elsewhere, or prepared ourselves with snacks and beer.  Not knowing when our food was arriving annoyed me the most.  After asking twice about our food it finally came.  The Filipino-ness of the burger was as if your Filipino mom placed some leftover longanisa on your burger and squirted banana ketchup.  I think I'll go to Journal Square and get these ingredients to add to the burgers I'll cook for my boyfriend and I next time. My best suggestion is to properly manage your staff and your customers expectations! I understand you're still working out the kinks, but having your customers wait over an hour without managing expectations is unacceptable.  You're in a culture that expects prompt service (its NY/NJ after all).  There's a lot of competition, so best to step it up!\"\"\"])))"
   ]
  },
  {
   "cell_type": "code",
   "execution_count": null,
   "metadata": {},
   "outputs": [],
   "source": []
  }
 ],
 "metadata": {
  "kernelspec": {
   "display_name": "Python 2",
   "language": "python",
   "name": "python2"
  },
  "language_info": {
   "codemirror_mode": {
    "name": "ipython",
    "version": 2
   },
   "file_extension": ".py",
   "mimetype": "text/x-python",
   "name": "python",
   "nbconvert_exporter": "python",
   "pygments_lexer": "ipython2",
   "version": "2.7.6"
  }
 },
 "nbformat": 4,
 "nbformat_minor": 0
}

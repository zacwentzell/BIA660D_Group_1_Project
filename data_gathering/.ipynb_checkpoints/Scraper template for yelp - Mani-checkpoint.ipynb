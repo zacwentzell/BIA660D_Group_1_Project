{
 "cells": [
  {
   "cell_type": "markdown",
   "metadata": {},
   "source": [
    "- A function to open home page"
   ]
  },
  {
   "cell_type": "code",
   "execution_count": 34,
   "metadata": {},
   "outputs": [],
   "source": [
    "from selenium import webdriver\n",
    "from selenium.webdriver.support.select import Select\n",
    "from selenium.webdriver import ActionChains\n",
    "from selenium.webdriver.common.by import By\n",
    "from selenium.webdriver.support import expected_conditions as EC\n",
    "from selenium.webdriver.support.wait import WebDriverWait\n",
    "from selenium.webdriver.common.keys import Keys\n",
    "import random\n",
    "import time\n",
    "import bs4\n",
    "import pandas as pd\n",
    "import sys\n",
    "import os\n",
    "import warnings\n",
    "warnings.filterwarnings(\"ignore\")"
   ]
  },
  {
   "cell_type": "code",
   "execution_count": 2,
   "metadata": {},
   "outputs": [],
   "source": [
    "def open_website(URL='https://www.yelp.com/'):\n",
    "    driver = webdriver.Chrome(executable_path='./chromedriver')\n",
    "    driver.get(URL)\n",
    "    return driver"
   ]
  },
  {
   "cell_type": "code",
   "execution_count": 3,
   "metadata": {},
   "outputs": [],
   "source": [
    "def create_file(file_name):\n",
    "    os.mkdir(file_name)\n",
    "    return None"
   ]
  },
  {
   "cell_type": "markdown",
   "metadata": {},
   "source": [
    "- A function to type hoboken(zipcode 07030) + restaurant"
   ]
  },
  {
   "cell_type": "code",
   "execution_count": 4,
   "metadata": {},
   "outputs": [],
   "source": [
    "def select_location_business(driver, location_input = '07030', business_type = 'Restaurant'):\n",
    "    #Option 1 to delay\n",
    "    normal_delay = random.normalvariate(2, 0.5)\n",
    "    time.sleep(normal_delay)\n",
    "    \n",
    "    #find the location bar\n",
    "    #you could use another format @ http://selenium-python.readthedocs.io/locating-elements.html\n",
    "    active_location_search_input = driver.find_element_by_id(\"dropperText_Mast\")\n",
    "    #type hoboken in the location bar\n",
    "    active_location_search_input.clear()\n",
    "    active_location_search_input.send_keys(location_input)\n",
    "    #find the business bar\n",
    "    \n",
    "    \n",
    "    #Option 2 to delay\n",
    "    wait = WebDriverWait(driver, 10) #step 1\n",
    "    #find the location bar\n",
    "    #other format @ http://selenium-python.readthedocs.io/waits.html\n",
    "    active_business_search_input = wait.until(EC.element_to_be_clickable((By.ID, \"find_desc\"))) #step 2\n",
    "    \n",
    "    #active_restaurant_search_input = active_business_search_div.find_element_by_xpath()\n",
    "    #type restaurant in the bar\n",
    "    active_business_search_input.send_keys(business_type)\n",
    "    #find the search button\n",
    "    hit_search = driver.find_element_by_id(\"header-search-submit\")\n",
    "    #click the search button\n",
    "    search_result = hit_search.click()\n",
    "    return driver"
   ]
  },
  {
   "cell_type": "markdown",
   "metadata": {},
   "source": [
    "### Extract data\n",
    "\n",
    "we require:\n",
    "1. restaurant name(Grand Vin)\n",
    "2. restaurant id \n",
    "3. restaurant general star range (4.0)\n",
    "4. restaurant price range ($$)\n",
    "5. restaurant category list (Wine Bars, Italian, Cocktail)\n",
    "6. each review under a restaurant  \n",
    "    - user name (Jason L.)\n",
    "    - user id (\"/user_details?userid=K58UsGqR6k5lhPZKCVcuRg\")\n",
    "    - review text (...)\n",
    "    - rating (5.0 star rating)  \n"
   ]
  },
  {
   "cell_type": "markdown",
   "metadata": {},
   "source": [
    "- collect_res_id"
   ]
  },
  {
   "cell_type": "code",
   "execution_count": 5,
   "metadata": {},
   "outputs": [],
   "source": [
    "def extract_id_df(driver):\n",
    "    ad_no  = detect_ad_no(driver)\n",
    "    restaurant_id_xpath_li = [] \n",
    "    restaurant_id_li = []\n",
    "    restaurant_name_li = []\n",
    "    for i in range(10):\n",
    "        no = str(i+1+ad_no)\n",
    "        id_xpath = \"\"\"//*[@id=\"super-container\"]/div/div[2]/div[1]/div/div[5]/ul[2]/li[{}]/div/div[1]/div[1]/div/div[2]/h3/span\"\"\"\n",
    "        id_xpath = id_xpath.format(no)\n",
    "        restaurant_id_xpath_li.append(id_xpath)\n",
    "    for i in range(len(restaurant_id_xpath_li)):\n",
    "        restaurant_id_element = driver.find_element_by_xpath(restaurant_id_xpath_li[i])\n",
    "        data_html = restaurant_id_element.get_attribute('innerHTML')\n",
    "        soup = bs4.BeautifulSoup(data_html,'html5lib')\n",
    "        restaurant_id_tag = soup.find('a').attrs\n",
    "        restaurant_id = restaurant_id_tag['data-hovercard-id']\n",
    "        restaurant_id_li.append(restaurant_id)\n",
    "\n",
    "        restaurant_name = soup.find('a').text\n",
    "        restaurant_name_li.append(restaurant_name)\n",
    "    df = pd.DataFrame(data = {'restaurant_id' : restaurant_id_li, 'restaurant_name':restaurant_name_li})\n",
    "\n",
    "    return df"
   ]
  },
  {
   "cell_type": "markdown",
   "metadata": {},
   "source": [
    "- collect res profile"
   ]
  },
  {
   "cell_type": "code",
   "execution_count": 17,
   "metadata": {},
   "outputs": [],
   "source": [
    "def extract_restaurant_li(driver):\n",
    "    global data_element\n",
    "    #res_name\n",
    "    restaurant_header_element = driver.find_element_by_class_name(\"\"\"biz-page-header\"\"\")\n",
    "    data_html = restaurant_header_element.get_attribute('innerHTML')\n",
    "    soup = bs4.BeautifulSoup(data_html,'html5lib')\n",
    "    restaurant_name_element = soup.find('h1', attrs={'class':\"biz-page-title\"})\n",
    "    restaurant_name = restaurant_name_element.text.split()\n",
    "    restaurant_name = ' '.join(restaurant_name)\n",
    "\n",
    "    #res_rating\n",
    "    restaurant_header_element = driver.find_element_by_class_name(\"\"\"biz-page-header\"\"\")\n",
    "    data_html = restaurant_header_element.get_attribute('innerHTML')\n",
    "    soup = bs4.BeautifulSoup(data_html,'html5lib')\n",
    "    restaurant_rating_tag = soup.find('div', attrs={'class':\"i-stars\"}).attrs\n",
    "    restaurant_rating = restaurant_rating_tag['title']\n",
    "\n",
    "    #res_price\n",
    "    restaurant_header_element = driver.find_element_by_class_name(\"\"\"biz-page-header\"\"\")\n",
    "    data_html = restaurant_header_element.get_attribute('innerHTML')\n",
    "    soup = bs4.BeautifulSoup(data_html,'html5lib')\n",
    "    restaurant_price_element = soup.find('span',attrs={'class':\"business-attribute\"})\n",
    "    restaurant_price = restaurant_price_element.text\n",
    "\n",
    "    #res_tag\n",
    "    restaurant_header_element = driver.find_element_by_class_name(\"\"\"biz-page-header\"\"\")\n",
    "    data_html = restaurant_header_element.get_attribute('innerHTML')\n",
    "    soup = bs4.BeautifulSoup(data_html,'html5lib')\n",
    "    restaurant_tag_element = soup.find('span', attrs = {'class':\"category-str-list\"})\n",
    "    restaurant_tag = restaurant_tag_element.text.split()\n",
    "    restaurant_tag = ', '.join(restaurant_tag)\n",
    "\n",
    "    li = [restaurant_name, restaurant_rating,restaurant_price,restaurant_tag]\n",
    "    return li"
   ]
  },
  {
   "cell_type": "markdown",
   "metadata": {},
   "source": [
    "- collect user reviews"
   ]
  },
  {
   "cell_type": "code",
   "execution_count": 7,
   "metadata": {},
   "outputs": [],
   "source": [
    "def extract_reviews_df(driver):\n",
    "    name_li = []\n",
    "    rating_li = []\n",
    "    text_li = []\n",
    "    user_id_li = []\n",
    "\n",
    "    reviews_table_element = driver.find_element_by_class_name(\"review-list\")\n",
    "    data_html = reviews_table_element.get_attribute('innerHTML')\n",
    "    soup = bs4.BeautifulSoup(data_html,'html5lib')\n",
    "    reviews_table = soup.find('ul')\n",
    "    \n",
    "    #user_name\n",
    "    name_tag = reviews_table.find_all('a', attrs = {'class':'user-display-name js-analytics-click'})\n",
    "    for i in range(len(name_tag)):\n",
    "        name = name_tag[i].text\n",
    "        name_li.append(name)\n",
    "    \n",
    "    #user_id\n",
    "    for i in range(len(name_tag)):\n",
    "        user_id = name_tag[i].attrs['data-hovercard-id']\n",
    "        user_id_li.append(user_id)\n",
    "\n",
    "    #user_rating\n",
    "    reviews_tag = reviews_table.find_all('div',attrs= {\"class\":'review-content'})\n",
    "    for i in range(len(reviews_tag)):\n",
    "        review_rating_tag = reviews_tag[i].find('div',attrs={'class':'i-stars'}).attrs\n",
    "        review_rating = review_rating_tag['title']\n",
    "        rating_li.append(review_rating)\n",
    "    #user_text\n",
    "    for i in range(len(reviews_tag)):\n",
    "        review_text_tag = reviews_tag[i].find('p')\n",
    "        review_text = review_text_tag.text\n",
    "        text_li.append(review_text)\n",
    "    \n",
    "    df = pd.DataFrame(data = {'user_name': name_li, 'user_id':user_id_li,'user_rating':rating_li,'user_text':text_li})\n",
    "    return df"
   ]
  },
  {
   "cell_type": "markdown",
   "metadata": {},
   "source": [
    "### Select restaurant\n",
    "- select each re at one page"
   ]
  },
  {
   "cell_type": "code",
   "execution_count": 8,
   "metadata": {},
   "outputs": [],
   "source": [
    "def detect_ad_no(driver):\n",
    "    try:\n",
    "        data_element = driver.find_element_by_xpath(\"\"\"//*[@id=\"super-container\"]/div/div[2]/div[1]/div/div[5]/ul[2]\"\"\")\n",
    "        data_html = data_element.get_attribute('innerHTML')\n",
    "        soup = bs4.BeautifulSoup(data_html,'html5lib')\n",
    "        ad_list = soup.find_all('li', attrs={'class': 'js-yloca js-yloca-search yloca-search-result', \"data-ad-placement\":\"above_search\"})\n",
    "        ad_no = len(ad_list)\n",
    "    except:\n",
    "        ad_no = 0\n",
    "    return ad_no"
   ]
  },
  {
   "cell_type": "markdown",
   "metadata": {},
   "source": [
    "- in_scrape_out"
   ]
  },
  {
   "cell_type": "code",
   "execution_count": 112,
   "metadata": {},
   "outputs": [],
   "source": [
    "def select_back_all_re(driver):\n",
    "    global reviews_df, count\n",
    "    restaurant_xpath_li = []\n",
    "    res_profile_li = []\n",
    "    for i in range(70):\n",
    "        ad_no = detect_ad_no(driver)\n",
    "        for i in range(10):\n",
    "            no = str(i+1+ad_no)\n",
    "            re_xpath = \"\"\"//*[@id=\"super-container\"]/div/div[2]/div[1]/div/div[5]/ul[2]/li[{}]/div/div[1]/div[1]/div/div[2]/h3/span/a\"\"\"\n",
    "            re_xpath = re_xpath.format(no)\n",
    "            restaurant_xpath_li.append(re_xpath)\n",
    "\n",
    "        for i in range(len(restaurant_xpath_li)):\n",
    "            normal_delay = random.normalvariate(2, 0.5)\n",
    "            time.sleep(normal_delay)\n",
    "            select_business = driver.find_element_by_xpath(restaurant_xpath_li[i])\n",
    "            click_business = select_business.click()\n",
    "\n",
    "            res_li = extract_restaurant_li(driver) \n",
    "            reviews_df = None\n",
    "            reviews_df = extract_reviews_df(driver)\n",
    "            count = 1\n",
    "            for i in range(200):\n",
    "                try:\n",
    "                    next_button = driver.find_element_by_link_text(\"\"\"Next\"\"\")\n",
    "                    next_button.click()\n",
    "                    reviews_df_more = extract_reviews_df(driver)\n",
    "                    reviews_df = pd.concat([reviews_df, reviews_df_more], axis=0, names=None, ignore_index = True)\n",
    "                    normal_delay = random.normalvariate(2, 0.5)\n",
    "                    time.sleep(normal_delay)\n",
    "                    count += 1\n",
    "                except:\n",
    "                    pass\n",
    "            res_li = extract_restaurant_li(driver) \n",
    "            reviews_df['restaurant_name'] = res_li[0]\n",
    "            reviews_df['restaurant_rating'] = res_li[1]\n",
    "            reviews_df['restaurant_price'] = res_li[2]\n",
    "            reviews_df['restaurant_type'] = res_li[3]\n",
    "            file_name = str(res_li[0])+('.csv')\n",
    "            df = reviews_df\n",
    "            df.to_csv(file_name)\n",
    "            \n",
    "            back_page_no = \"window.history.go({})\".format(str(-count))\n",
    "            driver.execute_script(back_page_no)\n",
    "        next_button = driver.find_element_by_link_text(\"\"\"Next\"\"\")\n",
    "        next_button.click()\n",
    "    return driver"
   ]
  },
  {
   "cell_type": "code",
   "execution_count": 117,
   "metadata": {},
   "outputs": [],
   "source": [
    "def select_back_all_re(driver):\n",
    "    res_li = extract_restaurant_li(driver) \n",
    "    reviews_df = None\n",
    "    reviews_df = extract_reviews_df(driver)\n",
    "    count = 1\n",
    "    for i in range(100):\n",
    "        try:\n",
    "            next_button = driver.find_element_by_link_text(\"\"\"Next\"\"\")\n",
    "            next_button.click()\n",
    "            reviews_df_more = extract_reviews_df(driver)\n",
    "            reviews_df = pd.concat([reviews_df, reviews_df_more], axis=0, names=None, ignore_index = True)\n",
    "            normal_delay = random.normalvariate(2, 0.5)\n",
    "            time.sleep(normal_delay)\n",
    "            count += 1\n",
    "        except:\n",
    "            pass\n",
    "    res_li = extract_restaurant_li(driver) \n",
    "    reviews_df['restaurant_name'] = res_li[0]\n",
    "    reviews_df['restaurant_rating'] = res_li[1]\n",
    "    reviews_df['restaurant_price'] = res_li[2]\n",
    "    reviews_df['restaurant_type'] = res_li[3]\n",
    "    file_name = str(res_li[0])+('.csv')\n",
    "    df = reviews_df\n",
    "    df.to_csv(file_name)\n",
    "\n",
    "    back_page_no = \"window.history.go({})\".format(str(-count))\n",
    "    driver.execute_script(back_page_no)\n",
    "    return driver"
   ]
  },
  {
   "cell_type": "code",
   "execution_count": 114,
   "metadata": {},
   "outputs": [],
   "source": [
    "driver = open_website(\"https://www.yelp.com/search?find_desc=Restaurant&find_loc=07030&start=90\")"
   ]
  },
  {
   "cell_type": "code",
   "execution_count": 43,
   "metadata": {},
   "outputs": [],
   "source": [
    "driver = select_location_business(driver, '07030', 'Restaurant')"
   ]
  },
  {
   "cell_type": "code",
   "execution_count": 119,
   "metadata": {},
   "outputs": [
    {
     "ename": "NoSuchWindowException",
     "evalue": "Message: no such window: target window already closed\nfrom unknown error: web view not found\n  (Session info: chrome=65.0.3325.181)\n  (Driver info: chromedriver=2.37.544337 (8c0344a12e552148c185f7d5117db1f28d6c9e85),platform=Mac OS X 10.13.3 x86_64)\n",
     "output_type": "error",
     "traceback": [
      "\u001b[0;31m---------------------------------------------------------------------------\u001b[0m",
      "\u001b[0;31mNoSuchWindowException\u001b[0m                     Traceback (most recent call last)",
      "\u001b[0;32m<ipython-input-119-3fbb423b3861>\u001b[0m in \u001b[0;36m<module>\u001b[0;34m()\u001b[0m\n\u001b[0;32m----> 1\u001b[0;31m \u001b[0mdriver\u001b[0m \u001b[0;34m=\u001b[0m \u001b[0mselect_back_all_re\u001b[0m\u001b[0;34m(\u001b[0m\u001b[0mdriver\u001b[0m\u001b[0;34m)\u001b[0m\u001b[0;34m\u001b[0m\u001b[0m\n\u001b[0m",
      "\u001b[0;32m<ipython-input-117-fe43740aa74c>\u001b[0m in \u001b[0;36mselect_back_all_re\u001b[0;34m(driver)\u001b[0m\n\u001b[1;32m     15\u001b[0m         \u001b[0;32mexcept\u001b[0m\u001b[0;34m:\u001b[0m\u001b[0;34m\u001b[0m\u001b[0m\n\u001b[1;32m     16\u001b[0m             \u001b[0;32mpass\u001b[0m\u001b[0;34m\u001b[0m\u001b[0m\n\u001b[0;32m---> 17\u001b[0;31m     \u001b[0mres_li\u001b[0m \u001b[0;34m=\u001b[0m \u001b[0mextract_restaurant_li\u001b[0m\u001b[0;34m(\u001b[0m\u001b[0mdriver\u001b[0m\u001b[0;34m)\u001b[0m\u001b[0;34m\u001b[0m\u001b[0m\n\u001b[0m\u001b[1;32m     18\u001b[0m     \u001b[0mreviews_df\u001b[0m\u001b[0;34m[\u001b[0m\u001b[0;34m'restaurant_name'\u001b[0m\u001b[0;34m]\u001b[0m \u001b[0;34m=\u001b[0m \u001b[0mres_li\u001b[0m\u001b[0;34m[\u001b[0m\u001b[0;36m0\u001b[0m\u001b[0;34m]\u001b[0m\u001b[0;34m\u001b[0m\u001b[0m\n\u001b[1;32m     19\u001b[0m     \u001b[0mreviews_df\u001b[0m\u001b[0;34m[\u001b[0m\u001b[0;34m'restaurant_rating'\u001b[0m\u001b[0;34m]\u001b[0m \u001b[0;34m=\u001b[0m \u001b[0mres_li\u001b[0m\u001b[0;34m[\u001b[0m\u001b[0;36m1\u001b[0m\u001b[0;34m]\u001b[0m\u001b[0;34m\u001b[0m\u001b[0m\n",
      "\u001b[0;32m<ipython-input-17-ce2cbfc2fb78>\u001b[0m in \u001b[0;36mextract_restaurant_li\u001b[0;34m(driver)\u001b[0m\n\u001b[1;32m      2\u001b[0m     \u001b[0;32mglobal\u001b[0m \u001b[0mdata_element\u001b[0m\u001b[0;34m\u001b[0m\u001b[0m\n\u001b[1;32m      3\u001b[0m     \u001b[0;31m#res_name\u001b[0m\u001b[0;34m\u001b[0m\u001b[0;34m\u001b[0m\u001b[0m\n\u001b[0;32m----> 4\u001b[0;31m     \u001b[0mrestaurant_header_element\u001b[0m \u001b[0;34m=\u001b[0m \u001b[0mdriver\u001b[0m\u001b[0;34m.\u001b[0m\u001b[0mfind_element_by_class_name\u001b[0m\u001b[0;34m(\u001b[0m\u001b[0;34m\"\"\"biz-page-header\"\"\"\u001b[0m\u001b[0;34m)\u001b[0m\u001b[0;34m\u001b[0m\u001b[0m\n\u001b[0m\u001b[1;32m      5\u001b[0m     \u001b[0mdata_html\u001b[0m \u001b[0;34m=\u001b[0m \u001b[0mrestaurant_header_element\u001b[0m\u001b[0;34m.\u001b[0m\u001b[0mget_attribute\u001b[0m\u001b[0;34m(\u001b[0m\u001b[0;34m'innerHTML'\u001b[0m\u001b[0;34m)\u001b[0m\u001b[0;34m\u001b[0m\u001b[0m\n\u001b[1;32m      6\u001b[0m     \u001b[0msoup\u001b[0m \u001b[0;34m=\u001b[0m \u001b[0mbs4\u001b[0m\u001b[0;34m.\u001b[0m\u001b[0mBeautifulSoup\u001b[0m\u001b[0;34m(\u001b[0m\u001b[0mdata_html\u001b[0m\u001b[0;34m,\u001b[0m\u001b[0;34m'html5lib'\u001b[0m\u001b[0;34m)\u001b[0m\u001b[0;34m\u001b[0m\u001b[0m\n",
      "\u001b[0;32m~/anaconda3/lib/python3.6/site-packages/selenium/webdriver/remote/webdriver.py\u001b[0m in \u001b[0;36mfind_element_by_class_name\u001b[0;34m(self, name)\u001b[0m\n\u001b[1;32m    553\u001b[0m             \u001b[0melement\u001b[0m \u001b[0;34m=\u001b[0m \u001b[0mdriver\u001b[0m\u001b[0;34m.\u001b[0m\u001b[0mfind_element_by_class_name\u001b[0m\u001b[0;34m(\u001b[0m\u001b[0;34m'foo'\u001b[0m\u001b[0;34m)\u001b[0m\u001b[0;34m\u001b[0m\u001b[0m\n\u001b[1;32m    554\u001b[0m         \"\"\"\n\u001b[0;32m--> 555\u001b[0;31m         \u001b[0;32mreturn\u001b[0m \u001b[0mself\u001b[0m\u001b[0;34m.\u001b[0m\u001b[0mfind_element\u001b[0m\u001b[0;34m(\u001b[0m\u001b[0mby\u001b[0m\u001b[0;34m=\u001b[0m\u001b[0mBy\u001b[0m\u001b[0;34m.\u001b[0m\u001b[0mCLASS_NAME\u001b[0m\u001b[0;34m,\u001b[0m \u001b[0mvalue\u001b[0m\u001b[0;34m=\u001b[0m\u001b[0mname\u001b[0m\u001b[0;34m)\u001b[0m\u001b[0;34m\u001b[0m\u001b[0m\n\u001b[0m\u001b[1;32m    556\u001b[0m \u001b[0;34m\u001b[0m\u001b[0m\n\u001b[1;32m    557\u001b[0m     \u001b[0;32mdef\u001b[0m \u001b[0mfind_elements_by_class_name\u001b[0m\u001b[0;34m(\u001b[0m\u001b[0mself\u001b[0m\u001b[0;34m,\u001b[0m \u001b[0mname\u001b[0m\u001b[0;34m)\u001b[0m\u001b[0;34m:\u001b[0m\u001b[0;34m\u001b[0m\u001b[0m\n",
      "\u001b[0;32m~/anaconda3/lib/python3.6/site-packages/selenium/webdriver/remote/webdriver.py\u001b[0m in \u001b[0;36mfind_element\u001b[0;34m(self, by, value)\u001b[0m\n\u001b[1;32m    953\u001b[0m         return self.execute(Command.FIND_ELEMENT, {\n\u001b[1;32m    954\u001b[0m             \u001b[0;34m'using'\u001b[0m\u001b[0;34m:\u001b[0m \u001b[0mby\u001b[0m\u001b[0;34m,\u001b[0m\u001b[0;34m\u001b[0m\u001b[0m\n\u001b[0;32m--> 955\u001b[0;31m             'value': value})['value']\n\u001b[0m\u001b[1;32m    956\u001b[0m \u001b[0;34m\u001b[0m\u001b[0m\n\u001b[1;32m    957\u001b[0m     \u001b[0;32mdef\u001b[0m \u001b[0mfind_elements\u001b[0m\u001b[0;34m(\u001b[0m\u001b[0mself\u001b[0m\u001b[0;34m,\u001b[0m \u001b[0mby\u001b[0m\u001b[0;34m=\u001b[0m\u001b[0mBy\u001b[0m\u001b[0;34m.\u001b[0m\u001b[0mID\u001b[0m\u001b[0;34m,\u001b[0m \u001b[0mvalue\u001b[0m\u001b[0;34m=\u001b[0m\u001b[0;32mNone\u001b[0m\u001b[0;34m)\u001b[0m\u001b[0;34m:\u001b[0m\u001b[0;34m\u001b[0m\u001b[0m\n",
      "\u001b[0;32m~/anaconda3/lib/python3.6/site-packages/selenium/webdriver/remote/webdriver.py\u001b[0m in \u001b[0;36mexecute\u001b[0;34m(self, driver_command, params)\u001b[0m\n\u001b[1;32m    310\u001b[0m         \u001b[0mresponse\u001b[0m \u001b[0;34m=\u001b[0m \u001b[0mself\u001b[0m\u001b[0;34m.\u001b[0m\u001b[0mcommand_executor\u001b[0m\u001b[0;34m.\u001b[0m\u001b[0mexecute\u001b[0m\u001b[0;34m(\u001b[0m\u001b[0mdriver_command\u001b[0m\u001b[0;34m,\u001b[0m \u001b[0mparams\u001b[0m\u001b[0;34m)\u001b[0m\u001b[0;34m\u001b[0m\u001b[0m\n\u001b[1;32m    311\u001b[0m         \u001b[0;32mif\u001b[0m \u001b[0mresponse\u001b[0m\u001b[0;34m:\u001b[0m\u001b[0;34m\u001b[0m\u001b[0m\n\u001b[0;32m--> 312\u001b[0;31m             \u001b[0mself\u001b[0m\u001b[0;34m.\u001b[0m\u001b[0merror_handler\u001b[0m\u001b[0;34m.\u001b[0m\u001b[0mcheck_response\u001b[0m\u001b[0;34m(\u001b[0m\u001b[0mresponse\u001b[0m\u001b[0;34m)\u001b[0m\u001b[0;34m\u001b[0m\u001b[0m\n\u001b[0m\u001b[1;32m    313\u001b[0m             response['value'] = self._unwrap_value(\n\u001b[1;32m    314\u001b[0m                 response.get('value', None))\n",
      "\u001b[0;32m~/anaconda3/lib/python3.6/site-packages/selenium/webdriver/remote/errorhandler.py\u001b[0m in \u001b[0;36mcheck_response\u001b[0;34m(self, response)\u001b[0m\n\u001b[1;32m    240\u001b[0m                 \u001b[0malert_text\u001b[0m \u001b[0;34m=\u001b[0m \u001b[0mvalue\u001b[0m\u001b[0;34m[\u001b[0m\u001b[0;34m'alert'\u001b[0m\u001b[0;34m]\u001b[0m\u001b[0;34m.\u001b[0m\u001b[0mget\u001b[0m\u001b[0;34m(\u001b[0m\u001b[0;34m'text'\u001b[0m\u001b[0;34m)\u001b[0m\u001b[0;34m\u001b[0m\u001b[0m\n\u001b[1;32m    241\u001b[0m             \u001b[0;32mraise\u001b[0m \u001b[0mexception_class\u001b[0m\u001b[0;34m(\u001b[0m\u001b[0mmessage\u001b[0m\u001b[0;34m,\u001b[0m \u001b[0mscreen\u001b[0m\u001b[0;34m,\u001b[0m \u001b[0mstacktrace\u001b[0m\u001b[0;34m,\u001b[0m \u001b[0malert_text\u001b[0m\u001b[0;34m)\u001b[0m\u001b[0;34m\u001b[0m\u001b[0m\n\u001b[0;32m--> 242\u001b[0;31m         \u001b[0;32mraise\u001b[0m \u001b[0mexception_class\u001b[0m\u001b[0;34m(\u001b[0m\u001b[0mmessage\u001b[0m\u001b[0;34m,\u001b[0m \u001b[0mscreen\u001b[0m\u001b[0;34m,\u001b[0m \u001b[0mstacktrace\u001b[0m\u001b[0;34m)\u001b[0m\u001b[0;34m\u001b[0m\u001b[0m\n\u001b[0m\u001b[1;32m    243\u001b[0m \u001b[0;34m\u001b[0m\u001b[0m\n\u001b[1;32m    244\u001b[0m     \u001b[0;32mdef\u001b[0m \u001b[0m_value_or_default\u001b[0m\u001b[0;34m(\u001b[0m\u001b[0mself\u001b[0m\u001b[0;34m,\u001b[0m \u001b[0mobj\u001b[0m\u001b[0;34m,\u001b[0m \u001b[0mkey\u001b[0m\u001b[0;34m,\u001b[0m \u001b[0mdefault\u001b[0m\u001b[0;34m)\u001b[0m\u001b[0;34m:\u001b[0m\u001b[0;34m\u001b[0m\u001b[0m\n",
      "\u001b[0;31mNoSuchWindowException\u001b[0m: Message: no such window: target window already closed\nfrom unknown error: web view not found\n  (Session info: chrome=65.0.3325.181)\n  (Driver info: chromedriver=2.37.544337 (8c0344a12e552148c185f7d5117db1f28d6c9e85),platform=Mac OS X 10.13.3 x86_64)\n"
     ]
    }
   ],
   "source": [
    "driver = select_back_all_re(driver)"
   ]
  },
  {
   "cell_type": "markdown",
   "metadata": {},
   "source": [
    "### Main scraper"
   ]
  },
  {
   "cell_type": "code",
   "execution_count": null,
   "metadata": {},
   "outputs": [],
   "source": [
    "def main():\n",
    "    driver = open_website('https://www.yelp.com/')\n",
    "    driver = select_location_business(driver, '07030', 'Restaurant')\n",
    "    driver = select_back_all_re(driver)\n",
    "    return None"
   ]
  },
  {
   "cell_type": "markdown",
   "metadata": {},
   "source": [
    "### Run scraper"
   ]
  },
  {
   "cell_type": "code",
   "execution_count": null,
   "metadata": {},
   "outputs": [],
   "source": [
    "if __name__ == '__main__':\n",
    "    main()"
   ]
  },
  {
   "cell_type": "code",
   "execution_count": null,
   "metadata": {},
   "outputs": [],
   "source": []
  },
  {
   "cell_type": "code",
   "execution_count": null,
   "metadata": {},
   "outputs": [],
   "source": []
  }
 ],
 "metadata": {
  "kernelspec": {
   "display_name": "Python 3",
   "language": "python",
   "name": "python3"
  },
  "language_info": {
   "codemirror_mode": {
    "name": "ipython",
    "version": 3
   },
   "file_extension": ".py",
   "mimetype": "text/x-python",
   "name": "python",
   "nbconvert_exporter": "python",
   "pygments_lexer": "ipython3",
   "version": "3.6.3"
  }
 },
 "nbformat": 4,
 "nbformat_minor": 2
}

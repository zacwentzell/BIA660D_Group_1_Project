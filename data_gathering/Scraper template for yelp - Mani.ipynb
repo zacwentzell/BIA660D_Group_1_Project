{
 "cells": [
  {
   "cell_type": "markdown",
   "metadata": {},
   "source": [
    "- A function to open home page"
   ]
  },
  {
   "cell_type": "code",
   "execution_count": 1,
   "metadata": {},
   "outputs": [],
   "source": [
    "from selenium import webdriver\n",
    "from selenium.webdriver.support.select import Select\n",
    "from selenium.webdriver import ActionChains\n",
    "from selenium.webdriver.common.by import By\n",
    "from selenium.webdriver.support import expected_conditions as EC\n",
    "from selenium.webdriver.support.wait import WebDriverWait\n",
    "from selenium.webdriver.common.keys import Keys\n",
    "import random\n",
    "import time\n",
    "import bs4\n",
    "import pandas as pd\n",
    "import sys\n",
    "import os\n",
    "import warnings\n",
    "warnings.filterwarnings(\"ignore\")"
   ]
  },
  {
   "cell_type": "code",
   "execution_count": 2,
   "metadata": {},
   "outputs": [],
   "source": [
    "def open_website(URL='https://www.yelp.com/'):\n",
    "    driver = webdriver.Chrome(executable_path='./chromedriver')\n",
    "    driver.get(URL)\n",
    "    return driver"
   ]
  },
  {
   "cell_type": "markdown",
   "metadata": {},
   "source": [
    "- A function to type hoboken(zipcode 07030) + restaurant"
   ]
  },
  {
   "cell_type": "code",
   "execution_count": 3,
   "metadata": {},
   "outputs": [],
   "source": [
    "def select_location_business(driver, location_input = '07030', business_type = 'Restaurant'):\n",
    "    #Option 1 to delay\n",
    "    normal_delay = random.normalvariate(2, 0.5)\n",
    "    time.sleep(normal_delay)\n",
    "    \n",
    "    #find the location bar\n",
    "    #you could use another format @ http://selenium-python.readthedocs.io/locating-elements.html\n",
    "    active_location_search_input = driver.find_element_by_id(\"dropperText_Mast\")\n",
    "    #type hoboken in the location bar\n",
    "    active_location_search_input.clear()\n",
    "    active_location_search_input.send_keys(location_input)\n",
    "    #find the business bar\n",
    "    \n",
    "    \n",
    "    #Option 2 to delay\n",
    "    wait = WebDriverWait(driver, 10) #step 1\n",
    "    #find the location bar\n",
    "    #other format @ http://selenium-python.readthedocs.io/waits.html\n",
    "    active_business_search_input = wait.until(EC.element_to_be_clickable((By.ID, \"find_desc\"))) #step 2\n",
    "    \n",
    "    #active_restaurant_search_input = active_business_search_div.find_element_by_xpath()\n",
    "    #type restaurant in the bar\n",
    "    active_business_search_input.send_keys(business_type)\n",
    "    #find the search button\n",
    "    hit_search = driver.find_element_by_id(\"header-search-submit\")\n",
    "    #click the search button\n",
    "    search_result = hit_search.click()\n",
    "    return driver"
   ]
  },
  {
   "cell_type": "markdown",
   "metadata": {},
   "source": [
    "### Extract data\n",
    "\n",
    "we require:\n",
    "1. restaurant name(Grand Vin)\n",
    "2. restaurant id \n",
    "3. restaurant general star range (4.0)\n",
    "4. restaurant price range ($$)\n",
    "5. restaurant category list (Wine Bars, Italian, Cocktail)\n",
    "6. each review under a restaurant  \n",
    "    - user name (Jason L.)\n",
    "    - user id (\"/user_details?userid=K58UsGqR6k5lhPZKCVcuRg\")\n",
    "    - review text (...)\n",
    "    - rating (5.0 star rating)  \n"
   ]
  },
  {
   "cell_type": "markdown",
   "metadata": {},
   "source": [
    "- collect_res_id"
   ]
  },
  {
   "cell_type": "code",
   "execution_count": 4,
   "metadata": {},
   "outputs": [],
   "source": [
    "def extract_id_df(driver, ad_no):\n",
    "    restaurant_id_xpath_li = [] \n",
    "    restaurant_id_li = []\n",
    "    restaurant_name_li = []\n",
    "    for i in range(10):\n",
    "        no = str(i+1+ad_no)\n",
    "        id_xpath = \"\"\"//*[@id=\"super-container\"]/div/div[2]/div[1]/div/div[5]/ul[2]/li[{}]/div/div[1]/div[1]/div/div[2]/h3/span\"\"\"\n",
    "        id_xpath = id_xpath.format(no)\n",
    "        restaurant_id_xpath_li.append(id_xpath)\n",
    "    for i in range(len(restaurant_id_xpath_li)):\n",
    "        restaurant_id_element = driver.find_element_by_xpath(restaurant_id_xpath_li[i])\n",
    "        data_html = restaurant_id_element.get_attribute('innerHTML')\n",
    "        soup = bs4.BeautifulSoup(data_html,'html5lib')\n",
    "        restaurant_id_tag = soup.find('a').attrs\n",
    "        restaurant_id = restaurant_id_tag['data-hovercard-id']\n",
    "        restaurant_id_li.append(restaurant_id)\n",
    "\n",
    "        restaurant_name = soup.find('a').text\n",
    "        restaurant_name_li.append(restaurant_name)\n",
    "    df = pd.DataFrame(data = {'restaurant_id' : restaurant_id_li, 'restaurant_name':restaurant_name_li})\n",
    "    return df"
   ]
  },
  {
   "cell_type": "markdown",
   "metadata": {},
   "source": [
    "- collect res profile"
   ]
  },
  {
   "cell_type": "code",
   "execution_count": 5,
   "metadata": {},
   "outputs": [],
   "source": [
    "def extract_restaurant_li(driver):\n",
    "    #res_name\n",
    "    restaurant_name_element = driver.find_element_by_xpath(\"\"\"//*[@id=\"wrap\"]/div[2]/div/div[1]/div/div[3]/div[1]/div[1]/h1\"\"\")\n",
    "    restaurant_name = restaurant_name_element.text\n",
    "    \n",
    "    #res_rating\n",
    "    data_element = driver.find_element_by_xpath(\"\"\"//*[@id=\"wrap\"]/div[2]/div/div[1]/div/div[3]/div[1]/div[2]/div[1]/div[1]\"\"\")\n",
    "    data_html = data_element.get_attribute('innerHTML')\n",
    "    soup = bs4.BeautifulSoup(data_html,'html5lib')\n",
    "    restaurant_rating_tag = soup.find('div').attrs\n",
    "    restaurant_rating = restaurant_rating_tag['title']\n",
    "    \n",
    "    #res_price\n",
    "    restaurant_price_element = driver.find_element_by_xpath(\"\"\"//*[@id=\"wrap\"]/div[2]/div/div[1]/div/div[3]/div[1]/div[2]/div[2]/span[1]/span\"\"\")\n",
    "    restaurant_price = restaurant_price_element.text\n",
    "    \n",
    "    #res_tag\n",
    "    restaurant_tag_element = driver.find_element_by_xpath(\"\"\"//*[@id=\"wrap\"]/div[2]/div/div[1]/div/div[3]/div[1]/div[2]/div[2]/span[2]\"\"\")\n",
    "    restaurant_tag = restaurant_tag_element.text\n",
    "    \n",
    "    li = [restaurant_name, restaurant_rating,restaurant_price,restaurant_tag]\n",
    "    return li"
   ]
  },
  {
   "cell_type": "markdown",
   "metadata": {},
   "source": [
    "- collect user reviews"
   ]
  },
  {
   "cell_type": "code",
   "execution_count": 6,
   "metadata": {},
   "outputs": [],
   "source": [
    "def extract_reviews_df(driver):\n",
    "    name_li = []\n",
    "    rating_li = []\n",
    "    text_li = []\n",
    "    user_id_li = []\n",
    "\n",
    "    reviews_table_element = driver.find_element_by_class_name(\"review-list\")\n",
    "    data_html = reviews_table_element.get_attribute('innerHTML')\n",
    "    soup = bs4.BeautifulSoup(data_html,'html5lib')\n",
    "    reviews_table = soup.find('ul')\n",
    "    \n",
    "    #user_name\n",
    "    name_tag = reviews_table.find_all('a', attrs = {'class':'user-display-name js-analytics-click'})\n",
    "    for i in range(len(name_tag)):\n",
    "        name = name_tag[i].text\n",
    "        name_li.append(name)\n",
    "    \n",
    "    #user_id\n",
    "    for i in range(len(name_tag)):\n",
    "        user_id = name_tag[i].attrs['data-hovercard-id']\n",
    "        user_id_li.append(user_id)\n",
    "\n",
    "    #user_rating\n",
    "    reviews_tag = reviews_table.find_all('div',attrs= {\"class\":'review-content'})\n",
    "    for i in range(len(reviews_tag)):\n",
    "        review_rating_tag = reviews_tag[i].find('div',attrs={'class':'i-stars'}).attrs\n",
    "        review_rating = review_rating_tag['title']\n",
    "        rating_li.append(review_rating)\n",
    "    #user_text\n",
    "    for i in range(len(reviews_tag)):\n",
    "        review_text_tag = reviews_tag[i].find('p')\n",
    "        review_text = review_text_tag.text\n",
    "        text_li.append(review_text)\n",
    "    \n",
    "    df = pd.DataFrame(data = {'user_name': name_li, 'user_id':user_id_li,'user_rating':rating_li,'user_text':text_li})\n",
    "    return df"
   ]
  },
  {
   "cell_type": "markdown",
   "metadata": {},
   "source": [
    "### Select restaurant\n",
    "- select each re at one page"
   ]
  },
  {
   "cell_type": "code",
   "execution_count": 7,
   "metadata": {},
   "outputs": [],
   "source": [
    "def detect_ad_no(driver):\n",
    "    try:\n",
    "        data_element = driver.find_element_by_xpath(\"\"\"//*[@id=\"super-container\"]/div/div[2]/div[1]/div/div[5]/ul[2]\"\"\")\n",
    "        data_html = data_element.get_attribute('innerHTML')\n",
    "        soup = bs4.BeautifulSoup(data_html,'html5lib')\n",
    "        ad_list = soup.find_all('li', attrs={'class': 'js-yloca js-yloca-search yloca-search-result'})\n",
    "        ad_no = len(ad_list)\n",
    "    except:\n",
    "        ad_no = 0\n",
    "    return ad_no"
   ]
  },
  {
   "cell_type": "markdown",
   "metadata": {},
   "source": [
    "- in_scrape_out"
   ]
  },
  {
   "cell_type": "code",
   "execution_count": 8,
   "metadata": {},
   "outputs": [],
   "source": [
    "def select_back_all_re(driver):\n",
    "    restaurant_xpath_li = []\n",
    "    res_profile_li = []\n",
    "    ad_no = detect_ad_no(driver)\n",
    "    id_df = extract_id_df(driver, ad_no)\n",
    "    try:\n",
    "        for i in range(3):    \n",
    "            for i in range(10):\n",
    "                no = str(i+1+ad_no)\n",
    "                re_xpath = \"\"\"//*[@id=\"super-container\"]/div/div[2]/div[1]/div/div[5]/ul[2]/li[{}]/div/div[1]/div[1]/div/div[2]/h3/span/a\"\"\"\n",
    "                re_xpath = re_xpath.format(no)\n",
    "                restaurant_xpath_li.append(re_xpath)\n",
    "\n",
    "            for i in range(len(restaurant_xpath_li)):\n",
    "                normal_delay = random.normalvariate(3, 0.5)\n",
    "                time.sleep(normal_delay)\n",
    "                select_business = driver.find_element_by_xpath(restaurant_xpath_li[i])\n",
    "                click_business = select_business.click()\n",
    "                res_li = extract_restaurant_li(driver) \n",
    "                count = 1\n",
    "                #next_page\n",
    "                reviews_df = extract_reviews_df(driver)\n",
    "\n",
    "                for i in range(50):\n",
    "                    try:\n",
    "                        next_button = driver.find_element_by_link_text(\"\"\"Next\"\"\")\n",
    "                        next_button.click()\n",
    "                        reviews_df_more = extract_reviews_df(driver)\n",
    "                        reviews_df = pd.concat([reviews_df, reviews_df_more], axis=0, names=None, ignore_index = True)\n",
    "                        normal_delay = random.normalvariate(5, 0.5)\n",
    "                        time.sleep(normal_delay)\n",
    "                        count += 1\n",
    "                    except:\n",
    "                        pass\n",
    "                res_li = extract_restaurant_li(driver) \n",
    "                reviews_df['restaurant_name'] = res_li[0]\n",
    "                reviews_df['restaurant_rating'] = res_li[1]\n",
    "                reviews_df['restaurant_price'] = res_li[2]\n",
    "                reviews_df['restaurant_type'] = res_li[3]\n",
    "                file_name = str(res_li[0])+('.csv')\n",
    "                df = reviews_df\n",
    "                df.to_csv(file_name)\n",
    "\n",
    "                reviews_df = None\n",
    "                back_page_no = \"window.history.go({})\".format(str(-count))\n",
    "                driver.execute_script(back_page_no)\n",
    "            next_button = driver.find_element_by_link_text(\"\"\"Next\"\"\")\n",
    "            next_button.click()\n",
    "    except:\n",
    "        pass\n",
    "    return driver"
   ]
  },
  {
   "cell_type": "code",
   "execution_count": 9,
   "metadata": {},
   "outputs": [],
   "source": [
    "driver = open_website('https://www.yelp.com/')"
   ]
  },
  {
   "cell_type": "code",
   "execution_count": 10,
   "metadata": {},
   "outputs": [],
   "source": [
    "driver = select_location_business(driver, '07030', 'Restaurant')"
   ]
  },
  {
   "cell_type": "code",
   "execution_count": null,
   "metadata": {},
   "outputs": [],
   "source": []
  },
  {
   "cell_type": "code",
   "execution_count": 11,
   "metadata": {},
   "outputs": [
    {
     "ename": "WebDriverException",
     "evalue": "Message: unknown error: Element <a class=\"biz-name js-analytics-click\" data-analytics-label=\"biz-name\" href=\"/biz/gogi-grill-hoboken-hoboken-2?osq=Restaurant\" data-hovercard-id=\"6wg-plyXFXT8ozNtG7dXWw\">...</a> is not clickable at point (305, 575). Other element would receive the click: <p class=\"snippet\">...</p>\n  (Session info: chrome=65.0.3325.181)\n  (Driver info: chromedriver=2.37.544337 (8c0344a12e552148c185f7d5117db1f28d6c9e85),platform=Mac OS X 10.13.3 x86_64)\n",
     "traceback": [
      "\u001b[0;31m---------------------------------------------------------------------------\u001b[0m",
      "\u001b[0;31mWebDriverException\u001b[0m                        Traceback (most recent call last)",
      "\u001b[0;32m<ipython-input-11-3fbb423b3861>\u001b[0m in \u001b[0;36m<module>\u001b[0;34m()\u001b[0m\n\u001b[0;32m----> 1\u001b[0;31m \u001b[0mdriver\u001b[0m \u001b[0;34m=\u001b[0m \u001b[0mselect_back_all_re\u001b[0m\u001b[0;34m(\u001b[0m\u001b[0mdriver\u001b[0m\u001b[0;34m)\u001b[0m\u001b[0;34m\u001b[0m\u001b[0m\n\u001b[0m",
      "\u001b[0;32m<ipython-input-8-1c7fe2cc2f0e>\u001b[0m in \u001b[0;36mselect_back_all_re\u001b[0;34m(driver)\u001b[0m\n\u001b[1;32m     16\u001b[0m             \u001b[0mtime\u001b[0m\u001b[0;34m.\u001b[0m\u001b[0msleep\u001b[0m\u001b[0;34m(\u001b[0m\u001b[0mnormal_delay\u001b[0m\u001b[0;34m)\u001b[0m\u001b[0;34m\u001b[0m\u001b[0m\n\u001b[1;32m     17\u001b[0m             \u001b[0mselect_business\u001b[0m \u001b[0;34m=\u001b[0m \u001b[0mdriver\u001b[0m\u001b[0;34m.\u001b[0m\u001b[0mfind_element_by_xpath\u001b[0m\u001b[0;34m(\u001b[0m\u001b[0mrestaurant_xpath_li\u001b[0m\u001b[0;34m[\u001b[0m\u001b[0mi\u001b[0m\u001b[0;34m]\u001b[0m\u001b[0;34m)\u001b[0m\u001b[0;34m\u001b[0m\u001b[0m\n\u001b[0;32m---> 18\u001b[0;31m             \u001b[0mclick_business\u001b[0m \u001b[0;34m=\u001b[0m \u001b[0mselect_business\u001b[0m\u001b[0;34m.\u001b[0m\u001b[0mclick\u001b[0m\u001b[0;34m(\u001b[0m\u001b[0;34m)\u001b[0m\u001b[0;34m\u001b[0m\u001b[0m\n\u001b[0m\u001b[1;32m     19\u001b[0m             \u001b[0mres_li\u001b[0m \u001b[0;34m=\u001b[0m \u001b[0mextract_restaurant_li\u001b[0m\u001b[0;34m(\u001b[0m\u001b[0mdriver\u001b[0m\u001b[0;34m)\u001b[0m\u001b[0;34m\u001b[0m\u001b[0m\n\u001b[1;32m     20\u001b[0m             \u001b[0mcount\u001b[0m \u001b[0;34m=\u001b[0m \u001b[0;36m1\u001b[0m\u001b[0;34m\u001b[0m\u001b[0m\n",
      "\u001b[0;32m~/anaconda3/lib/python3.6/site-packages/selenium/webdriver/remote/webelement.py\u001b[0m in \u001b[0;36mclick\u001b[0;34m(self)\u001b[0m\n\u001b[1;32m     78\u001b[0m     \u001b[0;32mdef\u001b[0m \u001b[0mclick\u001b[0m\u001b[0;34m(\u001b[0m\u001b[0mself\u001b[0m\u001b[0;34m)\u001b[0m\u001b[0;34m:\u001b[0m\u001b[0;34m\u001b[0m\u001b[0m\n\u001b[1;32m     79\u001b[0m         \u001b[0;34m\"\"\"Clicks the element.\"\"\"\u001b[0m\u001b[0;34m\u001b[0m\u001b[0m\n\u001b[0;32m---> 80\u001b[0;31m         \u001b[0mself\u001b[0m\u001b[0;34m.\u001b[0m\u001b[0m_execute\u001b[0m\u001b[0;34m(\u001b[0m\u001b[0mCommand\u001b[0m\u001b[0;34m.\u001b[0m\u001b[0mCLICK_ELEMENT\u001b[0m\u001b[0;34m)\u001b[0m\u001b[0;34m\u001b[0m\u001b[0m\n\u001b[0m\u001b[1;32m     81\u001b[0m \u001b[0;34m\u001b[0m\u001b[0m\n\u001b[1;32m     82\u001b[0m     \u001b[0;32mdef\u001b[0m \u001b[0msubmit\u001b[0m\u001b[0;34m(\u001b[0m\u001b[0mself\u001b[0m\u001b[0;34m)\u001b[0m\u001b[0;34m:\u001b[0m\u001b[0;34m\u001b[0m\u001b[0m\n",
      "\u001b[0;32m~/anaconda3/lib/python3.6/site-packages/selenium/webdriver/remote/webelement.py\u001b[0m in \u001b[0;36m_execute\u001b[0;34m(self, command, params)\u001b[0m\n\u001b[1;32m    626\u001b[0m             \u001b[0mparams\u001b[0m \u001b[0;34m=\u001b[0m \u001b[0;34m{\u001b[0m\u001b[0;34m}\u001b[0m\u001b[0;34m\u001b[0m\u001b[0m\n\u001b[1;32m    627\u001b[0m         \u001b[0mparams\u001b[0m\u001b[0;34m[\u001b[0m\u001b[0;34m'id'\u001b[0m\u001b[0;34m]\u001b[0m \u001b[0;34m=\u001b[0m \u001b[0mself\u001b[0m\u001b[0;34m.\u001b[0m\u001b[0m_id\u001b[0m\u001b[0;34m\u001b[0m\u001b[0m\n\u001b[0;32m--> 628\u001b[0;31m         \u001b[0;32mreturn\u001b[0m \u001b[0mself\u001b[0m\u001b[0;34m.\u001b[0m\u001b[0m_parent\u001b[0m\u001b[0;34m.\u001b[0m\u001b[0mexecute\u001b[0m\u001b[0;34m(\u001b[0m\u001b[0mcommand\u001b[0m\u001b[0;34m,\u001b[0m \u001b[0mparams\u001b[0m\u001b[0;34m)\u001b[0m\u001b[0;34m\u001b[0m\u001b[0m\n\u001b[0m\u001b[1;32m    629\u001b[0m \u001b[0;34m\u001b[0m\u001b[0m\n\u001b[1;32m    630\u001b[0m     \u001b[0;32mdef\u001b[0m \u001b[0mfind_element\u001b[0m\u001b[0;34m(\u001b[0m\u001b[0mself\u001b[0m\u001b[0;34m,\u001b[0m \u001b[0mby\u001b[0m\u001b[0;34m=\u001b[0m\u001b[0mBy\u001b[0m\u001b[0;34m.\u001b[0m\u001b[0mID\u001b[0m\u001b[0;34m,\u001b[0m \u001b[0mvalue\u001b[0m\u001b[0;34m=\u001b[0m\u001b[0;32mNone\u001b[0m\u001b[0;34m)\u001b[0m\u001b[0;34m:\u001b[0m\u001b[0;34m\u001b[0m\u001b[0m\n",
      "\u001b[0;32m~/anaconda3/lib/python3.6/site-packages/selenium/webdriver/remote/webdriver.py\u001b[0m in \u001b[0;36mexecute\u001b[0;34m(self, driver_command, params)\u001b[0m\n\u001b[1;32m    310\u001b[0m         \u001b[0mresponse\u001b[0m \u001b[0;34m=\u001b[0m \u001b[0mself\u001b[0m\u001b[0;34m.\u001b[0m\u001b[0mcommand_executor\u001b[0m\u001b[0;34m.\u001b[0m\u001b[0mexecute\u001b[0m\u001b[0;34m(\u001b[0m\u001b[0mdriver_command\u001b[0m\u001b[0;34m,\u001b[0m \u001b[0mparams\u001b[0m\u001b[0;34m)\u001b[0m\u001b[0;34m\u001b[0m\u001b[0m\n\u001b[1;32m    311\u001b[0m         \u001b[0;32mif\u001b[0m \u001b[0mresponse\u001b[0m\u001b[0;34m:\u001b[0m\u001b[0;34m\u001b[0m\u001b[0m\n\u001b[0;32m--> 312\u001b[0;31m             \u001b[0mself\u001b[0m\u001b[0;34m.\u001b[0m\u001b[0merror_handler\u001b[0m\u001b[0;34m.\u001b[0m\u001b[0mcheck_response\u001b[0m\u001b[0;34m(\u001b[0m\u001b[0mresponse\u001b[0m\u001b[0;34m)\u001b[0m\u001b[0;34m\u001b[0m\u001b[0m\n\u001b[0m\u001b[1;32m    313\u001b[0m             response['value'] = self._unwrap_value(\n\u001b[1;32m    314\u001b[0m                 response.get('value', None))\n",
      "\u001b[0;32m~/anaconda3/lib/python3.6/site-packages/selenium/webdriver/remote/errorhandler.py\u001b[0m in \u001b[0;36mcheck_response\u001b[0;34m(self, response)\u001b[0m\n\u001b[1;32m    235\u001b[0m         \u001b[0;32melif\u001b[0m \u001b[0mexception_class\u001b[0m \u001b[0;34m==\u001b[0m \u001b[0mUnexpectedAlertPresentException\u001b[0m \u001b[0;32mand\u001b[0m \u001b[0;34m'alert'\u001b[0m \u001b[0;32min\u001b[0m \u001b[0mvalue\u001b[0m\u001b[0;34m:\u001b[0m\u001b[0;34m\u001b[0m\u001b[0m\n\u001b[1;32m    236\u001b[0m             \u001b[0;32mraise\u001b[0m \u001b[0mexception_class\u001b[0m\u001b[0;34m(\u001b[0m\u001b[0mmessage\u001b[0m\u001b[0;34m,\u001b[0m \u001b[0mscreen\u001b[0m\u001b[0;34m,\u001b[0m \u001b[0mstacktrace\u001b[0m\u001b[0;34m,\u001b[0m \u001b[0mvalue\u001b[0m\u001b[0;34m[\u001b[0m\u001b[0;34m'alert'\u001b[0m\u001b[0;34m]\u001b[0m\u001b[0;34m.\u001b[0m\u001b[0mget\u001b[0m\u001b[0;34m(\u001b[0m\u001b[0;34m'text'\u001b[0m\u001b[0;34m)\u001b[0m\u001b[0;34m)\u001b[0m\u001b[0;34m\u001b[0m\u001b[0m\n\u001b[0;32m--> 237\u001b[0;31m         \u001b[0;32mraise\u001b[0m \u001b[0mexception_class\u001b[0m\u001b[0;34m(\u001b[0m\u001b[0mmessage\u001b[0m\u001b[0;34m,\u001b[0m \u001b[0mscreen\u001b[0m\u001b[0;34m,\u001b[0m \u001b[0mstacktrace\u001b[0m\u001b[0;34m)\u001b[0m\u001b[0;34m\u001b[0m\u001b[0m\n\u001b[0m\u001b[1;32m    238\u001b[0m \u001b[0;34m\u001b[0m\u001b[0m\n\u001b[1;32m    239\u001b[0m     \u001b[0;32mdef\u001b[0m \u001b[0m_value_or_default\u001b[0m\u001b[0;34m(\u001b[0m\u001b[0mself\u001b[0m\u001b[0;34m,\u001b[0m \u001b[0mobj\u001b[0m\u001b[0;34m,\u001b[0m \u001b[0mkey\u001b[0m\u001b[0;34m,\u001b[0m \u001b[0mdefault\u001b[0m\u001b[0;34m)\u001b[0m\u001b[0;34m:\u001b[0m\u001b[0;34m\u001b[0m\u001b[0m\n",
      "\u001b[0;31mWebDriverException\u001b[0m: Message: unknown error: Element <a class=\"biz-name js-analytics-click\" data-analytics-label=\"biz-name\" href=\"/biz/gogi-grill-hoboken-hoboken-2?osq=Restaurant\" data-hovercard-id=\"6wg-plyXFXT8ozNtG7dXWw\">...</a> is not clickable at point (305, 575). Other element would receive the click: <p class=\"snippet\">...</p>\n  (Session info: chrome=65.0.3325.181)\n  (Driver info: chromedriver=2.37.544337 (8c0344a12e552148c185f7d5117db1f28d6c9e85),platform=Mac OS X 10.13.3 x86_64)\n"
     ],
     "output_type": "error"
    }
   ],
   "source": [
    "driver = select_back_all_re(driver)"
   ]
  },
  {
   "cell_type": "markdown",
   "metadata": {},
   "source": [
    "### Main scraper"
   ]
  },
  {
   "cell_type": "code",
   "execution_count": null,
   "metadata": {},
   "outputs": [],
   "source": [
    "def main():\n",
    "    driver = open_website('https://www.yelp.com/')\n",
    "    driver = select_location_business(driver, '07030', 'Restaurant')\n",
    "    driver = select_back_all_re(driver)\n",
    "    return None"
   ]
  },
  {
   "cell_type": "markdown",
   "metadata": {},
   "source": [
    "### Run scraper"
   ]
  },
  {
   "cell_type": "code",
   "execution_count": null,
   "metadata": {},
   "outputs": [],
   "source": [
    "if __name__ == '__main__':\n",
    "    main()"
   ]
  },
  {
   "cell_type": "code",
   "execution_count": null,
   "metadata": {},
   "outputs": [],
   "source": []
  },
  {
   "cell_type": "code",
   "execution_count": null,
   "metadata": {},
   "outputs": [],
   "source": []
  }
 ],
 "metadata": {
  "kernelspec": {
   "display_name": "Python 3",
   "language": "python",
   "name": "python3"
  },
  "language_info": {
   "codemirror_mode": {
    "name": "ipython",
    "version": 3
   },
   "file_extension": ".py",
   "mimetype": "text/x-python",
   "name": "python",
   "nbconvert_exporter": "python",
   "pygments_lexer": "ipython3",
   "version": "3.6.3"
  }
 },
 "nbformat": 4,
 "nbformat_minor": 2
}

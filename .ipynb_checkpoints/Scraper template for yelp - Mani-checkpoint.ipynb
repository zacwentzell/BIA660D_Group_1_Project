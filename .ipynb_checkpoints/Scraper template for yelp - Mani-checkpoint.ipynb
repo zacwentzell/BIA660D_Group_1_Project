{
 "cells": [
  {
   "cell_type": "code",
   "execution_count": 1,
   "metadata": {},
   "outputs": [],
   "source": [
    "from selenium import webdriver\n",
    "from selenium.webdriver.support.select import Select\n",
    "from selenium.webdriver import ActionChains\n",
    "from selenium.webdriver.common.by import By\n",
    "from selenium.webdriver.support import expected_conditions as EC\n",
    "from selenium.webdriver.support.wait import WebDriverWait\n",
    "from selenium.webdriver.common.keys import Keys\n",
    "import random\n",
    "import time\n",
    "import bs4"
   ]
  },
  {
   "cell_type": "markdown",
   "metadata": {},
   "source": [
    "- A function to open home page"
   ]
  },
  {
   "cell_type": "code",
   "execution_count": 2,
   "metadata": {},
   "outputs": [],
   "source": [
    "def open_website(URL='https://www.yelp.com/'):\n",
    "    driver = webdriver.Chrome(executable_path='./chromedriver')\n",
    "    driver.get(URL)\n",
    "    return driver"
   ]
  },
  {
   "cell_type": "markdown",
   "metadata": {},
   "source": [
    "- Test the function"
   ]
  },
  {
   "cell_type": "code",
   "execution_count": 3,
   "metadata": {},
   "outputs": [],
   "source": [
    "driver = open_website('https://www.yelp.com/')"
   ]
  },
  {
   "cell_type": "markdown",
   "metadata": {},
   "source": [
    "- A function to type hoboken(zipcode 07030) + restaurant"
   ]
  },
  {
   "cell_type": "code",
   "execution_count": 4,
   "metadata": {},
   "outputs": [],
   "source": [
    "def select_location_business(driver, location_input = '07030', business_type = 'Restaurant'):\n",
    "    #Option 1 to delay\n",
    "    normal_delay = random.normalvariate(2, 0.5) #step 1\n",
    "    time.sleep(normal_delay) #step 2\n",
    "    \n",
    "    #find the location bar\n",
    "    #you could use another format @ http://selenium-python.readthedocs.io/locating-elements.html\n",
    "    active_location_search_input = driver.find_element_by_id(\"dropperText_Mast\")\n",
    "    #type hoboken in the location bar\n",
    "    active_location_search_input.clear()\n",
    "    active_location_search_input.send_keys(location_input)\n",
    "    #find the business bar\n",
    "    \n",
    "    \n",
    "    #Option 2 to delay\n",
    "    wait = WebDriverWait(driver, 10) #step 1\n",
    "    #find the location bar\n",
    "    #other format @ http://selenium-python.readthedocs.io/waits.html\n",
    "    active_business_search_input = wait.until(EC.element_to_be_clickable((By.ID, \"find_desc\"))) #step 2\n",
    "    \n",
    "    #active_restaurant_search_input = active_business_search_div.find_element_by_xpath()\n",
    "    #type restaurant in the bar\n",
    "    active_business_search_input.send_keys(business_type)\n",
    "    #find the search button\n",
    "    hit_search = driver.find_element_by_id(\"header-search-submit\")\n",
    "    #click the search button\n",
    "    search_result = hit_search.click()\n",
    "    return driver"
   ]
  },
  {
   "cell_type": "markdown",
   "metadata": {},
   "source": [
    "- test"
   ]
  },
  {
   "cell_type": "code",
   "execution_count": 5,
   "metadata": {},
   "outputs": [],
   "source": [
    "driver = select_location_business(driver, '07030', 'Restaurant')"
   ]
  },
  {
   "cell_type": "markdown",
   "metadata": {},
   "source": [
    "### select restaurant\n",
    "- select the first restaurant"
   ]
  },
  {
   "cell_type": "code",
   "execution_count": 6,
   "metadata": {},
   "outputs": [],
   "source": [
    "#I use xpath in this case, you could try others\n",
    "first_business = driver.find_element_by_xpath(\"\"\"//*[@id=\"super-container\"]/div/div[2]/div[1]/div/div[5]/ul[2]/li[1]/div/div[1]/div[1]/div/div[2]/h3/span/a\"\"\")\n",
    "search_first = first_business.click()"
   ]
  },
  {
   "cell_type": "markdown",
   "metadata": {},
   "source": [
    "- back"
   ]
  },
  {
   "cell_type": "code",
   "execution_count": 7,
   "metadata": {},
   "outputs": [],
   "source": [
    "driver.back()"
   ]
  },
  {
   "cell_type": "markdown",
   "metadata": {},
   "source": [
    "- select the second restaurant"
   ]
  },
  {
   "cell_type": "code",
   "execution_count": 8,
   "metadata": {},
   "outputs": [],
   "source": [
    "second_business = driver.find_element_by_xpath(\"\"\"//*[@id=\"super-container\"]/div/div[2]/div[1]/div/div[5]/ul[2]/li[2]/div/div[1]/div[1]/div/div[2]/h3/span/a\"\"\")\n",
    "search_second = second_business.click()"
   ]
  },
  {
   "cell_type": "markdown",
   "metadata": {},
   "source": [
    "I guess you guys could build a simple for loop function to select all restaurant in one page "
   ]
  },
  {
   "cell_type": "markdown",
   "metadata": {},
   "source": [
    "### Next page"
   ]
  },
  {
   "cell_type": "code",
   "execution_count": null,
   "metadata": {},
   "outputs": [],
   "source": [
    "# button class?"
   ]
  },
  {
   "cell_type": "markdown",
   "metadata": {},
   "source": [
    "### Extract data\n",
    "\n",
    "we require:\n",
    "1. restaurant name(Grand Vin)\n",
    "2. restaurant id \n",
    "3. restaurant general star range (4.0)\n",
    "4. restaurant price range ($$)\n",
    "5. restaurant category list (Wine Bars, Italian, Cocktail)\n",
    "6. each review under a restaurant  \n",
    "    - user name (Jason L.)\n",
    "    - user id (\"/user_details?userid=K58UsGqR6k5lhPZKCVcuRg\")\n",
    "    - review text (...)\n",
    "    - rating (5.0 star rating)  \n"
   ]
  },
  {
   "cell_type": "markdown",
   "metadata": {},
   "source": [
    "### Store and Update csv"
   ]
  },
  {
   "cell_type": "code",
   "execution_count": null,
   "metadata": {},
   "outputs": [],
   "source": []
  },
  {
   "cell_type": "code",
   "execution_count": null,
   "metadata": {},
   "outputs": [],
   "source": []
  },
  {
   "cell_type": "code",
   "execution_count": null,
   "metadata": {},
   "outputs": [],
   "source": []
  },
  {
   "cell_type": "code",
   "execution_count": null,
   "metadata": {},
   "outputs": [],
   "source": []
  },
  {
   "cell_type": "code",
   "execution_count": null,
   "metadata": {},
   "outputs": [],
   "source": []
  },
  {
   "cell_type": "code",
   "execution_count": null,
   "metadata": {},
   "outputs": [],
   "source": []
  },
  {
   "cell_type": "code",
   "execution_count": null,
   "metadata": {},
   "outputs": [],
   "source": []
  }
 ],
 "metadata": {
  "kernelspec": {
   "display_name": "Python 3",
   "language": "python",
   "name": "python3"
  },
  "language_info": {
   "codemirror_mode": {
    "name": "ipython",
    "version": 3
   },
   "file_extension": ".py",
   "mimetype": "text/x-python",
   "name": "python",
   "nbconvert_exporter": "python",
   "pygments_lexer": "ipython3",
   "version": "3.6.3"
  }
 },
 "nbformat": 4,
 "nbformat_minor": 2
}

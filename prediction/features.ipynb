{
 "cells": [
  {
   "cell_type": "markdown",
   "metadata": {
    "collapsed": true
   },
   "source": [
    "### More Feature Evaluation\n",
    "\n",
    "More notes on this can be found in comments within features.py"
   ]
  },
  {
   "cell_type": "code",
   "execution_count": 3,
   "metadata": {},
   "outputs": [
    {
     "data": {
      "text/html": [
       "<div>\n",
       "<style scoped>\n",
       "    .dataframe tbody tr th:only-of-type {\n",
       "        vertical-align: middle;\n",
       "    }\n",
       "\n",
       "    .dataframe tbody tr th {\n",
       "        vertical-align: top;\n",
       "    }\n",
       "\n",
       "    .dataframe thead th {\n",
       "        text-align: right;\n",
       "    }\n",
       "</style>\n",
       "<table border=\"1\" class=\"dataframe\">\n",
       "  <thead>\n",
       "    <tr style=\"text-align: right;\">\n",
       "      <th></th>\n",
       "      <th>user_rating</th>\n",
       "      <th>user_text</th>\n",
       "      <th>restaurant_name</th>\n",
       "      <th>restaurant_rating</th>\n",
       "      <th>restaurant_price</th>\n",
       "      <th>restaurant_type</th>\n",
       "      <th>review_len</th>\n",
       "      <th>mispelling_count</th>\n",
       "    </tr>\n",
       "  </thead>\n",
       "  <tbody>\n",
       "    <tr>\n",
       "      <th>0</th>\n",
       "      <td>5</td>\n",
       "      <td>We booked Grand Vin as our brunch location to ...</td>\n",
       "      <td>Grand Vin</td>\n",
       "      <td>3.994975</td>\n",
       "      <td>2.0</td>\n",
       "      <td>['Wine Bars', 'Italian', 'Cocktail Bars']</td>\n",
       "      <td>744</td>\n",
       "      <td>0</td>\n",
       "    </tr>\n",
       "    <tr>\n",
       "      <th>1</th>\n",
       "      <td>4</td>\n",
       "      <td>Sooooo for date night it was his turn to pick ...</td>\n",
       "      <td>Grand Vin</td>\n",
       "      <td>4.000000</td>\n",
       "      <td>2.0</td>\n",
       "      <td>['Wine Bars', 'Italian', 'Cocktail Bars']</td>\n",
       "      <td>1344</td>\n",
       "      <td>0</td>\n",
       "    </tr>\n",
       "    <tr>\n",
       "      <th>2</th>\n",
       "      <td>5</td>\n",
       "      <td>Adorable little wine bar with outdoor seating ...</td>\n",
       "      <td>Grand Vin</td>\n",
       "      <td>3.994975</td>\n",
       "      <td>2.0</td>\n",
       "      <td>['Wine Bars', 'Italian', 'Cocktail Bars']</td>\n",
       "      <td>723</td>\n",
       "      <td>0</td>\n",
       "    </tr>\n",
       "  </tbody>\n",
       "</table>\n",
       "</div>"
      ],
      "text/plain": [
       "<div>\n",
       "<style scoped>\n",
       "    .dataframe tbody tr th:only-of-type {\n",
       "        vertical-align: middle;\n",
       "    }\n",
       "\n",
       "    .dataframe tbody tr th {\n",
       "        vertical-align: top;\n",
       "    }\n",
       "\n",
       "    .dataframe thead th {\n",
       "        text-align: right;\n",
       "    }\n",
       "</style>\n",
       "<table border=\"1\" class=\"dataframe\">\n",
       "  <thead>\n",
       "    <tr style=\"text-align: right;\">\n",
       "      <th></th>\n",
       "      <th>user_rating</th>\n",
       "      <th>user_text</th>\n",
       "      <th>restaurant_name</th>\n",
       "      <th>restaurant_rating</th>\n",
       "      <th>restaurant_price</th>\n",
       "      <th>restaurant_type</th>\n",
       "      <th>review_len</th>\n",
       "      <th>mispelling_count</th>\n",
       "    </tr>\n",
       "  </thead>\n",
       "  <tbody>\n",
       "    <tr>\n",
       "      <th>0</th>\n",
       "      <td>5</td>\n",
       "      <td>We booked Grand Vin as our brunch location to ...</td>\n",
       "      <td>Grand Vin</td>\n",
       "      <td>3.994975</td>\n",
       "      <td>2.0</td>\n",
       "      <td>['Wine Bars', 'Italian', 'Cocktail Bars']</td>\n",
       "      <td>744</td>\n",
       "      <td>0</td>\n",
       "    </tr>\n",
       "    <tr>\n",
       "      <th>1</th>\n",
       "      <td>4</td>\n",
       "      <td>Sooooo for date night it was his turn to pick ...</td>\n",
       "      <td>Grand Vin</td>\n",
       "      <td>4.000000</td>\n",
       "      <td>2.0</td>\n",
       "      <td>['Wine Bars', 'Italian', 'Cocktail Bars']</td>\n",
       "      <td>1344</td>\n",
       "      <td>0</td>\n",
       "    </tr>\n",
       "    <tr>\n",
       "      <th>2</th>\n",
       "      <td>5</td>\n",
       "      <td>Adorable little wine bar with outdoor seating ...</td>\n",
       "      <td>Grand Vin</td>\n",
       "      <td>3.994975</td>\n",
       "      <td>2.0</td>\n",
       "      <td>['Wine Bars', 'Italian', 'Cocktail Bars']</td>\n",
       "      <td>723</td>\n",
       "      <td>0</td>\n",
       "    </tr>\n",
       "  </tbody>\n",
       "</table>\n",
       "</div>"
      ]
     },
     "execution_count": 3,
     "metadata": {},
     "output_type": "execute_result"
    }
   ],
   "source": [
    "import pandas as pd\n",
    "import numpy as np\n",
    "data = pd.read_csv('../BIA660D_Group_1_Project/eda/hoboken_step2.csv')\n",
    "data.head(3)"
   ]
  },
  {
   "cell_type": "markdown",
   "metadata": {},
   "source": [
    "OK now lets try to see if there are visible relationships between features and the dependent variable. "
   ]
  },
  {
   "cell_type": "code",
   "execution_count": 10,
   "metadata": {},
   "outputs": [
    {
     "data": {
      "image/png": "[encoded data removed]",
      "text/plain": [
       "<Figure size 432x288 with 1 Axes>"
      ]
     },
     "metadata": {},
     "output_type": "display_data"
    }
   ],
   "source": [
    "import matplotlib.pyplot as plt \n",
    "avg = {}\n",
    "for i in range(1,6): \n",
    "    temp = data['restaurant_rating'][np.where(data['user_rating'] == i)[0]]\n",
    "    avg[i] = np.mean(temp)\n",
    "plt.scatter(data['restaurant_rating'], data['user_rating'], alpha = 0.5)\n",
    "plt.scatter(avg.values(), avg.keys())\n",
    "plt.xlabel(\"Restaurant's Rating (without review)\")\n",
    "plt.ylabel(\"Review's Rating\")\n",
    "plt.show()"
   ]
  },
  {
   "cell_type": "markdown",
   "metadata": {},
   "source": [
    "As we can see, there is a visible relationship between the existing restaurant rating (the rating it would have if it were calculated excluding the review in question) and the review's rating. The trend is clear and linear but is much more dispersed than one might assume. We can also see that restaurants with a pre-existing rating of 0 (i.e. those restaurants who were not yet rated) tended to be rated favorably in their first reviews. "
   ]
  },
  {
   "cell_type": "code",
   "execution_count": 22,
   "metadata": {},
   "outputs": [
    {
     "data": {
      "image/png": "[encoded data removed]",
      "text/plain": [
       "<Figure size 432x288 with 1 Axes>"
      ]
     },
     "metadata": {},
     "output_type": "display_data"
    }
   ],
   "source": [
    "type_to_ratings = pd.read_csv('../BIA660D_Group_1_Project/eda/type_data.csv')\n",
    "type_to_ratings.sort_values(by='Average_Score', inplace=True)\n",
    "plt.figure()\n",
    "plt.bar(range(108), type_to_ratings['Average_Score'])\n",
    "# plt.xticks(range(108), type_to_ratings.iloc[:,0]) #No need for this, unreadable anyway\n",
    "plt.show()"
   ]
  },
  {
   "cell_type": "markdown",
   "metadata": {},
   "source": [
    "Despite not being able to identify any specific restaurant categories, we can see that the category does indeed have an effect on the review that the restaurants get. Since using one-hot-encoding for all these would lead to tons of dummy variables that could have an effect of overfitting, perhaps we can use bagging? We shall see. "
   ]
  },
  {
   "cell_type": "code",
   "execution_count": 27,
   "metadata": {},
   "outputs": [
    {
     "data": {
      "image/png": "[encoded data removed]",
      "text/plain": [
       "<Figure size 432x288 with 1 Axes>"
      ]
     },
     "metadata": {},
     "output_type": "display_data"
    }
   ],
   "source": [
    "length_to_ratings = data[['review_len', 'user_rating']]\n",
    "plt.figure()\n",
    "# plt.scatter(data['review_len'], data['user_rating'])\n",
    "w_one = list(length_to_ratings['review_len'][np.where(length_to_ratings['user_rating']==1)[0]])\n",
    "w_two = list(length_to_ratings['review_len'][np.where(length_to_ratings['user_rating']==2)[0]])\n",
    "w_three = list(length_to_ratings['review_len'][np.where(length_to_ratings['user_rating']==3)[0]])\n",
    "w_four = list(length_to_ratings['review_len'][np.where(length_to_ratings['user_rating']==4)[0]])\n",
    "w_five = list(length_to_ratings['review_len'][np.where(length_to_ratings['user_rating']==5)[0]])\n",
    "all_five = [w_one, w_two, w_three, w_four, w_five]\n",
    "plt.boxplot(all_five, vert=False)\n",
    "plt.show()"
   ]
  },
  {
   "cell_type": "markdown",
   "metadata": {},
   "source": [
    "Unfortunately the trend here isn't as visible, however, the average review length for \"average reviews\" (2's and 3's) are all longer than the average review length for the rest. Also, the average (and quartiles) for 5-star reviews are lower than any of the others. These are relationships that some non-linear models may be able to pick up. Bagging may be less useful in this instance."
   ]
  },
  {
   "cell_type": "code",
   "execution_count": null,
   "metadata": {},
   "outputs": [],
   "source": []
  },
  {
   "cell_type": "code",
   "execution_count": null,
   "metadata": {},
   "outputs": [],
   "source": []
  },
  {
   "cell_type": "code",
   "execution_count": null,
   "metadata": {},
   "outputs": [],
   "source": []
  }
 ],
 "metadata": {
  "kernelspec": {
   "display_name": "Python 2",
   "language": "python",
   "name": "python2"
  },
  "language_info": {
   "codemirror_mode": {
    "name": "ipython",
    "version": 2
   },
   "file_extension": ".py",
   "mimetype": "text/x-python",
   "name": "python",
   "nbconvert_exporter": "python",
   "pygments_lexer": "ipython2",
   "version": "2.7.6"
  }
 },
 "nbformat": 4,
 "nbformat_minor": 0
}

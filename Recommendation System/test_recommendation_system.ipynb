{
 "cells": [
  {
   "cell_type": "markdown",
   "metadata": {
    "collapsed": true
   },
   "source": [
    "# Recommendation System for Hoboken Reviews(yelp)\n",
    "### - Methodlogy: Basic method(3)+ Machine learning methods(5)\n",
    "### - Objective: providing 3 more restaurants for each customers based on historical data."
   ]
  },
  {
   "cell_type": "code",
   "execution_count": 1,
   "metadata": {},
   "outputs": [],
   "source": [
    "import numpy as np \n",
    "import pandas as pd \n",
    "import matplotlib.pyplot as plt\n",
    "import seaborn as sns\n",
    "from statistics import mean\n",
    "import pandas as pd\n",
    "from sklearn.model_selection import train_test_split\n",
    "import graphlab"
   ]
  },
  {
   "cell_type": "markdown",
   "metadata": {},
   "source": [
    "## I. Data EDA and Preparation"
   ]
  },
  {
   "cell_type": "code",
   "execution_count": 2,
   "metadata": {},
   "outputs": [
    {
     "data": {
      "text/html": [
       "<div>\n",
       "<style scoped>\n",
       "    .dataframe tbody tr th:only-of-type {\n",
       "        vertical-align: middle;\n",
       "    }\n",
       "\n",
       "    .dataframe tbody tr th {\n",
       "        vertical-align: top;\n",
       "    }\n",
       "\n",
       "    .dataframe thead th {\n",
       "        text-align: right;\n",
       "    }\n",
       "</style>\n",
       "<table border=\"1\" class=\"dataframe\">\n",
       "  <thead>\n",
       "    <tr style=\"text-align: right;\">\n",
       "      <th></th>\n",
       "      <th>Unnamed: 0</th>\n",
       "      <th>Unnamed: 0.1</th>\n",
       "      <th>user_id</th>\n",
       "      <th>user_name</th>\n",
       "      <th>user_rating</th>\n",
       "      <th>user_text</th>\n",
       "      <th>restaurant_name</th>\n",
       "      <th>restaurant_rating</th>\n",
       "      <th>restaurant_price</th>\n",
       "      <th>restaurant_type</th>\n",
       "    </tr>\n",
       "  </thead>\n",
       "  <tbody>\n",
       "    <tr>\n",
       "      <th>0</th>\n",
       "      <td>0</td>\n",
       "      <td>0</td>\n",
       "      <td>dRuCO4NYO7zyAF8-CeJmZg</td>\n",
       "      <td>Jason L.</td>\n",
       "      <td>5.0 star rating</td>\n",
       "      <td>We booked Grand Vin as our brunch location to ...</td>\n",
       "      <td>Grand Vin</td>\n",
       "      <td>4.0 star rating</td>\n",
       "      <td>$$</td>\n",
       "      <td>Wine, Bars,, Italian,, Cocktail, Bars</td>\n",
       "    </tr>\n",
       "    <tr>\n",
       "      <th>1</th>\n",
       "      <td>1</td>\n",
       "      <td>1</td>\n",
       "      <td>f36YZ1cA291bNtMHXWtu1Q</td>\n",
       "      <td>Danyale W.</td>\n",
       "      <td>4.0 star rating</td>\n",
       "      <td>Sooooo for date night it was his turn to pick ...</td>\n",
       "      <td>Grand Vin</td>\n",
       "      <td>4.0 star rating</td>\n",
       "      <td>$$</td>\n",
       "      <td>Wine, Bars,, Italian,, Cocktail, Bars</td>\n",
       "    </tr>\n",
       "    <tr>\n",
       "      <th>2</th>\n",
       "      <td>2</td>\n",
       "      <td>2</td>\n",
       "      <td>-xYUKfWQTaB-7BeizsQA3w</td>\n",
       "      <td>Robin G.</td>\n",
       "      <td>5.0 star rating</td>\n",
       "      <td>Adorable little wine bar with outdoor seating ...</td>\n",
       "      <td>Grand Vin</td>\n",
       "      <td>4.0 star rating</td>\n",
       "      <td>$$</td>\n",
       "      <td>Wine, Bars,, Italian,, Cocktail, Bars</td>\n",
       "    </tr>\n",
       "    <tr>\n",
       "      <th>3</th>\n",
       "      <td>3</td>\n",
       "      <td>3</td>\n",
       "      <td>tt1vLgAP5UpRXAKJLT2KWg</td>\n",
       "      <td>Alec K.</td>\n",
       "      <td>4.0 star rating</td>\n",
       "      <td>One of the top restaurants in Hoboken. Well ma...</td>\n",
       "      <td>Grand Vin</td>\n",
       "      <td>4.0 star rating</td>\n",
       "      <td>$$</td>\n",
       "      <td>Wine, Bars,, Italian,, Cocktail, Bars</td>\n",
       "    </tr>\n",
       "    <tr>\n",
       "      <th>4</th>\n",
       "      <td>4</td>\n",
       "      <td>4</td>\n",
       "      <td>-K79Xep4lElqIChsJYWuiQ</td>\n",
       "      <td>Robbie O.</td>\n",
       "      <td>5.0 star rating</td>\n",
       "      <td>Great space- service is on point -  short rib ...</td>\n",
       "      <td>Grand Vin</td>\n",
       "      <td>4.0 star rating</td>\n",
       "      <td>$$</td>\n",
       "      <td>Wine, Bars,, Italian,, Cocktail, Bars</td>\n",
       "    </tr>\n",
       "  </tbody>\n",
       "</table>\n",
       "</div>"
      ],
      "text/plain": [
       "   Unnamed: 0  Unnamed: 0.1                 user_id   user_name  \\\n",
       "0           0             0  dRuCO4NYO7zyAF8-CeJmZg    Jason L.   \n",
       "1           1             1  f36YZ1cA291bNtMHXWtu1Q  Danyale W.   \n",
       "2           2             2  -xYUKfWQTaB-7BeizsQA3w    Robin G.   \n",
       "3           3             3  tt1vLgAP5UpRXAKJLT2KWg     Alec K.   \n",
       "4           4             4  -K79Xep4lElqIChsJYWuiQ   Robbie O.   \n",
       "\n",
       "       user_rating                                          user_text  \\\n",
       "0  5.0 star rating  We booked Grand Vin as our brunch location to ...   \n",
       "1  4.0 star rating  Sooooo for date night it was his turn to pick ...   \n",
       "2  5.0 star rating  Adorable little wine bar with outdoor seating ...   \n",
       "3  4.0 star rating  One of the top restaurants in Hoboken. Well ma...   \n",
       "4  5.0 star rating  Great space- service is on point -  short rib ...   \n",
       "\n",
       "  restaurant_name restaurant_rating restaurant_price  \\\n",
       "0       Grand Vin   4.0 star rating               $$   \n",
       "1       Grand Vin   4.0 star rating               $$   \n",
       "2       Grand Vin   4.0 star rating               $$   \n",
       "3       Grand Vin   4.0 star rating               $$   \n",
       "4       Grand Vin   4.0 star rating               $$   \n",
       "\n",
       "                         restaurant_type  \n",
       "0  Wine, Bars,, Italian,, Cocktail, Bars  \n",
       "1  Wine, Bars,, Italian,, Cocktail, Bars  \n",
       "2  Wine, Bars,, Italian,, Cocktail, Bars  \n",
       "3  Wine, Bars,, Italian,, Cocktail, Bars  \n",
       "4  Wine, Bars,, Italian,, Cocktail, Bars  "
      ]
     },
     "execution_count": 2,
     "metadata": {},
     "output_type": "execute_result"
    }
   ],
   "source": [
    "df=pd.read_csv('Hoboken_restaurants_reviews.csv')\n",
    "df.head()"
   ]
  },
  {
   "cell_type": "code",
   "execution_count": 3,
   "metadata": {},
   "outputs": [],
   "source": [
    "del df['Unnamed: 0']\n",
    "del df['Unnamed: 0.1']"
   ]
  },
  {
   "cell_type": "code",
   "execution_count": 4,
   "metadata": {},
   "outputs": [
    {
     "data": {
      "text/html": [
       "<div>\n",
       "<style scoped>\n",
       "    .dataframe tbody tr th:only-of-type {\n",
       "        vertical-align: middle;\n",
       "    }\n",
       "\n",
       "    .dataframe tbody tr th {\n",
       "        vertical-align: top;\n",
       "    }\n",
       "\n",
       "    .dataframe thead th {\n",
       "        text-align: right;\n",
       "    }\n",
       "</style>\n",
       "<table border=\"1\" class=\"dataframe\">\n",
       "  <thead>\n",
       "    <tr style=\"text-align: right;\">\n",
       "      <th></th>\n",
       "      <th>user_id</th>\n",
       "      <th>user_name</th>\n",
       "      <th>user_rating</th>\n",
       "      <th>user_text</th>\n",
       "      <th>restaurant_name</th>\n",
       "      <th>restaurant_rating</th>\n",
       "      <th>restaurant_price</th>\n",
       "      <th>restaurant_type</th>\n",
       "    </tr>\n",
       "  </thead>\n",
       "  <tbody>\n",
       "    <tr>\n",
       "      <th>0</th>\n",
       "      <td>dRuCO4NYO7zyAF8-CeJmZg</td>\n",
       "      <td>Jason L.</td>\n",
       "      <td>5.0 star rating</td>\n",
       "      <td>We booked Grand Vin as our brunch location to ...</td>\n",
       "      <td>Grand Vin</td>\n",
       "      <td>4.0 star rating</td>\n",
       "      <td>$$</td>\n",
       "      <td>Wine, Bars,, Italian,, Cocktail, Bars</td>\n",
       "    </tr>\n",
       "    <tr>\n",
       "      <th>1</th>\n",
       "      <td>f36YZ1cA291bNtMHXWtu1Q</td>\n",
       "      <td>Danyale W.</td>\n",
       "      <td>4.0 star rating</td>\n",
       "      <td>Sooooo for date night it was his turn to pick ...</td>\n",
       "      <td>Grand Vin</td>\n",
       "      <td>4.0 star rating</td>\n",
       "      <td>$$</td>\n",
       "      <td>Wine, Bars,, Italian,, Cocktail, Bars</td>\n",
       "    </tr>\n",
       "    <tr>\n",
       "      <th>2</th>\n",
       "      <td>-xYUKfWQTaB-7BeizsQA3w</td>\n",
       "      <td>Robin G.</td>\n",
       "      <td>5.0 star rating</td>\n",
       "      <td>Adorable little wine bar with outdoor seating ...</td>\n",
       "      <td>Grand Vin</td>\n",
       "      <td>4.0 star rating</td>\n",
       "      <td>$$</td>\n",
       "      <td>Wine, Bars,, Italian,, Cocktail, Bars</td>\n",
       "    </tr>\n",
       "    <tr>\n",
       "      <th>3</th>\n",
       "      <td>tt1vLgAP5UpRXAKJLT2KWg</td>\n",
       "      <td>Alec K.</td>\n",
       "      <td>4.0 star rating</td>\n",
       "      <td>One of the top restaurants in Hoboken. Well ma...</td>\n",
       "      <td>Grand Vin</td>\n",
       "      <td>4.0 star rating</td>\n",
       "      <td>$$</td>\n",
       "      <td>Wine, Bars,, Italian,, Cocktail, Bars</td>\n",
       "    </tr>\n",
       "    <tr>\n",
       "      <th>4</th>\n",
       "      <td>-K79Xep4lElqIChsJYWuiQ</td>\n",
       "      <td>Robbie O.</td>\n",
       "      <td>5.0 star rating</td>\n",
       "      <td>Great space- service is on point -  short rib ...</td>\n",
       "      <td>Grand Vin</td>\n",
       "      <td>4.0 star rating</td>\n",
       "      <td>$$</td>\n",
       "      <td>Wine, Bars,, Italian,, Cocktail, Bars</td>\n",
       "    </tr>\n",
       "  </tbody>\n",
       "</table>\n",
       "</div>"
      ],
      "text/plain": [
       "                  user_id   user_name      user_rating  \\\n",
       "0  dRuCO4NYO7zyAF8-CeJmZg    Jason L.  5.0 star rating   \n",
       "1  f36YZ1cA291bNtMHXWtu1Q  Danyale W.  4.0 star rating   \n",
       "2  -xYUKfWQTaB-7BeizsQA3w    Robin G.  5.0 star rating   \n",
       "3  tt1vLgAP5UpRXAKJLT2KWg     Alec K.  4.0 star rating   \n",
       "4  -K79Xep4lElqIChsJYWuiQ   Robbie O.  5.0 star rating   \n",
       "\n",
       "                                           user_text restaurant_name  \\\n",
       "0  We booked Grand Vin as our brunch location to ...       Grand Vin   \n",
       "1  Sooooo for date night it was his turn to pick ...       Grand Vin   \n",
       "2  Adorable little wine bar with outdoor seating ...       Grand Vin   \n",
       "3  One of the top restaurants in Hoboken. Well ma...       Grand Vin   \n",
       "4  Great space- service is on point -  short rib ...       Grand Vin   \n",
       "\n",
       "  restaurant_rating restaurant_price                        restaurant_type  \n",
       "0   4.0 star rating               $$  Wine, Bars,, Italian,, Cocktail, Bars  \n",
       "1   4.0 star rating               $$  Wine, Bars,, Italian,, Cocktail, Bars  \n",
       "2   4.0 star rating               $$  Wine, Bars,, Italian,, Cocktail, Bars  \n",
       "3   4.0 star rating               $$  Wine, Bars,, Italian,, Cocktail, Bars  \n",
       "4   4.0 star rating               $$  Wine, Bars,, Italian,, Cocktail, Bars  "
      ]
     },
     "execution_count": 4,
     "metadata": {},
     "output_type": "execute_result"
    }
   ],
   "source": [
    "df.head()"
   ]
  },
  {
   "cell_type": "code",
   "execution_count": 5,
   "metadata": {},
   "outputs": [
    {
     "name": "stdout",
     "output_type": "stream",
     "text": [
      "<class 'pandas.core.frame.DataFrame'>\n",
      "RangeIndex: 74611 entries, 0 to 74610\n",
      "Data columns (total 8 columns):\n",
      "user_id              74611 non-null object\n",
      "user_name            74611 non-null object\n",
      "user_rating          74611 non-null object\n",
      "user_text            74611 non-null object\n",
      "restaurant_name      74611 non-null object\n",
      "restaurant_rating    74611 non-null object\n",
      "restaurant_price     74479 non-null object\n",
      "restaurant_type      74611 non-null object\n",
      "dtypes: object(8)\n",
      "memory usage: 4.6+ MB\n"
     ]
    }
   ],
   "source": [
    "df.info()"
   ]
  },
  {
   "cell_type": "code",
   "execution_count": 6,
   "metadata": {},
   "outputs": [
    {
     "data": {
      "text/html": [
       "<div>\n",
       "<style scoped>\n",
       "    .dataframe tbody tr th:only-of-type {\n",
       "        vertical-align: middle;\n",
       "    }\n",
       "\n",
       "    .dataframe tbody tr th {\n",
       "        vertical-align: top;\n",
       "    }\n",
       "\n",
       "    .dataframe thead th {\n",
       "        text-align: right;\n",
       "    }\n",
       "</style>\n",
       "<table border=\"1\" class=\"dataframe\">\n",
       "  <thead>\n",
       "    <tr style=\"text-align: right;\">\n",
       "      <th></th>\n",
       "      <th>user_id</th>\n",
       "      <th>user_name</th>\n",
       "      <th>user_rating</th>\n",
       "      <th>user_text</th>\n",
       "      <th>restaurant_name</th>\n",
       "      <th>restaurant_rating</th>\n",
       "      <th>restaurant_price</th>\n",
       "      <th>restaurant_type</th>\n",
       "    </tr>\n",
       "  </thead>\n",
       "  <tbody>\n",
       "    <tr>\n",
       "      <th>count</th>\n",
       "      <td>74611</td>\n",
       "      <td>74611</td>\n",
       "      <td>74611</td>\n",
       "      <td>74611</td>\n",
       "      <td>74611</td>\n",
       "      <td>74611</td>\n",
       "      <td>74479</td>\n",
       "      <td>74611</td>\n",
       "    </tr>\n",
       "    <tr>\n",
       "      <th>unique</th>\n",
       "      <td>44949</td>\n",
       "      <td>24781</td>\n",
       "      <td>5</td>\n",
       "      <td>69542</td>\n",
       "      <td>302</td>\n",
       "      <td>7</td>\n",
       "      <td>4</td>\n",
       "      <td>230</td>\n",
       "    </tr>\n",
       "    <tr>\n",
       "      <th>top</th>\n",
       "      <td>QxTNaHoxTL8f7jAK5nwQ1g</td>\n",
       "      <td>Nicholas G.</td>\n",
       "      <td>5.0 star rating</td>\n",
       "      <td>Nice Place to go with friends. Amazing food.</td>\n",
       "      <td>Morimoto</td>\n",
       "      <td>4.0 star rating</td>\n",
       "      <td>$$</td>\n",
       "      <td>Japanese,, Sushi, Bars</td>\n",
       "    </tr>\n",
       "    <tr>\n",
       "      <th>freq</th>\n",
       "      <td>101</td>\n",
       "      <td>103</td>\n",
       "      <td>27702</td>\n",
       "      <td>3</td>\n",
       "      <td>2740</td>\n",
       "      <td>31568</td>\n",
       "      <td>38323</td>\n",
       "      <td>3620</td>\n",
       "    </tr>\n",
       "  </tbody>\n",
       "</table>\n",
       "</div>"
      ],
      "text/plain": [
       "                       user_id    user_name      user_rating  \\\n",
       "count                    74611        74611            74611   \n",
       "unique                   44949        24781                5   \n",
       "top     QxTNaHoxTL8f7jAK5nwQ1g  Nicholas G.  5.0 star rating   \n",
       "freq                       101          103            27702   \n",
       "\n",
       "                                           user_text restaurant_name  \\\n",
       "count                                          74611           74611   \n",
       "unique                                         69542             302   \n",
       "top     Nice Place to go with friends. Amazing food.        Morimoto   \n",
       "freq                                               3            2740   \n",
       "\n",
       "       restaurant_rating restaurant_price         restaurant_type  \n",
       "count              74611            74479                   74611  \n",
       "unique                 7                4                     230  \n",
       "top      4.0 star rating               $$  Japanese,, Sushi, Bars  \n",
       "freq               31568            38323                    3620  "
      ]
     },
     "execution_count": 6,
     "metadata": {},
     "output_type": "execute_result"
    }
   ],
   "source": [
    "df.describe()"
   ]
  },
  {
   "cell_type": "code",
   "execution_count": 7,
   "metadata": {},
   "outputs": [
    {
     "data": {
      "text/plain": [
       "True"
      ]
     },
     "execution_count": 7,
     "metadata": {},
     "output_type": "execute_result"
    }
   ],
   "source": [
    "df.isnull().values.any()"
   ]
  },
  {
   "cell_type": "code",
   "execution_count": 8,
   "metadata": {},
   "outputs": [
    {
     "data": {
      "text/plain": [
       "user_id              False\n",
       "user_name            False\n",
       "user_rating          False\n",
       "user_text            False\n",
       "restaurant_name      False\n",
       "restaurant_rating    False\n",
       "restaurant_price      True\n",
       "restaurant_type      False\n",
       "dtype: bool"
      ]
     },
     "execution_count": 8,
     "metadata": {},
     "output_type": "execute_result"
    }
   ],
   "source": [
    "df.isnull().any()"
   ]
  },
  {
   "cell_type": "code",
   "execution_count": 9,
   "metadata": {},
   "outputs": [
    {
     "data": {
      "text/html": [
       "<div>\n",
       "<style scoped>\n",
       "    .dataframe tbody tr th:only-of-type {\n",
       "        vertical-align: middle;\n",
       "    }\n",
       "\n",
       "    .dataframe tbody tr th {\n",
       "        vertical-align: top;\n",
       "    }\n",
       "\n",
       "    .dataframe thead th {\n",
       "        text-align: right;\n",
       "    }\n",
       "</style>\n",
       "<table border=\"1\" class=\"dataframe\">\n",
       "  <thead>\n",
       "    <tr style=\"text-align: right;\">\n",
       "      <th></th>\n",
       "      <th>user_id</th>\n",
       "      <th>user_name</th>\n",
       "      <th>user_rating</th>\n",
       "      <th>user_text</th>\n",
       "      <th>restaurant_name</th>\n",
       "      <th>restaurant_rating</th>\n",
       "      <th>restaurant_price</th>\n",
       "      <th>restaurant_type</th>\n",
       "    </tr>\n",
       "  </thead>\n",
       "  <tbody>\n",
       "    <tr>\n",
       "      <th>5273</th>\n",
       "      <td>i_WxJpoxfsddmBne6I8cKQ</td>\n",
       "      <td>Durva L.</td>\n",
       "      <td>4.0 star rating</td>\n",
       "      <td>This is such a small place, but some great rea...</td>\n",
       "      <td>Funjabi</td>\n",
       "      <td>2.5 star rating</td>\n",
       "      <td>NaN</td>\n",
       "      <td>Indian,, Chinese</td>\n",
       "    </tr>\n",
       "    <tr>\n",
       "      <th>5274</th>\n",
       "      <td>zr0jkmEJLnaZxWZi7cp09Q</td>\n",
       "      <td>Wasbir R.</td>\n",
       "      <td>1.0 star rating</td>\n",
       "      <td>Giving 1 star because theres no 0 star. This i...</td>\n",
       "      <td>Funjabi</td>\n",
       "      <td>2.5 star rating</td>\n",
       "      <td>NaN</td>\n",
       "      <td>Indian,, Chinese</td>\n",
       "    </tr>\n",
       "    <tr>\n",
       "      <th>6782</th>\n",
       "      <td>cnNddUd4fn7h-Pb_Cma-9Q</td>\n",
       "      <td>mako y.</td>\n",
       "      <td>5.0 star rating</td>\n",
       "      <td>Wonderful!!! It was traditional with unique tw...</td>\n",
       "      <td>奥田</td>\n",
       "      <td>4.5 star rating</td>\n",
       "      <td>NaN</td>\n",
       "      <td>Japanese</td>\n",
       "    </tr>\n",
       "    <tr>\n",
       "      <th>6783</th>\n",
       "      <td>q1P19WvpTXFTmfU7oXgkag</td>\n",
       "      <td>Chester G.</td>\n",
       "      <td>2.0 star rating</td>\n",
       "      <td>When I heard Chef Toru Okuda was going to open...</td>\n",
       "      <td>奥田</td>\n",
       "      <td>4.5 star rating</td>\n",
       "      <td>NaN</td>\n",
       "      <td>Japanese</td>\n",
       "    </tr>\n",
       "    <tr>\n",
       "      <th>6784</th>\n",
       "      <td>hIrk8azL929_c4H4-3lEAg</td>\n",
       "      <td>Christie K.</td>\n",
       "      <td>5.0 star rating</td>\n",
       "      <td>Soooo good. A must try if you can appreciate g...</td>\n",
       "      <td>奥田</td>\n",
       "      <td>4.5 star rating</td>\n",
       "      <td>NaN</td>\n",
       "      <td>Japanese</td>\n",
       "    </tr>\n",
       "    <tr>\n",
       "      <th>6785</th>\n",
       "      <td>NSmWDNSyjqhm1vo7VUxL5w</td>\n",
       "      <td>Jay C.</td>\n",
       "      <td>5.0 star rating</td>\n",
       "      <td>It is with mixed emotion I write what follows....</td>\n",
       "      <td>奥田</td>\n",
       "      <td>4.5 star rating</td>\n",
       "      <td>NaN</td>\n",
       "      <td>Japanese</td>\n",
       "    </tr>\n",
       "    <tr>\n",
       "      <th>6786</th>\n",
       "      <td>xM30Cj7zdsTiRQ-zmAFNjw</td>\n",
       "      <td>Victor O.</td>\n",
       "      <td>5.0 star rating</td>\n",
       "      <td>It was memorable experience. It was hard to ma...</td>\n",
       "      <td>奥田</td>\n",
       "      <td>4.5 star rating</td>\n",
       "      <td>NaN</td>\n",
       "      <td>Japanese</td>\n",
       "    </tr>\n",
       "    <tr>\n",
       "      <th>6787</th>\n",
       "      <td>fbv2hE02tCljub9JcDSiDw</td>\n",
       "      <td>Cinesina C.</td>\n",
       "      <td>5.0 star rating</td>\n",
       "      <td>I travel a lot to Japan for work so when I rea...</td>\n",
       "      <td>奥田</td>\n",
       "      <td>4.5 star rating</td>\n",
       "      <td>NaN</td>\n",
       "      <td>Japanese</td>\n",
       "    </tr>\n",
       "    <tr>\n",
       "      <th>9348</th>\n",
       "      <td>7CvAUqZqqZBKvkgwI0kfzw</td>\n",
       "      <td>Steven P.</td>\n",
       "      <td>5.0 star rating</td>\n",
       "      <td>Sad to hear they closed in The Heights, then t...</td>\n",
       "      <td>Mision Burrito</td>\n",
       "      <td>2.5 star rating</td>\n",
       "      <td>NaN</td>\n",
       "      <td>Mexican,, Grocery,, Convenience, Stores</td>\n",
       "    </tr>\n",
       "    <tr>\n",
       "      <th>9349</th>\n",
       "      <td>-jNxEJzXNWtbCy5VEyS3Lw</td>\n",
       "      <td>Mark A.</td>\n",
       "      <td>5.0 star rating</td>\n",
       "      <td>What a awesome place!! It's located on the cor...</td>\n",
       "      <td>Mision Burrito</td>\n",
       "      <td>2.5 star rating</td>\n",
       "      <td>NaN</td>\n",
       "      <td>Mexican,, Grocery,, Convenience, Stores</td>\n",
       "    </tr>\n",
       "    <tr>\n",
       "      <th>9350</th>\n",
       "      <td>m_UNGZjEJxNKzrF4kf8PwQ</td>\n",
       "      <td>Alyssa D.</td>\n",
       "      <td>1.0 star rating</td>\n",
       "      <td>Never delivered food when placed an order. The...</td>\n",
       "      <td>Mision Burrito</td>\n",
       "      <td>2.5 star rating</td>\n",
       "      <td>NaN</td>\n",
       "      <td>Mexican,, Grocery,, Convenience, Stores</td>\n",
       "    </tr>\n",
       "    <tr>\n",
       "      <th>9351</th>\n",
       "      <td>a7Zis6KZ1w0F7agD48dAYQ</td>\n",
       "      <td>Jay H.</td>\n",
       "      <td>1.0 star rating</td>\n",
       "      <td>Is it Mission Burrito or Marina Deli? When I w...</td>\n",
       "      <td>Mision Burrito</td>\n",
       "      <td>2.5 star rating</td>\n",
       "      <td>NaN</td>\n",
       "      <td>Mexican,, Grocery,, Convenience, Stores</td>\n",
       "    </tr>\n",
       "    <tr>\n",
       "      <th>9352</th>\n",
       "      <td>2zGClNwggR2D8uM6ujdq5A</td>\n",
       "      <td>Maggie N.</td>\n",
       "      <td>1.0 star rating</td>\n",
       "      <td>They never delivered food despite telling me i...</td>\n",
       "      <td>Mision Burrito</td>\n",
       "      <td>2.5 star rating</td>\n",
       "      <td>NaN</td>\n",
       "      <td>Mexican,, Grocery,, Convenience, Stores</td>\n",
       "    </tr>\n",
       "    <tr>\n",
       "      <th>9353</th>\n",
       "      <td>hk1OLC_3zY5NfslWACpnxQ</td>\n",
       "      <td>Jen R.</td>\n",
       "      <td>1.0 star rating</td>\n",
       "      <td>We placed an order through seamless and were e...</td>\n",
       "      <td>Mision Burrito</td>\n",
       "      <td>2.5 star rating</td>\n",
       "      <td>NaN</td>\n",
       "      <td>Mexican,, Grocery,, Convenience, Stores</td>\n",
       "    </tr>\n",
       "    <tr>\n",
       "      <th>9354</th>\n",
       "      <td>gILvQQigdI2m-HK6GgZkHw</td>\n",
       "      <td>Angelica R.</td>\n",
       "      <td>1.0 star rating</td>\n",
       "      <td>Possibly the worst waiting time ever. All I or...</td>\n",
       "      <td>Mision Burrito</td>\n",
       "      <td>2.5 star rating</td>\n",
       "      <td>NaN</td>\n",
       "      <td>Mexican,, Grocery,, Convenience, Stores</td>\n",
       "    </tr>\n",
       "    <tr>\n",
       "      <th>9355</th>\n",
       "      <td>kcnrIpa-PESeHmmL35uxJw</td>\n",
       "      <td>Erica S.</td>\n",
       "      <td>4.0 star rating</td>\n",
       "      <td>Don't be confused by the deli sign. There's no...</td>\n",
       "      <td>Mision Burrito</td>\n",
       "      <td>2.5 star rating</td>\n",
       "      <td>NaN</td>\n",
       "      <td>Mexican,, Grocery,, Convenience, Stores</td>\n",
       "    </tr>\n",
       "    <tr>\n",
       "      <th>9356</th>\n",
       "      <td>P9UuEjxSw-zyBuNhjDi3TQ</td>\n",
       "      <td>Brittany G.</td>\n",
       "      <td>5.0 star rating</td>\n",
       "      <td>Seriously the best Mexican I have found since ...</td>\n",
       "      <td>Mision Burrito</td>\n",
       "      <td>2.5 star rating</td>\n",
       "      <td>NaN</td>\n",
       "      <td>Mexican,, Grocery,, Convenience, Stores</td>\n",
       "    </tr>\n",
       "    <tr>\n",
       "      <th>9357</th>\n",
       "      <td>lR1i6LY8N0o2SJ4nn10BHw</td>\n",
       "      <td>Ian B.</td>\n",
       "      <td>1.0 star rating</td>\n",
       "      <td>Delivery was inedible. My tacos had so much wa...</td>\n",
       "      <td>Mision Burrito</td>\n",
       "      <td>2.5 star rating</td>\n",
       "      <td>NaN</td>\n",
       "      <td>Mexican,, Grocery,, Convenience, Stores</td>\n",
       "    </tr>\n",
       "    <tr>\n",
       "      <th>9358</th>\n",
       "      <td>n9SAYib5jJsLmn62uVOnYQ</td>\n",
       "      <td>J L.</td>\n",
       "      <td>5.0 star rating</td>\n",
       "      <td>Mission Burrito is open again!  This is Christ...</td>\n",
       "      <td>Mision Burrito</td>\n",
       "      <td>2.5 star rating</td>\n",
       "      <td>NaN</td>\n",
       "      <td>Mexican,, Grocery,, Convenience, Stores</td>\n",
       "    </tr>\n",
       "    <tr>\n",
       "      <th>10690</th>\n",
       "      <td>JDi9kmwEUMdWgkVI2asMFg</td>\n",
       "      <td>Milan S.</td>\n",
       "      <td>5.0 star rating</td>\n",
       "      <td>Best authentic Indian food in the area. Order ...</td>\n",
       "      <td>Ujala Kabab</td>\n",
       "      <td>5.0 star rating</td>\n",
       "      <td>NaN</td>\n",
       "      <td>Halal,, Indian,, Vegetarian</td>\n",
       "    </tr>\n",
       "    <tr>\n",
       "      <th>10691</th>\n",
       "      <td>pqz0rmDIWWszZcw7N_pD0w</td>\n",
       "      <td>Ravi P.</td>\n",
       "      <td>5.0 star rating</td>\n",
       "      <td>This will be the best food you have ever had! ...</td>\n",
       "      <td>Ujala Kabab</td>\n",
       "      <td>5.0 star rating</td>\n",
       "      <td>NaN</td>\n",
       "      <td>Halal,, Indian,, Vegetarian</td>\n",
       "    </tr>\n",
       "    <tr>\n",
       "      <th>10692</th>\n",
       "      <td>3L5-jh0CIHplgBxyndgS2g</td>\n",
       "      <td>Arti G.</td>\n",
       "      <td>5.0 star rating</td>\n",
       "      <td>My to go spot when I need a last minute quick ...</td>\n",
       "      <td>Ujala Kabab</td>\n",
       "      <td>5.0 star rating</td>\n",
       "      <td>NaN</td>\n",
       "      <td>Halal,, Indian,, Vegetarian</td>\n",
       "    </tr>\n",
       "    <tr>\n",
       "      <th>10693</th>\n",
       "      <td>YGuxRJ5cl_Wc_PTbXNwv2g</td>\n",
       "      <td>Dimple V.</td>\n",
       "      <td>5.0 star rating</td>\n",
       "      <td>Amazing food. Authentic Indian food . Been her...</td>\n",
       "      <td>Ujala Kabab</td>\n",
       "      <td>5.0 star rating</td>\n",
       "      <td>NaN</td>\n",
       "      <td>Halal,, Indian,, Vegetarian</td>\n",
       "    </tr>\n",
       "    <tr>\n",
       "      <th>10694</th>\n",
       "      <td>pgJx8_mYQ5jGFcgYu7U1BA</td>\n",
       "      <td>Karan R.</td>\n",
       "      <td>5.0 star rating</td>\n",
       "      <td>Really awesome food, love the dishes, Chef is ...</td>\n",
       "      <td>Ujala Kabab</td>\n",
       "      <td>5.0 star rating</td>\n",
       "      <td>NaN</td>\n",
       "      <td>Halal,, Indian,, Vegetarian</td>\n",
       "    </tr>\n",
       "    <tr>\n",
       "      <th>10695</th>\n",
       "      <td>ay5KighJOQrr-3V1CgsOYg</td>\n",
       "      <td>Ethan C.</td>\n",
       "      <td>5.0 star rating</td>\n",
       "      <td>This place has gone through a few iterations o...</td>\n",
       "      <td>The Heights Café</td>\n",
       "      <td>4.5 star rating</td>\n",
       "      <td>NaN</td>\n",
       "      <td>Cafes,, Coffee, &amp;, Tea,, Desserts</td>\n",
       "    </tr>\n",
       "    <tr>\n",
       "      <th>10696</th>\n",
       "      <td>D_iNx74a5u3PYT1A5OkYdg</td>\n",
       "      <td>Omni V.</td>\n",
       "      <td>4.0 star rating</td>\n",
       "      <td>This place deserved a good spot on Central Ave...</td>\n",
       "      <td>The Heights Café</td>\n",
       "      <td>4.5 star rating</td>\n",
       "      <td>NaN</td>\n",
       "      <td>Cafes,, Coffee, &amp;, Tea,, Desserts</td>\n",
       "    </tr>\n",
       "    <tr>\n",
       "      <th>10697</th>\n",
       "      <td>j1mx6qFXOkZ2HlkXAD043A</td>\n",
       "      <td>Rey C.</td>\n",
       "      <td>5.0 star rating</td>\n",
       "      <td>A place owned by people from the heights, sell...</td>\n",
       "      <td>The Heights Café</td>\n",
       "      <td>4.5 star rating</td>\n",
       "      <td>NaN</td>\n",
       "      <td>Cafes,, Coffee, &amp;, Tea,, Desserts</td>\n",
       "    </tr>\n",
       "    <tr>\n",
       "      <th>12891</th>\n",
       "      <td>BhjYzEsEXXrkgTH-7-EJKA</td>\n",
       "      <td>Yosmery F.</td>\n",
       "      <td>5.0 star rating</td>\n",
       "      <td>Love this place! The food is great and the pri...</td>\n",
       "      <td>Ventura Restaurant</td>\n",
       "      <td>5.0 star rating</td>\n",
       "      <td>NaN</td>\n",
       "      <td>Dominican</td>\n",
       "    </tr>\n",
       "    <tr>\n",
       "      <th>12892</th>\n",
       "      <td>_3GXviI4n0q_R2pTcyXJbQ</td>\n",
       "      <td>Janice B.</td>\n",
       "      <td>5.0 star rating</td>\n",
       "      <td>I tried their pork with rice and beans and chi...</td>\n",
       "      <td>Ventura Restaurant</td>\n",
       "      <td>5.0 star rating</td>\n",
       "      <td>NaN</td>\n",
       "      <td>Dominican</td>\n",
       "    </tr>\n",
       "    <tr>\n",
       "      <th>12893</th>\n",
       "      <td>CLby1rP4dKTsPX0h32FMCA</td>\n",
       "      <td>Mia M.</td>\n",
       "      <td>5.0 star rating</td>\n",
       "      <td>I love the Cereza drink. I get the big bucket....</td>\n",
       "      <td>Ventura Restaurant</td>\n",
       "      <td>5.0 star rating</td>\n",
       "      <td>NaN</td>\n",
       "      <td>Dominican</td>\n",
       "    </tr>\n",
       "    <tr>\n",
       "      <th>...</th>\n",
       "      <td>...</td>\n",
       "      <td>...</td>\n",
       "      <td>...</td>\n",
       "      <td>...</td>\n",
       "      <td>...</td>\n",
       "      <td>...</td>\n",
       "      <td>...</td>\n",
       "      <td>...</td>\n",
       "    </tr>\n",
       "    <tr>\n",
       "      <th>69841</th>\n",
       "      <td>q7Mb8zPMTH3rlK4MFnj6CA</td>\n",
       "      <td>Meg F.</td>\n",
       "      <td>5.0 star rating</td>\n",
       "      <td>Love the new location of Napoli's! Inside is c...</td>\n",
       "      <td>Napoli’s Pizza</td>\n",
       "      <td>4.0 star rating</td>\n",
       "      <td>NaN</td>\n",
       "      <td>Pizza,, Italian,, Venues, &amp;, Event, Spaces</td>\n",
       "    </tr>\n",
       "    <tr>\n",
       "      <th>69842</th>\n",
       "      <td>iGZ4KHfjLncVMxqGyfW9_g</td>\n",
       "      <td>Susan N.</td>\n",
       "      <td>1.0 star rating</td>\n",
       "      <td>Love the pizza, hate the service. You're bette...</td>\n",
       "      <td>Napoli’s Pizza</td>\n",
       "      <td>4.0 star rating</td>\n",
       "      <td>NaN</td>\n",
       "      <td>Pizza,, Italian,, Venues, &amp;, Event, Spaces</td>\n",
       "    </tr>\n",
       "    <tr>\n",
       "      <th>69843</th>\n",
       "      <td>P7eY9hVYNDuwa0yFNKiNiQ</td>\n",
       "      <td>Diego R.</td>\n",
       "      <td>2.0 star rating</td>\n",
       "      <td>Went for the first time tonight, and ordered t...</td>\n",
       "      <td>Napoli’s Pizza</td>\n",
       "      <td>4.0 star rating</td>\n",
       "      <td>NaN</td>\n",
       "      <td>Pizza,, Italian,, Venues, &amp;, Event, Spaces</td>\n",
       "    </tr>\n",
       "    <tr>\n",
       "      <th>69844</th>\n",
       "      <td>zZsdcMWv7MIds9L9N0oYOQ</td>\n",
       "      <td>Paulette D.</td>\n",
       "      <td>3.0 star rating</td>\n",
       "      <td>This is where the other hoboken Grimaldi's was...</td>\n",
       "      <td>Napoli’s Pizza</td>\n",
       "      <td>4.0 star rating</td>\n",
       "      <td>NaN</td>\n",
       "      <td>Pizza,, Italian,, Venues, &amp;, Event, Spaces</td>\n",
       "    </tr>\n",
       "    <tr>\n",
       "      <th>69845</th>\n",
       "      <td>oRaAsZbiMxDTGdax23qF5g</td>\n",
       "      <td>Ken C.</td>\n",
       "      <td>5.0 star rating</td>\n",
       "      <td>Always been a fan of the up-town location so w...</td>\n",
       "      <td>Napoli’s Pizza</td>\n",
       "      <td>4.0 star rating</td>\n",
       "      <td>NaN</td>\n",
       "      <td>Pizza,, Italian,, Venues, &amp;, Event, Spaces</td>\n",
       "    </tr>\n",
       "    <tr>\n",
       "      <th>69846</th>\n",
       "      <td>NAw6FpBVjuHXpdkORUUtTw</td>\n",
       "      <td>Brian D.</td>\n",
       "      <td>5.0 star rating</td>\n",
       "      <td>I've eaten here and taken out a few times sinc...</td>\n",
       "      <td>Napoli’s Pizza</td>\n",
       "      <td>4.0 star rating</td>\n",
       "      <td>NaN</td>\n",
       "      <td>Pizza,, Italian,, Venues, &amp;, Event, Spaces</td>\n",
       "    </tr>\n",
       "    <tr>\n",
       "      <th>69847</th>\n",
       "      <td>Zj8XjDvy0MVgY7oHIbNZhw</td>\n",
       "      <td>Heather T.</td>\n",
       "      <td>4.0 star rating</td>\n",
       "      <td>We've had deliveries from the uptown location ...</td>\n",
       "      <td>Napoli’s Pizza</td>\n",
       "      <td>4.0 star rating</td>\n",
       "      <td>NaN</td>\n",
       "      <td>Pizza,, Italian,, Venues, &amp;, Event, Spaces</td>\n",
       "    </tr>\n",
       "    <tr>\n",
       "      <th>69848</th>\n",
       "      <td>q_jcK8QGr92rq3F_kqKsyQ</td>\n",
       "      <td>A B.</td>\n",
       "      <td>4.0 star rating</td>\n",
       "      <td>I'm glad they opened up a location downtown be...</td>\n",
       "      <td>Napoli’s Pizza</td>\n",
       "      <td>4.0 star rating</td>\n",
       "      <td>NaN</td>\n",
       "      <td>Pizza,, Italian,, Venues, &amp;, Event, Spaces</td>\n",
       "    </tr>\n",
       "    <tr>\n",
       "      <th>69849</th>\n",
       "      <td>9J-YLuaDCYmR6NJmIW0gaw</td>\n",
       "      <td>Paul L.</td>\n",
       "      <td>5.0 star rating</td>\n",
       "      <td>Wow what a pizza!!! The pasta de napoli is ama...</td>\n",
       "      <td>Napoli’s Pizza</td>\n",
       "      <td>4.0 star rating</td>\n",
       "      <td>NaN</td>\n",
       "      <td>Pizza,, Italian,, Venues, &amp;, Event, Spaces</td>\n",
       "    </tr>\n",
       "    <tr>\n",
       "      <th>69850</th>\n",
       "      <td>ToFeE1toeTXB1VuS3uc0Xw</td>\n",
       "      <td>Robin R.</td>\n",
       "      <td>5.0 star rating</td>\n",
       "      <td>We just returned home from an adult birthday p...</td>\n",
       "      <td>Napoli’s Pizza</td>\n",
       "      <td>4.0 star rating</td>\n",
       "      <td>NaN</td>\n",
       "      <td>Pizza,, Italian,, Venues, &amp;, Event, Spaces</td>\n",
       "    </tr>\n",
       "    <tr>\n",
       "      <th>69851</th>\n",
       "      <td>seiQSja721EZ4CTr8sKU-Q</td>\n",
       "      <td>Alexandra M.</td>\n",
       "      <td>5.0 star rating</td>\n",
       "      <td>This place is BOMB!  Pizza is fresh and flavor...</td>\n",
       "      <td>Napoli’s Pizza</td>\n",
       "      <td>4.0 star rating</td>\n",
       "      <td>NaN</td>\n",
       "      <td>Pizza,, Italian,, Venues, &amp;, Event, Spaces</td>\n",
       "    </tr>\n",
       "    <tr>\n",
       "      <th>69852</th>\n",
       "      <td>mbxdo8Z59tcQc_FJMxHNeA</td>\n",
       "      <td>Trent T.</td>\n",
       "      <td>4.0 star rating</td>\n",
       "      <td>I have not been to their other location, but h...</td>\n",
       "      <td>Napoli’s Pizza</td>\n",
       "      <td>4.0 star rating</td>\n",
       "      <td>NaN</td>\n",
       "      <td>Pizza,, Italian,, Venues, &amp;, Event, Spaces</td>\n",
       "    </tr>\n",
       "    <tr>\n",
       "      <th>69853</th>\n",
       "      <td>dD-e4MWK3p5xUK9gcWpu9w</td>\n",
       "      <td>Emma P.</td>\n",
       "      <td>4.0 star rating</td>\n",
       "      <td>I used to go to the original Napoli's every co...</td>\n",
       "      <td>Napoli’s Pizza</td>\n",
       "      <td>4.0 star rating</td>\n",
       "      <td>NaN</td>\n",
       "      <td>Pizza,, Italian,, Venues, &amp;, Event, Spaces</td>\n",
       "    </tr>\n",
       "    <tr>\n",
       "      <th>69854</th>\n",
       "      <td>DCsxVk5sQbWnvDw1wdXKJA</td>\n",
       "      <td>Maya R.</td>\n",
       "      <td>5.0 star rating</td>\n",
       "      <td>wowwww was this an amazing first experience at...</td>\n",
       "      <td>Napoli’s Pizza</td>\n",
       "      <td>4.0 star rating</td>\n",
       "      <td>NaN</td>\n",
       "      <td>Pizza,, Italian,, Venues, &amp;, Event, Spaces</td>\n",
       "    </tr>\n",
       "    <tr>\n",
       "      <th>69855</th>\n",
       "      <td>5aZX8bTiD0k9vR60SG588Q</td>\n",
       "      <td>Alison C.</td>\n",
       "      <td>4.0 star rating</td>\n",
       "      <td>My friend and I were enjoying drinks at The Na...</td>\n",
       "      <td>Napoli’s Pizza</td>\n",
       "      <td>4.0 star rating</td>\n",
       "      <td>NaN</td>\n",
       "      <td>Pizza,, Italian,, Venues, &amp;, Event, Spaces</td>\n",
       "    </tr>\n",
       "    <tr>\n",
       "      <th>69856</th>\n",
       "      <td>FniXpErdQGfzxG4B-74dRw</td>\n",
       "      <td>Samantha D.</td>\n",
       "      <td>5.0 star rating</td>\n",
       "      <td>I have been dying to try Napoli's and was so e...</td>\n",
       "      <td>Napoli’s Pizza</td>\n",
       "      <td>4.0 star rating</td>\n",
       "      <td>NaN</td>\n",
       "      <td>Pizza,, Italian,, Venues, &amp;, Event, Spaces</td>\n",
       "    </tr>\n",
       "    <tr>\n",
       "      <th>69857</th>\n",
       "      <td>AYQd0upkY7zxkj2-wVawYw</td>\n",
       "      <td>Al K.</td>\n",
       "      <td>1.0 star rating</td>\n",
       "      <td>Arrived early to pickup a personal pizza that ...</td>\n",
       "      <td>Napoli’s Pizza</td>\n",
       "      <td>4.0 star rating</td>\n",
       "      <td>NaN</td>\n",
       "      <td>Pizza,, Italian,, Venues, &amp;, Event, Spaces</td>\n",
       "    </tr>\n",
       "    <tr>\n",
       "      <th>69858</th>\n",
       "      <td>wU62o5mwLK14jtk0eRRvqg</td>\n",
       "      <td>Tom B.</td>\n",
       "      <td>5.0 star rating</td>\n",
       "      <td>Consistently excellent pizza, they always have...</td>\n",
       "      <td>Napoli’s Pizza</td>\n",
       "      <td>4.0 star rating</td>\n",
       "      <td>NaN</td>\n",
       "      <td>Pizza,, Italian,, Venues, &amp;, Event, Spaces</td>\n",
       "    </tr>\n",
       "    <tr>\n",
       "      <th>69859</th>\n",
       "      <td>IPDqK7xVUFeizZKNJtuXIQ</td>\n",
       "      <td>Candace C.</td>\n",
       "      <td>5.0 star rating</td>\n",
       "      <td>We'll definitely be coming back here! They hav...</td>\n",
       "      <td>Napoli’s Pizza</td>\n",
       "      <td>4.0 star rating</td>\n",
       "      <td>NaN</td>\n",
       "      <td>Pizza,, Italian,, Venues, &amp;, Event, Spaces</td>\n",
       "    </tr>\n",
       "    <tr>\n",
       "      <th>69860</th>\n",
       "      <td>sdkWib964Wug9eWWQb6byg</td>\n",
       "      <td>Jeff D.</td>\n",
       "      <td>4.0 star rating</td>\n",
       "      <td>We were excited and curious to see how the new...</td>\n",
       "      <td>Napoli’s Pizza</td>\n",
       "      <td>4.0 star rating</td>\n",
       "      <td>NaN</td>\n",
       "      <td>Pizza,, Italian,, Venues, &amp;, Event, Spaces</td>\n",
       "    </tr>\n",
       "    <tr>\n",
       "      <th>69861</th>\n",
       "      <td>q7Mb8zPMTH3rlK4MFnj6CA</td>\n",
       "      <td>Meg F.</td>\n",
       "      <td>5.0 star rating</td>\n",
       "      <td>Love the new location of Napoli's! Inside is c...</td>\n",
       "      <td>Napoli’s Pizza</td>\n",
       "      <td>4.0 star rating</td>\n",
       "      <td>NaN</td>\n",
       "      <td>Pizza,, Italian,, Venues, &amp;, Event, Spaces</td>\n",
       "    </tr>\n",
       "    <tr>\n",
       "      <th>69862</th>\n",
       "      <td>iGZ4KHfjLncVMxqGyfW9_g</td>\n",
       "      <td>Susan N.</td>\n",
       "      <td>1.0 star rating</td>\n",
       "      <td>Love the pizza, hate the service. You're bette...</td>\n",
       "      <td>Napoli’s Pizza</td>\n",
       "      <td>4.0 star rating</td>\n",
       "      <td>NaN</td>\n",
       "      <td>Pizza,, Italian,, Venues, &amp;, Event, Spaces</td>\n",
       "    </tr>\n",
       "    <tr>\n",
       "      <th>69863</th>\n",
       "      <td>P7eY9hVYNDuwa0yFNKiNiQ</td>\n",
       "      <td>Diego R.</td>\n",
       "      <td>2.0 star rating</td>\n",
       "      <td>Went for the first time tonight, and ordered t...</td>\n",
       "      <td>Napoli’s Pizza</td>\n",
       "      <td>4.0 star rating</td>\n",
       "      <td>NaN</td>\n",
       "      <td>Pizza,, Italian,, Venues, &amp;, Event, Spaces</td>\n",
       "    </tr>\n",
       "    <tr>\n",
       "      <th>69864</th>\n",
       "      <td>zZsdcMWv7MIds9L9N0oYOQ</td>\n",
       "      <td>Paulette D.</td>\n",
       "      <td>3.0 star rating</td>\n",
       "      <td>This is where the other hoboken Grimaldi's was...</td>\n",
       "      <td>Napoli’s Pizza</td>\n",
       "      <td>4.0 star rating</td>\n",
       "      <td>NaN</td>\n",
       "      <td>Pizza,, Italian,, Venues, &amp;, Event, Spaces</td>\n",
       "    </tr>\n",
       "    <tr>\n",
       "      <th>69865</th>\n",
       "      <td>oRaAsZbiMxDTGdax23qF5g</td>\n",
       "      <td>Ken C.</td>\n",
       "      <td>5.0 star rating</td>\n",
       "      <td>Always been a fan of the up-town location so w...</td>\n",
       "      <td>Napoli’s Pizza</td>\n",
       "      <td>4.0 star rating</td>\n",
       "      <td>NaN</td>\n",
       "      <td>Pizza,, Italian,, Venues, &amp;, Event, Spaces</td>\n",
       "    </tr>\n",
       "    <tr>\n",
       "      <th>69866</th>\n",
       "      <td>NAw6FpBVjuHXpdkORUUtTw</td>\n",
       "      <td>Brian D.</td>\n",
       "      <td>5.0 star rating</td>\n",
       "      <td>I've eaten here and taken out a few times sinc...</td>\n",
       "      <td>Napoli’s Pizza</td>\n",
       "      <td>4.0 star rating</td>\n",
       "      <td>NaN</td>\n",
       "      <td>Pizza,, Italian,, Venues, &amp;, Event, Spaces</td>\n",
       "    </tr>\n",
       "    <tr>\n",
       "      <th>69867</th>\n",
       "      <td>Zj8XjDvy0MVgY7oHIbNZhw</td>\n",
       "      <td>Heather T.</td>\n",
       "      <td>4.0 star rating</td>\n",
       "      <td>We've had deliveries from the uptown location ...</td>\n",
       "      <td>Napoli’s Pizza</td>\n",
       "      <td>4.0 star rating</td>\n",
       "      <td>NaN</td>\n",
       "      <td>Pizza,, Italian,, Venues, &amp;, Event, Spaces</td>\n",
       "    </tr>\n",
       "    <tr>\n",
       "      <th>69868</th>\n",
       "      <td>q_jcK8QGr92rq3F_kqKsyQ</td>\n",
       "      <td>A B.</td>\n",
       "      <td>4.0 star rating</td>\n",
       "      <td>I'm glad they opened up a location downtown be...</td>\n",
       "      <td>Napoli’s Pizza</td>\n",
       "      <td>4.0 star rating</td>\n",
       "      <td>NaN</td>\n",
       "      <td>Pizza,, Italian,, Venues, &amp;, Event, Spaces</td>\n",
       "    </tr>\n",
       "    <tr>\n",
       "      <th>69869</th>\n",
       "      <td>9J-YLuaDCYmR6NJmIW0gaw</td>\n",
       "      <td>Paul L.</td>\n",
       "      <td>5.0 star rating</td>\n",
       "      <td>Wow what a pizza!!! The pasta de napoli is ama...</td>\n",
       "      <td>Napoli’s Pizza</td>\n",
       "      <td>4.0 star rating</td>\n",
       "      <td>NaN</td>\n",
       "      <td>Pizza,, Italian,, Venues, &amp;, Event, Spaces</td>\n",
       "    </tr>\n",
       "    <tr>\n",
       "      <th>69870</th>\n",
       "      <td>ToFeE1toeTXB1VuS3uc0Xw</td>\n",
       "      <td>Robin R.</td>\n",
       "      <td>5.0 star rating</td>\n",
       "      <td>We just returned home from an adult birthday p...</td>\n",
       "      <td>Napoli’s Pizza</td>\n",
       "      <td>4.0 star rating</td>\n",
       "      <td>NaN</td>\n",
       "      <td>Pizza,, Italian,, Venues, &amp;, Event, Spaces</td>\n",
       "    </tr>\n",
       "  </tbody>\n",
       "</table>\n",
       "<p>132 rows × 8 columns</p>\n",
       "</div>"
      ],
      "text/plain": [
       "                      user_id     user_name      user_rating  \\\n",
       "5273   i_WxJpoxfsddmBne6I8cKQ      Durva L.  4.0 star rating   \n",
       "5274   zr0jkmEJLnaZxWZi7cp09Q     Wasbir R.  1.0 star rating   \n",
       "6782   cnNddUd4fn7h-Pb_Cma-9Q       mako y.  5.0 star rating   \n",
       "6783   q1P19WvpTXFTmfU7oXgkag    Chester G.  2.0 star rating   \n",
       "6784   hIrk8azL929_c4H4-3lEAg   Christie K.  5.0 star rating   \n",
       "6785   NSmWDNSyjqhm1vo7VUxL5w        Jay C.  5.0 star rating   \n",
       "6786   xM30Cj7zdsTiRQ-zmAFNjw     Victor O.  5.0 star rating   \n",
       "6787   fbv2hE02tCljub9JcDSiDw   Cinesina C.  5.0 star rating   \n",
       "9348   7CvAUqZqqZBKvkgwI0kfzw     Steven P.  5.0 star rating   \n",
       "9349   -jNxEJzXNWtbCy5VEyS3Lw       Mark A.  5.0 star rating   \n",
       "9350   m_UNGZjEJxNKzrF4kf8PwQ     Alyssa D.  1.0 star rating   \n",
       "9351   a7Zis6KZ1w0F7agD48dAYQ        Jay H.  1.0 star rating   \n",
       "9352   2zGClNwggR2D8uM6ujdq5A     Maggie N.  1.0 star rating   \n",
       "9353   hk1OLC_3zY5NfslWACpnxQ        Jen R.  1.0 star rating   \n",
       "9354   gILvQQigdI2m-HK6GgZkHw   Angelica R.  1.0 star rating   \n",
       "9355   kcnrIpa-PESeHmmL35uxJw      Erica S.  4.0 star rating   \n",
       "9356   P9UuEjxSw-zyBuNhjDi3TQ   Brittany G.  5.0 star rating   \n",
       "9357   lR1i6LY8N0o2SJ4nn10BHw        Ian B.  1.0 star rating   \n",
       "9358   n9SAYib5jJsLmn62uVOnYQ          J L.  5.0 star rating   \n",
       "10690  JDi9kmwEUMdWgkVI2asMFg      Milan S.  5.0 star rating   \n",
       "10691  pqz0rmDIWWszZcw7N_pD0w       Ravi P.  5.0 star rating   \n",
       "10692  3L5-jh0CIHplgBxyndgS2g       Arti G.  5.0 star rating   \n",
       "10693  YGuxRJ5cl_Wc_PTbXNwv2g     Dimple V.  5.0 star rating   \n",
       "10694  pgJx8_mYQ5jGFcgYu7U1BA      Karan R.  5.0 star rating   \n",
       "10695  ay5KighJOQrr-3V1CgsOYg      Ethan C.  5.0 star rating   \n",
       "10696  D_iNx74a5u3PYT1A5OkYdg       Omni V.  4.0 star rating   \n",
       "10697  j1mx6qFXOkZ2HlkXAD043A        Rey C.  5.0 star rating   \n",
       "12891  BhjYzEsEXXrkgTH-7-EJKA    Yosmery F.  5.0 star rating   \n",
       "12892  _3GXviI4n0q_R2pTcyXJbQ     Janice B.  5.0 star rating   \n",
       "12893  CLby1rP4dKTsPX0h32FMCA        Mia M.  5.0 star rating   \n",
       "...                       ...           ...              ...   \n",
       "69841  q7Mb8zPMTH3rlK4MFnj6CA        Meg F.  5.0 star rating   \n",
       "69842  iGZ4KHfjLncVMxqGyfW9_g      Susan N.  1.0 star rating   \n",
       "69843  P7eY9hVYNDuwa0yFNKiNiQ      Diego R.  2.0 star rating   \n",
       "69844  zZsdcMWv7MIds9L9N0oYOQ   Paulette D.  3.0 star rating   \n",
       "69845  oRaAsZbiMxDTGdax23qF5g        Ken C.  5.0 star rating   \n",
       "69846  NAw6FpBVjuHXpdkORUUtTw      Brian D.  5.0 star rating   \n",
       "69847  Zj8XjDvy0MVgY7oHIbNZhw    Heather T.  4.0 star rating   \n",
       "69848  q_jcK8QGr92rq3F_kqKsyQ          A B.  4.0 star rating   \n",
       "69849  9J-YLuaDCYmR6NJmIW0gaw       Paul L.  5.0 star rating   \n",
       "69850  ToFeE1toeTXB1VuS3uc0Xw      Robin R.  5.0 star rating   \n",
       "69851  seiQSja721EZ4CTr8sKU-Q  Alexandra M.  5.0 star rating   \n",
       "69852  mbxdo8Z59tcQc_FJMxHNeA      Trent T.  4.0 star rating   \n",
       "69853  dD-e4MWK3p5xUK9gcWpu9w       Emma P.  4.0 star rating   \n",
       "69854  DCsxVk5sQbWnvDw1wdXKJA       Maya R.  5.0 star rating   \n",
       "69855  5aZX8bTiD0k9vR60SG588Q     Alison C.  4.0 star rating   \n",
       "69856  FniXpErdQGfzxG4B-74dRw   Samantha D.  5.0 star rating   \n",
       "69857  AYQd0upkY7zxkj2-wVawYw         Al K.  1.0 star rating   \n",
       "69858  wU62o5mwLK14jtk0eRRvqg        Tom B.  5.0 star rating   \n",
       "69859  IPDqK7xVUFeizZKNJtuXIQ    Candace C.  5.0 star rating   \n",
       "69860  sdkWib964Wug9eWWQb6byg       Jeff D.  4.0 star rating   \n",
       "69861  q7Mb8zPMTH3rlK4MFnj6CA        Meg F.  5.0 star rating   \n",
       "69862  iGZ4KHfjLncVMxqGyfW9_g      Susan N.  1.0 star rating   \n",
       "69863  P7eY9hVYNDuwa0yFNKiNiQ      Diego R.  2.0 star rating   \n",
       "69864  zZsdcMWv7MIds9L9N0oYOQ   Paulette D.  3.0 star rating   \n",
       "69865  oRaAsZbiMxDTGdax23qF5g        Ken C.  5.0 star rating   \n",
       "69866  NAw6FpBVjuHXpdkORUUtTw      Brian D.  5.0 star rating   \n",
       "69867  Zj8XjDvy0MVgY7oHIbNZhw    Heather T.  4.0 star rating   \n",
       "69868  q_jcK8QGr92rq3F_kqKsyQ          A B.  4.0 star rating   \n",
       "69869  9J-YLuaDCYmR6NJmIW0gaw       Paul L.  5.0 star rating   \n",
       "69870  ToFeE1toeTXB1VuS3uc0Xw      Robin R.  5.0 star rating   \n",
       "\n",
       "                                               user_text     restaurant_name  \\\n",
       "5273   This is such a small place, but some great rea...             Funjabi   \n",
       "5274   Giving 1 star because theres no 0 star. This i...             Funjabi   \n",
       "6782   Wonderful!!! It was traditional with unique tw...                  奥田   \n",
       "6783   When I heard Chef Toru Okuda was going to open...                  奥田   \n",
       "6784   Soooo good. A must try if you can appreciate g...                  奥田   \n",
       "6785   It is with mixed emotion I write what follows....                  奥田   \n",
       "6786   It was memorable experience. It was hard to ma...                  奥田   \n",
       "6787   I travel a lot to Japan for work so when I rea...                  奥田   \n",
       "9348   Sad to hear they closed in The Heights, then t...      Mision Burrito   \n",
       "9349   What a awesome place!! It's located on the cor...      Mision Burrito   \n",
       "9350   Never delivered food when placed an order. The...      Mision Burrito   \n",
       "9351   Is it Mission Burrito or Marina Deli? When I w...      Mision Burrito   \n",
       "9352   They never delivered food despite telling me i...      Mision Burrito   \n",
       "9353   We placed an order through seamless and were e...      Mision Burrito   \n",
       "9354   Possibly the worst waiting time ever. All I or...      Mision Burrito   \n",
       "9355   Don't be confused by the deli sign. There's no...      Mision Burrito   \n",
       "9356   Seriously the best Mexican I have found since ...      Mision Burrito   \n",
       "9357   Delivery was inedible. My tacos had so much wa...      Mision Burrito   \n",
       "9358   Mission Burrito is open again!  This is Christ...      Mision Burrito   \n",
       "10690  Best authentic Indian food in the area. Order ...         Ujala Kabab   \n",
       "10691  This will be the best food you have ever had! ...         Ujala Kabab   \n",
       "10692  My to go spot when I need a last minute quick ...         Ujala Kabab   \n",
       "10693  Amazing food. Authentic Indian food . Been her...         Ujala Kabab   \n",
       "10694  Really awesome food, love the dishes, Chef is ...         Ujala Kabab   \n",
       "10695  This place has gone through a few iterations o...    The Heights Café   \n",
       "10696  This place deserved a good spot on Central Ave...    The Heights Café   \n",
       "10697  A place owned by people from the heights, sell...    The Heights Café   \n",
       "12891  Love this place! The food is great and the pri...  Ventura Restaurant   \n",
       "12892  I tried their pork with rice and beans and chi...  Ventura Restaurant   \n",
       "12893  I love the Cereza drink. I get the big bucket....  Ventura Restaurant   \n",
       "...                                                  ...                 ...   \n",
       "69841  Love the new location of Napoli's! Inside is c...      Napoli’s Pizza   \n",
       "69842  Love the pizza, hate the service. You're bette...      Napoli’s Pizza   \n",
       "69843  Went for the first time tonight, and ordered t...      Napoli’s Pizza   \n",
       "69844  This is where the other hoboken Grimaldi's was...      Napoli’s Pizza   \n",
       "69845  Always been a fan of the up-town location so w...      Napoli’s Pizza   \n",
       "69846  I've eaten here and taken out a few times sinc...      Napoli’s Pizza   \n",
       "69847  We've had deliveries from the uptown location ...      Napoli’s Pizza   \n",
       "69848  I'm glad they opened up a location downtown be...      Napoli’s Pizza   \n",
       "69849  Wow what a pizza!!! The pasta de napoli is ama...      Napoli’s Pizza   \n",
       "69850  We just returned home from an adult birthday p...      Napoli’s Pizza   \n",
       "69851  This place is BOMB!  Pizza is fresh and flavor...      Napoli’s Pizza   \n",
       "69852  I have not been to their other location, but h...      Napoli’s Pizza   \n",
       "69853  I used to go to the original Napoli's every co...      Napoli’s Pizza   \n",
       "69854  wowwww was this an amazing first experience at...      Napoli’s Pizza   \n",
       "69855  My friend and I were enjoying drinks at The Na...      Napoli’s Pizza   \n",
       "69856  I have been dying to try Napoli's and was so e...      Napoli’s Pizza   \n",
       "69857  Arrived early to pickup a personal pizza that ...      Napoli’s Pizza   \n",
       "69858  Consistently excellent pizza, they always have...      Napoli’s Pizza   \n",
       "69859  We'll definitely be coming back here! They hav...      Napoli’s Pizza   \n",
       "69860  We were excited and curious to see how the new...      Napoli’s Pizza   \n",
       "69861  Love the new location of Napoli's! Inside is c...      Napoli’s Pizza   \n",
       "69862  Love the pizza, hate the service. You're bette...      Napoli’s Pizza   \n",
       "69863  Went for the first time tonight, and ordered t...      Napoli’s Pizza   \n",
       "69864  This is where the other hoboken Grimaldi's was...      Napoli’s Pizza   \n",
       "69865  Always been a fan of the up-town location so w...      Napoli’s Pizza   \n",
       "69866  I've eaten here and taken out a few times sinc...      Napoli’s Pizza   \n",
       "69867  We've had deliveries from the uptown location ...      Napoli’s Pizza   \n",
       "69868  I'm glad they opened up a location downtown be...      Napoli’s Pizza   \n",
       "69869  Wow what a pizza!!! The pasta de napoli is ama...      Napoli’s Pizza   \n",
       "69870  We just returned home from an adult birthday p...      Napoli’s Pizza   \n",
       "\n",
       "      restaurant_rating restaurant_price  \\\n",
       "5273    2.5 star rating              NaN   \n",
       "5274    2.5 star rating              NaN   \n",
       "6782    4.5 star rating              NaN   \n",
       "6783    4.5 star rating              NaN   \n",
       "6784    4.5 star rating              NaN   \n",
       "6785    4.5 star rating              NaN   \n",
       "6786    4.5 star rating              NaN   \n",
       "6787    4.5 star rating              NaN   \n",
       "9348    2.5 star rating              NaN   \n",
       "9349    2.5 star rating              NaN   \n",
       "9350    2.5 star rating              NaN   \n",
       "9351    2.5 star rating              NaN   \n",
       "9352    2.5 star rating              NaN   \n",
       "9353    2.5 star rating              NaN   \n",
       "9354    2.5 star rating              NaN   \n",
       "9355    2.5 star rating              NaN   \n",
       "9356    2.5 star rating              NaN   \n",
       "9357    2.5 star rating              NaN   \n",
       "9358    2.5 star rating              NaN   \n",
       "10690   5.0 star rating              NaN   \n",
       "10691   5.0 star rating              NaN   \n",
       "10692   5.0 star rating              NaN   \n",
       "10693   5.0 star rating              NaN   \n",
       "10694   5.0 star rating              NaN   \n",
       "10695   4.5 star rating              NaN   \n",
       "10696   4.5 star rating              NaN   \n",
       "10697   4.5 star rating              NaN   \n",
       "12891   5.0 star rating              NaN   \n",
       "12892   5.0 star rating              NaN   \n",
       "12893   5.0 star rating              NaN   \n",
       "...                 ...              ...   \n",
       "69841   4.0 star rating              NaN   \n",
       "69842   4.0 star rating              NaN   \n",
       "69843   4.0 star rating              NaN   \n",
       "69844   4.0 star rating              NaN   \n",
       "69845   4.0 star rating              NaN   \n",
       "69846   4.0 star rating              NaN   \n",
       "69847   4.0 star rating              NaN   \n",
       "69848   4.0 star rating              NaN   \n",
       "69849   4.0 star rating              NaN   \n",
       "69850   4.0 star rating              NaN   \n",
       "69851   4.0 star rating              NaN   \n",
       "69852   4.0 star rating              NaN   \n",
       "69853   4.0 star rating              NaN   \n",
       "69854   4.0 star rating              NaN   \n",
       "69855   4.0 star rating              NaN   \n",
       "69856   4.0 star rating              NaN   \n",
       "69857   4.0 star rating              NaN   \n",
       "69858   4.0 star rating              NaN   \n",
       "69859   4.0 star rating              NaN   \n",
       "69860   4.0 star rating              NaN   \n",
       "69861   4.0 star rating              NaN   \n",
       "69862   4.0 star rating              NaN   \n",
       "69863   4.0 star rating              NaN   \n",
       "69864   4.0 star rating              NaN   \n",
       "69865   4.0 star rating              NaN   \n",
       "69866   4.0 star rating              NaN   \n",
       "69867   4.0 star rating              NaN   \n",
       "69868   4.0 star rating              NaN   \n",
       "69869   4.0 star rating              NaN   \n",
       "69870   4.0 star rating              NaN   \n",
       "\n",
       "                                  restaurant_type  \n",
       "5273                             Indian,, Chinese  \n",
       "5274                             Indian,, Chinese  \n",
       "6782                                     Japanese  \n",
       "6783                                     Japanese  \n",
       "6784                                     Japanese  \n",
       "6785                                     Japanese  \n",
       "6786                                     Japanese  \n",
       "6787                                     Japanese  \n",
       "9348      Mexican,, Grocery,, Convenience, Stores  \n",
       "9349      Mexican,, Grocery,, Convenience, Stores  \n",
       "9350      Mexican,, Grocery,, Convenience, Stores  \n",
       "9351      Mexican,, Grocery,, Convenience, Stores  \n",
       "9352      Mexican,, Grocery,, Convenience, Stores  \n",
       "9353      Mexican,, Grocery,, Convenience, Stores  \n",
       "9354      Mexican,, Grocery,, Convenience, Stores  \n",
       "9355      Mexican,, Grocery,, Convenience, Stores  \n",
       "9356      Mexican,, Grocery,, Convenience, Stores  \n",
       "9357      Mexican,, Grocery,, Convenience, Stores  \n",
       "9358      Mexican,, Grocery,, Convenience, Stores  \n",
       "10690                 Halal,, Indian,, Vegetarian  \n",
       "10691                 Halal,, Indian,, Vegetarian  \n",
       "10692                 Halal,, Indian,, Vegetarian  \n",
       "10693                 Halal,, Indian,, Vegetarian  \n",
       "10694                 Halal,, Indian,, Vegetarian  \n",
       "10695           Cafes,, Coffee, &, Tea,, Desserts  \n",
       "10696           Cafes,, Coffee, &, Tea,, Desserts  \n",
       "10697           Cafes,, Coffee, &, Tea,, Desserts  \n",
       "12891                                   Dominican  \n",
       "12892                                   Dominican  \n",
       "12893                                   Dominican  \n",
       "...                                           ...  \n",
       "69841  Pizza,, Italian,, Venues, &, Event, Spaces  \n",
       "69842  Pizza,, Italian,, Venues, &, Event, Spaces  \n",
       "69843  Pizza,, Italian,, Venues, &, Event, Spaces  \n",
       "69844  Pizza,, Italian,, Venues, &, Event, Spaces  \n",
       "69845  Pizza,, Italian,, Venues, &, Event, Spaces  \n",
       "69846  Pizza,, Italian,, Venues, &, Event, Spaces  \n",
       "69847  Pizza,, Italian,, Venues, &, Event, Spaces  \n",
       "69848  Pizza,, Italian,, Venues, &, Event, Spaces  \n",
       "69849  Pizza,, Italian,, Venues, &, Event, Spaces  \n",
       "69850  Pizza,, Italian,, Venues, &, Event, Spaces  \n",
       "69851  Pizza,, Italian,, Venues, &, Event, Spaces  \n",
       "69852  Pizza,, Italian,, Venues, &, Event, Spaces  \n",
       "69853  Pizza,, Italian,, Venues, &, Event, Spaces  \n",
       "69854  Pizza,, Italian,, Venues, &, Event, Spaces  \n",
       "69855  Pizza,, Italian,, Venues, &, Event, Spaces  \n",
       "69856  Pizza,, Italian,, Venues, &, Event, Spaces  \n",
       "69857  Pizza,, Italian,, Venues, &, Event, Spaces  \n",
       "69858  Pizza,, Italian,, Venues, &, Event, Spaces  \n",
       "69859  Pizza,, Italian,, Venues, &, Event, Spaces  \n",
       "69860  Pizza,, Italian,, Venues, &, Event, Spaces  \n",
       "69861  Pizza,, Italian,, Venues, &, Event, Spaces  \n",
       "69862  Pizza,, Italian,, Venues, &, Event, Spaces  \n",
       "69863  Pizza,, Italian,, Venues, &, Event, Spaces  \n",
       "69864  Pizza,, Italian,, Venues, &, Event, Spaces  \n",
       "69865  Pizza,, Italian,, Venues, &, Event, Spaces  \n",
       "69866  Pizza,, Italian,, Venues, &, Event, Spaces  \n",
       "69867  Pizza,, Italian,, Venues, &, Event, Spaces  \n",
       "69868  Pizza,, Italian,, Venues, &, Event, Spaces  \n",
       "69869  Pizza,, Italian,, Venues, &, Event, Spaces  \n",
       "69870  Pizza,, Italian,, Venues, &, Event, Spaces  \n",
       "\n",
       "[132 rows x 8 columns]"
      ]
     },
     "execution_count": 9,
     "metadata": {},
     "output_type": "execute_result"
    }
   ],
   "source": [
    "df[df.restaurant_price.isnull() == True]"
   ]
  },
  {
   "cell_type": "markdown",
   "metadata": {},
   "source": [
    "Only some price value is missing since these value is not exist on the Yelp. So I will just remain them as NA."
   ]
  },
  {
   "cell_type": "markdown",
   "metadata": {},
   "source": [
    "#### data definition:\n",
    "- user_id: Unique id for each customer\n",
    "- user_name: customer's name\n",
    "- user_raing: original rating for one restaurant per time\n",
    "- user_text: customer's review for one restaurant per time\n",
    "- restaurant_name: unique name for each restaurant\n",
    "- restaurant_price: degree of cheap or expensive of one restaurant\n",
    "- restaurant_type: the style and theme of one restaurant"
   ]
  },
  {
   "cell_type": "markdown",
   "metadata": {},
   "source": [
    "### data processing one by one"
   ]
  },
  {
   "cell_type": "markdown",
   "metadata": {},
   "source": [
    "#### user_id"
   ]
  },
  {
   "cell_type": "code",
   "execution_count": 10,
   "metadata": {},
   "outputs": [
    {
     "data": {
      "text/html": [
       "<div>\n",
       "<style scoped>\n",
       "    .dataframe tbody tr th:only-of-type {\n",
       "        vertical-align: middle;\n",
       "    }\n",
       "\n",
       "    .dataframe tbody tr th {\n",
       "        vertical-align: top;\n",
       "    }\n",
       "\n",
       "    .dataframe thead th {\n",
       "        text-align: right;\n",
       "    }\n",
       "</style>\n",
       "<table border=\"1\" class=\"dataframe\">\n",
       "  <thead>\n",
       "    <tr style=\"text-align: right;\">\n",
       "      <th></th>\n",
       "      <th>user_id</th>\n",
       "      <th>count</th>\n",
       "    </tr>\n",
       "  </thead>\n",
       "  <tbody>\n",
       "    <tr>\n",
       "      <th>0</th>\n",
       "      <td>QxTNaHoxTL8f7jAK5nwQ1g</td>\n",
       "      <td>101</td>\n",
       "    </tr>\n",
       "    <tr>\n",
       "      <th>1</th>\n",
       "      <td>5aZX8bTiD0k9vR60SG588Q</td>\n",
       "      <td>76</td>\n",
       "    </tr>\n",
       "    <tr>\n",
       "      <th>2</th>\n",
       "      <td>GRY2acZtI5q4P1KdCWhcUQ</td>\n",
       "      <td>66</td>\n",
       "    </tr>\n",
       "    <tr>\n",
       "      <th>3</th>\n",
       "      <td>LcWOq7p7Mhtv9hIlDrhy9A</td>\n",
       "      <td>62</td>\n",
       "    </tr>\n",
       "    <tr>\n",
       "      <th>4</th>\n",
       "      <td>Y59HQNazSLR1EUMUmMOaFg</td>\n",
       "      <td>61</td>\n",
       "    </tr>\n",
       "    <tr>\n",
       "      <th>5</th>\n",
       "      <td>NWLqOKl0Vxi7qK-6EoBLbg</td>\n",
       "      <td>60</td>\n",
       "    </tr>\n",
       "    <tr>\n",
       "      <th>6</th>\n",
       "      <td>A5dqSwriUs8cV4DEzS_V9A</td>\n",
       "      <td>59</td>\n",
       "    </tr>\n",
       "    <tr>\n",
       "      <th>7</th>\n",
       "      <td>svFycHjXZYpNVutZ_0_gDQ</td>\n",
       "      <td>59</td>\n",
       "    </tr>\n",
       "    <tr>\n",
       "      <th>8</th>\n",
       "      <td>dl4ENy4Bk6-lCu59A8vxbg</td>\n",
       "      <td>57</td>\n",
       "    </tr>\n",
       "    <tr>\n",
       "      <th>9</th>\n",
       "      <td>94V-snVUg2Gd-OPd7rcZEg</td>\n",
       "      <td>54</td>\n",
       "    </tr>\n",
       "  </tbody>\n",
       "</table>\n",
       "</div>"
      ],
      "text/plain": [
       "                  user_id  count\n",
       "0  QxTNaHoxTL8f7jAK5nwQ1g    101\n",
       "1  5aZX8bTiD0k9vR60SG588Q     76\n",
       "2  GRY2acZtI5q4P1KdCWhcUQ     66\n",
       "3  LcWOq7p7Mhtv9hIlDrhy9A     62\n",
       "4  Y59HQNazSLR1EUMUmMOaFg     61\n",
       "5  NWLqOKl0Vxi7qK-6EoBLbg     60\n",
       "6  A5dqSwriUs8cV4DEzS_V9A     59\n",
       "7  svFycHjXZYpNVutZ_0_gDQ     59\n",
       "8  dl4ENy4Bk6-lCu59A8vxbg     57\n",
       "9  94V-snVUg2Gd-OPd7rcZEg     54"
      ]
     },
     "execution_count": 10,
     "metadata": {},
     "output_type": "execute_result"
    }
   ],
   "source": [
    "user_id = pd.DataFrame(df.user_id.value_counts().head(10))\n",
    "user_id.reset_index(level=0, inplace = True)\n",
    "user_id.columns = ['user_id', 'count']\n",
    "user_id"
   ]
  },
  {
   "cell_type": "code",
   "execution_count": 11,
   "metadata": {},
   "outputs": [
    {
     "data": {
      "image/png": "[encoded data removed]",
      "text/plain": [
       "<Figure size 720x720 with 1 Axes>"
      ]
     },
     "metadata": {},
     "output_type": "display_data"
    }
   ],
   "source": [
    "f, ax = plt.subplots(figsize=(10, 10))\n",
    "sns.barplot(x='count', y='user_id', data=user_id, color=\"turquoise\", ax = ax)\n",
    "plt.show()"
   ]
  },
  {
   "cell_type": "markdown",
   "metadata": {},
   "source": [
    "Multiple customers leave reviews for restaurants more than one times. It is valuable for the recommendation system."
   ]
  },
  {
   "cell_type": "markdown",
   "metadata": {},
   "source": [
    "#### user_name"
   ]
  },
  {
   "cell_type": "code",
   "execution_count": 12,
   "metadata": {},
   "outputs": [
    {
     "data": {
      "text/html": [
       "<div>\n",
       "<style scoped>\n",
       "    .dataframe tbody tr th:only-of-type {\n",
       "        vertical-align: middle;\n",
       "    }\n",
       "\n",
       "    .dataframe tbody tr th {\n",
       "        vertical-align: top;\n",
       "    }\n",
       "\n",
       "    .dataframe thead th {\n",
       "        text-align: right;\n",
       "    }\n",
       "</style>\n",
       "<table border=\"1\" class=\"dataframe\">\n",
       "  <thead>\n",
       "    <tr style=\"text-align: right;\">\n",
       "      <th></th>\n",
       "      <th>user_name</th>\n",
       "      <th>count</th>\n",
       "    </tr>\n",
       "  </thead>\n",
       "  <tbody>\n",
       "    <tr>\n",
       "      <th>0</th>\n",
       "      <td>Nicholas G.</td>\n",
       "      <td>103</td>\n",
       "    </tr>\n",
       "    <tr>\n",
       "      <th>1</th>\n",
       "      <td>David S.</td>\n",
       "      <td>91</td>\n",
       "    </tr>\n",
       "    <tr>\n",
       "      <th>2</th>\n",
       "      <td>David C.</td>\n",
       "      <td>87</td>\n",
       "    </tr>\n",
       "    <tr>\n",
       "      <th>3</th>\n",
       "      <td>John M.</td>\n",
       "      <td>80</td>\n",
       "    </tr>\n",
       "    <tr>\n",
       "      <th>4</th>\n",
       "      <td>Jessica W.</td>\n",
       "      <td>79</td>\n",
       "    </tr>\n",
       "    <tr>\n",
       "      <th>5</th>\n",
       "      <td>Alison C.</td>\n",
       "      <td>78</td>\n",
       "    </tr>\n",
       "    <tr>\n",
       "      <th>6</th>\n",
       "      <td>Melissa M.</td>\n",
       "      <td>77</td>\n",
       "    </tr>\n",
       "    <tr>\n",
       "      <th>7</th>\n",
       "      <td>Dave F.</td>\n",
       "      <td>73</td>\n",
       "    </tr>\n",
       "    <tr>\n",
       "      <th>8</th>\n",
       "      <td>Alex C.</td>\n",
       "      <td>71</td>\n",
       "    </tr>\n",
       "    <tr>\n",
       "      <th>9</th>\n",
       "      <td>Nicole S.</td>\n",
       "      <td>70</td>\n",
       "    </tr>\n",
       "  </tbody>\n",
       "</table>\n",
       "</div>"
      ],
      "text/plain": [
       "     user_name  count\n",
       "0  Nicholas G.    103\n",
       "1     David S.     91\n",
       "2     David C.     87\n",
       "3      John M.     80\n",
       "4   Jessica W.     79\n",
       "5    Alison C.     78\n",
       "6   Melissa M.     77\n",
       "7      Dave F.     73\n",
       "8      Alex C.     71\n",
       "9    Nicole S.     70"
      ]
     },
     "execution_count": 12,
     "metadata": {},
     "output_type": "execute_result"
    }
   ],
   "source": [
    "user_name = pd.DataFrame(df.user_name.value_counts().head(10))\n",
    "user_name.reset_index(level=0, inplace = True)\n",
    "user_name.columns = ['user_name', 'count']\n",
    "user_name"
   ]
  },
  {
   "cell_type": "code",
   "execution_count": 13,
   "metadata": {},
   "outputs": [
    {
     "data": {
      "image/png": "[encoded data removed]",
      "text/plain": [
       "<Figure size 720x720 with 1 Axes>"
      ]
     },
     "metadata": {},
     "output_type": "display_data"
    }
   ],
   "source": [
    "f, ax = plt.subplots(figsize=(10, 10))\n",
    "sns.barplot(x='count', y='user_name', data=user_name, color=\"green\", ax = ax)\n",
    "plt.show()"
   ]
  },
  {
   "cell_type": "code",
   "execution_count": 14,
   "metadata": {},
   "outputs": [
    {
     "data": {
      "text/html": [
       "<div>\n",
       "<style scoped>\n",
       "    .dataframe tbody tr th:only-of-type {\n",
       "        vertical-align: middle;\n",
       "    }\n",
       "\n",
       "    .dataframe tbody tr th {\n",
       "        vertical-align: top;\n",
       "    }\n",
       "\n",
       "    .dataframe thead th {\n",
       "        text-align: right;\n",
       "    }\n",
       "</style>\n",
       "<table border=\"1\" class=\"dataframe\">\n",
       "  <thead>\n",
       "    <tr style=\"text-align: right;\">\n",
       "      <th></th>\n",
       "      <th>user_name</th>\n",
       "      <th>count</th>\n",
       "    </tr>\n",
       "  </thead>\n",
       "  <tbody>\n",
       "    <tr>\n",
       "      <th>0</th>\n",
       "      <td>Kiki H.</td>\n",
       "      <td>1</td>\n",
       "    </tr>\n",
       "    <tr>\n",
       "      <th>1</th>\n",
       "      <td>Arron H.</td>\n",
       "      <td>1</td>\n",
       "    </tr>\n",
       "    <tr>\n",
       "      <th>2</th>\n",
       "      <td>Donna Y.</td>\n",
       "      <td>1</td>\n",
       "    </tr>\n",
       "    <tr>\n",
       "      <th>3</th>\n",
       "      <td>Nicholas Y.</td>\n",
       "      <td>1</td>\n",
       "    </tr>\n",
       "    <tr>\n",
       "      <th>4</th>\n",
       "      <td>Kayser W.</td>\n",
       "      <td>1</td>\n",
       "    </tr>\n",
       "    <tr>\n",
       "      <th>5</th>\n",
       "      <td>Ethan S.</td>\n",
       "      <td>1</td>\n",
       "    </tr>\n",
       "    <tr>\n",
       "      <th>6</th>\n",
       "      <td>Winnie C.</td>\n",
       "      <td>1</td>\n",
       "    </tr>\n",
       "    <tr>\n",
       "      <th>7</th>\n",
       "      <td>Donny K.</td>\n",
       "      <td>1</td>\n",
       "    </tr>\n",
       "    <tr>\n",
       "      <th>8</th>\n",
       "      <td>Yelp E.</td>\n",
       "      <td>1</td>\n",
       "    </tr>\n",
       "    <tr>\n",
       "      <th>9</th>\n",
       "      <td>Lukasz K.</td>\n",
       "      <td>1</td>\n",
       "    </tr>\n",
       "  </tbody>\n",
       "</table>\n",
       "</div>"
      ],
      "text/plain": [
       "     user_name  count\n",
       "0      Kiki H.      1\n",
       "1     Arron H.      1\n",
       "2     Donna Y.      1\n",
       "3  Nicholas Y.      1\n",
       "4    Kayser W.      1\n",
       "5     Ethan S.      1\n",
       "6    Winnie C.      1\n",
       "7     Donny K.      1\n",
       "8      Yelp E.      1\n",
       "9    Lukasz K.      1"
      ]
     },
     "execution_count": 14,
     "metadata": {},
     "output_type": "execute_result"
    }
   ],
   "source": [
    "user_name = pd.DataFrame(df.user_name.value_counts().tail(10))\n",
    "user_name.reset_index(level=0, inplace = True)\n",
    "user_name.columns = ['user_name', 'count']\n",
    "user_name"
   ]
  },
  {
   "cell_type": "markdown",
   "metadata": {},
   "source": [
    "Since different customers might have same name, in order to invoid error, I will not use user_id in the recommendation system."
   ]
  },
  {
   "cell_type": "markdown",
   "metadata": {},
   "source": [
    "### user_rating"
   ]
  },
  {
   "cell_type": "code",
   "execution_count": 15,
   "metadata": {},
   "outputs": [
    {
     "data": {
      "text/plain": [
       "array(['5.0 star rating', '4.0 star rating', '3.0 star rating',\n",
       "       '1.0 star rating', '2.0 star rating'], dtype=object)"
      ]
     },
     "execution_count": 15,
     "metadata": {},
     "output_type": "execute_result"
    }
   ],
   "source": [
    "df.user_rating.unique()"
   ]
  },
  {
   "cell_type": "markdown",
   "metadata": {},
   "source": [
    "I would like to convert the string into integer format."
   ]
  },
  {
   "cell_type": "code",
   "execution_count": 16,
   "metadata": {},
   "outputs": [],
   "source": [
    "df.user_rating = df.user_rating.replace({'5.0 star rating':5,\n",
    "                                         '4.0 star rating':4, \n",
    "                                         '3.0 star rating':3,\n",
    "                                         '2.0 star rating':2,\n",
    "                                         '1.0 star rating':1\n",
    "                                        })"
   ]
  },
  {
   "cell_type": "code",
   "execution_count": 17,
   "metadata": {},
   "outputs": [
    {
     "data": {
      "text/html": [
       "<div>\n",
       "<style scoped>\n",
       "    .dataframe tbody tr th:only-of-type {\n",
       "        vertical-align: middle;\n",
       "    }\n",
       "\n",
       "    .dataframe tbody tr th {\n",
       "        vertical-align: top;\n",
       "    }\n",
       "\n",
       "    .dataframe thead th {\n",
       "        text-align: right;\n",
       "    }\n",
       "</style>\n",
       "<table border=\"1\" class=\"dataframe\">\n",
       "  <thead>\n",
       "    <tr style=\"text-align: right;\">\n",
       "      <th></th>\n",
       "      <th>rating</th>\n",
       "      <th>count</th>\n",
       "    </tr>\n",
       "  </thead>\n",
       "  <tbody>\n",
       "    <tr>\n",
       "      <th>0</th>\n",
       "      <td>5</td>\n",
       "      <td>27702</td>\n",
       "    </tr>\n",
       "    <tr>\n",
       "      <th>1</th>\n",
       "      <td>4</td>\n",
       "      <td>23140</td>\n",
       "    </tr>\n",
       "    <tr>\n",
       "      <th>2</th>\n",
       "      <td>3</td>\n",
       "      <td>10916</td>\n",
       "    </tr>\n",
       "    <tr>\n",
       "      <th>3</th>\n",
       "      <td>1</td>\n",
       "      <td>6608</td>\n",
       "    </tr>\n",
       "    <tr>\n",
       "      <th>4</th>\n",
       "      <td>2</td>\n",
       "      <td>6245</td>\n",
       "    </tr>\n",
       "  </tbody>\n",
       "</table>\n",
       "</div>"
      ],
      "text/plain": [
       "   rating  count\n",
       "0       5  27702\n",
       "1       4  23140\n",
       "2       3  10916\n",
       "3       1   6608\n",
       "4       2   6245"
      ]
     },
     "execution_count": 17,
     "metadata": {},
     "output_type": "execute_result"
    }
   ],
   "source": [
    "rating = pd.DataFrame(df.user_rating.value_counts().head())\n",
    "rating.reset_index(level=0, inplace = True)\n",
    "rating.columns=['rating', 'count']\n",
    "rating"
   ]
  },
  {
   "cell_type": "code",
   "execution_count": 18,
   "metadata": {},
   "outputs": [
    {
     "name": "stderr",
     "output_type": "stream",
     "text": [
      "/Users/mani/anaconda3/envs/py27/lib/python2.7/site-packages/matplotlib/axes/_axes.py:6462: UserWarning: The 'normed' kwarg is deprecated, and has been replaced by the 'density' kwarg.\n",
      "  warnings.warn(\"The 'normed' kwarg is deprecated, and has been \"\n"
     ]
    },
    {
     "data": {
      "image/png": "[encoded data removed]",
      "text/plain": [
       "<Figure size 432x288 with 1 Axes>"
      ]
     },
     "metadata": {},
     "output_type": "display_data"
    }
   ],
   "source": [
    "sns.distplot(df.user_rating, color = 'tomato')\n",
    "plt.show()"
   ]
  },
  {
   "cell_type": "markdown",
   "metadata": {},
   "source": [
    "- restaurant name"
   ]
  },
  {
   "cell_type": "code",
   "execution_count": 19,
   "metadata": {},
   "outputs": [
    {
     "data": {
      "text/plain": [
       "302"
      ]
     },
     "execution_count": 19,
     "metadata": {},
     "output_type": "execute_result"
    }
   ],
   "source": [
    "len(df.restaurant_name.unique())"
   ]
  },
  {
   "cell_type": "code",
   "execution_count": 20,
   "metadata": {},
   "outputs": [],
   "source": [
    "restaurant_name = df.groupby(df['restaurant_name']).user_id.count()\n",
    "restaurant_name = pd.DataFrame(restaurant_name)\n",
    "restaurant_name = restaurant_name.reset_index()\n",
    "restaurant_name = restaurant_name.rename(index=str, columns={\"user_id\": \"count\"})"
   ]
  },
  {
   "cell_type": "code",
   "execution_count": 21,
   "metadata": {},
   "outputs": [],
   "source": [
    "top_10 = restaurant_name.sort_values(by=['count'], ascending=False).head(10)"
   ]
  },
  {
   "cell_type": "code",
   "execution_count": 22,
   "metadata": {},
   "outputs": [
    {
     "ename": "ValueError",
     "evalue": "matplotlib display text must have all code points < 128 or use Unicode strings",
     "output_type": "error",
     "traceback": [
      "\u001b[0;31m---------------------------------------------------------------------------\u001b[0m",
      "\u001b[0;31mValueError\u001b[0m                                Traceback (most recent call last)",
      "\u001b[0;32m/Users/mani/anaconda3/envs/py27/lib/python2.7/site-packages/IPython/core/formatters.pyc\u001b[0m in \u001b[0;36m__call__\u001b[0;34m(self, obj)\u001b[0m\n\u001b[1;32m    332\u001b[0m                 \u001b[0;32mpass\u001b[0m\u001b[0;34m\u001b[0m\u001b[0m\n\u001b[1;32m    333\u001b[0m             \u001b[0;32melse\u001b[0m\u001b[0;34m:\u001b[0m\u001b[0;34m\u001b[0m\u001b[0m\n\u001b[0;32m--> 334\u001b[0;31m                 \u001b[0;32mreturn\u001b[0m \u001b[0mprinter\u001b[0m\u001b[0;34m(\u001b[0m\u001b[0mobj\u001b[0m\u001b[0;34m)\u001b[0m\u001b[0;34m\u001b[0m\u001b[0m\n\u001b[0m\u001b[1;32m    335\u001b[0m             \u001b[0;31m# Finally look for special method names\u001b[0m\u001b[0;34m\u001b[0m\u001b[0;34m\u001b[0m\u001b[0m\n\u001b[1;32m    336\u001b[0m             \u001b[0mmethod\u001b[0m \u001b[0;34m=\u001b[0m \u001b[0mget_real_method\u001b[0m\u001b[0;34m(\u001b[0m\u001b[0mobj\u001b[0m\u001b[0;34m,\u001b[0m \u001b[0mself\u001b[0m\u001b[0;34m.\u001b[0m\u001b[0mprint_method\u001b[0m\u001b[0;34m)\u001b[0m\u001b[0;34m\u001b[0m\u001b[0m\n",
      "\u001b[0;32m/Users/mani/anaconda3/envs/py27/lib/python2.7/site-packages/IPython/core/pylabtools.pyc\u001b[0m in \u001b[0;36m<lambda>\u001b[0;34m(fig)\u001b[0m\n\u001b[1;32m    242\u001b[0m \u001b[0;34m\u001b[0m\u001b[0m\n\u001b[1;32m    243\u001b[0m     \u001b[0;32mif\u001b[0m \u001b[0;34m'png'\u001b[0m \u001b[0;32min\u001b[0m \u001b[0mformats\u001b[0m\u001b[0;34m:\u001b[0m\u001b[0;34m\u001b[0m\u001b[0m\n\u001b[0;32m--> 244\u001b[0;31m         \u001b[0mpng_formatter\u001b[0m\u001b[0;34m.\u001b[0m\u001b[0mfor_type\u001b[0m\u001b[0;34m(\u001b[0m\u001b[0mFigure\u001b[0m\u001b[0;34m,\u001b[0m \u001b[0;32mlambda\u001b[0m \u001b[0mfig\u001b[0m\u001b[0;34m:\u001b[0m \u001b[0mprint_figure\u001b[0m\u001b[0;34m(\u001b[0m\u001b[0mfig\u001b[0m\u001b[0;34m,\u001b[0m \u001b[0;34m'png'\u001b[0m\u001b[0;34m,\u001b[0m \u001b[0;34m**\u001b[0m\u001b[0mkwargs\u001b[0m\u001b[0;34m)\u001b[0m\u001b[0;34m)\u001b[0m\u001b[0;34m\u001b[0m\u001b[0m\n\u001b[0m\u001b[1;32m    245\u001b[0m     \u001b[0;32mif\u001b[0m \u001b[0;34m'retina'\u001b[0m \u001b[0;32min\u001b[0m \u001b[0mformats\u001b[0m \u001b[0;32mor\u001b[0m \u001b[0;34m'png2x'\u001b[0m \u001b[0;32min\u001b[0m \u001b[0mformats\u001b[0m\u001b[0;34m:\u001b[0m\u001b[0;34m\u001b[0m\u001b[0m\n\u001b[1;32m    246\u001b[0m         \u001b[0mpng_formatter\u001b[0m\u001b[0;34m.\u001b[0m\u001b[0mfor_type\u001b[0m\u001b[0;34m(\u001b[0m\u001b[0mFigure\u001b[0m\u001b[0;34m,\u001b[0m \u001b[0;32mlambda\u001b[0m \u001b[0mfig\u001b[0m\u001b[0;34m:\u001b[0m \u001b[0mretina_figure\u001b[0m\u001b[0;34m(\u001b[0m\u001b[0mfig\u001b[0m\u001b[0;34m,\u001b[0m \u001b[0;34m**\u001b[0m\u001b[0mkwargs\u001b[0m\u001b[0;34m)\u001b[0m\u001b[0;34m)\u001b[0m\u001b[0;34m\u001b[0m\u001b[0m\n",
      "\u001b[0;32m/Users/mani/anaconda3/envs/py27/lib/python2.7/site-packages/IPython/core/pylabtools.pyc\u001b[0m in \u001b[0;36mprint_figure\u001b[0;34m(fig, fmt, bbox_inches, **kwargs)\u001b[0m\n\u001b[1;32m    126\u001b[0m \u001b[0;34m\u001b[0m\u001b[0m\n\u001b[1;32m    127\u001b[0m     \u001b[0mbytes_io\u001b[0m \u001b[0;34m=\u001b[0m \u001b[0mBytesIO\u001b[0m\u001b[0;34m(\u001b[0m\u001b[0;34m)\u001b[0m\u001b[0;34m\u001b[0m\u001b[0m\n\u001b[0;32m--> 128\u001b[0;31m     \u001b[0mfig\u001b[0m\u001b[0;34m.\u001b[0m\u001b[0mcanvas\u001b[0m\u001b[0;34m.\u001b[0m\u001b[0mprint_figure\u001b[0m\u001b[0;34m(\u001b[0m\u001b[0mbytes_io\u001b[0m\u001b[0;34m,\u001b[0m \u001b[0;34m**\u001b[0m\u001b[0mkw\u001b[0m\u001b[0;34m)\u001b[0m\u001b[0;34m\u001b[0m\u001b[0m\n\u001b[0m\u001b[1;32m    129\u001b[0m     \u001b[0mdata\u001b[0m \u001b[0;34m=\u001b[0m \u001b[0mbytes_io\u001b[0m\u001b[0;34m.\u001b[0m\u001b[0mgetvalue\u001b[0m\u001b[0;34m(\u001b[0m\u001b[0;34m)\u001b[0m\u001b[0;34m\u001b[0m\u001b[0m\n\u001b[1;32m    130\u001b[0m     \u001b[0;32mif\u001b[0m \u001b[0mfmt\u001b[0m \u001b[0;34m==\u001b[0m \u001b[0;34m'svg'\u001b[0m\u001b[0;34m:\u001b[0m\u001b[0;34m\u001b[0m\u001b[0m\n",
      "\u001b[0;32m/Users/mani/anaconda3/envs/py27/lib/python2.7/site-packages/matplotlib/backend_bases.pyc\u001b[0m in \u001b[0;36mprint_figure\u001b[0;34m(self, filename, dpi, facecolor, edgecolor, orientation, format, **kwargs)\u001b[0m\n\u001b[1;32m   2210\u001b[0m                     \u001b[0morientation\u001b[0m\u001b[0;34m=\u001b[0m\u001b[0morientation\u001b[0m\u001b[0;34m,\u001b[0m\u001b[0;34m\u001b[0m\u001b[0m\n\u001b[1;32m   2211\u001b[0m                     \u001b[0mdryrun\u001b[0m\u001b[0;34m=\u001b[0m\u001b[0mTrue\u001b[0m\u001b[0;34m,\u001b[0m\u001b[0;34m\u001b[0m\u001b[0m\n\u001b[0;32m-> 2212\u001b[0;31m                     **kwargs)\n\u001b[0m\u001b[1;32m   2213\u001b[0m                 \u001b[0mrenderer\u001b[0m \u001b[0;34m=\u001b[0m \u001b[0mself\u001b[0m\u001b[0;34m.\u001b[0m\u001b[0mfigure\u001b[0m\u001b[0;34m.\u001b[0m\u001b[0m_cachedRenderer\u001b[0m\u001b[0;34m\u001b[0m\u001b[0m\n\u001b[1;32m   2214\u001b[0m                 \u001b[0mbbox_inches\u001b[0m \u001b[0;34m=\u001b[0m \u001b[0mself\u001b[0m\u001b[0;34m.\u001b[0m\u001b[0mfigure\u001b[0m\u001b[0;34m.\u001b[0m\u001b[0mget_tightbbox\u001b[0m\u001b[0;34m(\u001b[0m\u001b[0mrenderer\u001b[0m\u001b[0;34m)\u001b[0m\u001b[0;34m\u001b[0m\u001b[0m\n",
      "\u001b[0;32m/Users/mani/anaconda3/envs/py27/lib/python2.7/site-packages/matplotlib/backends/backend_agg.pyc\u001b[0m in \u001b[0;36mprint_png\u001b[0;34m(self, filename_or_obj, *args, **kwargs)\u001b[0m\n\u001b[1;32m    511\u001b[0m \u001b[0;34m\u001b[0m\u001b[0m\n\u001b[1;32m    512\u001b[0m     \u001b[0;32mdef\u001b[0m \u001b[0mprint_png\u001b[0m\u001b[0;34m(\u001b[0m\u001b[0mself\u001b[0m\u001b[0;34m,\u001b[0m \u001b[0mfilename_or_obj\u001b[0m\u001b[0;34m,\u001b[0m \u001b[0;34m*\u001b[0m\u001b[0margs\u001b[0m\u001b[0;34m,\u001b[0m \u001b[0;34m**\u001b[0m\u001b[0mkwargs\u001b[0m\u001b[0;34m)\u001b[0m\u001b[0;34m:\u001b[0m\u001b[0;34m\u001b[0m\u001b[0m\n\u001b[0;32m--> 513\u001b[0;31m         \u001b[0mFigureCanvasAgg\u001b[0m\u001b[0;34m.\u001b[0m\u001b[0mdraw\u001b[0m\u001b[0;34m(\u001b[0m\u001b[0mself\u001b[0m\u001b[0;34m)\u001b[0m\u001b[0;34m\u001b[0m\u001b[0m\n\u001b[0m\u001b[1;32m    514\u001b[0m         \u001b[0mrenderer\u001b[0m \u001b[0;34m=\u001b[0m \u001b[0mself\u001b[0m\u001b[0;34m.\u001b[0m\u001b[0mget_renderer\u001b[0m\u001b[0;34m(\u001b[0m\u001b[0;34m)\u001b[0m\u001b[0;34m\u001b[0m\u001b[0m\n\u001b[1;32m    515\u001b[0m         \u001b[0moriginal_dpi\u001b[0m \u001b[0;34m=\u001b[0m \u001b[0mrenderer\u001b[0m\u001b[0;34m.\u001b[0m\u001b[0mdpi\u001b[0m\u001b[0;34m\u001b[0m\u001b[0m\n",
      "\u001b[0;32m/Users/mani/anaconda3/envs/py27/lib/python2.7/site-packages/matplotlib/backends/backend_agg.pyc\u001b[0m in \u001b[0;36mdraw\u001b[0;34m(self)\u001b[0m\n\u001b[1;32m    431\u001b[0m             \u001b[0;31m# if toolbar:\u001b[0m\u001b[0;34m\u001b[0m\u001b[0;34m\u001b[0m\u001b[0m\n\u001b[1;32m    432\u001b[0m             \u001b[0;31m#     toolbar.set_cursor(cursors.WAIT)\u001b[0m\u001b[0;34m\u001b[0m\u001b[0;34m\u001b[0m\u001b[0m\n\u001b[0;32m--> 433\u001b[0;31m             \u001b[0mself\u001b[0m\u001b[0;34m.\u001b[0m\u001b[0mfigure\u001b[0m\u001b[0;34m.\u001b[0m\u001b[0mdraw\u001b[0m\u001b[0;34m(\u001b[0m\u001b[0mself\u001b[0m\u001b[0;34m.\u001b[0m\u001b[0mrenderer\u001b[0m\u001b[0;34m)\u001b[0m\u001b[0;34m\u001b[0m\u001b[0m\n\u001b[0m\u001b[1;32m    434\u001b[0m             \u001b[0;31m# A GUI class may be need to update a window using this draw, so\u001b[0m\u001b[0;34m\u001b[0m\u001b[0;34m\u001b[0m\u001b[0m\n\u001b[1;32m    435\u001b[0m             \u001b[0;31m# don't forget to call the superclass.\u001b[0m\u001b[0;34m\u001b[0m\u001b[0;34m\u001b[0m\u001b[0m\n",
      "\u001b[0;32m/Users/mani/anaconda3/envs/py27/lib/python2.7/site-packages/matplotlib/artist.pyc\u001b[0m in \u001b[0;36mdraw_wrapper\u001b[0;34m(artist, renderer, *args, **kwargs)\u001b[0m\n\u001b[1;32m     53\u001b[0m                 \u001b[0mrenderer\u001b[0m\u001b[0;34m.\u001b[0m\u001b[0mstart_filter\u001b[0m\u001b[0;34m(\u001b[0m\u001b[0;34m)\u001b[0m\u001b[0;34m\u001b[0m\u001b[0m\n\u001b[1;32m     54\u001b[0m \u001b[0;34m\u001b[0m\u001b[0m\n\u001b[0;32m---> 55\u001b[0;31m             \u001b[0;32mreturn\u001b[0m \u001b[0mdraw\u001b[0m\u001b[0;34m(\u001b[0m\u001b[0martist\u001b[0m\u001b[0;34m,\u001b[0m \u001b[0mrenderer\u001b[0m\u001b[0;34m,\u001b[0m \u001b[0;34m*\u001b[0m\u001b[0margs\u001b[0m\u001b[0;34m,\u001b[0m \u001b[0;34m**\u001b[0m\u001b[0mkwargs\u001b[0m\u001b[0;34m)\u001b[0m\u001b[0;34m\u001b[0m\u001b[0m\n\u001b[0m\u001b[1;32m     56\u001b[0m         \u001b[0;32mfinally\u001b[0m\u001b[0;34m:\u001b[0m\u001b[0;34m\u001b[0m\u001b[0m\n\u001b[1;32m     57\u001b[0m             \u001b[0;32mif\u001b[0m \u001b[0martist\u001b[0m\u001b[0;34m.\u001b[0m\u001b[0mget_agg_filter\u001b[0m\u001b[0;34m(\u001b[0m\u001b[0;34m)\u001b[0m \u001b[0;32mis\u001b[0m \u001b[0;32mnot\u001b[0m \u001b[0mNone\u001b[0m\u001b[0;34m:\u001b[0m\u001b[0;34m\u001b[0m\u001b[0m\n",
      "\u001b[0;32m/Users/mani/anaconda3/envs/py27/lib/python2.7/site-packages/matplotlib/figure.pyc\u001b[0m in \u001b[0;36mdraw\u001b[0;34m(self, renderer)\u001b[0m\n\u001b[1;32m   1473\u001b[0m \u001b[0;34m\u001b[0m\u001b[0m\n\u001b[1;32m   1474\u001b[0m             mimage._draw_list_compositing_images(\n\u001b[0;32m-> 1475\u001b[0;31m                 renderer, self, artists, self.suppressComposite)\n\u001b[0m\u001b[1;32m   1476\u001b[0m \u001b[0;34m\u001b[0m\u001b[0m\n\u001b[1;32m   1477\u001b[0m             \u001b[0mrenderer\u001b[0m\u001b[0;34m.\u001b[0m\u001b[0mclose_group\u001b[0m\u001b[0;34m(\u001b[0m\u001b[0;34m'figure'\u001b[0m\u001b[0;34m)\u001b[0m\u001b[0;34m\u001b[0m\u001b[0m\n",
      "\u001b[0;32m/Users/mani/anaconda3/envs/py27/lib/python2.7/site-packages/matplotlib/image.pyc\u001b[0m in \u001b[0;36m_draw_list_compositing_images\u001b[0;34m(renderer, parent, artists, suppress_composite)\u001b[0m\n\u001b[1;32m    139\u001b[0m     \u001b[0;32mif\u001b[0m \u001b[0mnot_composite\u001b[0m \u001b[0;32mor\u001b[0m \u001b[0;32mnot\u001b[0m \u001b[0mhas_images\u001b[0m\u001b[0;34m:\u001b[0m\u001b[0;34m\u001b[0m\u001b[0m\n\u001b[1;32m    140\u001b[0m         \u001b[0;32mfor\u001b[0m \u001b[0ma\u001b[0m \u001b[0;32min\u001b[0m \u001b[0martists\u001b[0m\u001b[0;34m:\u001b[0m\u001b[0;34m\u001b[0m\u001b[0m\n\u001b[0;32m--> 141\u001b[0;31m             \u001b[0ma\u001b[0m\u001b[0;34m.\u001b[0m\u001b[0mdraw\u001b[0m\u001b[0;34m(\u001b[0m\u001b[0mrenderer\u001b[0m\u001b[0;34m)\u001b[0m\u001b[0;34m\u001b[0m\u001b[0m\n\u001b[0m\u001b[1;32m    142\u001b[0m     \u001b[0;32melse\u001b[0m\u001b[0;34m:\u001b[0m\u001b[0;34m\u001b[0m\u001b[0m\n\u001b[1;32m    143\u001b[0m         \u001b[0;31m# Composite any adjacent images together\u001b[0m\u001b[0;34m\u001b[0m\u001b[0;34m\u001b[0m\u001b[0m\n",
      "\u001b[0;32m/Users/mani/anaconda3/envs/py27/lib/python2.7/site-packages/matplotlib/artist.pyc\u001b[0m in \u001b[0;36mdraw_wrapper\u001b[0;34m(artist, renderer, *args, **kwargs)\u001b[0m\n\u001b[1;32m     53\u001b[0m                 \u001b[0mrenderer\u001b[0m\u001b[0;34m.\u001b[0m\u001b[0mstart_filter\u001b[0m\u001b[0;34m(\u001b[0m\u001b[0;34m)\u001b[0m\u001b[0;34m\u001b[0m\u001b[0m\n\u001b[1;32m     54\u001b[0m \u001b[0;34m\u001b[0m\u001b[0m\n\u001b[0;32m---> 55\u001b[0;31m             \u001b[0;32mreturn\u001b[0m \u001b[0mdraw\u001b[0m\u001b[0;34m(\u001b[0m\u001b[0martist\u001b[0m\u001b[0;34m,\u001b[0m \u001b[0mrenderer\u001b[0m\u001b[0;34m,\u001b[0m \u001b[0;34m*\u001b[0m\u001b[0margs\u001b[0m\u001b[0;34m,\u001b[0m \u001b[0;34m**\u001b[0m\u001b[0mkwargs\u001b[0m\u001b[0;34m)\u001b[0m\u001b[0;34m\u001b[0m\u001b[0m\n\u001b[0m\u001b[1;32m     56\u001b[0m         \u001b[0;32mfinally\u001b[0m\u001b[0;34m:\u001b[0m\u001b[0;34m\u001b[0m\u001b[0m\n\u001b[1;32m     57\u001b[0m             \u001b[0;32mif\u001b[0m \u001b[0martist\u001b[0m\u001b[0;34m.\u001b[0m\u001b[0mget_agg_filter\u001b[0m\u001b[0;34m(\u001b[0m\u001b[0;34m)\u001b[0m \u001b[0;32mis\u001b[0m \u001b[0;32mnot\u001b[0m \u001b[0mNone\u001b[0m\u001b[0;34m:\u001b[0m\u001b[0;34m\u001b[0m\u001b[0m\n",
      "\u001b[0;32m/Users/mani/anaconda3/envs/py27/lib/python2.7/site-packages/matplotlib/axes/_base.pyc\u001b[0m in \u001b[0;36mdraw\u001b[0;34m(self, renderer, inframe)\u001b[0m\n\u001b[1;32m   2605\u001b[0m             \u001b[0mrenderer\u001b[0m\u001b[0;34m.\u001b[0m\u001b[0mstop_rasterizing\u001b[0m\u001b[0;34m(\u001b[0m\u001b[0;34m)\u001b[0m\u001b[0;34m\u001b[0m\u001b[0m\n\u001b[1;32m   2606\u001b[0m \u001b[0;34m\u001b[0m\u001b[0m\n\u001b[0;32m-> 2607\u001b[0;31m         \u001b[0mmimage\u001b[0m\u001b[0;34m.\u001b[0m\u001b[0m_draw_list_compositing_images\u001b[0m\u001b[0;34m(\u001b[0m\u001b[0mrenderer\u001b[0m\u001b[0;34m,\u001b[0m \u001b[0mself\u001b[0m\u001b[0;34m,\u001b[0m \u001b[0martists\u001b[0m\u001b[0;34m)\u001b[0m\u001b[0;34m\u001b[0m\u001b[0m\n\u001b[0m\u001b[1;32m   2608\u001b[0m \u001b[0;34m\u001b[0m\u001b[0m\n\u001b[1;32m   2609\u001b[0m         \u001b[0mrenderer\u001b[0m\u001b[0;34m.\u001b[0m\u001b[0mclose_group\u001b[0m\u001b[0;34m(\u001b[0m\u001b[0;34m'axes'\u001b[0m\u001b[0;34m)\u001b[0m\u001b[0;34m\u001b[0m\u001b[0m\n",
      "\u001b[0;32m/Users/mani/anaconda3/envs/py27/lib/python2.7/site-packages/matplotlib/image.pyc\u001b[0m in \u001b[0;36m_draw_list_compositing_images\u001b[0;34m(renderer, parent, artists, suppress_composite)\u001b[0m\n\u001b[1;32m    139\u001b[0m     \u001b[0;32mif\u001b[0m \u001b[0mnot_composite\u001b[0m \u001b[0;32mor\u001b[0m \u001b[0;32mnot\u001b[0m \u001b[0mhas_images\u001b[0m\u001b[0;34m:\u001b[0m\u001b[0;34m\u001b[0m\u001b[0m\n\u001b[1;32m    140\u001b[0m         \u001b[0;32mfor\u001b[0m \u001b[0ma\u001b[0m \u001b[0;32min\u001b[0m \u001b[0martists\u001b[0m\u001b[0;34m:\u001b[0m\u001b[0;34m\u001b[0m\u001b[0m\n\u001b[0;32m--> 141\u001b[0;31m             \u001b[0ma\u001b[0m\u001b[0;34m.\u001b[0m\u001b[0mdraw\u001b[0m\u001b[0;34m(\u001b[0m\u001b[0mrenderer\u001b[0m\u001b[0;34m)\u001b[0m\u001b[0;34m\u001b[0m\u001b[0m\n\u001b[0m\u001b[1;32m    142\u001b[0m     \u001b[0;32melse\u001b[0m\u001b[0;34m:\u001b[0m\u001b[0;34m\u001b[0m\u001b[0m\n\u001b[1;32m    143\u001b[0m         \u001b[0;31m# Composite any adjacent images together\u001b[0m\u001b[0;34m\u001b[0m\u001b[0;34m\u001b[0m\u001b[0m\n",
      "\u001b[0;32m/Users/mani/anaconda3/envs/py27/lib/python2.7/site-packages/matplotlib/artist.pyc\u001b[0m in \u001b[0;36mdraw_wrapper\u001b[0;34m(artist, renderer, *args, **kwargs)\u001b[0m\n\u001b[1;32m     53\u001b[0m                 \u001b[0mrenderer\u001b[0m\u001b[0;34m.\u001b[0m\u001b[0mstart_filter\u001b[0m\u001b[0;34m(\u001b[0m\u001b[0;34m)\u001b[0m\u001b[0;34m\u001b[0m\u001b[0m\n\u001b[1;32m     54\u001b[0m \u001b[0;34m\u001b[0m\u001b[0m\n\u001b[0;32m---> 55\u001b[0;31m             \u001b[0;32mreturn\u001b[0m \u001b[0mdraw\u001b[0m\u001b[0;34m(\u001b[0m\u001b[0martist\u001b[0m\u001b[0;34m,\u001b[0m \u001b[0mrenderer\u001b[0m\u001b[0;34m,\u001b[0m \u001b[0;34m*\u001b[0m\u001b[0margs\u001b[0m\u001b[0;34m,\u001b[0m \u001b[0;34m**\u001b[0m\u001b[0mkwargs\u001b[0m\u001b[0;34m)\u001b[0m\u001b[0;34m\u001b[0m\u001b[0m\n\u001b[0m\u001b[1;32m     56\u001b[0m         \u001b[0;32mfinally\u001b[0m\u001b[0;34m:\u001b[0m\u001b[0;34m\u001b[0m\u001b[0m\n\u001b[1;32m     57\u001b[0m             \u001b[0;32mif\u001b[0m \u001b[0martist\u001b[0m\u001b[0;34m.\u001b[0m\u001b[0mget_agg_filter\u001b[0m\u001b[0;34m(\u001b[0m\u001b[0;34m)\u001b[0m \u001b[0;32mis\u001b[0m \u001b[0;32mnot\u001b[0m \u001b[0mNone\u001b[0m\u001b[0;34m:\u001b[0m\u001b[0;34m\u001b[0m\u001b[0m\n",
      "\u001b[0;32m/Users/mani/anaconda3/envs/py27/lib/python2.7/site-packages/matplotlib/axis.pyc\u001b[0m in \u001b[0;36mdraw\u001b[0;34m(self, renderer, *args, **kwargs)\u001b[0m\n\u001b[1;32m   1190\u001b[0m         \u001b[0mticks_to_draw\u001b[0m \u001b[0;34m=\u001b[0m \u001b[0mself\u001b[0m\u001b[0;34m.\u001b[0m\u001b[0m_update_ticks\u001b[0m\u001b[0;34m(\u001b[0m\u001b[0mrenderer\u001b[0m\u001b[0;34m)\u001b[0m\u001b[0;34m\u001b[0m\u001b[0m\n\u001b[1;32m   1191\u001b[0m         ticklabelBoxes, ticklabelBoxes2 = self._get_tick_bboxes(ticks_to_draw,\n\u001b[0;32m-> 1192\u001b[0;31m                                                                 renderer)\n\u001b[0m\u001b[1;32m   1193\u001b[0m \u001b[0;34m\u001b[0m\u001b[0m\n\u001b[1;32m   1194\u001b[0m         \u001b[0;32mfor\u001b[0m \u001b[0mtick\u001b[0m \u001b[0;32min\u001b[0m \u001b[0mticks_to_draw\u001b[0m\u001b[0;34m:\u001b[0m\u001b[0;34m\u001b[0m\u001b[0m\n",
      "\u001b[0;32m/Users/mani/anaconda3/envs/py27/lib/python2.7/site-packages/matplotlib/axis.pyc\u001b[0m in \u001b[0;36m_get_tick_bboxes\u001b[0;34m(self, ticks, renderer)\u001b[0m\n\u001b[1;32m   1128\u001b[0m         \u001b[0;32mfor\u001b[0m \u001b[0mtick\u001b[0m \u001b[0;32min\u001b[0m \u001b[0mticks\u001b[0m\u001b[0;34m:\u001b[0m\u001b[0;34m\u001b[0m\u001b[0m\n\u001b[1;32m   1129\u001b[0m             \u001b[0;32mif\u001b[0m \u001b[0mtick\u001b[0m\u001b[0;34m.\u001b[0m\u001b[0mlabel1On\u001b[0m \u001b[0;32mand\u001b[0m \u001b[0mtick\u001b[0m\u001b[0;34m.\u001b[0m\u001b[0mlabel1\u001b[0m\u001b[0;34m.\u001b[0m\u001b[0mget_visible\u001b[0m\u001b[0;34m(\u001b[0m\u001b[0;34m)\u001b[0m\u001b[0;34m:\u001b[0m\u001b[0;34m\u001b[0m\u001b[0m\n\u001b[0;32m-> 1130\u001b[0;31m                 \u001b[0mextent\u001b[0m \u001b[0;34m=\u001b[0m \u001b[0mtick\u001b[0m\u001b[0;34m.\u001b[0m\u001b[0mlabel1\u001b[0m\u001b[0;34m.\u001b[0m\u001b[0mget_window_extent\u001b[0m\u001b[0;34m(\u001b[0m\u001b[0mrenderer\u001b[0m\u001b[0;34m)\u001b[0m\u001b[0;34m\u001b[0m\u001b[0m\n\u001b[0m\u001b[1;32m   1131\u001b[0m                 \u001b[0mticklabelBoxes\u001b[0m\u001b[0;34m.\u001b[0m\u001b[0mappend\u001b[0m\u001b[0;34m(\u001b[0m\u001b[0mextent\u001b[0m\u001b[0;34m)\u001b[0m\u001b[0;34m\u001b[0m\u001b[0m\n\u001b[1;32m   1132\u001b[0m             \u001b[0;32mif\u001b[0m \u001b[0mtick\u001b[0m\u001b[0;34m.\u001b[0m\u001b[0mlabel2On\u001b[0m \u001b[0;32mand\u001b[0m \u001b[0mtick\u001b[0m\u001b[0;34m.\u001b[0m\u001b[0mlabel2\u001b[0m\u001b[0;34m.\u001b[0m\u001b[0mget_visible\u001b[0m\u001b[0;34m(\u001b[0m\u001b[0;34m)\u001b[0m\u001b[0;34m:\u001b[0m\u001b[0;34m\u001b[0m\u001b[0m\n",
      "\u001b[0;32m/Users/mani/anaconda3/envs/py27/lib/python2.7/site-packages/matplotlib/text.pyc\u001b[0m in \u001b[0;36mget_window_extent\u001b[0;34m(self, renderer, dpi)\u001b[0m\n\u001b[1;32m    920\u001b[0m             \u001b[0;32mraise\u001b[0m \u001b[0mRuntimeError\u001b[0m\u001b[0;34m(\u001b[0m\u001b[0;34m'Cannot get window extent w/o renderer'\u001b[0m\u001b[0;34m)\u001b[0m\u001b[0;34m\u001b[0m\u001b[0m\n\u001b[1;32m    921\u001b[0m \u001b[0;34m\u001b[0m\u001b[0m\n\u001b[0;32m--> 922\u001b[0;31m         \u001b[0mbbox\u001b[0m\u001b[0;34m,\u001b[0m \u001b[0minfo\u001b[0m\u001b[0;34m,\u001b[0m \u001b[0mdescent\u001b[0m \u001b[0;34m=\u001b[0m \u001b[0mself\u001b[0m\u001b[0;34m.\u001b[0m\u001b[0m_get_layout\u001b[0m\u001b[0;34m(\u001b[0m\u001b[0mself\u001b[0m\u001b[0;34m.\u001b[0m\u001b[0m_renderer\u001b[0m\u001b[0;34m)\u001b[0m\u001b[0;34m\u001b[0m\u001b[0m\n\u001b[0m\u001b[1;32m    923\u001b[0m         \u001b[0mx\u001b[0m\u001b[0;34m,\u001b[0m \u001b[0my\u001b[0m \u001b[0;34m=\u001b[0m \u001b[0mself\u001b[0m\u001b[0;34m.\u001b[0m\u001b[0mget_unitless_position\u001b[0m\u001b[0;34m(\u001b[0m\u001b[0;34m)\u001b[0m\u001b[0;34m\u001b[0m\u001b[0m\n\u001b[1;32m    924\u001b[0m         \u001b[0mx\u001b[0m\u001b[0;34m,\u001b[0m \u001b[0my\u001b[0m \u001b[0;34m=\u001b[0m \u001b[0mself\u001b[0m\u001b[0;34m.\u001b[0m\u001b[0mget_transform\u001b[0m\u001b[0;34m(\u001b[0m\u001b[0;34m)\u001b[0m\u001b[0;34m.\u001b[0m\u001b[0mtransform_point\u001b[0m\u001b[0;34m(\u001b[0m\u001b[0;34m(\u001b[0m\u001b[0mx\u001b[0m\u001b[0;34m,\u001b[0m \u001b[0my\u001b[0m\u001b[0;34m)\u001b[0m\u001b[0;34m)\u001b[0m\u001b[0;34m\u001b[0m\u001b[0m\n",
      "\u001b[0;32m/Users/mani/anaconda3/envs/py27/lib/python2.7/site-packages/matplotlib/text.pyc\u001b[0m in \u001b[0;36m_get_layout\u001b[0;34m(self, renderer)\u001b[0m\n\u001b[1;32m    303\u001b[0m         \u001b[0mbaseline\u001b[0m \u001b[0;34m=\u001b[0m \u001b[0;36m0\u001b[0m\u001b[0;34m\u001b[0m\u001b[0m\n\u001b[1;32m    304\u001b[0m         \u001b[0;32mfor\u001b[0m \u001b[0mi\u001b[0m\u001b[0;34m,\u001b[0m \u001b[0mline\u001b[0m \u001b[0;32min\u001b[0m \u001b[0menumerate\u001b[0m\u001b[0;34m(\u001b[0m\u001b[0mlines\u001b[0m\u001b[0;34m)\u001b[0m\u001b[0;34m:\u001b[0m\u001b[0;34m\u001b[0m\u001b[0m\n\u001b[0;32m--> 305\u001b[0;31m             \u001b[0mclean_line\u001b[0m\u001b[0;34m,\u001b[0m \u001b[0mismath\u001b[0m \u001b[0;34m=\u001b[0m \u001b[0mself\u001b[0m\u001b[0;34m.\u001b[0m\u001b[0mis_math_text\u001b[0m\u001b[0;34m(\u001b[0m\u001b[0mline\u001b[0m\u001b[0;34m,\u001b[0m \u001b[0mself\u001b[0m\u001b[0;34m.\u001b[0m\u001b[0mget_usetex\u001b[0m\u001b[0;34m(\u001b[0m\u001b[0;34m)\u001b[0m\u001b[0;34m)\u001b[0m\u001b[0;34m\u001b[0m\u001b[0m\n\u001b[0m\u001b[1;32m    306\u001b[0m             \u001b[0;32mif\u001b[0m \u001b[0mclean_line\u001b[0m\u001b[0;34m:\u001b[0m\u001b[0;34m\u001b[0m\u001b[0m\n\u001b[1;32m    307\u001b[0m                 w, h, d = renderer.get_text_width_height_descent(clean_line,\n",
      "\u001b[0;32m/Users/mani/anaconda3/envs/py27/lib/python2.7/site-packages/matplotlib/text.pyc\u001b[0m in \u001b[0;36mis_math_text\u001b[0;34m(s, usetex)\u001b[0m\n\u001b[1;32m   1186\u001b[0m             \u001b[0;32mreturn\u001b[0m \u001b[0ms\u001b[0m\u001b[0;34m,\u001b[0m \u001b[0;34m'TeX'\u001b[0m\u001b[0;34m\u001b[0m\u001b[0m\n\u001b[1;32m   1187\u001b[0m \u001b[0;34m\u001b[0m\u001b[0m\n\u001b[0;32m-> 1188\u001b[0;31m         \u001b[0;32mif\u001b[0m \u001b[0mcbook\u001b[0m\u001b[0;34m.\u001b[0m\u001b[0mis_math_text\u001b[0m\u001b[0;34m(\u001b[0m\u001b[0ms\u001b[0m\u001b[0;34m)\u001b[0m\u001b[0;34m:\u001b[0m\u001b[0;34m\u001b[0m\u001b[0m\n\u001b[0m\u001b[1;32m   1189\u001b[0m             \u001b[0;32mreturn\u001b[0m \u001b[0ms\u001b[0m\u001b[0;34m,\u001b[0m \u001b[0mTrue\u001b[0m\u001b[0;34m\u001b[0m\u001b[0m\n\u001b[1;32m   1190\u001b[0m         \u001b[0;32melse\u001b[0m\u001b[0;34m:\u001b[0m\u001b[0;34m\u001b[0m\u001b[0m\n",
      "\u001b[0;32m/Users/mani/anaconda3/envs/py27/lib/python2.7/site-packages/matplotlib/cbook/__init__.pyc\u001b[0m in \u001b[0;36mis_math_text\u001b[0;34m(s)\u001b[0m\n\u001b[1;32m   2031\u001b[0m     \u001b[0;32mexcept\u001b[0m \u001b[0mUnicodeDecodeError\u001b[0m\u001b[0;34m:\u001b[0m\u001b[0;34m\u001b[0m\u001b[0m\n\u001b[1;32m   2032\u001b[0m         raise ValueError(\n\u001b[0;32m-> 2033\u001b[0;31m             \u001b[0;34m\"matplotlib display text must have all code points < 128 or use \"\u001b[0m\u001b[0;34m\u001b[0m\u001b[0m\n\u001b[0m\u001b[1;32m   2034\u001b[0m             \"Unicode strings\")\n\u001b[1;32m   2035\u001b[0m \u001b[0;34m\u001b[0m\u001b[0m\n",
      "\u001b[0;31mValueError\u001b[0m: matplotlib display text must have all code points < 128 or use Unicode strings"
     ]
    },
    {
     "data": {
      "text/plain": [
       "<Figure size 720x720 with 1 Axes>"
      ]
     },
     "metadata": {},
     "output_type": "display_data"
    }
   ],
   "source": [
    "f, ax = plt.subplots(figsize=(10, 10))\n",
    "sns.barplot(x='count', y='restaurant_name', data=top_10, color=\"violet\", ax = ax)\n",
    "plt.show()"
   ]
  },
  {
   "cell_type": "code",
   "execution_count": 23,
   "metadata": {},
   "outputs": [
    {
     "data": {
      "text/html": [
       "<div>\n",
       "<style scoped>\n",
       "    .dataframe tbody tr th:only-of-type {\n",
       "        vertical-align: middle;\n",
       "    }\n",
       "\n",
       "    .dataframe tbody tr th {\n",
       "        vertical-align: top;\n",
       "    }\n",
       "\n",
       "    .dataframe thead th {\n",
       "        text-align: right;\n",
       "    }\n",
       "</style>\n",
       "<table border=\"1\" class=\"dataframe\">\n",
       "  <thead>\n",
       "    <tr style=\"text-align: right;\">\n",
       "      <th></th>\n",
       "      <th>restaurant_name</th>\n",
       "      <th>count</th>\n",
       "    </tr>\n",
       "  </thead>\n",
       "  <tbody>\n",
       "    <tr>\n",
       "      <th>165</th>\n",
       "      <td>Manhattan Bar Grill &amp; Lounge</td>\n",
       "      <td>1</td>\n",
       "    </tr>\n",
       "    <tr>\n",
       "      <th>18</th>\n",
       "      <td>Azteca Taqueria Restaurant</td>\n",
       "      <td>1</td>\n",
       "    </tr>\n",
       "    <tr>\n",
       "      <th>159</th>\n",
       "      <td>MONDO - DOGS</td>\n",
       "      <td>1</td>\n",
       "    </tr>\n",
       "    <tr>\n",
       "      <th>81</th>\n",
       "      <td>El Cantante</td>\n",
       "      <td>1</td>\n",
       "    </tr>\n",
       "    <tr>\n",
       "      <th>289</th>\n",
       "      <td>Wah Yoan</td>\n",
       "      <td>1</td>\n",
       "    </tr>\n",
       "    <tr>\n",
       "      <th>92</th>\n",
       "      <td>Field House Grill</td>\n",
       "      <td>1</td>\n",
       "    </tr>\n",
       "    <tr>\n",
       "      <th>1</th>\n",
       "      <td>52 Restaurant</td>\n",
       "      <td>1</td>\n",
       "    </tr>\n",
       "    <tr>\n",
       "      <th>87</th>\n",
       "      <td>El Salvador Restaurant</td>\n",
       "      <td>1</td>\n",
       "    </tr>\n",
       "    <tr>\n",
       "      <th>240</th>\n",
       "      <td>Taquitos Mexicanos</td>\n",
       "      <td>2</td>\n",
       "    </tr>\n",
       "    <tr>\n",
       "      <th>99</th>\n",
       "      <td>Funjabi</td>\n",
       "      <td>2</td>\n",
       "    </tr>\n",
       "  </tbody>\n",
       "</table>\n",
       "</div>"
      ],
      "text/plain": [
       "                  restaurant_name  count\n",
       "165  Manhattan Bar Grill & Lounge      1\n",
       "18     Azteca Taqueria Restaurant      1\n",
       "159                  MONDO - DOGS      1\n",
       "81                    El Cantante      1\n",
       "289                      Wah Yoan      1\n",
       "92              Field House Grill      1\n",
       "1                   52 Restaurant      1\n",
       "87         El Salvador Restaurant      1\n",
       "240            Taquitos Mexicanos      2\n",
       "99                        Funjabi      2"
      ]
     },
     "execution_count": 23,
     "metadata": {},
     "output_type": "execute_result"
    }
   ],
   "source": [
    "restaurant_name.sort_values(by=['count']).head(10)"
   ]
  },
  {
   "cell_type": "markdown",
   "metadata": {},
   "source": [
    "- restaurant_rating"
   ]
  },
  {
   "cell_type": "code",
   "execution_count": 24,
   "metadata": {},
   "outputs": [],
   "source": [
    "df.restaurant_rating = df.restaurant_rating.replace({'5.0 star rating':5,\n",
    "                                         '4.0 star rating':4, \n",
    "                                         '3.0 star rating':3,\n",
    "                                         '2.0 star rating':2,\n",
    "                                         '1.0 star rating':1\n",
    "                                        })"
   ]
  },
  {
   "cell_type": "markdown",
   "metadata": {},
   "source": [
    "- restaurant_price"
   ]
  },
  {
   "cell_type": "code",
   "execution_count": 25,
   "metadata": {},
   "outputs": [
    {
     "data": {
      "text/plain": [
       "array(['$$', '$', '$$$', nan, '$$$$'], dtype=object)"
      ]
     },
     "execution_count": 25,
     "metadata": {},
     "output_type": "execute_result"
    }
   ],
   "source": [
    "df.restaurant_price.unique()"
   ]
  },
  {
   "cell_type": "code",
   "execution_count": 26,
   "metadata": {},
   "outputs": [],
   "source": [
    "df.restaurant_price = df.restaurant_price.replace({'$':1,\n",
    "                                                     '$$':2, \n",
    "                                                     '$$$':3,\n",
    "                                                     '$$$$':4})"
   ]
  },
  {
   "cell_type": "markdown",
   "metadata": {},
   "source": [
    "- restaurant_type"
   ]
  },
  {
   "cell_type": "code",
   "execution_count": 27,
   "metadata": {},
   "outputs": [],
   "source": [
    "li = []\n",
    "for i in range(len(df)):\n",
    "    item = df.restaurant_type.loc[i].replace(',', '')\n",
    "    item = item.replace('&', '')\n",
    "    li.append(item)"
   ]
  },
  {
   "cell_type": "code",
   "execution_count": 28,
   "metadata": {},
   "outputs": [],
   "source": [
    "df['restaurant_type'] = li"
   ]
  },
  {
   "cell_type": "markdown",
   "metadata": {},
   "source": [
    "- data cleaning finish"
   ]
  },
  {
   "cell_type": "code",
   "execution_count": 29,
   "metadata": {},
   "outputs": [],
   "source": [
    "df.to_csv('Hoboken_restaurants_reviews_cleaned.csv', index=False)"
   ]
  },
  {
   "cell_type": "markdown",
   "metadata": {},
   "source": [
    "## Reshape Dataset"
   ]
  },
  {
   "cell_type": "code",
   "execution_count": 30,
   "metadata": {},
   "outputs": [],
   "source": [
    "df = pd.read_csv('Hoboken_restaurants_reviews_cleaned.csv')\n",
    "\n",
    "train_raw = df[['user_id','restaurant_name', 'user_rating']]"
   ]
  },
  {
   "cell_type": "code",
   "execution_count": 31,
   "metadata": {},
   "outputs": [
    {
     "data": {
      "text/plain": [
       "44949"
      ]
     },
     "execution_count": 31,
     "metadata": {},
     "output_type": "execute_result"
    }
   ],
   "source": [
    "len(train_raw.user_id.unique())"
   ]
  },
  {
   "cell_type": "code",
   "execution_count": 32,
   "metadata": {},
   "outputs": [],
   "source": [
    "gb_df = pd.DataFrame(train_raw.groupby(['restaurant_name','user_id']).mean())\n",
    "gb_df.reset_index(level=0, inplace = True)\n",
    "gb_df.reset_index(level=0, inplace = True)\n",
    "gb_df.to_csv('rating_only_dataset.csv', index=False)"
   ]
  },
  {
   "cell_type": "code",
   "execution_count": 33,
   "metadata": {},
   "outputs": [],
   "source": [
    "train_df = gb_df.pivot(index = 'user_id', columns ='restaurant_name', values = 'user_rating').fillna(0)\n",
    "train_df.to_csv('recommendation_dataset.csv',index=True)"
   ]
  },
  {
   "cell_type": "code",
   "execution_count": 34,
   "metadata": {},
   "outputs": [],
   "source": [
    "train_set = pd.read_csv('recommendation_dataset.csv')"
   ]
  },
  {
   "cell_type": "code",
   "execution_count": 35,
   "metadata": {},
   "outputs": [
    {
     "data": {
      "text/html": [
       "<div>\n",
       "<style scoped>\n",
       "    .dataframe tbody tr th:only-of-type {\n",
       "        vertical-align: middle;\n",
       "    }\n",
       "\n",
       "    .dataframe tbody tr th {\n",
       "        vertical-align: top;\n",
       "    }\n",
       "\n",
       "    .dataframe thead th {\n",
       "        text-align: right;\n",
       "    }\n",
       "</style>\n",
       "<table border=\"1\" class=\"dataframe\">\n",
       "  <thead>\n",
       "    <tr style=\"text-align: right;\">\n",
       "      <th></th>\n",
       "      <th>user_id</th>\n",
       "      <th>10th &amp; Willow Bar &amp; Grill</th>\n",
       "      <th>52 Restaurant</th>\n",
       "      <th>8th Street Tavern</th>\n",
       "      <th>Adoro Lei</th>\n",
       "      <th>Aether Game Cafe</th>\n",
       "      <th>Ahri’s Kitchen</th>\n",
       "      <th>Ainsworth Hoboken</th>\n",
       "      <th>Aldys Restaurant</th>\n",
       "      <th>Ali Baba</th>\n",
       "      <th>...</th>\n",
       "      <th>White Star Bar</th>\n",
       "      <th>Wicked Wolf Tavern</th>\n",
       "      <th>Willie McBrides</th>\n",
       "      <th>Yeung II Sushi Asian Cuisine</th>\n",
       "      <th>Zack’s Oak Bar &amp; Restaurant</th>\n",
       "      <th>Zafra Kitchen</th>\n",
       "      <th>Zap’s</th>\n",
       "      <th>bwè kafe</th>\n",
       "      <th>honeygrow</th>\n",
       "      <th>奥田</th>\n",
       "    </tr>\n",
       "  </thead>\n",
       "  <tbody>\n",
       "    <tr>\n",
       "      <th>0</th>\n",
       "      <td>---xAZNw9fFPBoy7jmkA2A</td>\n",
       "      <td>0.0</td>\n",
       "      <td>0.0</td>\n",
       "      <td>0.0</td>\n",
       "      <td>0.0</td>\n",
       "      <td>0.0</td>\n",
       "      <td>0.0</td>\n",
       "      <td>0.0</td>\n",
       "      <td>0.0</td>\n",
       "      <td>0.0</td>\n",
       "      <td>...</td>\n",
       "      <td>0.0</td>\n",
       "      <td>0.0</td>\n",
       "      <td>0.0</td>\n",
       "      <td>0.0</td>\n",
       "      <td>0.0</td>\n",
       "      <td>0.0</td>\n",
       "      <td>0.0</td>\n",
       "      <td>0.0</td>\n",
       "      <td>0.0</td>\n",
       "      <td>0.0</td>\n",
       "    </tr>\n",
       "    <tr>\n",
       "      <th>1</th>\n",
       "      <td>--68ZwhCrUJUmCXXkMTMKw</td>\n",
       "      <td>0.0</td>\n",
       "      <td>0.0</td>\n",
       "      <td>0.0</td>\n",
       "      <td>0.0</td>\n",
       "      <td>0.0</td>\n",
       "      <td>0.0</td>\n",
       "      <td>0.0</td>\n",
       "      <td>0.0</td>\n",
       "      <td>0.0</td>\n",
       "      <td>...</td>\n",
       "      <td>0.0</td>\n",
       "      <td>0.0</td>\n",
       "      <td>0.0</td>\n",
       "      <td>0.0</td>\n",
       "      <td>0.0</td>\n",
       "      <td>0.0</td>\n",
       "      <td>0.0</td>\n",
       "      <td>0.0</td>\n",
       "      <td>0.0</td>\n",
       "      <td>0.0</td>\n",
       "    </tr>\n",
       "    <tr>\n",
       "      <th>2</th>\n",
       "      <td>--8M2DZ9JkDwTveuRhLPTQ</td>\n",
       "      <td>0.0</td>\n",
       "      <td>0.0</td>\n",
       "      <td>0.0</td>\n",
       "      <td>0.0</td>\n",
       "      <td>0.0</td>\n",
       "      <td>0.0</td>\n",
       "      <td>0.0</td>\n",
       "      <td>0.0</td>\n",
       "      <td>0.0</td>\n",
       "      <td>...</td>\n",
       "      <td>0.0</td>\n",
       "      <td>0.0</td>\n",
       "      <td>0.0</td>\n",
       "      <td>0.0</td>\n",
       "      <td>0.0</td>\n",
       "      <td>0.0</td>\n",
       "      <td>0.0</td>\n",
       "      <td>0.0</td>\n",
       "      <td>0.0</td>\n",
       "      <td>0.0</td>\n",
       "    </tr>\n",
       "    <tr>\n",
       "      <th>3</th>\n",
       "      <td>--ARr3m5JsxaX3DTUVQW7w</td>\n",
       "      <td>0.0</td>\n",
       "      <td>0.0</td>\n",
       "      <td>0.0</td>\n",
       "      <td>0.0</td>\n",
       "      <td>0.0</td>\n",
       "      <td>0.0</td>\n",
       "      <td>0.0</td>\n",
       "      <td>0.0</td>\n",
       "      <td>0.0</td>\n",
       "      <td>...</td>\n",
       "      <td>0.0</td>\n",
       "      <td>0.0</td>\n",
       "      <td>0.0</td>\n",
       "      <td>0.0</td>\n",
       "      <td>0.0</td>\n",
       "      <td>0.0</td>\n",
       "      <td>0.0</td>\n",
       "      <td>0.0</td>\n",
       "      <td>0.0</td>\n",
       "      <td>0.0</td>\n",
       "    </tr>\n",
       "    <tr>\n",
       "      <th>4</th>\n",
       "      <td>--CZJeSIpxwQ0VULjnM57w</td>\n",
       "      <td>0.0</td>\n",
       "      <td>0.0</td>\n",
       "      <td>0.0</td>\n",
       "      <td>0.0</td>\n",
       "      <td>0.0</td>\n",
       "      <td>0.0</td>\n",
       "      <td>0.0</td>\n",
       "      <td>0.0</td>\n",
       "      <td>0.0</td>\n",
       "      <td>...</td>\n",
       "      <td>0.0</td>\n",
       "      <td>0.0</td>\n",
       "      <td>0.0</td>\n",
       "      <td>0.0</td>\n",
       "      <td>0.0</td>\n",
       "      <td>0.0</td>\n",
       "      <td>0.0</td>\n",
       "      <td>0.0</td>\n",
       "      <td>0.0</td>\n",
       "      <td>0.0</td>\n",
       "    </tr>\n",
       "  </tbody>\n",
       "</table>\n",
       "<p>5 rows × 303 columns</p>\n",
       "</div>"
      ],
      "text/plain": [
       "                  user_id  10th & Willow Bar & Grill  52 Restaurant  \\\n",
       "0  ---xAZNw9fFPBoy7jmkA2A                        0.0            0.0   \n",
       "1  --68ZwhCrUJUmCXXkMTMKw                        0.0            0.0   \n",
       "2  --8M2DZ9JkDwTveuRhLPTQ                        0.0            0.0   \n",
       "3  --ARr3m5JsxaX3DTUVQW7w                        0.0            0.0   \n",
       "4  --CZJeSIpxwQ0VULjnM57w                        0.0            0.0   \n",
       "\n",
       "   8th Street Tavern  Adoro Lei  Aether Game Cafe  Ahri’s Kitchen  \\\n",
       "0                0.0        0.0               0.0             0.0   \n",
       "1                0.0        0.0               0.0             0.0   \n",
       "2                0.0        0.0               0.0             0.0   \n",
       "3                0.0        0.0               0.0             0.0   \n",
       "4                0.0        0.0               0.0             0.0   \n",
       "\n",
       "   Ainsworth Hoboken  Aldys Restaurant  Ali Baba ...   White Star Bar  \\\n",
       "0                0.0               0.0       0.0 ...              0.0   \n",
       "1                0.0               0.0       0.0 ...              0.0   \n",
       "2                0.0               0.0       0.0 ...              0.0   \n",
       "3                0.0               0.0       0.0 ...              0.0   \n",
       "4                0.0               0.0       0.0 ...              0.0   \n",
       "\n",
       "   Wicked Wolf Tavern  Willie McBrides  Yeung II Sushi Asian Cuisine  \\\n",
       "0                 0.0              0.0                           0.0   \n",
       "1                 0.0              0.0                           0.0   \n",
       "2                 0.0              0.0                           0.0   \n",
       "3                 0.0              0.0                           0.0   \n",
       "4                 0.0              0.0                           0.0   \n",
       "\n",
       "   Zack’s Oak Bar & Restaurant  Zafra Kitchen  Zap’s  bwè kafe  honeygrow   奥田  \n",
       "0                          0.0            0.0    0.0       0.0        0.0  0.0  \n",
       "1                          0.0            0.0    0.0       0.0        0.0  0.0  \n",
       "2                          0.0            0.0    0.0       0.0        0.0  0.0  \n",
       "3                          0.0            0.0    0.0       0.0        0.0  0.0  \n",
       "4                          0.0            0.0    0.0       0.0        0.0  0.0  \n",
       "\n",
       "[5 rows x 303 columns]"
      ]
     },
     "execution_count": 35,
     "metadata": {},
     "output_type": "execute_result"
    }
   ],
   "source": [
    "train_set.head()"
   ]
  },
  {
   "cell_type": "markdown",
   "metadata": {},
   "source": [
    "## III. Basic Methods:\n",
    "- co-occurrence matrices\n",
    "- collaborative filtering\n",
    "- matrix decomposition"
   ]
  },
  {
   "cell_type": "markdown",
   "metadata": {},
   "source": [
    "### III.1 co-occurrence Matrices\n",
    "\n",
    "- Background:\n",
    "This is the simpliest method I use to build the recommendation system.   \n",
    "The underlying assumption is that the customers will be interested in the restaurants that the other customers who attended same restaurants with this customer have been.\n",
    "\n",
    "- Algorithms/equations:  \n",
    "    - Co-occurrence Matrix = T(A) * A  \n",
    "    - recommender = Co-occurrence Matrix * u\n",
    "\n",
    "- Advantages:\n",
    "    - Simple\n",
    "    - Build with dataset in any size\n",
    "\n",
    "- Limitations:\n",
    "    - only based on the past behavior\n",
    "    - ignore the user's rating for restaurants"
   ]
  },
  {
   "cell_type": "code",
   "execution_count": 36,
   "metadata": {},
   "outputs": [],
   "source": [
    "import pandas as pd\n",
    "import numpy as np"
   ]
  },
  {
   "cell_type": "markdown",
   "metadata": {},
   "source": [
    "- Step 1: data preparation"
   ]
  },
  {
   "cell_type": "code",
   "execution_count": 37,
   "metadata": {},
   "outputs": [],
   "source": [
    "def get_dataset_co_occurence(df):\n",
    "    df = df.replace({5:1, 4:1, 3:1, 2:1})\n",
    "    return df"
   ]
  },
  {
   "cell_type": "markdown",
   "metadata": {},
   "source": [
    "- Step 2: co-occurrence matrix"
   ]
  },
  {
   "cell_type": "code",
   "execution_count": 38,
   "metadata": {},
   "outputs": [],
   "source": [
    "def get_co_occurrence_matrices(df):\n",
    "    co_train_set = get_dataset_co_occurence(df)\n",
    "    co_matrices =np.matrix(co_train_set.iloc[:,1:])\n",
    "    co_matrices_t = co_matrices.getT()\n",
    "    co_matrices_t\n",
    "    co_occurence_matrix = co_matrices_t * co_matrices\n",
    "    np.fill_diagonal(co_occurence_matrix, 0)\n",
    "    return co_train_set,co_occurence_matrix"
   ]
  },
  {
   "cell_type": "markdown",
   "metadata": {},
   "source": [
    "- Step 3: recommender for each user"
   ]
  },
  {
   "cell_type": "code",
   "execution_count": 39,
   "metadata": {},
   "outputs": [],
   "source": [
    "def get_co_occurence_result(df=None, user_idx=None, user_id = None, top_n=None):\n",
    "    if user_idx is not None:\n",
    "        user = co_train_set.iloc[user_idx,1:]\n",
    "    if user_id is not None:\n",
    "        user = co_train_set[co_train_set.user_id== user_id].iloc[0][1:]\n",
    "    user_vector = np.array(user)\n",
    "    recommender =  user_vector * co_occurence_matrix\n",
    "    recommender = np.array(recommender).reshape(-1,)\n",
    "    recommender = recommender.tolist()\n",
    "    user_result = pd.DataFrame(user)\n",
    "    user_result['recommender'] = recommender\n",
    "    result_for_user = user_result[user_result.iloc[:, 0] != 1].sort_values(by = 'recommender', ascending = False)\n",
    "    result_for_user = list(result_for_user.head(top_n).index.values)\n",
    "    return result_for_user"
   ]
  },
  {
   "cell_type": "code",
   "execution_count": 40,
   "metadata": {},
   "outputs": [
    {
     "data": {
      "text/plain": [
       "['The Cheesecake Factory', 'Raaz', 'New Thanh Hoai']"
      ]
     },
     "execution_count": 40,
     "metadata": {},
     "output_type": "execute_result"
    }
   ],
   "source": [
    "co_train_set,co_occurence_matrix = get_co_occurrence_matrices(train_set)\n",
    "recommendation_for_user  = get_co_occurence_result(df = co_train_set, user_id= '--68ZwhCrUJUmCXXkMTMKw', top_n = 3)\n",
    "recommendation_for_user"
   ]
  },
  {
   "cell_type": "markdown",
   "metadata": {},
   "source": [
    "### III.2 Collaborative Filtering\n",
    "- Background: My second recommendation system use collaborative filtering. This method is tring to find people with similar interests, analyze those guys behaviors, and recommend user the same items. These are two basic approaches in Collaborative Filtering: user-based collaborative filtering and item-based collaborative filtering.\n",
    "  \n",
    "- Basically, all of those two methods contains two steps:\n",
    "    - First Step: Find out how many users/items in the database are similar to the given user/item.  \n",
    "    - Second Step: Assess other users/items to predict what grade you would give the user of this product, given the total weight of the users/items that are more similar to this one.\n",
    "    \n",
    "\n",
    "- Algorithms/Equations:\n",
    "    - Similarity Calculation: \n",
    "        1. cosine similarity; \n",
    "        2. Jaccard Similarity; \n",
    "        3. Pearson Similarity\n",
    "    - Recommend_items: simple **weighted arithmetic mean** according to the degree of similarity to fill empty cells in the table.\n",
    "    \n",
    "      \n",
    "- Advantages:\n",
    "    - Take the rating into account  \n",
    "    \n",
    "  \n",
    "- Disadvantages:\n",
    "    - Only focus on the privious behaviors"
   ]
  },
  {
   "cell_type": "markdown",
   "metadata": {},
   "source": [
    "- Step 1: Data preparationg"
   ]
  },
  {
   "cell_type": "code",
   "execution_count": 41,
   "metadata": {},
   "outputs": [],
   "source": [
    "df = pd.read_csv('rating_only_dataset.csv')"
   ]
  },
  {
   "cell_type": "code",
   "execution_count": 42,
   "metadata": {},
   "outputs": [
    {
     "name": "stdout",
     "output_type": "stream",
     "text": [
      "Number of users = 44949 | Number of restaurants = 302\n"
     ]
    }
   ],
   "source": [
    "n_users = df.user_id.unique().shape[0]\n",
    "n_items = df.restaurant_name.unique().shape[0]\n",
    "print ('Number of users = ' + str(n_users) + ' | Number of restaurants = ' + str(n_items))"
   ]
  },
  {
   "cell_type": "code",
   "execution_count": 43,
   "metadata": {},
   "outputs": [],
   "source": [
    "train_data, test_data = train_test_split(df, test_size=0.25)"
   ]
  },
  {
   "cell_type": "code",
   "execution_count": 44,
   "metadata": {},
   "outputs": [
    {
     "data": {
      "text/html": [
       "<div>\n",
       "<style scoped>\n",
       "    .dataframe tbody tr th:only-of-type {\n",
       "        vertical-align: middle;\n",
       "    }\n",
       "\n",
       "    .dataframe tbody tr th {\n",
       "        vertical-align: top;\n",
       "    }\n",
       "\n",
       "    .dataframe thead th {\n",
       "        text-align: right;\n",
       "    }\n",
       "</style>\n",
       "<table border=\"1\" class=\"dataframe\">\n",
       "  <thead>\n",
       "    <tr style=\"text-align: right;\">\n",
       "      <th></th>\n",
       "      <th>user_id</th>\n",
       "      <th>restaurant_name</th>\n",
       "      <th>user_rating</th>\n",
       "    </tr>\n",
       "  </thead>\n",
       "  <tbody>\n",
       "    <tr>\n",
       "      <th>51793</th>\n",
       "      <td>LwW8U8W5A9HKr3gTXILEqA</td>\n",
       "      <td>The Brass Rail</td>\n",
       "      <td>4</td>\n",
       "    </tr>\n",
       "    <tr>\n",
       "      <th>10001</th>\n",
       "      <td>lXVG3N6C01AQwoblXXl4BA</td>\n",
       "      <td>Casa La Femme</td>\n",
       "      <td>1</td>\n",
       "    </tr>\n",
       "    <tr>\n",
       "      <th>62775</th>\n",
       "      <td>LNozAFneK7NN_KLLckvudQ</td>\n",
       "      <td>Trattoria Saporito</td>\n",
       "      <td>3</td>\n",
       "    </tr>\n",
       "    <tr>\n",
       "      <th>21528</th>\n",
       "      <td>iJBL9x2uv5_Je3n_2mCQlA</td>\n",
       "      <td>Entwine</td>\n",
       "      <td>3</td>\n",
       "    </tr>\n",
       "    <tr>\n",
       "      <th>66251</th>\n",
       "      <td>Sy3vb_N2Us-bWqdyhPP2ZQ</td>\n",
       "      <td>Wafels &amp; Dinges</td>\n",
       "      <td>5</td>\n",
       "    </tr>\n",
       "  </tbody>\n",
       "</table>\n",
       "</div>"
      ],
      "text/plain": [
       "                      user_id     restaurant_name  user_rating\n",
       "51793  LwW8U8W5A9HKr3gTXILEqA      The Brass Rail            4\n",
       "10001  lXVG3N6C01AQwoblXXl4BA       Casa La Femme            1\n",
       "62775  LNozAFneK7NN_KLLckvudQ  Trattoria Saporito            3\n",
       "21528  iJBL9x2uv5_Je3n_2mCQlA             Entwine            3\n",
       "66251  Sy3vb_N2Us-bWqdyhPP2ZQ     Wafels & Dinges            5"
      ]
     },
     "execution_count": 44,
     "metadata": {},
     "output_type": "execute_result"
    }
   ],
   "source": [
    "train_data.head()"
   ]
  },
  {
   "cell_type": "code",
   "execution_count": 45,
   "metadata": {},
   "outputs": [
    {
     "data": {
      "text/plain": [
       "(52163, 3)"
      ]
     },
     "execution_count": 45,
     "metadata": {},
     "output_type": "execute_result"
    }
   ],
   "source": [
    "train_data.shape"
   ]
  },
  {
   "cell_type": "code",
   "execution_count": 46,
   "metadata": {},
   "outputs": [
    {
     "data": {
      "text/html": [
       "<div>\n",
       "<style scoped>\n",
       "    .dataframe tbody tr th:only-of-type {\n",
       "        vertical-align: middle;\n",
       "    }\n",
       "\n",
       "    .dataframe tbody tr th {\n",
       "        vertical-align: top;\n",
       "    }\n",
       "\n",
       "    .dataframe thead th {\n",
       "        text-align: right;\n",
       "    }\n",
       "</style>\n",
       "<table border=\"1\" class=\"dataframe\">\n",
       "  <thead>\n",
       "    <tr style=\"text-align: right;\">\n",
       "      <th></th>\n",
       "      <th>user_id</th>\n",
       "      <th>restaurant_name</th>\n",
       "      <th>user_rating</th>\n",
       "    </tr>\n",
       "  </thead>\n",
       "  <tbody>\n",
       "    <tr>\n",
       "      <th>20166</th>\n",
       "      <td>13oT_jlpmT3DMyMBDvSNoA</td>\n",
       "      <td>Employees Only</td>\n",
       "      <td>4</td>\n",
       "    </tr>\n",
       "    <tr>\n",
       "      <th>16647</th>\n",
       "      <td>givAxTBH5CBj0czr26urhQ</td>\n",
       "      <td>Del Posto</td>\n",
       "      <td>5</td>\n",
       "    </tr>\n",
       "    <tr>\n",
       "      <th>13068</th>\n",
       "      <td>zCHFBWjQlp9QutNDIGNgjg</td>\n",
       "      <td>Chart House</td>\n",
       "      <td>5</td>\n",
       "    </tr>\n",
       "    <tr>\n",
       "      <th>50917</th>\n",
       "      <td>HRNbf4hTkE67sJeK1DU7OA</td>\n",
       "      <td>Takashi</td>\n",
       "      <td>5</td>\n",
       "    </tr>\n",
       "    <tr>\n",
       "      <th>47504</th>\n",
       "      <td>SbyKtR2MnSOi1nX2aI2mKA</td>\n",
       "      <td>San Marino Restaurante</td>\n",
       "      <td>3</td>\n",
       "    </tr>\n",
       "  </tbody>\n",
       "</table>\n",
       "</div>"
      ],
      "text/plain": [
       "                      user_id         restaurant_name  user_rating\n",
       "20166  13oT_jlpmT3DMyMBDvSNoA          Employees Only            4\n",
       "16647  givAxTBH5CBj0czr26urhQ               Del Posto            5\n",
       "13068  zCHFBWjQlp9QutNDIGNgjg             Chart House            5\n",
       "50917  HRNbf4hTkE67sJeK1DU7OA                 Takashi            5\n",
       "47504  SbyKtR2MnSOi1nX2aI2mKA  San Marino Restaurante            3"
      ]
     },
     "execution_count": 46,
     "metadata": {},
     "output_type": "execute_result"
    }
   ],
   "source": [
    "test_data.head()"
   ]
  },
  {
   "cell_type": "code",
   "execution_count": 47,
   "metadata": {},
   "outputs": [
    {
     "data": {
      "text/plain": [
       "(17388, 3)"
      ]
     },
     "execution_count": 47,
     "metadata": {},
     "output_type": "execute_result"
    }
   ],
   "source": [
    "test_data.shape"
   ]
  },
  {
   "cell_type": "markdown",
   "metadata": {},
   "source": [
    "- Step 2: calculate similarity \n",
    "    - Three Similarity\n",
    "        1. cosine similarity; \n",
    "        2. Jaccard Similarity; \n",
    "        3. Pearson Similarity\n",
    "    - Two approches\n",
    "        1. user-item collaborative filtering\n",
    "        2. item-item collaborative filtering"
   ]
  },
  {
   "cell_type": "code",
   "execution_count": 48,
   "metadata": {},
   "outputs": [
    {
     "name": "stdout",
     "output_type": "stream",
     "text": [
      "This non-commercial license of GraphLab Create for academic use is assigned to nman@stevens.edu and will expire on April 25, 2019.\n"
     ]
    },
    {
     "name": "stderr",
     "output_type": "stream",
     "text": [
      "[INFO] graphlab.cython.cy_server: GraphLab Create v2.1 started. Logging: /tmp/graphlab_server_1524687797.log\n"
     ]
    }
   ],
   "source": [
    "train_data_gl = graphlab.SFrame(train_data)\n",
    "test_data_gl = graphlab.SFrame(test_data)"
   ]
  },
  {
   "cell_type": "code",
   "execution_count": 49,
   "metadata": {},
   "outputs": [
    {
     "data": {
      "text/html": [
       "<div style=\"max-height:1000px;max-width:1500px;overflow:auto;\"><table frame=\"box\" rules=\"cols\">\n",
       "    <tr>\n",
       "        <th style=\"padding-left: 1em; padding-right: 1em; text-align: center\">user_id</th>\n",
       "        <th style=\"padding-left: 1em; padding-right: 1em; text-align: center\">restaurant_name</th>\n",
       "        <th style=\"padding-left: 1em; padding-right: 1em; text-align: center\">user_rating</th>\n",
       "    </tr>\n",
       "    <tr>\n",
       "        <td style=\"padding-left: 1em; padding-right: 1em; text-align: center; vertical-align: top\">LwW8U8W5A9HKr3gTXILEqA</td>\n",
       "        <td style=\"padding-left: 1em; padding-right: 1em; text-align: center; vertical-align: top\">The Brass Rail</td>\n",
       "        <td style=\"padding-left: 1em; padding-right: 1em; text-align: center; vertical-align: top\">4</td>\n",
       "    </tr>\n",
       "    <tr>\n",
       "        <td style=\"padding-left: 1em; padding-right: 1em; text-align: center; vertical-align: top\">lXVG3N6C01AQwoblXXl4BA</td>\n",
       "        <td style=\"padding-left: 1em; padding-right: 1em; text-align: center; vertical-align: top\">Casa La Femme</td>\n",
       "        <td style=\"padding-left: 1em; padding-right: 1em; text-align: center; vertical-align: top\">1</td>\n",
       "    </tr>\n",
       "    <tr>\n",
       "        <td style=\"padding-left: 1em; padding-right: 1em; text-align: center; vertical-align: top\">LNozAFneK7NN_KLLckvudQ</td>\n",
       "        <td style=\"padding-left: 1em; padding-right: 1em; text-align: center; vertical-align: top\">Trattoria Saporito</td>\n",
       "        <td style=\"padding-left: 1em; padding-right: 1em; text-align: center; vertical-align: top\">3</td>\n",
       "    </tr>\n",
       "    <tr>\n",
       "        <td style=\"padding-left: 1em; padding-right: 1em; text-align: center; vertical-align: top\">iJBL9x2uv5_Je3n_2mCQlA</td>\n",
       "        <td style=\"padding-left: 1em; padding-right: 1em; text-align: center; vertical-align: top\">Entwine</td>\n",
       "        <td style=\"padding-left: 1em; padding-right: 1em; text-align: center; vertical-align: top\">3</td>\n",
       "    </tr>\n",
       "    <tr>\n",
       "        <td style=\"padding-left: 1em; padding-right: 1em; text-align: center; vertical-align: top\">Sy3vb_N2Us-bWqdyhPP2ZQ</td>\n",
       "        <td style=\"padding-left: 1em; padding-right: 1em; text-align: center; vertical-align: top\">Wafels &amp; Dinges</td>\n",
       "        <td style=\"padding-left: 1em; padding-right: 1em; text-align: center; vertical-align: top\">5</td>\n",
       "    </tr>\n",
       "</table>\n",
       "[5 rows x 3 columns]<br/>\n",
       "</div>"
      ],
      "text/plain": [
       "Columns:\n",
       "\tuser_id\tstr\n",
       "\trestaurant_name\tstr\n",
       "\tuser_rating\tint\n",
       "\n",
       "Rows: 5\n",
       "\n",
       "Data:\n",
       "+------------------------+--------------------+-------------+\n",
       "|        user_id         |  restaurant_name   | user_rating |\n",
       "+------------------------+--------------------+-------------+\n",
       "| LwW8U8W5A9HKr3gTXILEqA |   The Brass Rail   |      4      |\n",
       "| lXVG3N6C01AQwoblXXl4BA |   Casa La Femme    |      1      |\n",
       "| LNozAFneK7NN_KLLckvudQ | Trattoria Saporito |      3      |\n",
       "| iJBL9x2uv5_Je3n_2mCQlA |      Entwine       |      3      |\n",
       "| Sy3vb_N2Us-bWqdyhPP2ZQ |  Wafels & Dinges   |      5      |\n",
       "+------------------------+--------------------+-------------+\n",
       "[5 rows x 3 columns]"
      ]
     },
     "execution_count": 49,
     "metadata": {},
     "output_type": "execute_result"
    }
   ],
   "source": [
    "train_data_gl.head(5)"
   ]
  },
  {
   "cell_type": "code",
   "execution_count": 50,
   "metadata": {},
   "outputs": [
    {
     "data": {
      "text/html": [
       "<div style=\"max-height:1000px;max-width:1500px;overflow:auto;\"><table frame=\"box\" rules=\"cols\">\n",
       "    <tr>\n",
       "        <th style=\"padding-left: 1em; padding-right: 1em; text-align: center\">user_id</th>\n",
       "        <th style=\"padding-left: 1em; padding-right: 1em; text-align: center\">restaurant_name</th>\n",
       "        <th style=\"padding-left: 1em; padding-right: 1em; text-align: center\">user_rating</th>\n",
       "    </tr>\n",
       "    <tr>\n",
       "        <td style=\"padding-left: 1em; padding-right: 1em; text-align: center; vertical-align: top\">13oT_jlpmT3DMyMBDvSNoA</td>\n",
       "        <td style=\"padding-left: 1em; padding-right: 1em; text-align: center; vertical-align: top\">Employees Only</td>\n",
       "        <td style=\"padding-left: 1em; padding-right: 1em; text-align: center; vertical-align: top\">4</td>\n",
       "    </tr>\n",
       "    <tr>\n",
       "        <td style=\"padding-left: 1em; padding-right: 1em; text-align: center; vertical-align: top\">givAxTBH5CBj0czr26urhQ</td>\n",
       "        <td style=\"padding-left: 1em; padding-right: 1em; text-align: center; vertical-align: top\">Del Posto</td>\n",
       "        <td style=\"padding-left: 1em; padding-right: 1em; text-align: center; vertical-align: top\">5</td>\n",
       "    </tr>\n",
       "    <tr>\n",
       "        <td style=\"padding-left: 1em; padding-right: 1em; text-align: center; vertical-align: top\">zCHFBWjQlp9QutNDIGNgjg</td>\n",
       "        <td style=\"padding-left: 1em; padding-right: 1em; text-align: center; vertical-align: top\">Chart House</td>\n",
       "        <td style=\"padding-left: 1em; padding-right: 1em; text-align: center; vertical-align: top\">5</td>\n",
       "    </tr>\n",
       "    <tr>\n",
       "        <td style=\"padding-left: 1em; padding-right: 1em; text-align: center; vertical-align: top\">HRNbf4hTkE67sJeK1DU7OA</td>\n",
       "        <td style=\"padding-left: 1em; padding-right: 1em; text-align: center; vertical-align: top\">Takashi</td>\n",
       "        <td style=\"padding-left: 1em; padding-right: 1em; text-align: center; vertical-align: top\">5</td>\n",
       "    </tr>\n",
       "    <tr>\n",
       "        <td style=\"padding-left: 1em; padding-right: 1em; text-align: center; vertical-align: top\">SbyKtR2MnSOi1nX2aI2mKA</td>\n",
       "        <td style=\"padding-left: 1em; padding-right: 1em; text-align: center; vertical-align: top\">San Marino Restaurante</td>\n",
       "        <td style=\"padding-left: 1em; padding-right: 1em; text-align: center; vertical-align: top\">3</td>\n",
       "    </tr>\n",
       "</table>\n",
       "[5 rows x 3 columns]<br/>\n",
       "</div>"
      ],
      "text/plain": [
       "Columns:\n",
       "\tuser_id\tstr\n",
       "\trestaurant_name\tstr\n",
       "\tuser_rating\tint\n",
       "\n",
       "Rows: 5\n",
       "\n",
       "Data:\n",
       "+------------------------+------------------------+-------------+\n",
       "|        user_id         |    restaurant_name     | user_rating |\n",
       "+------------------------+------------------------+-------------+\n",
       "| 13oT_jlpmT3DMyMBDvSNoA |     Employees Only     |      4      |\n",
       "| givAxTBH5CBj0czr26urhQ |       Del Posto        |      5      |\n",
       "| zCHFBWjQlp9QutNDIGNgjg |      Chart House       |      5      |\n",
       "| HRNbf4hTkE67sJeK1DU7OA |        Takashi         |      5      |\n",
       "| SbyKtR2MnSOi1nX2aI2mKA | San Marino Restaurante |      3      |\n",
       "+------------------------+------------------------+-------------+\n",
       "[5 rows x 3 columns]"
      ]
     },
     "execution_count": 50,
     "metadata": {},
     "output_type": "execute_result"
    }
   ],
   "source": [
    "test_data_gl.head(5)"
   ]
  },
  {
   "cell_type": "markdown",
   "metadata": {},
   "source": [
    "- try popularity_recommender\n",
    "    - Arg:\n",
    "        - train_data: the SFrame which contains the required data\n",
    "        - user_id: the column name which represents each user ID\n",
    "        - item_id: the column name which represents each item to be recommended\n",
    "        - target: the column name representing scores/ratings given by the user"
   ]
  },
  {
   "cell_type": "code",
   "execution_count": 51,
   "metadata": {},
   "outputs": [
    {
     "data": {
      "text/html": [
       "<pre>Recsys training: model = popularity</pre>"
      ],
      "text/plain": [
       "Recsys training: model = popularity"
      ]
     },
     "metadata": {},
     "output_type": "display_data"
    },
    {
     "data": {
      "text/html": [
       "<pre>Preparing data set.</pre>"
      ],
      "text/plain": [
       "Preparing data set."
      ]
     },
     "metadata": {},
     "output_type": "display_data"
    },
    {
     "data": {
      "text/html": [
       "<pre>    Data has 52163 observations with 35756 users and 298 items.</pre>"
      ],
      "text/plain": [
       "    Data has 52163 observations with 35756 users and 298 items."
      ]
     },
     "metadata": {},
     "output_type": "display_data"
    },
    {
     "data": {
      "text/html": [
       "<pre>    Data prepared in: 0.166531s</pre>"
      ],
      "text/plain": [
       "    Data prepared in: 0.166531s"
      ]
     },
     "metadata": {},
     "output_type": "display_data"
    },
    {
     "data": {
      "text/html": [
       "<pre>52163 observations to process; with 298 unique items.</pre>"
      ],
      "text/plain": [
       "52163 observations to process; with 298 unique items."
      ]
     },
     "metadata": {},
     "output_type": "display_data"
    }
   ],
   "source": [
    "popularity_model = graphlab.popularity_recommender.create(train_data_gl, \n",
    "                                                          user_id='user_id', \n",
    "                                                          item_id='restaurant_name', \n",
    "                                                          target='user_rating')"
   ]
  },
  {
   "cell_type": "code",
   "execution_count": 52,
   "metadata": {},
   "outputs": [],
   "source": [
    "popularity_recomm = popularity_model.recommend(users=range(1,6),k=3)"
   ]
  },
  {
   "cell_type": "code",
   "execution_count": 53,
   "metadata": {},
   "outputs": [
    {
     "name": "stdout",
     "output_type": "stream",
     "text": [
      "+---------+------------------------------+-------+------+\n",
      "| user_id |       restaurant_name        | score | rank |\n",
      "+---------+------------------------------+-------+------+\n",
      "|    1    |       Gold Roast Cafe        |  5.0  |  1   |\n",
      "|    1    | Manhattan Bar Grill & Lounge |  5.0  |  2   |\n",
      "|    1    |        Terranova Deli        |  5.0  |  3   |\n",
      "|    2    |       Gold Roast Cafe        |  5.0  |  1   |\n",
      "|    2    | Manhattan Bar Grill & Lounge |  5.0  |  2   |\n",
      "|    2    |        Terranova Deli        |  5.0  |  3   |\n",
      "|    3    |       Gold Roast Cafe        |  5.0  |  1   |\n",
      "|    3    | Manhattan Bar Grill & Lounge |  5.0  |  2   |\n",
      "|    3    |        Terranova Deli        |  5.0  |  3   |\n",
      "|    4    |       Gold Roast Cafe        |  5.0  |  1   |\n",
      "|    4    | Manhattan Bar Grill & Lounge |  5.0  |  2   |\n",
      "|    4    |        Terranova Deli        |  5.0  |  3   |\n",
      "|    5    |       Gold Roast Cafe        |  5.0  |  1   |\n",
      "|    5    | Manhattan Bar Grill & Lounge |  5.0  |  2   |\n",
      "|    5    |        Terranova Deli        |  5.0  |  3   |\n",
      "+---------+------------------------------+-------+------+\n",
      "[15 rows x 4 columns]\n",
      "\n"
     ]
    }
   ],
   "source": [
    "popularity_recomm.print_rows(num_rows=28)"
   ]
  },
  {
   "cell_type": "markdown",
   "metadata": {},
   "source": [
    "#### All the results are same. "
   ]
  },
  {
   "cell_type": "code",
   "execution_count": 54,
   "metadata": {},
   "outputs": [
    {
     "data": {
      "text/plain": [
       "restaurant_name\n",
       "MONDO - DOGS                       5.000000\n",
       "Ventura Restaurant                 5.000000\n",
       "Gold Roast Cafe                    5.000000\n",
       "Azteca Taqueria Restaurant         5.000000\n",
       "Manà Restaurant                    5.000000\n",
       "Ujala Kabab                        5.000000\n",
       "Manhattan Bar Grill & Lounge       5.000000\n",
       "Taquitos Mexicanos                 5.000000\n",
       "Terranova Deli                     5.000000\n",
       "52 Restaurant                      5.000000\n",
       "Griot Cafe                         5.000000\n",
       "Andrea Salumeria                   4.870748\n",
       "Toscana                            4.866667\n",
       "Taste of Greece                    4.857143\n",
       "Royal Grill Halal Food             4.803738\n",
       "Rizzo Bakery                       4.704918\n",
       "M & P Biancamano                   4.676471\n",
       "Losurdo’s Italian Bakery & Deli    4.666667\n",
       "Salerno Salumeria                  4.666667\n",
       "The Heights Café                   4.666667\n",
       "Name: user_rating, dtype: float64"
      ]
     },
     "execution_count": 54,
     "metadata": {},
     "output_type": "execute_result"
    }
   ],
   "source": [
    "train_data.groupby(by='restaurant_name')['user_rating'].mean().sort_values(ascending=False).head(20)"
   ]
  },
  {
   "cell_type": "markdown",
   "metadata": {},
   "source": [
    "#### Since all the recommended restaurant have an average rating of 5. So the popularity recommender is not accurate enough. So I will come back to collaborative filtering."
   ]
  },
  {
   "cell_type": "markdown",
   "metadata": {},
   "source": [
    "##### Cosine similarity"
   ]
  },
  {
   "cell_type": "code",
   "execution_count": 56,
   "metadata": {},
   "outputs": [
    {
     "data": {
      "text/html": [
       "<pre>Recsys training: model = item_similarity</pre>"
      ],
      "text/plain": [
       "Recsys training: model = item_similarity"
      ]
     },
     "metadata": {},
     "output_type": "display_data"
    },
    {
     "data": {
      "text/html": [
       "<pre>Preparing data set.</pre>"
      ],
      "text/plain": [
       "Preparing data set."
      ]
     },
     "metadata": {},
     "output_type": "display_data"
    },
    {
     "data": {
      "text/html": [
       "<pre>    Data has 52163 observations with 35756 users and 298 items.</pre>"
      ],
      "text/plain": [
       "    Data has 52163 observations with 35756 users and 298 items."
      ]
     },
     "metadata": {},
     "output_type": "display_data"
    },
    {
     "data": {
      "text/html": [
       "<pre>    Data prepared in: 0.175455s</pre>"
      ],
      "text/plain": [
       "    Data prepared in: 0.175455s"
      ]
     },
     "metadata": {},
     "output_type": "display_data"
    },
    {
     "data": {
      "text/html": [
       "<pre>Training model from provided data.</pre>"
      ],
      "text/plain": [
       "Training model from provided data."
      ]
     },
     "metadata": {},
     "output_type": "display_data"
    },
    {
     "data": {
      "text/html": [
       "<pre>Gathering per-item and per-user statistics.</pre>"
      ],
      "text/plain": [
       "Gathering per-item and per-user statistics."
      ]
     },
     "metadata": {},
     "output_type": "display_data"
    },
    {
     "data": {
      "text/html": [
       "<pre>+--------------------------------+------------+</pre>"
      ],
      "text/plain": [
       "+--------------------------------+------------+"
      ]
     },
     "metadata": {},
     "output_type": "display_data"
    },
    {
     "data": {
      "text/html": [
       "<pre>| Elapsed Time (Item Statistics) | % Complete |</pre>"
      ],
      "text/plain": [
       "| Elapsed Time (Item Statistics) | % Complete |"
      ]
     },
     "metadata": {},
     "output_type": "display_data"
    },
    {
     "data": {
      "text/html": [
       "<pre>+--------------------------------+------------+</pre>"
      ],
      "text/plain": [
       "+--------------------------------+------------+"
      ]
     },
     "metadata": {},
     "output_type": "display_data"
    },
    {
     "data": {
      "text/html": [
       "<pre>| 787us                          | 13.75      |</pre>"
      ],
      "text/plain": [
       "| 787us                          | 13.75      |"
      ]
     },
     "metadata": {},
     "output_type": "display_data"
    },
    {
     "data": {
      "text/html": [
       "<pre>| 17.099ms                       | 100        |</pre>"
      ],
      "text/plain": [
       "| 17.099ms                       | 100        |"
      ]
     },
     "metadata": {},
     "output_type": "display_data"
    },
    {
     "data": {
      "text/html": [
       "<pre>+--------------------------------+------------+</pre>"
      ],
      "text/plain": [
       "+--------------------------------+------------+"
      ]
     },
     "metadata": {},
     "output_type": "display_data"
    },
    {
     "data": {
      "text/html": [
       "<pre>Setting up lookup tables.</pre>"
      ],
      "text/plain": [
       "Setting up lookup tables."
      ]
     },
     "metadata": {},
     "output_type": "display_data"
    },
    {
     "data": {
      "text/html": [
       "<pre>Processing data in one pass using dense lookup tables.</pre>"
      ],
      "text/plain": [
       "Processing data in one pass using dense lookup tables."
      ]
     },
     "metadata": {},
     "output_type": "display_data"
    },
    {
     "data": {
      "text/html": [
       "<pre>+-------------------------------------+------------------+-----------------+</pre>"
      ],
      "text/plain": [
       "+-------------------------------------+------------------+-----------------+"
      ]
     },
     "metadata": {},
     "output_type": "display_data"
    },
    {
     "data": {
      "text/html": [
       "<pre>| Elapsed Time (Constructing Lookups) | Total % Complete | Items Processed |</pre>"
      ],
      "text/plain": [
       "| Elapsed Time (Constructing Lookups) | Total % Complete | Items Processed |"
      ]
     },
     "metadata": {},
     "output_type": "display_data"
    },
    {
     "data": {
      "text/html": [
       "<pre>+-------------------------------------+------------------+-----------------+</pre>"
      ],
      "text/plain": [
       "+-------------------------------------+------------------+-----------------+"
      ]
     },
     "metadata": {},
     "output_type": "display_data"
    },
    {
     "data": {
      "text/html": [
       "<pre>| 19.865ms                            | 0                | 0               |</pre>"
      ],
      "text/plain": [
       "| 19.865ms                            | 0                | 0               |"
      ]
     },
     "metadata": {},
     "output_type": "display_data"
    },
    {
     "data": {
      "text/html": [
       "<pre>| 42.891ms                            | 100              | 298             |</pre>"
      ],
      "text/plain": [
       "| 42.891ms                            | 100              | 298             |"
      ]
     },
     "metadata": {},
     "output_type": "display_data"
    },
    {
     "data": {
      "text/html": [
       "<pre>+-------------------------------------+------------------+-----------------+</pre>"
      ],
      "text/plain": [
       "+-------------------------------------+------------------+-----------------+"
      ]
     },
     "metadata": {},
     "output_type": "display_data"
    },
    {
     "data": {
      "text/html": [
       "<pre>Finalizing lookup tables.</pre>"
      ],
      "text/plain": [
       "Finalizing lookup tables."
      ]
     },
     "metadata": {},
     "output_type": "display_data"
    },
    {
     "data": {
      "text/html": [
       "<pre>Generating candidate set for working with new users.</pre>"
      ],
      "text/plain": [
       "Generating candidate set for working with new users."
      ]
     },
     "metadata": {},
     "output_type": "display_data"
    },
    {
     "data": {
      "text/html": [
       "<pre>Finished training in 0.055826s</pre>"
      ],
      "text/plain": [
       "Finished training in 0.055826s"
      ]
     },
     "metadata": {},
     "output_type": "display_data"
    }
   ],
   "source": [
    "Cosine_model = graphlab.item_similarity_recommender.create(train_data_gl, user_id='user_id', \n",
    "                                                             item_id='restaurant_name', \n",
    "                                                             target='user_rating', \n",
    "                                                             similarity_type='cosine')"
   ]
  },
  {
   "cell_type": "markdown",
   "metadata": {},
   "source": [
    "##### Jaccard Similarity"
   ]
  },
  {
   "cell_type": "code",
   "execution_count": 57,
   "metadata": {},
   "outputs": [
    {
     "data": {
      "text/html": [
       "<pre>Recsys training: model = item_similarity</pre>"
      ],
      "text/plain": [
       "Recsys training: model = item_similarity"
      ]
     },
     "metadata": {},
     "output_type": "display_data"
    },
    {
     "data": {
      "text/html": [
       "<pre>Preparing data set.</pre>"
      ],
      "text/plain": [
       "Preparing data set."
      ]
     },
     "metadata": {},
     "output_type": "display_data"
    },
    {
     "data": {
      "text/html": [
       "<pre>    Data has 52163 observations with 35756 users and 298 items.</pre>"
      ],
      "text/plain": [
       "    Data has 52163 observations with 35756 users and 298 items."
      ]
     },
     "metadata": {},
     "output_type": "display_data"
    },
    {
     "data": {
      "text/html": [
       "<pre>    Data prepared in: 0.206472s</pre>"
      ],
      "text/plain": [
       "    Data prepared in: 0.206472s"
      ]
     },
     "metadata": {},
     "output_type": "display_data"
    },
    {
     "data": {
      "text/html": [
       "<pre>Training model from provided data.</pre>"
      ],
      "text/plain": [
       "Training model from provided data."
      ]
     },
     "metadata": {},
     "output_type": "display_data"
    },
    {
     "data": {
      "text/html": [
       "<pre>Gathering per-item and per-user statistics.</pre>"
      ],
      "text/plain": [
       "Gathering per-item and per-user statistics."
      ]
     },
     "metadata": {},
     "output_type": "display_data"
    },
    {
     "data": {
      "text/html": [
       "<pre>+--------------------------------+------------+</pre>"
      ],
      "text/plain": [
       "+--------------------------------+------------+"
      ]
     },
     "metadata": {},
     "output_type": "display_data"
    },
    {
     "data": {
      "text/html": [
       "<pre>| Elapsed Time (Item Statistics) | % Complete |</pre>"
      ],
      "text/plain": [
       "| Elapsed Time (Item Statistics) | % Complete |"
      ]
     },
     "metadata": {},
     "output_type": "display_data"
    },
    {
     "data": {
      "text/html": [
       "<pre>+--------------------------------+------------+</pre>"
      ],
      "text/plain": [
       "+--------------------------------+------------+"
      ]
     },
     "metadata": {},
     "output_type": "display_data"
    },
    {
     "data": {
      "text/html": [
       "<pre>| 1.883ms                        | 16.75      |</pre>"
      ],
      "text/plain": [
       "| 1.883ms                        | 16.75      |"
      ]
     },
     "metadata": {},
     "output_type": "display_data"
    },
    {
     "data": {
      "text/html": [
       "<pre>| 29.528ms                       | 100        |</pre>"
      ],
      "text/plain": [
       "| 29.528ms                       | 100        |"
      ]
     },
     "metadata": {},
     "output_type": "display_data"
    },
    {
     "data": {
      "text/html": [
       "<pre>+--------------------------------+------------+</pre>"
      ],
      "text/plain": [
       "+--------------------------------+------------+"
      ]
     },
     "metadata": {},
     "output_type": "display_data"
    },
    {
     "data": {
      "text/html": [
       "<pre>Setting up lookup tables.</pre>"
      ],
      "text/plain": [
       "Setting up lookup tables."
      ]
     },
     "metadata": {},
     "output_type": "display_data"
    },
    {
     "data": {
      "text/html": [
       "<pre>Processing data in one pass using dense lookup tables.</pre>"
      ],
      "text/plain": [
       "Processing data in one pass using dense lookup tables."
      ]
     },
     "metadata": {},
     "output_type": "display_data"
    },
    {
     "data": {
      "text/html": [
       "<pre>+-------------------------------------+------------------+-----------------+</pre>"
      ],
      "text/plain": [
       "+-------------------------------------+------------------+-----------------+"
      ]
     },
     "metadata": {},
     "output_type": "display_data"
    },
    {
     "data": {
      "text/html": [
       "<pre>| Elapsed Time (Constructing Lookups) | Total % Complete | Items Processed |</pre>"
      ],
      "text/plain": [
       "| Elapsed Time (Constructing Lookups) | Total % Complete | Items Processed |"
      ]
     },
     "metadata": {},
     "output_type": "display_data"
    },
    {
     "data": {
      "text/html": [
       "<pre>+-------------------------------------+------------------+-----------------+</pre>"
      ],
      "text/plain": [
       "+-------------------------------------+------------------+-----------------+"
      ]
     },
     "metadata": {},
     "output_type": "display_data"
    },
    {
     "data": {
      "text/html": [
       "<pre>| 31.729ms                            | 0                | 0               |</pre>"
      ],
      "text/plain": [
       "| 31.729ms                            | 0                | 0               |"
      ]
     },
     "metadata": {},
     "output_type": "display_data"
    },
    {
     "data": {
      "text/html": [
       "<pre>| 59.386ms                            | 100              | 298             |</pre>"
      ],
      "text/plain": [
       "| 59.386ms                            | 100              | 298             |"
      ]
     },
     "metadata": {},
     "output_type": "display_data"
    },
    {
     "data": {
      "text/html": [
       "<pre>+-------------------------------------+------------------+-----------------+</pre>"
      ],
      "text/plain": [
       "+-------------------------------------+------------------+-----------------+"
      ]
     },
     "metadata": {},
     "output_type": "display_data"
    },
    {
     "data": {
      "text/html": [
       "<pre>Finalizing lookup tables.</pre>"
      ],
      "text/plain": [
       "Finalizing lookup tables."
      ]
     },
     "metadata": {},
     "output_type": "display_data"
    },
    {
     "data": {
      "text/html": [
       "<pre>Generating candidate set for working with new users.</pre>"
      ],
      "text/plain": [
       "Generating candidate set for working with new users."
      ]
     },
     "metadata": {},
     "output_type": "display_data"
    },
    {
     "data": {
      "text/html": [
       "<pre>Finished training in 0.072818s</pre>"
      ],
      "text/plain": [
       "Finished training in 0.072818s"
      ]
     },
     "metadata": {},
     "output_type": "display_data"
    }
   ],
   "source": [
    "Jaccard_model = graphlab.item_similarity_recommender.create(train_data_gl, user_id='user_id', \n",
    "                                                             item_id='restaurant_name', \n",
    "                                                             target='user_rating', \n",
    "                                                             similarity_type='jaccard')"
   ]
  },
  {
   "cell_type": "markdown",
   "metadata": {},
   "source": [
    "##### Pearson Similarity"
   ]
  },
  {
   "cell_type": "code",
   "execution_count": 58,
   "metadata": {},
   "outputs": [
    {
     "data": {
      "text/html": [
       "<pre>Recsys training: model = item_similarity</pre>"
      ],
      "text/plain": [
       "Recsys training: model = item_similarity"
      ]
     },
     "metadata": {},
     "output_type": "display_data"
    },
    {
     "data": {
      "text/html": [
       "<pre>Preparing data set.</pre>"
      ],
      "text/plain": [
       "Preparing data set."
      ]
     },
     "metadata": {},
     "output_type": "display_data"
    },
    {
     "data": {
      "text/html": [
       "<pre>    Data has 52163 observations with 35756 users and 298 items.</pre>"
      ],
      "text/plain": [
       "    Data has 52163 observations with 35756 users and 298 items."
      ]
     },
     "metadata": {},
     "output_type": "display_data"
    },
    {
     "data": {
      "text/html": [
       "<pre>    Data prepared in: 0.171465s</pre>"
      ],
      "text/plain": [
       "    Data prepared in: 0.171465s"
      ]
     },
     "metadata": {},
     "output_type": "display_data"
    },
    {
     "data": {
      "text/html": [
       "<pre>Training model from provided data.</pre>"
      ],
      "text/plain": [
       "Training model from provided data."
      ]
     },
     "metadata": {},
     "output_type": "display_data"
    },
    {
     "data": {
      "text/html": [
       "<pre>Gathering per-item and per-user statistics.</pre>"
      ],
      "text/plain": [
       "Gathering per-item and per-user statistics."
      ]
     },
     "metadata": {},
     "output_type": "display_data"
    },
    {
     "data": {
      "text/html": [
       "<pre>+--------------------------------+------------+</pre>"
      ],
      "text/plain": [
       "+--------------------------------+------------+"
      ]
     },
     "metadata": {},
     "output_type": "display_data"
    },
    {
     "data": {
      "text/html": [
       "<pre>| Elapsed Time (Item Statistics) | % Complete |</pre>"
      ],
      "text/plain": [
       "| Elapsed Time (Item Statistics) | % Complete |"
      ]
     },
     "metadata": {},
     "output_type": "display_data"
    },
    {
     "data": {
      "text/html": [
       "<pre>+--------------------------------+------------+</pre>"
      ],
      "text/plain": [
       "+--------------------------------+------------+"
      ]
     },
     "metadata": {},
     "output_type": "display_data"
    },
    {
     "data": {
      "text/html": [
       "<pre>| 5.86ms                         | 2.75       |</pre>"
      ],
      "text/plain": [
       "| 5.86ms                         | 2.75       |"
      ]
     },
     "metadata": {},
     "output_type": "display_data"
    },
    {
     "data": {
      "text/html": [
       "<pre>| 23.085ms                       | 100        |</pre>"
      ],
      "text/plain": [
       "| 23.085ms                       | 100        |"
      ]
     },
     "metadata": {},
     "output_type": "display_data"
    },
    {
     "data": {
      "text/html": [
       "<pre>+--------------------------------+------------+</pre>"
      ],
      "text/plain": [
       "+--------------------------------+------------+"
      ]
     },
     "metadata": {},
     "output_type": "display_data"
    },
    {
     "data": {
      "text/html": [
       "<pre>Setting up lookup tables.</pre>"
      ],
      "text/plain": [
       "Setting up lookup tables."
      ]
     },
     "metadata": {},
     "output_type": "display_data"
    },
    {
     "data": {
      "text/html": [
       "<pre>Processing data in one pass using dense lookup tables.</pre>"
      ],
      "text/plain": [
       "Processing data in one pass using dense lookup tables."
      ]
     },
     "metadata": {},
     "output_type": "display_data"
    },
    {
     "data": {
      "text/html": [
       "<pre>+-------------------------------------+------------------+-----------------+</pre>"
      ],
      "text/plain": [
       "+-------------------------------------+------------------+-----------------+"
      ]
     },
     "metadata": {},
     "output_type": "display_data"
    },
    {
     "data": {
      "text/html": [
       "<pre>| Elapsed Time (Constructing Lookups) | Total % Complete | Items Processed |</pre>"
      ],
      "text/plain": [
       "| Elapsed Time (Constructing Lookups) | Total % Complete | Items Processed |"
      ]
     },
     "metadata": {},
     "output_type": "display_data"
    },
    {
     "data": {
      "text/html": [
       "<pre>+-------------------------------------+------------------+-----------------+</pre>"
      ],
      "text/plain": [
       "+-------------------------------------+------------------+-----------------+"
      ]
     },
     "metadata": {},
     "output_type": "display_data"
    },
    {
     "data": {
      "text/html": [
       "<pre>| 24.83ms                             | 0                | 0               |</pre>"
      ],
      "text/plain": [
       "| 24.83ms                             | 0                | 0               |"
      ]
     },
     "metadata": {},
     "output_type": "display_data"
    },
    {
     "data": {
      "text/html": [
       "<pre>| 55.36ms                             | 100              | 298             |</pre>"
      ],
      "text/plain": [
       "| 55.36ms                             | 100              | 298             |"
      ]
     },
     "metadata": {},
     "output_type": "display_data"
    },
    {
     "data": {
      "text/html": [
       "<pre>+-------------------------------------+------------------+-----------------+</pre>"
      ],
      "text/plain": [
       "+-------------------------------------+------------------+-----------------+"
      ]
     },
     "metadata": {},
     "output_type": "display_data"
    },
    {
     "data": {
      "text/html": [
       "<pre>Finalizing lookup tables.</pre>"
      ],
      "text/plain": [
       "Finalizing lookup tables."
      ]
     },
     "metadata": {},
     "output_type": "display_data"
    },
    {
     "data": {
      "text/html": [
       "<pre>Generating candidate set for working with new users.</pre>"
      ],
      "text/plain": [
       "Generating candidate set for working with new users."
      ]
     },
     "metadata": {},
     "output_type": "display_data"
    },
    {
     "data": {
      "text/html": [
       "<pre>Finished training in 0.067496s</pre>"
      ],
      "text/plain": [
       "Finished training in 0.067496s"
      ]
     },
     "metadata": {},
     "output_type": "display_data"
    }
   ],
   "source": [
    "Pearson_model = graphlab.item_similarity_recommender.create(train_data_gl, user_id='user_id', \n",
    "                                                             item_id='restaurant_name', \n",
    "                                                             target='user_rating', \n",
    "                                                             similarity_type='pearson')"
   ]
  },
  {
   "cell_type": "markdown",
   "metadata": {},
   "source": [
    "- Step 3: Predict the rating and recommend top 3 rating restaurants"
   ]
  },
  {
   "cell_type": "code",
   "execution_count": 75,
   "metadata": {},
   "outputs": [
    {
     "name": "stdout",
     "output_type": "stream",
     "text": [
      "+------------------------+----------------------------+-----------------+------+\n",
      "|        user_id         |      restaurant_name       |      score      | rank |\n",
      "+------------------------+----------------------------+-----------------+------+\n",
      "| LwW8U8W5A9HKr3gTXILEqA |          Onieals           |  0.377280950546 |  1   |\n",
      "| LwW8U8W5A9HKr3gTXILEqA |       Cooper’s Union       |  0.338044643402 |  2   |\n",
      "| LwW8U8W5A9HKr3gTXILEqA |    Amanda’s Restaurant     |  0.313898324966 |  3   |\n",
      "| lXVG3N6C01AQwoblXXl4BA |          Entwine           | 0.0210870504379 |  1   |\n",
      "| lXVG3N6C01AQwoblXXl4BA |         Left Bank          | 0.0205468535423 |  2   |\n",
      "| lXVG3N6C01AQwoblXXl4BA |        Ed & Mary’s         | 0.0186982750893 |  3   |\n",
      "| LNozAFneK7NN_KLLckvudQ |       Cafe Michelina       | 0.0845682382584 |  1   |\n",
      "| LNozAFneK7NN_KLLckvudQ |          The Park          | 0.0810015082359 |  2   |\n",
      "| LNozAFneK7NN_KLLckvudQ |          Robongi           | 0.0746501326561 |  3   |\n",
      "| iJBL9x2uv5_Je3n_2mCQlA |      The Spotted Pig       |  0.140229185422 |  1   |\n",
      "| iJBL9x2uv5_Je3n_2mCQlA |     Hudson Clearwater      |  0.103403568268 |  2   |\n",
      "| iJBL9x2uv5_Je3n_2mCQlA |    Malatesta Trattoria     | 0.0907956163088 |  3   |\n",
      "| Sy3vb_N2Us-bWqdyhPP2ZQ |          Morimoto          |  0.175090432167 |  1   |\n",
      "| Sy3vb_N2Us-bWqdyhPP2ZQ |      The Spotted Pig       |  0.174248814583 |  2   |\n",
      "| Sy3vb_N2Us-bWqdyhPP2ZQ |          The Park          |  0.170750916004 |  3   |\n",
      "| h6OTMQ8bOaXsfWwexeT1mg |          bwè kafe          |  0.22255396843  |  1   |\n",
      "| h6OTMQ8bOaXsfWwexeT1mg |  Satay Malaysian Cuisine   |  0.171565612157 |  2   |\n",
      "| h6OTMQ8bOaXsfWwexeT1mg | Pilsener Haus & Biergarten |  0.155204614003 |  3   |\n",
      "| qNNOfHxR1jY929Uois4hSQ |     Rosticeria Da Gigi     |  0.626650452614 |  1   |\n",
      "| qNNOfHxR1jY929Uois4hSQ |        Elysian Cafe        |  0.445744395256 |  2   |\n",
      "| qNNOfHxR1jY929Uois4hSQ |      Johnny Pepperoni      |  0.360439121723 |  3   |\n",
      "| Hy27UkhPJepfu16I_5QSvw |        STK Downtown        |  0.128141283989 |  1   |\n",
      "| Hy27UkhPJepfu16I_5QSvw |        Fig & Olive         | 0.0980025529861 |  2   |\n",
      "| Hy27UkhPJepfu16I_5QSvw |        The Quarter         | 0.0856654644012 |  3   |\n",
      "| bZfjdPrPT_Nujfyw8U9gkg | 10th & Willow Bar & Grill  |  0.469460725784 |  1   |\n",
      "| bZfjdPrPT_Nujfyw8U9gkg |           Bin 14           |  0.450609922409 |  2   |\n",
      "| bZfjdPrPT_Nujfyw8U9gkg |    Hoboken Turtle Club     |  0.407620191574 |  3   |\n",
      "| 01PXnjpyvKvp2AUe3BAR4A |   Blue Flame Restaurant    |  0.644749701023 |  1   |\n",
      "| 01PXnjpyvKvp2AUe3BAR4A |          El Gordo          |  0.544160306454 |  2   |\n",
      "| 01PXnjpyvKvp2AUe3BAR4A |  El Chimi Deli Restaurant  |  0.502384901047 |  3   |\n",
      "+------------------------+----------------------------+-----------------+------+\n",
      "[107268 rows x 4 columns]\n",
      "\n"
     ]
    }
   ],
   "source": [
    "Cosine_recommendation = Cosine_model.recommend(k=3,verbose=False)\n",
    "Cosine_recommendation.print_rows(num_rows=30)"
   ]
  },
  {
   "cell_type": "code",
   "execution_count": 76,
   "metadata": {},
   "outputs": [
    {
     "name": "stdout",
     "output_type": "stream",
     "text": [
      "+------------------------+-----------------------------+------------------+------+\n",
      "|        user_id         |       restaurant_name       |      score       | rank |\n",
      "+------------------------+-----------------------------+------------------+------+\n",
      "| LwW8U8W5A9HKr3gTXILEqA |           Onieals           | 0.0544662475586  |  1   |\n",
      "| LwW8U8W5A9HKr3gTXILEqA | Zack’s Oak Bar & Restaurant | 0.0451613068581  |  2   |\n",
      "| LwW8U8W5A9HKr3gTXILEqA |  10th & Willow Bar & Grill  | 0.0428894162178  |  3   |\n",
      "| lXVG3N6C01AQwoblXXl4BA |          Left Bank          | 0.0100806355476  |  1   |\n",
      "| lXVG3N6C01AQwoblXXl4BA |           Entwine           | 0.00925928354263 |  2   |\n",
      "| lXVG3N6C01AQwoblXXl4BA |    EN Japanese Brasserie    | 0.0087873339653  |  3   |\n",
      "| LNozAFneK7NN_KLLckvudQ |        Cafe Michelina       | 0.0175560116768  |  1   |\n",
      "| LNozAFneK7NN_KLLckvudQ |  Mikie Squared Bar & Grill  | 0.0140484452248  |  2   |\n",
      "| LNozAFneK7NN_KLLckvudQ |           Robongi           |  0.012177324295  |  3   |\n",
      "| iJBL9x2uv5_Je3n_2mCQlA |       The Spotted Pig       | 0.0167365670204  |  1   |\n",
      "| iJBL9x2uv5_Je3n_2mCQlA |      Hudson Clearwater      | 0.0156899293264  |  2   |\n",
      "| iJBL9x2uv5_Je3n_2mCQlA |     Malatesta Trattoria     | 0.0122172633807  |  3   |\n",
      "| Sy3vb_N2Us-bWqdyhPP2ZQ |       The Spotted Pig       | 0.0187228322029  |  1   |\n",
      "| Sy3vb_N2Us-bWqdyhPP2ZQ |           Morimoto          | 0.0187130570412  |  2   |\n",
      "| Sy3vb_N2Us-bWqdyhPP2ZQ |           The Park          | 0.0172033309937  |  3   |\n",
      "| h6OTMQ8bOaXsfWwexeT1mg |           bwè kafe          |  0.026748975118  |  1   |\n",
      "| h6OTMQ8bOaXsfWwexeT1mg |         Elysian Cafe        | 0.0216562350591  |  2   |\n",
      "| h6OTMQ8bOaXsfWwexeT1mg |   Satay Malaysian Cuisine   | 0.0203139980634  |  3   |\n",
      "| qNNOfHxR1jY929Uois4hSQ |      Rosticeria Da Gigi     | 0.0617284178734  |  1   |\n",
      "| qNNOfHxR1jY929Uois4hSQ |         Elysian Cafe        | 0.0442105531693  |  2   |\n",
      "| qNNOfHxR1jY929Uois4hSQ |       Johnny Pepperoni      | 0.0364145636559  |  3   |\n",
      "| Hy27UkhPJepfu16I_5QSvw |         STK Downtown        | 0.0182232260704  |  1   |\n",
      "| Hy27UkhPJepfu16I_5QSvw |         Fig & Olive         | 0.0151668190956  |  2   |\n",
      "| Hy27UkhPJepfu16I_5QSvw |           Morimoto          | 0.0136054158211  |  3   |\n",
      "| bZfjdPrPT_Nujfyw8U9gkg |            Bin 14           | 0.0643564462662  |  1   |\n",
      "| bZfjdPrPT_Nujfyw8U9gkg |  10th & Willow Bar & Grill  | 0.0609756112099  |  2   |\n",
      "| bZfjdPrPT_Nujfyw8U9gkg |     Amanda’s Restaurant     | 0.0462686419487  |  3   |\n",
      "| 01PXnjpyvKvp2AUe3BAR4A |           El Gordo          | 0.0461538434029  |  1   |\n",
      "| 01PXnjpyvKvp2AUe3BAR4A |          Noodlefan          | 0.0337837934494  |  2   |\n",
      "| 01PXnjpyvKvp2AUe3BAR4A |         Rumba’s Cafe        | 0.0294117927551  |  3   |\n",
      "+------------------------+-----------------------------+------------------+------+\n",
      "[107268 rows x 4 columns]\n",
      "\n"
     ]
    }
   ],
   "source": [
    "Jaccard_recommendation = Jaccard_model.recommend(k=3,verbose=False)\n",
    "Jaccard_recommendation.print_rows(num_rows=30)"
   ]
  },
  {
   "cell_type": "code",
   "execution_count": 77,
   "metadata": {},
   "outputs": [
    {
     "name": "stdout",
     "output_type": "stream",
     "text": [
      "+------------------------+------------------------------+-------+------+\n",
      "|        user_id         |       restaurant_name        | score | rank |\n",
      "+------------------------+------------------------------+-------+------+\n",
      "| LwW8U8W5A9HKr3gTXILEqA |       Gold Roast Cafe        |  5.0  |  1   |\n",
      "| LwW8U8W5A9HKr3gTXILEqA | Manhattan Bar Grill & Lounge |  5.0  |  2   |\n",
      "| LwW8U8W5A9HKr3gTXILEqA |        Terranova Deli        |  5.0  |  3   |\n",
      "| lXVG3N6C01AQwoblXXl4BA |       Gold Roast Cafe        |  5.0  |  1   |\n",
      "| lXVG3N6C01AQwoblXXl4BA | Manhattan Bar Grill & Lounge |  5.0  |  2   |\n",
      "| lXVG3N6C01AQwoblXXl4BA |        Terranova Deli        |  5.0  |  3   |\n",
      "| LNozAFneK7NN_KLLckvudQ |       Gold Roast Cafe        |  5.0  |  1   |\n",
      "| LNozAFneK7NN_KLLckvudQ | Manhattan Bar Grill & Lounge |  5.0  |  2   |\n",
      "| LNozAFneK7NN_KLLckvudQ |        Terranova Deli        |  5.0  |  3   |\n",
      "| iJBL9x2uv5_Je3n_2mCQlA |       Gold Roast Cafe        |  5.0  |  1   |\n",
      "| iJBL9x2uv5_Je3n_2mCQlA | Manhattan Bar Grill & Lounge |  5.0  |  2   |\n",
      "| iJBL9x2uv5_Je3n_2mCQlA |        Terranova Deli        |  5.0  |  3   |\n",
      "| Sy3vb_N2Us-bWqdyhPP2ZQ |       Gold Roast Cafe        |  5.0  |  1   |\n",
      "| Sy3vb_N2Us-bWqdyhPP2ZQ | Manhattan Bar Grill & Lounge |  5.0  |  2   |\n",
      "| Sy3vb_N2Us-bWqdyhPP2ZQ |        Terranova Deli        |  5.0  |  3   |\n",
      "| h6OTMQ8bOaXsfWwexeT1mg |       Gold Roast Cafe        |  5.0  |  1   |\n",
      "| h6OTMQ8bOaXsfWwexeT1mg | Manhattan Bar Grill & Lounge |  5.0  |  2   |\n",
      "| h6OTMQ8bOaXsfWwexeT1mg |        Terranova Deli        |  5.0  |  3   |\n",
      "| qNNOfHxR1jY929Uois4hSQ |       Gold Roast Cafe        |  5.0  |  1   |\n",
      "| qNNOfHxR1jY929Uois4hSQ | Manhattan Bar Grill & Lounge |  5.0  |  2   |\n",
      "| qNNOfHxR1jY929Uois4hSQ |        Terranova Deli        |  5.0  |  3   |\n",
      "| Hy27UkhPJepfu16I_5QSvw |       Gold Roast Cafe        |  5.0  |  1   |\n",
      "| Hy27UkhPJepfu16I_5QSvw | Manhattan Bar Grill & Lounge |  5.0  |  2   |\n",
      "| Hy27UkhPJepfu16I_5QSvw |        Terranova Deli        |  5.0  |  3   |\n",
      "| bZfjdPrPT_Nujfyw8U9gkg |       Gold Roast Cafe        |  5.0  |  1   |\n",
      "| bZfjdPrPT_Nujfyw8U9gkg | Manhattan Bar Grill & Lounge |  5.0  |  2   |\n",
      "| bZfjdPrPT_Nujfyw8U9gkg |        Terranova Deli        |  5.0  |  3   |\n",
      "| 01PXnjpyvKvp2AUe3BAR4A |       Gold Roast Cafe        |  5.0  |  1   |\n",
      "| 01PXnjpyvKvp2AUe3BAR4A | Manhattan Bar Grill & Lounge |  5.0  |  2   |\n",
      "| 01PXnjpyvKvp2AUe3BAR4A |        Terranova Deli        |  5.0  |  3   |\n",
      "+------------------------+------------------------------+-------+------+\n",
      "[107268 rows x 4 columns]\n",
      "\n"
     ]
    }
   ],
   "source": [
    "Pearson_recommendation = Pearson_model.recommend(k=3,verbose=False)\n",
    "Pearson_recommendation.print_rows(num_rows=30)"
   ]
  },
  {
   "cell_type": "markdown",
   "metadata": {},
   "source": [
    "- Step 4: Accuracy Evaluation\n",
    "Recall:What ratio of items that a user likes were actually recommended.\n",
    "\n",
    "Precision:Out of all the recommended items, how many the user actually liked?\n"
   ]
  },
  {
   "cell_type": "code",
   "execution_count": 83,
   "metadata": {},
   "outputs": [
    {
     "name": "stdout",
     "output_type": "stream",
     "text": [
      "PROGRESS: Evaluate model M0\n"
     ]
    },
    {
     "data": {
      "text/html": [
       "<pre>recommendations finished on 1000/14140 queries. users per second: 36521.7</pre>"
      ],
      "text/plain": [
       "recommendations finished on 1000/14140 queries. users per second: 36521.7"
      ]
     },
     "metadata": {},
     "output_type": "display_data"
    },
    {
     "data": {
      "text/html": [
       "<pre>recommendations finished on 2000/14140 queries. users per second: 42215.5</pre>"
      ],
      "text/plain": [
       "recommendations finished on 2000/14140 queries. users per second: 42215.5"
      ]
     },
     "metadata": {},
     "output_type": "display_data"
    },
    {
     "data": {
      "text/html": [
       "<pre>recommendations finished on 3000/14140 queries. users per second: 44904.8</pre>"
      ],
      "text/plain": [
       "recommendations finished on 3000/14140 queries. users per second: 44904.8"
      ]
     },
     "metadata": {},
     "output_type": "display_data"
    },
    {
     "data": {
      "text/html": [
       "<pre>recommendations finished on 4000/14140 queries. users per second: 44189.6</pre>"
      ],
      "text/plain": [
       "recommendations finished on 4000/14140 queries. users per second: 44189.6"
      ]
     },
     "metadata": {},
     "output_type": "display_data"
    },
    {
     "data": {
      "text/html": [
       "<pre>recommendations finished on 5000/14140 queries. users per second: 39835.2</pre>"
      ],
      "text/plain": [
       "recommendations finished on 5000/14140 queries. users per second: 39835.2"
      ]
     },
     "metadata": {},
     "output_type": "display_data"
    },
    {
     "data": {
      "text/html": [
       "<pre>recommendations finished on 6000/14140 queries. users per second: 41343.4</pre>"
      ],
      "text/plain": [
       "recommendations finished on 6000/14140 queries. users per second: 41343.4"
      ]
     },
     "metadata": {},
     "output_type": "display_data"
    },
    {
     "data": {
      "text/html": [
       "<pre>recommendations finished on 7000/14140 queries. users per second: 43004.7</pre>"
      ],
      "text/plain": [
       "recommendations finished on 7000/14140 queries. users per second: 43004.7"
      ]
     },
     "metadata": {},
     "output_type": "display_data"
    },
    {
     "data": {
      "text/html": [
       "<pre>recommendations finished on 8000/14140 queries. users per second: 44357.7</pre>"
      ],
      "text/plain": [
       "recommendations finished on 8000/14140 queries. users per second: 44357.7"
      ]
     },
     "metadata": {},
     "output_type": "display_data"
    },
    {
     "data": {
      "text/html": [
       "<pre>recommendations finished on 9000/14140 queries. users per second: 44369.9</pre>"
      ],
      "text/plain": [
       "recommendations finished on 9000/14140 queries. users per second: 44369.9"
      ]
     },
     "metadata": {},
     "output_type": "display_data"
    },
    {
     "data": {
      "text/html": [
       "<pre>recommendations finished on 10000/14140 queries. users per second: 46212.4</pre>"
      ],
      "text/plain": [
       "recommendations finished on 10000/14140 queries. users per second: 46212.4"
      ]
     },
     "metadata": {},
     "output_type": "display_data"
    },
    {
     "data": {
      "text/html": [
       "<pre>recommendations finished on 11000/14140 queries. users per second: 36993.7</pre>"
      ],
      "text/plain": [
       "recommendations finished on 11000/14140 queries. users per second: 36993.7"
      ]
     },
     "metadata": {},
     "output_type": "display_data"
    },
    {
     "data": {
      "text/html": [
       "<pre>recommendations finished on 12000/14140 queries. users per second: 34495</pre>"
      ],
      "text/plain": [
       "recommendations finished on 12000/14140 queries. users per second: 34495"
      ]
     },
     "metadata": {},
     "output_type": "display_data"
    },
    {
     "data": {
      "text/html": [
       "<pre>recommendations finished on 13000/14140 queries. users per second: 32093.1</pre>"
      ],
      "text/plain": [
       "recommendations finished on 13000/14140 queries. users per second: 32093.1"
      ]
     },
     "metadata": {},
     "output_type": "display_data"
    },
    {
     "data": {
      "text/html": [
       "<pre>recommendations finished on 14000/14140 queries. users per second: 30588.4</pre>"
      ],
      "text/plain": [
       "recommendations finished on 14000/14140 queries. users per second: 30588.4"
      ]
     },
     "metadata": {},
     "output_type": "display_data"
    },
    {
     "name": "stdout",
     "output_type": "stream",
     "text": [
      "\n",
      "Precision and recall summary statistics by cutoff\n",
      "+--------+-------------------+-------------------+\n",
      "| cutoff |   mean_precision  |    mean_recall    |\n",
      "+--------+-------------------+-------------------+\n",
      "|   1    |        0.0        |        0.0        |\n",
      "|   2    |        0.0        |        0.0        |\n",
      "|   3    |        0.0        |        0.0        |\n",
      "|   4    |  3.5360678925e-05 |  0.0001414427157  |\n",
      "|   5    |  4.243281471e-05  |  0.00016501650165 |\n",
      "|   6    |  3.5360678925e-05 |  0.00016501650165 |\n",
      "|   7    | 8.08244089715e-05 | 0.000518623290901 |\n",
      "|   8    | 8.84016973126e-05 | 0.000660066006601 |\n",
      "|   9    | 9.42951438001e-05 | 0.000719000471476 |\n",
      "|   10   | 8.48656294201e-05 | 0.000719000471476 |\n",
      "+--------+-------------------+-------------------+\n",
      "[10 rows x 3 columns]\n",
      "\n",
      "PROGRESS: Evaluate model M1\n"
     ]
    },
    {
     "data": {
      "text/html": [
       "<pre>recommendations finished on 1000/14140 queries. users per second: 29266.3</pre>"
      ],
      "text/plain": [
       "recommendations finished on 1000/14140 queries. users per second: 29266.3"
      ]
     },
     "metadata": {},
     "output_type": "display_data"
    },
    {
     "data": {
      "text/html": [
       "<pre>recommendations finished on 2000/14140 queries. users per second: 29289</pre>"
      ],
      "text/plain": [
       "recommendations finished on 2000/14140 queries. users per second: 29289"
      ]
     },
     "metadata": {},
     "output_type": "display_data"
    },
    {
     "data": {
      "text/html": [
       "<pre>recommendations finished on 3000/14140 queries. users per second: 28261.4</pre>"
      ],
      "text/plain": [
       "recommendations finished on 3000/14140 queries. users per second: 28261.4"
      ]
     },
     "metadata": {},
     "output_type": "display_data"
    },
    {
     "data": {
      "text/html": [
       "<pre>recommendations finished on 4000/14140 queries. users per second: 27078.6</pre>"
      ],
      "text/plain": [
       "recommendations finished on 4000/14140 queries. users per second: 27078.6"
      ]
     },
     "metadata": {},
     "output_type": "display_data"
    },
    {
     "data": {
      "text/html": [
       "<pre>recommendations finished on 5000/14140 queries. users per second: 25721.5</pre>"
      ],
      "text/plain": [
       "recommendations finished on 5000/14140 queries. users per second: 25721.5"
      ]
     },
     "metadata": {},
     "output_type": "display_data"
    },
    {
     "data": {
      "text/html": [
       "<pre>recommendations finished on 6000/14140 queries. users per second: 25446.7</pre>"
      ],
      "text/plain": [
       "recommendations finished on 6000/14140 queries. users per second: 25446.7"
      ]
     },
     "metadata": {},
     "output_type": "display_data"
    },
    {
     "data": {
      "text/html": [
       "<pre>recommendations finished on 7000/14140 queries. users per second: 25562.1</pre>"
      ],
      "text/plain": [
       "recommendations finished on 7000/14140 queries. users per second: 25562.1"
      ]
     },
     "metadata": {},
     "output_type": "display_data"
    },
    {
     "data": {
      "text/html": [
       "<pre>recommendations finished on 8000/14140 queries. users per second: 26218.8</pre>"
      ],
      "text/plain": [
       "recommendations finished on 8000/14140 queries. users per second: 26218.8"
      ]
     },
     "metadata": {},
     "output_type": "display_data"
    },
    {
     "data": {
      "text/html": [
       "<pre>recommendations finished on 9000/14140 queries. users per second: 26058.3</pre>"
      ],
      "text/plain": [
       "recommendations finished on 9000/14140 queries. users per second: 26058.3"
      ]
     },
     "metadata": {},
     "output_type": "display_data"
    },
    {
     "data": {
      "text/html": [
       "<pre>recommendations finished on 10000/14140 queries. users per second: 25953.9</pre>"
      ],
      "text/plain": [
       "recommendations finished on 10000/14140 queries. users per second: 25953.9"
      ]
     },
     "metadata": {},
     "output_type": "display_data"
    },
    {
     "data": {
      "text/html": [
       "<pre>recommendations finished on 11000/14140 queries. users per second: 26724.5</pre>"
      ],
      "text/plain": [
       "recommendations finished on 11000/14140 queries. users per second: 26724.5"
      ]
     },
     "metadata": {},
     "output_type": "display_data"
    },
    {
     "data": {
      "text/html": [
       "<pre>recommendations finished on 12000/14140 queries. users per second: 26125.2</pre>"
      ],
      "text/plain": [
       "recommendations finished on 12000/14140 queries. users per second: 26125.2"
      ]
     },
     "metadata": {},
     "output_type": "display_data"
    },
    {
     "data": {
      "text/html": [
       "<pre>recommendations finished on 13000/14140 queries. users per second: 26131.2</pre>"
      ],
      "text/plain": [
       "recommendations finished on 13000/14140 queries. users per second: 26131.2"
      ]
     },
     "metadata": {},
     "output_type": "display_data"
    },
    {
     "data": {
      "text/html": [
       "<pre>recommendations finished on 14000/14140 queries. users per second: 24223.9</pre>"
      ],
      "text/plain": [
       "recommendations finished on 14000/14140 queries. users per second: 24223.9"
      ]
     },
     "metadata": {},
     "output_type": "display_data"
    },
    {
     "name": "stdout",
     "output_type": "stream",
     "text": [
      "\n",
      "Precision and recall summary statistics by cutoff\n",
      "+--------+-----------------+-----------------+\n",
      "| cutoff |  mean_precision |   mean_recall   |\n",
      "+--------+-----------------+-----------------+\n",
      "|   1    | 0.0265205091938 | 0.0201034291604 |\n",
      "|   2    | 0.0233026874116 | 0.0349738855938 |\n",
      "|   3    | 0.0216171617162 |  0.048264748028 |\n",
      "|   4    | 0.0205799151344 | 0.0612829288977 |\n",
      "|   5    | 0.0196463932107 | 0.0723281782999 |\n",
      "|   6    | 0.0185525695427 | 0.0814141230588 |\n",
      "|   7    | 0.0182865225298 | 0.0946810336681 |\n",
      "|   8    | 0.0176626591231 |  0.104047693773 |\n",
      "|   9    | 0.0169181203835 |  0.111545794574 |\n",
      "|   10   | 0.0162234794908 |  0.118548642552 |\n",
      "+--------+-----------------+-----------------+\n",
      "[10 rows x 3 columns]\n",
      "\n",
      "PROGRESS: Evaluate model M2\n"
     ]
    },
    {
     "data": {
      "text/html": [
       "<pre>recommendations finished on 1000/14140 queries. users per second: 25457</pre>"
      ],
      "text/plain": [
       "recommendations finished on 1000/14140 queries. users per second: 25457"
      ]
     },
     "metadata": {},
     "output_type": "display_data"
    },
    {
     "data": {
      "text/html": [
       "<pre>recommendations finished on 2000/14140 queries. users per second: 28246.2</pre>"
      ],
      "text/plain": [
       "recommendations finished on 2000/14140 queries. users per second: 28246.2"
      ]
     },
     "metadata": {},
     "output_type": "display_data"
    },
    {
     "data": {
      "text/html": [
       "<pre>recommendations finished on 3000/14140 queries. users per second: 25039.6</pre>"
      ],
      "text/plain": [
       "recommendations finished on 3000/14140 queries. users per second: 25039.6"
      ]
     },
     "metadata": {},
     "output_type": "display_data"
    },
    {
     "data": {
      "text/html": [
       "<pre>recommendations finished on 4000/14140 queries. users per second: 26162.6</pre>"
      ],
      "text/plain": [
       "recommendations finished on 4000/14140 queries. users per second: 26162.6"
      ]
     },
     "metadata": {},
     "output_type": "display_data"
    },
    {
     "data": {
      "text/html": [
       "<pre>recommendations finished on 5000/14140 queries. users per second: 27361.1</pre>"
      ],
      "text/plain": [
       "recommendations finished on 5000/14140 queries. users per second: 27361.1"
      ]
     },
     "metadata": {},
     "output_type": "display_data"
    },
    {
     "data": {
      "text/html": [
       "<pre>recommendations finished on 6000/14140 queries. users per second: 26263.5</pre>"
      ],
      "text/plain": [
       "recommendations finished on 6000/14140 queries. users per second: 26263.5"
      ]
     },
     "metadata": {},
     "output_type": "display_data"
    },
    {
     "data": {
      "text/html": [
       "<pre>recommendations finished on 7000/14140 queries. users per second: 27036.6</pre>"
      ],
      "text/plain": [
       "recommendations finished on 7000/14140 queries. users per second: 27036.6"
      ]
     },
     "metadata": {},
     "output_type": "display_data"
    },
    {
     "data": {
      "text/html": [
       "<pre>recommendations finished on 8000/14140 queries. users per second: 27754.1</pre>"
      ],
      "text/plain": [
       "recommendations finished on 8000/14140 queries. users per second: 27754.1"
      ]
     },
     "metadata": {},
     "output_type": "display_data"
    },
    {
     "data": {
      "text/html": [
       "<pre>recommendations finished on 9000/14140 queries. users per second: 26766.7</pre>"
      ],
      "text/plain": [
       "recommendations finished on 9000/14140 queries. users per second: 26766.7"
      ]
     },
     "metadata": {},
     "output_type": "display_data"
    },
    {
     "data": {
      "text/html": [
       "<pre>recommendations finished on 10000/14140 queries. users per second: 26083.6</pre>"
      ],
      "text/plain": [
       "recommendations finished on 10000/14140 queries. users per second: 26083.6"
      ]
     },
     "metadata": {},
     "output_type": "display_data"
    },
    {
     "data": {
      "text/html": [
       "<pre>recommendations finished on 11000/14140 queries. users per second: 26759.6</pre>"
      ],
      "text/plain": [
       "recommendations finished on 11000/14140 queries. users per second: 26759.6"
      ]
     },
     "metadata": {},
     "output_type": "display_data"
    },
    {
     "data": {
      "text/html": [
       "<pre>recommendations finished on 12000/14140 queries. users per second: 25517.4</pre>"
      ],
      "text/plain": [
       "recommendations finished on 12000/14140 queries. users per second: 25517.4"
      ]
     },
     "metadata": {},
     "output_type": "display_data"
    },
    {
     "data": {
      "text/html": [
       "<pre>recommendations finished on 13000/14140 queries. users per second: 25781.2</pre>"
      ],
      "text/plain": [
       "recommendations finished on 13000/14140 queries. users per second: 25781.2"
      ]
     },
     "metadata": {},
     "output_type": "display_data"
    },
    {
     "data": {
      "text/html": [
       "<pre>recommendations finished on 14000/14140 queries. users per second: 25831.9</pre>"
      ],
      "text/plain": [
       "recommendations finished on 14000/14140 queries. users per second: 25831.9"
      ]
     },
     "metadata": {},
     "output_type": "display_data"
    },
    {
     "name": "stdout",
     "output_type": "stream",
     "text": [
      "\n",
      "Precision and recall summary statistics by cutoff\n",
      "+--------+-----------------+-----------------+\n",
      "| cutoff |  mean_precision |   mean_recall   |\n",
      "+--------+-----------------+-----------------+\n",
      "|   1    | 0.0247524752475 | 0.0186530519799 |\n",
      "|   2    | 0.0240806223479 | 0.0365898966847 |\n",
      "|   3    | 0.0230315888732 | 0.0526537874722 |\n",
      "|   4    | 0.0217998585573 | 0.0659257751198 |\n",
      "|   5    | 0.0205516265912 | 0.0771711253797 |\n",
      "|   6    | 0.0194247996228 | 0.0870246400275 |\n",
      "|   7    | 0.0186906445747 | 0.0968023241631 |\n",
      "|   8    | 0.0178483026874 |  0.105320384102 |\n",
      "|   9    | 0.0172088637435 |  0.113663095659 |\n",
      "|   10   |  0.01671145686  |  0.122241592049 |\n",
      "+--------+-----------------+-----------------+\n",
      "[10 rows x 3 columns]\n",
      "\n",
      "PROGRESS: Evaluate model M3\n"
     ]
    },
    {
     "data": {
      "text/html": [
       "<pre>recommendations finished on 1000/14140 queries. users per second: 19026.2</pre>"
      ],
      "text/plain": [
       "recommendations finished on 1000/14140 queries. users per second: 19026.2"
      ]
     },
     "metadata": {},
     "output_type": "display_data"
    },
    {
     "data": {
      "text/html": [
       "<pre>recommendations finished on 2000/14140 queries. users per second: 23351.9</pre>"
      ],
      "text/plain": [
       "recommendations finished on 2000/14140 queries. users per second: 23351.9"
      ]
     },
     "metadata": {},
     "output_type": "display_data"
    },
    {
     "data": {
      "text/html": [
       "<pre>recommendations finished on 3000/14140 queries. users per second: 25550.8</pre>"
      ],
      "text/plain": [
       "recommendations finished on 3000/14140 queries. users per second: 25550.8"
      ]
     },
     "metadata": {},
     "output_type": "display_data"
    },
    {
     "data": {
      "text/html": [
       "<pre>recommendations finished on 4000/14140 queries. users per second: 26829.3</pre>"
      ],
      "text/plain": [
       "recommendations finished on 4000/14140 queries. users per second: 26829.3"
      ]
     },
     "metadata": {},
     "output_type": "display_data"
    },
    {
     "data": {
      "text/html": [
       "<pre>recommendations finished on 5000/14140 queries. users per second: 27254.5</pre>"
      ],
      "text/plain": [
       "recommendations finished on 5000/14140 queries. users per second: 27254.5"
      ]
     },
     "metadata": {},
     "output_type": "display_data"
    },
    {
     "data": {
      "text/html": [
       "<pre>recommendations finished on 6000/14140 queries. users per second: 27367.1</pre>"
      ],
      "text/plain": [
       "recommendations finished on 6000/14140 queries. users per second: 27367.1"
      ]
     },
     "metadata": {},
     "output_type": "display_data"
    },
    {
     "data": {
      "text/html": [
       "<pre>recommendations finished on 7000/14140 queries. users per second: 28165.3</pre>"
      ],
      "text/plain": [
       "recommendations finished on 7000/14140 queries. users per second: 28165.3"
      ]
     },
     "metadata": {},
     "output_type": "display_data"
    },
    {
     "data": {
      "text/html": [
       "<pre>recommendations finished on 8000/14140 queries. users per second: 28267.5</pre>"
      ],
      "text/plain": [
       "recommendations finished on 8000/14140 queries. users per second: 28267.5"
      ]
     },
     "metadata": {},
     "output_type": "display_data"
    },
    {
     "data": {
      "text/html": [
       "<pre>recommendations finished on 9000/14140 queries. users per second: 28215.6</pre>"
      ],
      "text/plain": [
       "recommendations finished on 9000/14140 queries. users per second: 28215.6"
      ]
     },
     "metadata": {},
     "output_type": "display_data"
    },
    {
     "data": {
      "text/html": [
       "<pre>recommendations finished on 10000/14140 queries. users per second: 26761.3</pre>"
      ],
      "text/plain": [
       "recommendations finished on 10000/14140 queries. users per second: 26761.3"
      ]
     },
     "metadata": {},
     "output_type": "display_data"
    },
    {
     "data": {
      "text/html": [
       "<pre>recommendations finished on 11000/14140 queries. users per second: 26606.6</pre>"
      ],
      "text/plain": [
       "recommendations finished on 11000/14140 queries. users per second: 26606.6"
      ]
     },
     "metadata": {},
     "output_type": "display_data"
    },
    {
     "data": {
      "text/html": [
       "<pre>recommendations finished on 12000/14140 queries. users per second: 25944.4</pre>"
      ],
      "text/plain": [
       "recommendations finished on 12000/14140 queries. users per second: 25944.4"
      ]
     },
     "metadata": {},
     "output_type": "display_data"
    },
    {
     "data": {
      "text/html": [
       "<pre>recommendations finished on 13000/14140 queries. users per second: 26009</pre>"
      ],
      "text/plain": [
       "recommendations finished on 13000/14140 queries. users per second: 26009"
      ]
     },
     "metadata": {},
     "output_type": "display_data"
    },
    {
     "data": {
      "text/html": [
       "<pre>recommendations finished on 14000/14140 queries. users per second: 26367.1</pre>"
      ],
      "text/plain": [
       "recommendations finished on 14000/14140 queries. users per second: 26367.1"
      ]
     },
     "metadata": {},
     "output_type": "display_data"
    },
    {
     "name": "stdout",
     "output_type": "stream",
     "text": [
      "\n",
      "Precision and recall summary statistics by cutoff\n",
      "+--------+-------------------+-------------------+\n",
      "| cutoff |   mean_precision  |    mean_recall    |\n",
      "+--------+-------------------+-------------------+\n",
      "|   1    |        0.0        |        0.0        |\n",
      "|   2    |  3.5360678925e-05 | 7.07213578501e-05 |\n",
      "|   3    |  2.357378595e-05  | 7.07213578501e-05 |\n",
      "|   4    |  3.5360678925e-05 | 9.42951438001e-05 |\n",
      "|   5    | 9.90099009901e-05 |  0.00044790193305 |\n",
      "|   6    | 8.25082508251e-05 |  0.00044790193305 |\n",
      "|   7    | 9.09274600929e-05 | 0.000542197076851 |\n",
      "|   8    | 7.95615275813e-05 | 0.000542197076851 |\n",
      "|   9    | 7.85792865001e-05 | 0.000577557755776 |\n",
      "|   10   | 8.48656294201e-05 | 0.000719000471476 |\n",
      "+--------+-------------------+-------------------+\n",
      "[10 rows x 3 columns]\n",
      "\n",
      "Model compare metric: precision_recall\n"
     ]
    }
   ],
   "source": [
    "model_performance = graphlab.compare(test_data_gl, [popularity_model, Cosine_model, Jaccard_model, Pearson_model])"
   ]
  },
  {
   "cell_type": "markdown",
   "metadata": {},
   "source": [
    "#### Summary:\n",
    "\n",
    "The cosine and jaccard model perform better than the others for this dataset. And cosine model is slightly better than jaccard model. So I will use cosine model to build the second recommendation system."
   ]
  },
  {
   "cell_type": "markdown",
   "metadata": {},
   "source": [
    "### III.3 Matrix decomposition"
   ]
  },
  {
   "cell_type": "markdown",
   "metadata": {},
   "source": [
    "- Step 1: Data Preparationg"
   ]
  },
  {
   "cell_type": "code",
   "execution_count": null,
   "metadata": {},
   "outputs": [],
   "source": []
  },
  {
   "cell_type": "markdown",
   "metadata": {},
   "source": [
    "- Step 2: "
   ]
  },
  {
   "cell_type": "code",
   "execution_count": null,
   "metadata": {},
   "outputs": [],
   "source": []
  },
  {
   "cell_type": "markdown",
   "metadata": {},
   "source": [
    "- Step 3:"
   ]
  },
  {
   "cell_type": "code",
   "execution_count": null,
   "metadata": {},
   "outputs": [],
   "source": []
  },
  {
   "cell_type": "markdown",
   "metadata": {},
   "source": [
    "- Step 4:"
   ]
  },
  {
   "cell_type": "code",
   "execution_count": null,
   "metadata": {},
   "outputs": [],
   "source": []
  },
  {
   "cell_type": "markdown",
   "metadata": {},
   "source": [
    "## IV. 3 Extended Methods:\n",
    "- K-mean Clustering\n",
    "- K-nn Clustering\n",
    "- Hierachical Clustering\n",
    "- SVM\n",
    "- Neural networks"
   ]
  },
  {
   "cell_type": "markdown",
   "metadata": {},
   "source": [
    "### IV.1 K-mean Clustering"
   ]
  },
  {
   "cell_type": "code",
   "execution_count": null,
   "metadata": {},
   "outputs": [],
   "source": []
  },
  {
   "cell_type": "code",
   "execution_count": null,
   "metadata": {},
   "outputs": [],
   "source": []
  },
  {
   "cell_type": "code",
   "execution_count": null,
   "metadata": {},
   "outputs": [],
   "source": []
  },
  {
   "cell_type": "code",
   "execution_count": null,
   "metadata": {},
   "outputs": [],
   "source": []
  },
  {
   "cell_type": "code",
   "execution_count": null,
   "metadata": {},
   "outputs": [],
   "source": []
  },
  {
   "cell_type": "code",
   "execution_count": null,
   "metadata": {},
   "outputs": [],
   "source": []
  },
  {
   "cell_type": "code",
   "execution_count": null,
   "metadata": {},
   "outputs": [],
   "source": []
  },
  {
   "cell_type": "markdown",
   "metadata": {},
   "source": [
    "### IV.2 K-nn Clustering"
   ]
  },
  {
   "cell_type": "code",
   "execution_count": null,
   "metadata": {},
   "outputs": [],
   "source": []
  },
  {
   "cell_type": "code",
   "execution_count": null,
   "metadata": {},
   "outputs": [],
   "source": []
  },
  {
   "cell_type": "code",
   "execution_count": null,
   "metadata": {},
   "outputs": [],
   "source": []
  },
  {
   "cell_type": "code",
   "execution_count": null,
   "metadata": {},
   "outputs": [],
   "source": []
  },
  {
   "cell_type": "code",
   "execution_count": null,
   "metadata": {},
   "outputs": [],
   "source": []
  },
  {
   "cell_type": "code",
   "execution_count": null,
   "metadata": {},
   "outputs": [],
   "source": []
  },
  {
   "cell_type": "code",
   "execution_count": null,
   "metadata": {},
   "outputs": [],
   "source": []
  },
  {
   "cell_type": "markdown",
   "metadata": {},
   "source": [
    "### IV.3 Hierachical Clustering"
   ]
  },
  {
   "cell_type": "code",
   "execution_count": null,
   "metadata": {},
   "outputs": [],
   "source": []
  },
  {
   "cell_type": "code",
   "execution_count": null,
   "metadata": {},
   "outputs": [],
   "source": []
  },
  {
   "cell_type": "code",
   "execution_count": null,
   "metadata": {},
   "outputs": [],
   "source": []
  },
  {
   "cell_type": "code",
   "execution_count": null,
   "metadata": {},
   "outputs": [],
   "source": []
  },
  {
   "cell_type": "code",
   "execution_count": null,
   "metadata": {},
   "outputs": [],
   "source": []
  },
  {
   "cell_type": "code",
   "execution_count": null,
   "metadata": {},
   "outputs": [],
   "source": []
  },
  {
   "cell_type": "code",
   "execution_count": null,
   "metadata": {},
   "outputs": [],
   "source": []
  },
  {
   "cell_type": "markdown",
   "metadata": {},
   "source": [
    "### IV.4 SVM"
   ]
  },
  {
   "cell_type": "code",
   "execution_count": null,
   "metadata": {},
   "outputs": [],
   "source": []
  },
  {
   "cell_type": "code",
   "execution_count": null,
   "metadata": {},
   "outputs": [],
   "source": []
  },
  {
   "cell_type": "code",
   "execution_count": null,
   "metadata": {},
   "outputs": [],
   "source": []
  },
  {
   "cell_type": "code",
   "execution_count": null,
   "metadata": {},
   "outputs": [],
   "source": []
  },
  {
   "cell_type": "code",
   "execution_count": null,
   "metadata": {},
   "outputs": [],
   "source": []
  },
  {
   "cell_type": "code",
   "execution_count": null,
   "metadata": {},
   "outputs": [],
   "source": []
  },
  {
   "cell_type": "code",
   "execution_count": null,
   "metadata": {},
   "outputs": [],
   "source": []
  },
  {
   "cell_type": "markdown",
   "metadata": {},
   "source": [
    "### IV.5 Neural Networks"
   ]
  },
  {
   "cell_type": "code",
   "execution_count": null,
   "metadata": {},
   "outputs": [],
   "source": []
  },
  {
   "cell_type": "code",
   "execution_count": null,
   "metadata": {},
   "outputs": [],
   "source": []
  },
  {
   "cell_type": "code",
   "execution_count": null,
   "metadata": {},
   "outputs": [],
   "source": []
  },
  {
   "cell_type": "code",
   "execution_count": null,
   "metadata": {},
   "outputs": [],
   "source": []
  },
  {
   "cell_type": "code",
   "execution_count": null,
   "metadata": {},
   "outputs": [],
   "source": []
  },
  {
   "cell_type": "code",
   "execution_count": null,
   "metadata": {},
   "outputs": [],
   "source": []
  },
  {
   "cell_type": "code",
   "execution_count": null,
   "metadata": {},
   "outputs": [],
   "source": []
  }
 ],
 "metadata": {
  "kernelspec": {
   "display_name": "Python 2",
   "language": "python",
   "name": "python2"
  },
  "language_info": {
   "codemirror_mode": {
    "name": "ipython",
    "version": 2
   },
   "file_extension": ".py",
   "mimetype": "text/x-python",
   "name": "python",
   "nbconvert_exporter": "python",
   "pygments_lexer": "ipython2",
   "version": "2.7.14"
  }
 },
 "nbformat": 4,
 "nbformat_minor": 1
}

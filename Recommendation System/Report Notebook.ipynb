{
 "cells": [
  {
   "cell_type": "code",
   "execution_count": 1,
   "metadata": {},
   "outputs": [
    {
     "data": {
      "text/html": [
       "<button onclick=\"$('.input, .prompt, .output_stderr, .output_error').toggle();\">Hide Code</button>"
      ]
     },
     "metadata": {},
     "output_type": "display_data"
    }
   ],
   "source": [
    "from IPython.display import display_html\n",
    "display_html(\"\"\"<button onclick=\"$('.input, .prompt, .output_stderr, .output_error').toggle();\">Hide Code</button>\"\"\", raw=True)"
   ]
  },
  {
   "cell_type": "markdown",
   "metadata": {
    "collapsed": true
   },
   "source": [
    "# IV. Objective 3: Recommendation System (Ni)\n",
    "In this part, I will build recommendation system with trying three popular recommendation methods and one deep learning approach(Artificial Nerual Network). The target of this part is to recommend 3 more different restaurants to each customer in the Hoboken Restaurants Reviews dataset. The recommendation system will help business owner as well as yelp to create profit. The methods I will try showed as follows:\n",
    "1. Co-occurrence Matrix \n",
    "2. Collaborative Filtering\n",
    "3. Matrix Factorization\n",
    "4. Deep learning (Neural Network)"
   ]
  },
  {
   "cell_type": "code",
   "execution_count": 1,
   "metadata": {
    "scrolled": true
   },
   "outputs": [],
   "source": [
    "#py3.6\n",
    "import numpy as np \n",
    "import pandas as pd \n",
    "import matplotlib.pyplot as plt\n",
    "import seaborn as sns\n",
    "from statistics import mean\n",
    "import pandas as pd\n",
    "from sklearn.model_selection import train_test_split\n",
    "from sklearn.decomposition import NMF\n",
    "from sklearn.feature_extraction.text import TfidfVectorizer\n",
    "from nltk.stem.snowball import SnowballStemmer\n",
    "from nltk.tokenize import RegexpTokenizer\n",
    "from sklearn.preprocessing import Normalizer\n",
    "import itertools\n",
    "from sklearn.metrics import confusion_matrix, accuracy_score\n",
    "from sklearn.neural_network import MLPClassifier\n",
    "from sklearn.model_selection import GridSearchCV"
   ]
  },
  {
   "cell_type": "code",
   "execution_count": 1,
   "metadata": {
    "scrolled": true
   },
   "outputs": [],
   "source": [
    "#py2.7\n",
    "import graphlab \n",
    "import pandas as pd\n",
    "import numpy as np\n",
    "import matplotlib.pyplot as plt\n",
    "from sklearn.decomposition import NMF\n",
    "from sklearn.model_selection import train_test_split"
   ]
  },
  {
   "cell_type": "markdown",
   "metadata": {},
   "source": [
    "## Part 1. Data Understanding and Cleaning\n",
    "Before building the model, I will introduce the data I will use. The raw data in this part is the Hoboken Restaurants Reviews dataset, which includes 74,611 rows and 8 columns. First, I will clean the data and prepare required data for following recommendation system methods.\n",
    "\n",
    "### Part 1 - 1 Basic Understanding of data\n",
    "Definition of each variable:\n",
    "1. user_id: Unique id for each customer\n",
    "2. user_name: customer's name\n",
    "3. user_raing: original rating for one restaurant per review\n",
    "4. user_text: text of customer's review for one restaurant per review \n",
    "5. restaurant_name: unique name for each restaurant\n",
    "6. restaurant_rating: the integrated rating of each restaurant\n",
    "7. restaurant_price: degree of cheap or expensive of one restaurant\n",
    "8. restaurant_type: the style and theme of one restaurant\n",
    "\n",
    "**Table 1** show a sample dataset and  basic information of raw data. **Chart 1** shows the datatype of each column. There are some columns like user_rating, restaurant_rating and restaurant_price should be convert into numerical data. In addition, there are some repeated comma in restaurant_type column,  so I will do data cleaning first and try to use this variable in Neural Network part. In addition, it use '$$' symbol represent the degree of price of each restaurant and the symbol should be converted to integer, which could be recognized by the computer."
   ]
  },
  {
   "cell_type": "code",
   "execution_count": 3,
   "metadata": {
    "collapsed": true
   },
   "outputs": [
    {
     "data": {
      "text/html": [
       "<div>\n",
       "<style scoped>\n",
       "    .dataframe tbody tr th:only-of-type {\n",
       "        vertical-align: middle;\n",
       "    }\n",
       "\n",
       "    .dataframe tbody tr th {\n",
       "        vertical-align: top;\n",
       "    }\n",
       "\n",
       "    .dataframe thead th {\n",
       "        text-align: right;\n",
       "    }\n",
       "</style>\n",
       "<table border=\"1\" class=\"dataframe\">\n",
       "  <thead>\n",
       "    <tr style=\"text-align: right;\">\n",
       "      <th></th>\n",
       "      <th>Unnamed: 0</th>\n",
       "      <th>Unnamed: 0.1</th>\n",
       "      <th>user_id</th>\n",
       "      <th>user_name</th>\n",
       "      <th>user_rating</th>\n",
       "      <th>user_text</th>\n",
       "      <th>restaurant_name</th>\n",
       "      <th>restaurant_rating</th>\n",
       "      <th>restaurant_price</th>\n",
       "      <th>restaurant_type</th>\n",
       "    </tr>\n",
       "  </thead>\n",
       "  <tbody>\n",
       "    <tr>\n",
       "      <th>0</th>\n",
       "      <td>0</td>\n",
       "      <td>0</td>\n",
       "      <td>dRuCO4NYO7zyAF8-CeJmZg</td>\n",
       "      <td>Jason L.</td>\n",
       "      <td>5.0 star rating</td>\n",
       "      <td>We booked Grand Vin as our brunch location to ...</td>\n",
       "      <td>Grand Vin</td>\n",
       "      <td>4.0 star rating</td>\n",
       "      <td>$$</td>\n",
       "      <td>Wine, Bars,, Italian,, Cocktail, Bars</td>\n",
       "    </tr>\n",
       "    <tr>\n",
       "      <th>1</th>\n",
       "      <td>1</td>\n",
       "      <td>1</td>\n",
       "      <td>f36YZ1cA291bNtMHXWtu1Q</td>\n",
       "      <td>Danyale W.</td>\n",
       "      <td>4.0 star rating</td>\n",
       "      <td>Sooooo for date night it was his turn to pick ...</td>\n",
       "      <td>Grand Vin</td>\n",
       "      <td>4.0 star rating</td>\n",
       "      <td>$$</td>\n",
       "      <td>Wine, Bars,, Italian,, Cocktail, Bars</td>\n",
       "    </tr>\n",
       "    <tr>\n",
       "      <th>2</th>\n",
       "      <td>2</td>\n",
       "      <td>2</td>\n",
       "      <td>-xYUKfWQTaB-7BeizsQA3w</td>\n",
       "      <td>Robin G.</td>\n",
       "      <td>5.0 star rating</td>\n",
       "      <td>Adorable little wine bar with outdoor seating ...</td>\n",
       "      <td>Grand Vin</td>\n",
       "      <td>4.0 star rating</td>\n",
       "      <td>$$</td>\n",
       "      <td>Wine, Bars,, Italian,, Cocktail, Bars</td>\n",
       "    </tr>\n",
       "    <tr>\n",
       "      <th>3</th>\n",
       "      <td>3</td>\n",
       "      <td>3</td>\n",
       "      <td>tt1vLgAP5UpRXAKJLT2KWg</td>\n",
       "      <td>Alec K.</td>\n",
       "      <td>4.0 star rating</td>\n",
       "      <td>One of the top restaurants in Hoboken. Well ma...</td>\n",
       "      <td>Grand Vin</td>\n",
       "      <td>4.0 star rating</td>\n",
       "      <td>$$</td>\n",
       "      <td>Wine, Bars,, Italian,, Cocktail, Bars</td>\n",
       "    </tr>\n",
       "    <tr>\n",
       "      <th>4</th>\n",
       "      <td>4</td>\n",
       "      <td>4</td>\n",
       "      <td>-K79Xep4lElqIChsJYWuiQ</td>\n",
       "      <td>Robbie O.</td>\n",
       "      <td>5.0 star rating</td>\n",
       "      <td>Great space- service is on point -  short rib ...</td>\n",
       "      <td>Grand Vin</td>\n",
       "      <td>4.0 star rating</td>\n",
       "      <td>$$</td>\n",
       "      <td>Wine, Bars,, Italian,, Cocktail, Bars</td>\n",
       "    </tr>\n",
       "  </tbody>\n",
       "</table>\n",
       "</div>"
      ],
      "text/plain": [
       "   Unnamed: 0  Unnamed: 0.1                 user_id   user_name  \\\n",
       "0           0             0  dRuCO4NYO7zyAF8-CeJmZg    Jason L.   \n",
       "1           1             1  f36YZ1cA291bNtMHXWtu1Q  Danyale W.   \n",
       "2           2             2  -xYUKfWQTaB-7BeizsQA3w    Robin G.   \n",
       "3           3             3  tt1vLgAP5UpRXAKJLT2KWg     Alec K.   \n",
       "4           4             4  -K79Xep4lElqIChsJYWuiQ   Robbie O.   \n",
       "\n",
       "       user_rating                                          user_text  \\\n",
       "0  5.0 star rating  We booked Grand Vin as our brunch location to ...   \n",
       "1  4.0 star rating  Sooooo for date night it was his turn to pick ...   \n",
       "2  5.0 star rating  Adorable little wine bar with outdoor seating ...   \n",
       "3  4.0 star rating  One of the top restaurants in Hoboken. Well ma...   \n",
       "4  5.0 star rating  Great space- service is on point -  short rib ...   \n",
       "\n",
       "  restaurant_name restaurant_rating restaurant_price  \\\n",
       "0       Grand Vin   4.0 star rating               $$   \n",
       "1       Grand Vin   4.0 star rating               $$   \n",
       "2       Grand Vin   4.0 star rating               $$   \n",
       "3       Grand Vin   4.0 star rating               $$   \n",
       "4       Grand Vin   4.0 star rating               $$   \n",
       "\n",
       "                         restaurant_type  \n",
       "0  Wine, Bars,, Italian,, Cocktail, Bars  \n",
       "1  Wine, Bars,, Italian,, Cocktail, Bars  \n",
       "2  Wine, Bars,, Italian,, Cocktail, Bars  \n",
       "3  Wine, Bars,, Italian,, Cocktail, Bars  \n",
       "4  Wine, Bars,, Italian,, Cocktail, Bars  "
      ]
     },
     "execution_count": 3,
     "metadata": {},
     "output_type": "execute_result"
    }
   ],
   "source": [
    "df=pd.read_csv('Hoboken_restaurants_reviews.csv')\n",
    "df.head()"
   ]
  },
  {
   "cell_type": "code",
   "execution_count": 4,
   "metadata": {},
   "outputs": [
    {
     "data": {
      "text/html": [
       "<div>\n",
       "<style scoped>\n",
       "    .dataframe tbody tr th:only-of-type {\n",
       "        vertical-align: middle;\n",
       "    }\n",
       "\n",
       "    .dataframe tbody tr th {\n",
       "        vertical-align: top;\n",
       "    }\n",
       "\n",
       "    .dataframe thead th {\n",
       "        text-align: right;\n",
       "    }\n",
       "</style>\n",
       "<table border=\"1\" class=\"dataframe\">\n",
       "  <thead>\n",
       "    <tr style=\"text-align: right;\">\n",
       "      <th></th>\n",
       "      <th>user_id</th>\n",
       "      <th>user_name</th>\n",
       "      <th>user_rating</th>\n",
       "      <th>user_text</th>\n",
       "      <th>restaurant_name</th>\n",
       "      <th>restaurant_rating</th>\n",
       "      <th>restaurant_price</th>\n",
       "      <th>restaurant_type</th>\n",
       "    </tr>\n",
       "  </thead>\n",
       "  <tbody>\n",
       "    <tr>\n",
       "      <th>0</th>\n",
       "      <td>dRuCO4NYO7zyAF8-CeJmZg</td>\n",
       "      <td>Jason L.</td>\n",
       "      <td>5.0 star rating</td>\n",
       "      <td>We booked Grand Vin as our brunch location to ...</td>\n",
       "      <td>Grand Vin</td>\n",
       "      <td>4.0 star rating</td>\n",
       "      <td>$$</td>\n",
       "      <td>Wine, Bars,, Italian,, Cocktail, Bars</td>\n",
       "    </tr>\n",
       "    <tr>\n",
       "      <th>1</th>\n",
       "      <td>f36YZ1cA291bNtMHXWtu1Q</td>\n",
       "      <td>Danyale W.</td>\n",
       "      <td>4.0 star rating</td>\n",
       "      <td>Sooooo for date night it was his turn to pick ...</td>\n",
       "      <td>Grand Vin</td>\n",
       "      <td>4.0 star rating</td>\n",
       "      <td>$$</td>\n",
       "      <td>Wine, Bars,, Italian,, Cocktail, Bars</td>\n",
       "    </tr>\n",
       "    <tr>\n",
       "      <th>2</th>\n",
       "      <td>-xYUKfWQTaB-7BeizsQA3w</td>\n",
       "      <td>Robin G.</td>\n",
       "      <td>5.0 star rating</td>\n",
       "      <td>Adorable little wine bar with outdoor seating ...</td>\n",
       "      <td>Grand Vin</td>\n",
       "      <td>4.0 star rating</td>\n",
       "      <td>$$</td>\n",
       "      <td>Wine, Bars,, Italian,, Cocktail, Bars</td>\n",
       "    </tr>\n",
       "    <tr>\n",
       "      <th>3</th>\n",
       "      <td>tt1vLgAP5UpRXAKJLT2KWg</td>\n",
       "      <td>Alec K.</td>\n",
       "      <td>4.0 star rating</td>\n",
       "      <td>One of the top restaurants in Hoboken. Well ma...</td>\n",
       "      <td>Grand Vin</td>\n",
       "      <td>4.0 star rating</td>\n",
       "      <td>$$</td>\n",
       "      <td>Wine, Bars,, Italian,, Cocktail, Bars</td>\n",
       "    </tr>\n",
       "    <tr>\n",
       "      <th>4</th>\n",
       "      <td>-K79Xep4lElqIChsJYWuiQ</td>\n",
       "      <td>Robbie O.</td>\n",
       "      <td>5.0 star rating</td>\n",
       "      <td>Great space- service is on point -  short rib ...</td>\n",
       "      <td>Grand Vin</td>\n",
       "      <td>4.0 star rating</td>\n",
       "      <td>$$</td>\n",
       "      <td>Wine, Bars,, Italian,, Cocktail, Bars</td>\n",
       "    </tr>\n",
       "  </tbody>\n",
       "</table>\n",
       "</div>"
      ],
      "text/plain": [
       "                  user_id   user_name      user_rating  \\\n",
       "0  dRuCO4NYO7zyAF8-CeJmZg    Jason L.  5.0 star rating   \n",
       "1  f36YZ1cA291bNtMHXWtu1Q  Danyale W.  4.0 star rating   \n",
       "2  -xYUKfWQTaB-7BeizsQA3w    Robin G.  5.0 star rating   \n",
       "3  tt1vLgAP5UpRXAKJLT2KWg     Alec K.  4.0 star rating   \n",
       "4  -K79Xep4lElqIChsJYWuiQ   Robbie O.  5.0 star rating   \n",
       "\n",
       "                                           user_text restaurant_name  \\\n",
       "0  We booked Grand Vin as our brunch location to ...       Grand Vin   \n",
       "1  Sooooo for date night it was his turn to pick ...       Grand Vin   \n",
       "2  Adorable little wine bar with outdoor seating ...       Grand Vin   \n",
       "3  One of the top restaurants in Hoboken. Well ma...       Grand Vin   \n",
       "4  Great space- service is on point -  short rib ...       Grand Vin   \n",
       "\n",
       "  restaurant_rating restaurant_price                        restaurant_type  \n",
       "0   4.0 star rating               $$  Wine, Bars,, Italian,, Cocktail, Bars  \n",
       "1   4.0 star rating               $$  Wine, Bars,, Italian,, Cocktail, Bars  \n",
       "2   4.0 star rating               $$  Wine, Bars,, Italian,, Cocktail, Bars  \n",
       "3   4.0 star rating               $$  Wine, Bars,, Italian,, Cocktail, Bars  \n",
       "4   4.0 star rating               $$  Wine, Bars,, Italian,, Cocktail, Bars  "
      ]
     },
     "execution_count": 4,
     "metadata": {},
     "output_type": "execute_result"
    }
   ],
   "source": [
    "del df['Unnamed: 0']\n",
    "del df['Unnamed: 0.1']\n",
    "df.head()"
   ]
  },
  {
   "cell_type": "markdown",
   "metadata": {},
   "source": [
    "<center>**Table 1: Sample of raw data**</center>"
   ]
  },
  {
   "cell_type": "code",
   "execution_count": 5,
   "metadata": {},
   "outputs": [
    {
     "name": "stdout",
     "output_type": "stream",
     "text": [
      "<class 'pandas.core.frame.DataFrame'>\n",
      "RangeIndex: 74611 entries, 0 to 74610\n",
      "Data columns (total 8 columns):\n",
      "user_id              74611 non-null object\n",
      "user_name            74611 non-null object\n",
      "user_rating          74611 non-null object\n",
      "user_text            74611 non-null object\n",
      "restaurant_name      74611 non-null object\n",
      "restaurant_rating    74611 non-null object\n",
      "restaurant_price     74479 non-null object\n",
      "restaurant_type      74611 non-null object\n",
      "dtypes: object(8)\n",
      "memory usage: 4.6+ MB\n"
     ]
    }
   ],
   "source": [
    "df.info()"
   ]
  },
  {
   "cell_type": "markdown",
   "metadata": {},
   "source": [
    "**Chart 1: Datatype**\n",
    "\n",
    "We could find some basic information of the raw data from **Table 2**. It shows that there are 74,611 reviews in total, while only 44,949 unique users leave the reviews, which means multiple users attended to more than one restaurants and it is valuable to build the recommendation system. Also, it shows that there are only 24,781 unique user's name, so in order to reduce the ambigurity, I will use user_id instead of user name in the recommendation system."
   ]
  },
  {
   "cell_type": "code",
   "execution_count": 6,
   "metadata": {
    "scrolled": true
   },
   "outputs": [
    {
     "data": {
      "text/html": [
       "<div>\n",
       "<style scoped>\n",
       "    .dataframe tbody tr th:only-of-type {\n",
       "        vertical-align: middle;\n",
       "    }\n",
       "\n",
       "    .dataframe tbody tr th {\n",
       "        vertical-align: top;\n",
       "    }\n",
       "\n",
       "    .dataframe thead th {\n",
       "        text-align: right;\n",
       "    }\n",
       "</style>\n",
       "<table border=\"1\" class=\"dataframe\">\n",
       "  <thead>\n",
       "    <tr style=\"text-align: right;\">\n",
       "      <th></th>\n",
       "      <th>user_id</th>\n",
       "      <th>user_name</th>\n",
       "      <th>user_rating</th>\n",
       "      <th>user_text</th>\n",
       "      <th>restaurant_name</th>\n",
       "      <th>restaurant_rating</th>\n",
       "      <th>restaurant_price</th>\n",
       "      <th>restaurant_type</th>\n",
       "    </tr>\n",
       "  </thead>\n",
       "  <tbody>\n",
       "    <tr>\n",
       "      <th>count</th>\n",
       "      <td>74611</td>\n",
       "      <td>74611</td>\n",
       "      <td>74611</td>\n",
       "      <td>74611</td>\n",
       "      <td>74611</td>\n",
       "      <td>74611</td>\n",
       "      <td>74479</td>\n",
       "      <td>74611</td>\n",
       "    </tr>\n",
       "    <tr>\n",
       "      <th>unique</th>\n",
       "      <td>44949</td>\n",
       "      <td>24781</td>\n",
       "      <td>5</td>\n",
       "      <td>69542</td>\n",
       "      <td>302</td>\n",
       "      <td>7</td>\n",
       "      <td>4</td>\n",
       "      <td>230</td>\n",
       "    </tr>\n",
       "    <tr>\n",
       "      <th>top</th>\n",
       "      <td>QxTNaHoxTL8f7jAK5nwQ1g</td>\n",
       "      <td>Nicholas G.</td>\n",
       "      <td>5.0 star rating</td>\n",
       "      <td>I've been coming to STK downtown since they ha...</td>\n",
       "      <td>Morimoto</td>\n",
       "      <td>4.0 star rating</td>\n",
       "      <td>$$</td>\n",
       "      <td>Japanese,, Sushi, Bars</td>\n",
       "    </tr>\n",
       "    <tr>\n",
       "      <th>freq</th>\n",
       "      <td>101</td>\n",
       "      <td>103</td>\n",
       "      <td>27702</td>\n",
       "      <td>3</td>\n",
       "      <td>2740</td>\n",
       "      <td>31568</td>\n",
       "      <td>38323</td>\n",
       "      <td>3620</td>\n",
       "    </tr>\n",
       "  </tbody>\n",
       "</table>\n",
       "</div>"
      ],
      "text/plain": [
       "                       user_id    user_name      user_rating  \\\n",
       "count                    74611        74611            74611   \n",
       "unique                   44949        24781                5   \n",
       "top     QxTNaHoxTL8f7jAK5nwQ1g  Nicholas G.  5.0 star rating   \n",
       "freq                       101          103            27702   \n",
       "\n",
       "                                                user_text restaurant_name  \\\n",
       "count                                               74611           74611   \n",
       "unique                                              69542             302   \n",
       "top     I've been coming to STK downtown since they ha...        Morimoto   \n",
       "freq                                                    3            2740   \n",
       "\n",
       "       restaurant_rating restaurant_price         restaurant_type  \n",
       "count              74611            74479                   74611  \n",
       "unique                 7                4                     230  \n",
       "top      4.0 star rating               $$  Japanese,, Sushi, Bars  \n",
       "freq               31568            38323                    3620  "
      ]
     },
     "execution_count": 6,
     "metadata": {},
     "output_type": "execute_result"
    }
   ],
   "source": [
    "df.describe()"
   ]
  },
  {
   "cell_type": "markdown",
   "metadata": {},
   "source": [
    "<center>**Table 2: Basic Information**</center>\n",
    "\n",
    "After checing the null value, we could find that there are null value in restaurant_price column. **Table 3** shows that there are some missing restaurant_price for some restaurants, since yelp have not updated the price for these restaurants. In following part, I will refill these missing value accordindly."
   ]
  },
  {
   "cell_type": "code",
   "execution_count": 7,
   "metadata": {
    "scrolled": true
   },
   "outputs": [
    {
     "data": {
      "text/plain": [
       "user_id              False\n",
       "user_name            False\n",
       "user_rating          False\n",
       "user_text            False\n",
       "restaurant_name      False\n",
       "restaurant_rating    False\n",
       "restaurant_price      True\n",
       "restaurant_type      False\n",
       "dtype: bool"
      ]
     },
     "execution_count": 7,
     "metadata": {},
     "output_type": "execute_result"
    }
   ],
   "source": [
    "df.isnull().any()"
   ]
  },
  {
   "cell_type": "code",
   "execution_count": 8,
   "metadata": {
    "scrolled": true
   },
   "outputs": [
    {
     "data": {
      "text/html": [
       "<div>\n",
       "<style scoped>\n",
       "    .dataframe tbody tr th:only-of-type {\n",
       "        vertical-align: middle;\n",
       "    }\n",
       "\n",
       "    .dataframe tbody tr th {\n",
       "        vertical-align: top;\n",
       "    }\n",
       "\n",
       "    .dataframe thead th {\n",
       "        text-align: right;\n",
       "    }\n",
       "</style>\n",
       "<table border=\"1\" class=\"dataframe\">\n",
       "  <thead>\n",
       "    <tr style=\"text-align: right;\">\n",
       "      <th></th>\n",
       "      <th>user_id</th>\n",
       "      <th>user_name</th>\n",
       "      <th>user_rating</th>\n",
       "      <th>user_text</th>\n",
       "      <th>restaurant_name</th>\n",
       "      <th>restaurant_rating</th>\n",
       "      <th>restaurant_price</th>\n",
       "      <th>restaurant_type</th>\n",
       "    </tr>\n",
       "  </thead>\n",
       "  <tbody>\n",
       "    <tr>\n",
       "      <th>5273</th>\n",
       "      <td>i_WxJpoxfsddmBne6I8cKQ</td>\n",
       "      <td>Durva L.</td>\n",
       "      <td>4.0 star rating</td>\n",
       "      <td>This is such a small place, but some great rea...</td>\n",
       "      <td>Funjabi</td>\n",
       "      <td>2.5 star rating</td>\n",
       "      <td>NaN</td>\n",
       "      <td>Indian,, Chinese</td>\n",
       "    </tr>\n",
       "    <tr>\n",
       "      <th>5274</th>\n",
       "      <td>zr0jkmEJLnaZxWZi7cp09Q</td>\n",
       "      <td>Wasbir R.</td>\n",
       "      <td>1.0 star rating</td>\n",
       "      <td>Giving 1 star because theres no 0 star. This i...</td>\n",
       "      <td>Funjabi</td>\n",
       "      <td>2.5 star rating</td>\n",
       "      <td>NaN</td>\n",
       "      <td>Indian,, Chinese</td>\n",
       "    </tr>\n",
       "    <tr>\n",
       "      <th>6782</th>\n",
       "      <td>cnNddUd4fn7h-Pb_Cma-9Q</td>\n",
       "      <td>mako y.</td>\n",
       "      <td>5.0 star rating</td>\n",
       "      <td>Wonderful!!! It was traditional with unique tw...</td>\n",
       "      <td>奥田</td>\n",
       "      <td>4.5 star rating</td>\n",
       "      <td>NaN</td>\n",
       "      <td>Japanese</td>\n",
       "    </tr>\n",
       "    <tr>\n",
       "      <th>6783</th>\n",
       "      <td>q1P19WvpTXFTmfU7oXgkag</td>\n",
       "      <td>Chester G.</td>\n",
       "      <td>2.0 star rating</td>\n",
       "      <td>When I heard Chef Toru Okuda was going to open...</td>\n",
       "      <td>奥田</td>\n",
       "      <td>4.5 star rating</td>\n",
       "      <td>NaN</td>\n",
       "      <td>Japanese</td>\n",
       "    </tr>\n",
       "    <tr>\n",
       "      <th>6784</th>\n",
       "      <td>hIrk8azL929_c4H4-3lEAg</td>\n",
       "      <td>Christie K.</td>\n",
       "      <td>5.0 star rating</td>\n",
       "      <td>Soooo good. A must try if you can appreciate g...</td>\n",
       "      <td>奥田</td>\n",
       "      <td>4.5 star rating</td>\n",
       "      <td>NaN</td>\n",
       "      <td>Japanese</td>\n",
       "    </tr>\n",
       "    <tr>\n",
       "      <th>6785</th>\n",
       "      <td>NSmWDNSyjqhm1vo7VUxL5w</td>\n",
       "      <td>Jay C.</td>\n",
       "      <td>5.0 star rating</td>\n",
       "      <td>It is with mixed emotion I write what follows....</td>\n",
       "      <td>奥田</td>\n",
       "      <td>4.5 star rating</td>\n",
       "      <td>NaN</td>\n",
       "      <td>Japanese</td>\n",
       "    </tr>\n",
       "    <tr>\n",
       "      <th>6786</th>\n",
       "      <td>xM30Cj7zdsTiRQ-zmAFNjw</td>\n",
       "      <td>Victor O.</td>\n",
       "      <td>5.0 star rating</td>\n",
       "      <td>It was memorable experience. It was hard to ma...</td>\n",
       "      <td>奥田</td>\n",
       "      <td>4.5 star rating</td>\n",
       "      <td>NaN</td>\n",
       "      <td>Japanese</td>\n",
       "    </tr>\n",
       "    <tr>\n",
       "      <th>6787</th>\n",
       "      <td>fbv2hE02tCljub9JcDSiDw</td>\n",
       "      <td>Cinesina C.</td>\n",
       "      <td>5.0 star rating</td>\n",
       "      <td>I travel a lot to Japan for work so when I rea...</td>\n",
       "      <td>奥田</td>\n",
       "      <td>4.5 star rating</td>\n",
       "      <td>NaN</td>\n",
       "      <td>Japanese</td>\n",
       "    </tr>\n",
       "    <tr>\n",
       "      <th>9348</th>\n",
       "      <td>7CvAUqZqqZBKvkgwI0kfzw</td>\n",
       "      <td>Steven P.</td>\n",
       "      <td>5.0 star rating</td>\n",
       "      <td>Sad to hear they closed in The Heights, then t...</td>\n",
       "      <td>Mision Burrito</td>\n",
       "      <td>2.5 star rating</td>\n",
       "      <td>NaN</td>\n",
       "      <td>Mexican,, Grocery,, Convenience, Stores</td>\n",
       "    </tr>\n",
       "    <tr>\n",
       "      <th>9349</th>\n",
       "      <td>-jNxEJzXNWtbCy5VEyS3Lw</td>\n",
       "      <td>Mark A.</td>\n",
       "      <td>5.0 star rating</td>\n",
       "      <td>What a awesome place!! It's located on the cor...</td>\n",
       "      <td>Mision Burrito</td>\n",
       "      <td>2.5 star rating</td>\n",
       "      <td>NaN</td>\n",
       "      <td>Mexican,, Grocery,, Convenience, Stores</td>\n",
       "    </tr>\n",
       "    <tr>\n",
       "      <th>9350</th>\n",
       "      <td>m_UNGZjEJxNKzrF4kf8PwQ</td>\n",
       "      <td>Alyssa D.</td>\n",
       "      <td>1.0 star rating</td>\n",
       "      <td>Never delivered food when placed an order. The...</td>\n",
       "      <td>Mision Burrito</td>\n",
       "      <td>2.5 star rating</td>\n",
       "      <td>NaN</td>\n",
       "      <td>Mexican,, Grocery,, Convenience, Stores</td>\n",
       "    </tr>\n",
       "    <tr>\n",
       "      <th>9351</th>\n",
       "      <td>a7Zis6KZ1w0F7agD48dAYQ</td>\n",
       "      <td>Jay H.</td>\n",
       "      <td>1.0 star rating</td>\n",
       "      <td>Is it Mission Burrito or Marina Deli? When I w...</td>\n",
       "      <td>Mision Burrito</td>\n",
       "      <td>2.5 star rating</td>\n",
       "      <td>NaN</td>\n",
       "      <td>Mexican,, Grocery,, Convenience, Stores</td>\n",
       "    </tr>\n",
       "    <tr>\n",
       "      <th>9352</th>\n",
       "      <td>2zGClNwggR2D8uM6ujdq5A</td>\n",
       "      <td>Maggie N.</td>\n",
       "      <td>1.0 star rating</td>\n",
       "      <td>They never delivered food despite telling me i...</td>\n",
       "      <td>Mision Burrito</td>\n",
       "      <td>2.5 star rating</td>\n",
       "      <td>NaN</td>\n",
       "      <td>Mexican,, Grocery,, Convenience, Stores</td>\n",
       "    </tr>\n",
       "    <tr>\n",
       "      <th>9353</th>\n",
       "      <td>hk1OLC_3zY5NfslWACpnxQ</td>\n",
       "      <td>Jen R.</td>\n",
       "      <td>1.0 star rating</td>\n",
       "      <td>We placed an order through seamless and were e...</td>\n",
       "      <td>Mision Burrito</td>\n",
       "      <td>2.5 star rating</td>\n",
       "      <td>NaN</td>\n",
       "      <td>Mexican,, Grocery,, Convenience, Stores</td>\n",
       "    </tr>\n",
       "    <tr>\n",
       "      <th>9354</th>\n",
       "      <td>gILvQQigdI2m-HK6GgZkHw</td>\n",
       "      <td>Angelica R.</td>\n",
       "      <td>1.0 star rating</td>\n",
       "      <td>Possibly the worst waiting time ever. All I or...</td>\n",
       "      <td>Mision Burrito</td>\n",
       "      <td>2.5 star rating</td>\n",
       "      <td>NaN</td>\n",
       "      <td>Mexican,, Grocery,, Convenience, Stores</td>\n",
       "    </tr>\n",
       "    <tr>\n",
       "      <th>9355</th>\n",
       "      <td>kcnrIpa-PESeHmmL35uxJw</td>\n",
       "      <td>Erica S.</td>\n",
       "      <td>4.0 star rating</td>\n",
       "      <td>Don't be confused by the deli sign. There's no...</td>\n",
       "      <td>Mision Burrito</td>\n",
       "      <td>2.5 star rating</td>\n",
       "      <td>NaN</td>\n",
       "      <td>Mexican,, Grocery,, Convenience, Stores</td>\n",
       "    </tr>\n",
       "    <tr>\n",
       "      <th>9356</th>\n",
       "      <td>P9UuEjxSw-zyBuNhjDi3TQ</td>\n",
       "      <td>Brittany G.</td>\n",
       "      <td>5.0 star rating</td>\n",
       "      <td>Seriously the best Mexican I have found since ...</td>\n",
       "      <td>Mision Burrito</td>\n",
       "      <td>2.5 star rating</td>\n",
       "      <td>NaN</td>\n",
       "      <td>Mexican,, Grocery,, Convenience, Stores</td>\n",
       "    </tr>\n",
       "    <tr>\n",
       "      <th>9357</th>\n",
       "      <td>lR1i6LY8N0o2SJ4nn10BHw</td>\n",
       "      <td>Ian B.</td>\n",
       "      <td>1.0 star rating</td>\n",
       "      <td>Delivery was inedible. My tacos had so much wa...</td>\n",
       "      <td>Mision Burrito</td>\n",
       "      <td>2.5 star rating</td>\n",
       "      <td>NaN</td>\n",
       "      <td>Mexican,, Grocery,, Convenience, Stores</td>\n",
       "    </tr>\n",
       "    <tr>\n",
       "      <th>9358</th>\n",
       "      <td>n9SAYib5jJsLmn62uVOnYQ</td>\n",
       "      <td>J L.</td>\n",
       "      <td>5.0 star rating</td>\n",
       "      <td>Mission Burrito is open again!  This is Christ...</td>\n",
       "      <td>Mision Burrito</td>\n",
       "      <td>2.5 star rating</td>\n",
       "      <td>NaN</td>\n",
       "      <td>Mexican,, Grocery,, Convenience, Stores</td>\n",
       "    </tr>\n",
       "    <tr>\n",
       "      <th>10690</th>\n",
       "      <td>JDi9kmwEUMdWgkVI2asMFg</td>\n",
       "      <td>Milan S.</td>\n",
       "      <td>5.0 star rating</td>\n",
       "      <td>Best authentic Indian food in the area. Order ...</td>\n",
       "      <td>Ujala Kabab</td>\n",
       "      <td>5.0 star rating</td>\n",
       "      <td>NaN</td>\n",
       "      <td>Halal,, Indian,, Vegetarian</td>\n",
       "    </tr>\n",
       "    <tr>\n",
       "      <th>10691</th>\n",
       "      <td>pqz0rmDIWWszZcw7N_pD0w</td>\n",
       "      <td>Ravi P.</td>\n",
       "      <td>5.0 star rating</td>\n",
       "      <td>This will be the best food you have ever had! ...</td>\n",
       "      <td>Ujala Kabab</td>\n",
       "      <td>5.0 star rating</td>\n",
       "      <td>NaN</td>\n",
       "      <td>Halal,, Indian,, Vegetarian</td>\n",
       "    </tr>\n",
       "    <tr>\n",
       "      <th>10692</th>\n",
       "      <td>3L5-jh0CIHplgBxyndgS2g</td>\n",
       "      <td>Arti G.</td>\n",
       "      <td>5.0 star rating</td>\n",
       "      <td>My to go spot when I need a last minute quick ...</td>\n",
       "      <td>Ujala Kabab</td>\n",
       "      <td>5.0 star rating</td>\n",
       "      <td>NaN</td>\n",
       "      <td>Halal,, Indian,, Vegetarian</td>\n",
       "    </tr>\n",
       "    <tr>\n",
       "      <th>10693</th>\n",
       "      <td>YGuxRJ5cl_Wc_PTbXNwv2g</td>\n",
       "      <td>Dimple V.</td>\n",
       "      <td>5.0 star rating</td>\n",
       "      <td>Amazing food. Authentic Indian food . Been her...</td>\n",
       "      <td>Ujala Kabab</td>\n",
       "      <td>5.0 star rating</td>\n",
       "      <td>NaN</td>\n",
       "      <td>Halal,, Indian,, Vegetarian</td>\n",
       "    </tr>\n",
       "    <tr>\n",
       "      <th>10694</th>\n",
       "      <td>pgJx8_mYQ5jGFcgYu7U1BA</td>\n",
       "      <td>Karan R.</td>\n",
       "      <td>5.0 star rating</td>\n",
       "      <td>Really awesome food, love the dishes, Chef is ...</td>\n",
       "      <td>Ujala Kabab</td>\n",
       "      <td>5.0 star rating</td>\n",
       "      <td>NaN</td>\n",
       "      <td>Halal,, Indian,, Vegetarian</td>\n",
       "    </tr>\n",
       "    <tr>\n",
       "      <th>10695</th>\n",
       "      <td>ay5KighJOQrr-3V1CgsOYg</td>\n",
       "      <td>Ethan C.</td>\n",
       "      <td>5.0 star rating</td>\n",
       "      <td>This place has gone through a few iterations o...</td>\n",
       "      <td>The Heights Café</td>\n",
       "      <td>4.5 star rating</td>\n",
       "      <td>NaN</td>\n",
       "      <td>Cafes,, Coffee, &amp;, Tea,, Desserts</td>\n",
       "    </tr>\n",
       "    <tr>\n",
       "      <th>10696</th>\n",
       "      <td>D_iNx74a5u3PYT1A5OkYdg</td>\n",
       "      <td>Omni V.</td>\n",
       "      <td>4.0 star rating</td>\n",
       "      <td>This place deserved a good spot on Central Ave...</td>\n",
       "      <td>The Heights Café</td>\n",
       "      <td>4.5 star rating</td>\n",
       "      <td>NaN</td>\n",
       "      <td>Cafes,, Coffee, &amp;, Tea,, Desserts</td>\n",
       "    </tr>\n",
       "    <tr>\n",
       "      <th>10697</th>\n",
       "      <td>j1mx6qFXOkZ2HlkXAD043A</td>\n",
       "      <td>Rey C.</td>\n",
       "      <td>5.0 star rating</td>\n",
       "      <td>A place owned by people from the heights, sell...</td>\n",
       "      <td>The Heights Café</td>\n",
       "      <td>4.5 star rating</td>\n",
       "      <td>NaN</td>\n",
       "      <td>Cafes,, Coffee, &amp;, Tea,, Desserts</td>\n",
       "    </tr>\n",
       "    <tr>\n",
       "      <th>12891</th>\n",
       "      <td>BhjYzEsEXXrkgTH-7-EJKA</td>\n",
       "      <td>Yosmery F.</td>\n",
       "      <td>5.0 star rating</td>\n",
       "      <td>Love this place! The food is great and the pri...</td>\n",
       "      <td>Ventura Restaurant</td>\n",
       "      <td>5.0 star rating</td>\n",
       "      <td>NaN</td>\n",
       "      <td>Dominican</td>\n",
       "    </tr>\n",
       "    <tr>\n",
       "      <th>12892</th>\n",
       "      <td>_3GXviI4n0q_R2pTcyXJbQ</td>\n",
       "      <td>Janice B.</td>\n",
       "      <td>5.0 star rating</td>\n",
       "      <td>I tried their pork with rice and beans and chi...</td>\n",
       "      <td>Ventura Restaurant</td>\n",
       "      <td>5.0 star rating</td>\n",
       "      <td>NaN</td>\n",
       "      <td>Dominican</td>\n",
       "    </tr>\n",
       "    <tr>\n",
       "      <th>12893</th>\n",
       "      <td>CLby1rP4dKTsPX0h32FMCA</td>\n",
       "      <td>Mia M.</td>\n",
       "      <td>5.0 star rating</td>\n",
       "      <td>I love the Cereza drink. I get the big bucket....</td>\n",
       "      <td>Ventura Restaurant</td>\n",
       "      <td>5.0 star rating</td>\n",
       "      <td>NaN</td>\n",
       "      <td>Dominican</td>\n",
       "    </tr>\n",
       "    <tr>\n",
       "      <th>...</th>\n",
       "      <td>...</td>\n",
       "      <td>...</td>\n",
       "      <td>...</td>\n",
       "      <td>...</td>\n",
       "      <td>...</td>\n",
       "      <td>...</td>\n",
       "      <td>...</td>\n",
       "      <td>...</td>\n",
       "    </tr>\n",
       "    <tr>\n",
       "      <th>69841</th>\n",
       "      <td>q7Mb8zPMTH3rlK4MFnj6CA</td>\n",
       "      <td>Meg F.</td>\n",
       "      <td>5.0 star rating</td>\n",
       "      <td>Love the new location of Napoli's! Inside is c...</td>\n",
       "      <td>Napoli’s Pizza</td>\n",
       "      <td>4.0 star rating</td>\n",
       "      <td>NaN</td>\n",
       "      <td>Pizza,, Italian,, Venues, &amp;, Event, Spaces</td>\n",
       "    </tr>\n",
       "    <tr>\n",
       "      <th>69842</th>\n",
       "      <td>iGZ4KHfjLncVMxqGyfW9_g</td>\n",
       "      <td>Susan N.</td>\n",
       "      <td>1.0 star rating</td>\n",
       "      <td>Love the pizza, hate the service. You're bette...</td>\n",
       "      <td>Napoli’s Pizza</td>\n",
       "      <td>4.0 star rating</td>\n",
       "      <td>NaN</td>\n",
       "      <td>Pizza,, Italian,, Venues, &amp;, Event, Spaces</td>\n",
       "    </tr>\n",
       "    <tr>\n",
       "      <th>69843</th>\n",
       "      <td>P7eY9hVYNDuwa0yFNKiNiQ</td>\n",
       "      <td>Diego R.</td>\n",
       "      <td>2.0 star rating</td>\n",
       "      <td>Went for the first time tonight, and ordered t...</td>\n",
       "      <td>Napoli’s Pizza</td>\n",
       "      <td>4.0 star rating</td>\n",
       "      <td>NaN</td>\n",
       "      <td>Pizza,, Italian,, Venues, &amp;, Event, Spaces</td>\n",
       "    </tr>\n",
       "    <tr>\n",
       "      <th>69844</th>\n",
       "      <td>zZsdcMWv7MIds9L9N0oYOQ</td>\n",
       "      <td>Paulette D.</td>\n",
       "      <td>3.0 star rating</td>\n",
       "      <td>This is where the other hoboken Grimaldi's was...</td>\n",
       "      <td>Napoli’s Pizza</td>\n",
       "      <td>4.0 star rating</td>\n",
       "      <td>NaN</td>\n",
       "      <td>Pizza,, Italian,, Venues, &amp;, Event, Spaces</td>\n",
       "    </tr>\n",
       "    <tr>\n",
       "      <th>69845</th>\n",
       "      <td>oRaAsZbiMxDTGdax23qF5g</td>\n",
       "      <td>Ken C.</td>\n",
       "      <td>5.0 star rating</td>\n",
       "      <td>Always been a fan of the up-town location so w...</td>\n",
       "      <td>Napoli’s Pizza</td>\n",
       "      <td>4.0 star rating</td>\n",
       "      <td>NaN</td>\n",
       "      <td>Pizza,, Italian,, Venues, &amp;, Event, Spaces</td>\n",
       "    </tr>\n",
       "    <tr>\n",
       "      <th>69846</th>\n",
       "      <td>NAw6FpBVjuHXpdkORUUtTw</td>\n",
       "      <td>Brian D.</td>\n",
       "      <td>5.0 star rating</td>\n",
       "      <td>I've eaten here and taken out a few times sinc...</td>\n",
       "      <td>Napoli’s Pizza</td>\n",
       "      <td>4.0 star rating</td>\n",
       "      <td>NaN</td>\n",
       "      <td>Pizza,, Italian,, Venues, &amp;, Event, Spaces</td>\n",
       "    </tr>\n",
       "    <tr>\n",
       "      <th>69847</th>\n",
       "      <td>Zj8XjDvy0MVgY7oHIbNZhw</td>\n",
       "      <td>Heather T.</td>\n",
       "      <td>4.0 star rating</td>\n",
       "      <td>We've had deliveries from the uptown location ...</td>\n",
       "      <td>Napoli’s Pizza</td>\n",
       "      <td>4.0 star rating</td>\n",
       "      <td>NaN</td>\n",
       "      <td>Pizza,, Italian,, Venues, &amp;, Event, Spaces</td>\n",
       "    </tr>\n",
       "    <tr>\n",
       "      <th>69848</th>\n",
       "      <td>q_jcK8QGr92rq3F_kqKsyQ</td>\n",
       "      <td>A B.</td>\n",
       "      <td>4.0 star rating</td>\n",
       "      <td>I'm glad they opened up a location downtown be...</td>\n",
       "      <td>Napoli’s Pizza</td>\n",
       "      <td>4.0 star rating</td>\n",
       "      <td>NaN</td>\n",
       "      <td>Pizza,, Italian,, Venues, &amp;, Event, Spaces</td>\n",
       "    </tr>\n",
       "    <tr>\n",
       "      <th>69849</th>\n",
       "      <td>9J-YLuaDCYmR6NJmIW0gaw</td>\n",
       "      <td>Paul L.</td>\n",
       "      <td>5.0 star rating</td>\n",
       "      <td>Wow what a pizza!!! The pasta de napoli is ama...</td>\n",
       "      <td>Napoli’s Pizza</td>\n",
       "      <td>4.0 star rating</td>\n",
       "      <td>NaN</td>\n",
       "      <td>Pizza,, Italian,, Venues, &amp;, Event, Spaces</td>\n",
       "    </tr>\n",
       "    <tr>\n",
       "      <th>69850</th>\n",
       "      <td>ToFeE1toeTXB1VuS3uc0Xw</td>\n",
       "      <td>Robin R.</td>\n",
       "      <td>5.0 star rating</td>\n",
       "      <td>We just returned home from an adult birthday p...</td>\n",
       "      <td>Napoli’s Pizza</td>\n",
       "      <td>4.0 star rating</td>\n",
       "      <td>NaN</td>\n",
       "      <td>Pizza,, Italian,, Venues, &amp;, Event, Spaces</td>\n",
       "    </tr>\n",
       "    <tr>\n",
       "      <th>69851</th>\n",
       "      <td>seiQSja721EZ4CTr8sKU-Q</td>\n",
       "      <td>Alexandra M.</td>\n",
       "      <td>5.0 star rating</td>\n",
       "      <td>This place is BOMB!  Pizza is fresh and flavor...</td>\n",
       "      <td>Napoli’s Pizza</td>\n",
       "      <td>4.0 star rating</td>\n",
       "      <td>NaN</td>\n",
       "      <td>Pizza,, Italian,, Venues, &amp;, Event, Spaces</td>\n",
       "    </tr>\n",
       "    <tr>\n",
       "      <th>69852</th>\n",
       "      <td>mbxdo8Z59tcQc_FJMxHNeA</td>\n",
       "      <td>Trent T.</td>\n",
       "      <td>4.0 star rating</td>\n",
       "      <td>I have not been to their other location, but h...</td>\n",
       "      <td>Napoli’s Pizza</td>\n",
       "      <td>4.0 star rating</td>\n",
       "      <td>NaN</td>\n",
       "      <td>Pizza,, Italian,, Venues, &amp;, Event, Spaces</td>\n",
       "    </tr>\n",
       "    <tr>\n",
       "      <th>69853</th>\n",
       "      <td>dD-e4MWK3p5xUK9gcWpu9w</td>\n",
       "      <td>Emma P.</td>\n",
       "      <td>4.0 star rating</td>\n",
       "      <td>I used to go to the original Napoli's every co...</td>\n",
       "      <td>Napoli’s Pizza</td>\n",
       "      <td>4.0 star rating</td>\n",
       "      <td>NaN</td>\n",
       "      <td>Pizza,, Italian,, Venues, &amp;, Event, Spaces</td>\n",
       "    </tr>\n",
       "    <tr>\n",
       "      <th>69854</th>\n",
       "      <td>DCsxVk5sQbWnvDw1wdXKJA</td>\n",
       "      <td>Maya R.</td>\n",
       "      <td>5.0 star rating</td>\n",
       "      <td>wowwww was this an amazing first experience at...</td>\n",
       "      <td>Napoli’s Pizza</td>\n",
       "      <td>4.0 star rating</td>\n",
       "      <td>NaN</td>\n",
       "      <td>Pizza,, Italian,, Venues, &amp;, Event, Spaces</td>\n",
       "    </tr>\n",
       "    <tr>\n",
       "      <th>69855</th>\n",
       "      <td>5aZX8bTiD0k9vR60SG588Q</td>\n",
       "      <td>Alison C.</td>\n",
       "      <td>4.0 star rating</td>\n",
       "      <td>My friend and I were enjoying drinks at The Na...</td>\n",
       "      <td>Napoli’s Pizza</td>\n",
       "      <td>4.0 star rating</td>\n",
       "      <td>NaN</td>\n",
       "      <td>Pizza,, Italian,, Venues, &amp;, Event, Spaces</td>\n",
       "    </tr>\n",
       "    <tr>\n",
       "      <th>69856</th>\n",
       "      <td>FniXpErdQGfzxG4B-74dRw</td>\n",
       "      <td>Samantha D.</td>\n",
       "      <td>5.0 star rating</td>\n",
       "      <td>I have been dying to try Napoli's and was so e...</td>\n",
       "      <td>Napoli’s Pizza</td>\n",
       "      <td>4.0 star rating</td>\n",
       "      <td>NaN</td>\n",
       "      <td>Pizza,, Italian,, Venues, &amp;, Event, Spaces</td>\n",
       "    </tr>\n",
       "    <tr>\n",
       "      <th>69857</th>\n",
       "      <td>AYQd0upkY7zxkj2-wVawYw</td>\n",
       "      <td>Al K.</td>\n",
       "      <td>1.0 star rating</td>\n",
       "      <td>Arrived early to pickup a personal pizza that ...</td>\n",
       "      <td>Napoli’s Pizza</td>\n",
       "      <td>4.0 star rating</td>\n",
       "      <td>NaN</td>\n",
       "      <td>Pizza,, Italian,, Venues, &amp;, Event, Spaces</td>\n",
       "    </tr>\n",
       "    <tr>\n",
       "      <th>69858</th>\n",
       "      <td>wU62o5mwLK14jtk0eRRvqg</td>\n",
       "      <td>Tom B.</td>\n",
       "      <td>5.0 star rating</td>\n",
       "      <td>Consistently excellent pizza, they always have...</td>\n",
       "      <td>Napoli’s Pizza</td>\n",
       "      <td>4.0 star rating</td>\n",
       "      <td>NaN</td>\n",
       "      <td>Pizza,, Italian,, Venues, &amp;, Event, Spaces</td>\n",
       "    </tr>\n",
       "    <tr>\n",
       "      <th>69859</th>\n",
       "      <td>IPDqK7xVUFeizZKNJtuXIQ</td>\n",
       "      <td>Candace C.</td>\n",
       "      <td>5.0 star rating</td>\n",
       "      <td>We'll definitely be coming back here! They hav...</td>\n",
       "      <td>Napoli’s Pizza</td>\n",
       "      <td>4.0 star rating</td>\n",
       "      <td>NaN</td>\n",
       "      <td>Pizza,, Italian,, Venues, &amp;, Event, Spaces</td>\n",
       "    </tr>\n",
       "    <tr>\n",
       "      <th>69860</th>\n",
       "      <td>sdkWib964Wug9eWWQb6byg</td>\n",
       "      <td>Jeff D.</td>\n",
       "      <td>4.0 star rating</td>\n",
       "      <td>We were excited and curious to see how the new...</td>\n",
       "      <td>Napoli’s Pizza</td>\n",
       "      <td>4.0 star rating</td>\n",
       "      <td>NaN</td>\n",
       "      <td>Pizza,, Italian,, Venues, &amp;, Event, Spaces</td>\n",
       "    </tr>\n",
       "    <tr>\n",
       "      <th>69861</th>\n",
       "      <td>q7Mb8zPMTH3rlK4MFnj6CA</td>\n",
       "      <td>Meg F.</td>\n",
       "      <td>5.0 star rating</td>\n",
       "      <td>Love the new location of Napoli's! Inside is c...</td>\n",
       "      <td>Napoli’s Pizza</td>\n",
       "      <td>4.0 star rating</td>\n",
       "      <td>NaN</td>\n",
       "      <td>Pizza,, Italian,, Venues, &amp;, Event, Spaces</td>\n",
       "    </tr>\n",
       "    <tr>\n",
       "      <th>69862</th>\n",
       "      <td>iGZ4KHfjLncVMxqGyfW9_g</td>\n",
       "      <td>Susan N.</td>\n",
       "      <td>1.0 star rating</td>\n",
       "      <td>Love the pizza, hate the service. You're bette...</td>\n",
       "      <td>Napoli’s Pizza</td>\n",
       "      <td>4.0 star rating</td>\n",
       "      <td>NaN</td>\n",
       "      <td>Pizza,, Italian,, Venues, &amp;, Event, Spaces</td>\n",
       "    </tr>\n",
       "    <tr>\n",
       "      <th>69863</th>\n",
       "      <td>P7eY9hVYNDuwa0yFNKiNiQ</td>\n",
       "      <td>Diego R.</td>\n",
       "      <td>2.0 star rating</td>\n",
       "      <td>Went for the first time tonight, and ordered t...</td>\n",
       "      <td>Napoli’s Pizza</td>\n",
       "      <td>4.0 star rating</td>\n",
       "      <td>NaN</td>\n",
       "      <td>Pizza,, Italian,, Venues, &amp;, Event, Spaces</td>\n",
       "    </tr>\n",
       "    <tr>\n",
       "      <th>69864</th>\n",
       "      <td>zZsdcMWv7MIds9L9N0oYOQ</td>\n",
       "      <td>Paulette D.</td>\n",
       "      <td>3.0 star rating</td>\n",
       "      <td>This is where the other hoboken Grimaldi's was...</td>\n",
       "      <td>Napoli’s Pizza</td>\n",
       "      <td>4.0 star rating</td>\n",
       "      <td>NaN</td>\n",
       "      <td>Pizza,, Italian,, Venues, &amp;, Event, Spaces</td>\n",
       "    </tr>\n",
       "    <tr>\n",
       "      <th>69865</th>\n",
       "      <td>oRaAsZbiMxDTGdax23qF5g</td>\n",
       "      <td>Ken C.</td>\n",
       "      <td>5.0 star rating</td>\n",
       "      <td>Always been a fan of the up-town location so w...</td>\n",
       "      <td>Napoli’s Pizza</td>\n",
       "      <td>4.0 star rating</td>\n",
       "      <td>NaN</td>\n",
       "      <td>Pizza,, Italian,, Venues, &amp;, Event, Spaces</td>\n",
       "    </tr>\n",
       "    <tr>\n",
       "      <th>69866</th>\n",
       "      <td>NAw6FpBVjuHXpdkORUUtTw</td>\n",
       "      <td>Brian D.</td>\n",
       "      <td>5.0 star rating</td>\n",
       "      <td>I've eaten here and taken out a few times sinc...</td>\n",
       "      <td>Napoli’s Pizza</td>\n",
       "      <td>4.0 star rating</td>\n",
       "      <td>NaN</td>\n",
       "      <td>Pizza,, Italian,, Venues, &amp;, Event, Spaces</td>\n",
       "    </tr>\n",
       "    <tr>\n",
       "      <th>69867</th>\n",
       "      <td>Zj8XjDvy0MVgY7oHIbNZhw</td>\n",
       "      <td>Heather T.</td>\n",
       "      <td>4.0 star rating</td>\n",
       "      <td>We've had deliveries from the uptown location ...</td>\n",
       "      <td>Napoli’s Pizza</td>\n",
       "      <td>4.0 star rating</td>\n",
       "      <td>NaN</td>\n",
       "      <td>Pizza,, Italian,, Venues, &amp;, Event, Spaces</td>\n",
       "    </tr>\n",
       "    <tr>\n",
       "      <th>69868</th>\n",
       "      <td>q_jcK8QGr92rq3F_kqKsyQ</td>\n",
       "      <td>A B.</td>\n",
       "      <td>4.0 star rating</td>\n",
       "      <td>I'm glad they opened up a location downtown be...</td>\n",
       "      <td>Napoli’s Pizza</td>\n",
       "      <td>4.0 star rating</td>\n",
       "      <td>NaN</td>\n",
       "      <td>Pizza,, Italian,, Venues, &amp;, Event, Spaces</td>\n",
       "    </tr>\n",
       "    <tr>\n",
       "      <th>69869</th>\n",
       "      <td>9J-YLuaDCYmR6NJmIW0gaw</td>\n",
       "      <td>Paul L.</td>\n",
       "      <td>5.0 star rating</td>\n",
       "      <td>Wow what a pizza!!! The pasta de napoli is ama...</td>\n",
       "      <td>Napoli’s Pizza</td>\n",
       "      <td>4.0 star rating</td>\n",
       "      <td>NaN</td>\n",
       "      <td>Pizza,, Italian,, Venues, &amp;, Event, Spaces</td>\n",
       "    </tr>\n",
       "    <tr>\n",
       "      <th>69870</th>\n",
       "      <td>ToFeE1toeTXB1VuS3uc0Xw</td>\n",
       "      <td>Robin R.</td>\n",
       "      <td>5.0 star rating</td>\n",
       "      <td>We just returned home from an adult birthday p...</td>\n",
       "      <td>Napoli’s Pizza</td>\n",
       "      <td>4.0 star rating</td>\n",
       "      <td>NaN</td>\n",
       "      <td>Pizza,, Italian,, Venues, &amp;, Event, Spaces</td>\n",
       "    </tr>\n",
       "  </tbody>\n",
       "</table>\n",
       "<p>132 rows × 8 columns</p>\n",
       "</div>"
      ],
      "text/plain": [
       "                      user_id     user_name      user_rating  \\\n",
       "5273   i_WxJpoxfsddmBne6I8cKQ      Durva L.  4.0 star rating   \n",
       "5274   zr0jkmEJLnaZxWZi7cp09Q     Wasbir R.  1.0 star rating   \n",
       "6782   cnNddUd4fn7h-Pb_Cma-9Q       mako y.  5.0 star rating   \n",
       "6783   q1P19WvpTXFTmfU7oXgkag    Chester G.  2.0 star rating   \n",
       "6784   hIrk8azL929_c4H4-3lEAg   Christie K.  5.0 star rating   \n",
       "6785   NSmWDNSyjqhm1vo7VUxL5w        Jay C.  5.0 star rating   \n",
       "6786   xM30Cj7zdsTiRQ-zmAFNjw     Victor O.  5.0 star rating   \n",
       "6787   fbv2hE02tCljub9JcDSiDw   Cinesina C.  5.0 star rating   \n",
       "9348   7CvAUqZqqZBKvkgwI0kfzw     Steven P.  5.0 star rating   \n",
       "9349   -jNxEJzXNWtbCy5VEyS3Lw       Mark A.  5.0 star rating   \n",
       "9350   m_UNGZjEJxNKzrF4kf8PwQ     Alyssa D.  1.0 star rating   \n",
       "9351   a7Zis6KZ1w0F7agD48dAYQ        Jay H.  1.0 star rating   \n",
       "9352   2zGClNwggR2D8uM6ujdq5A     Maggie N.  1.0 star rating   \n",
       "9353   hk1OLC_3zY5NfslWACpnxQ        Jen R.  1.0 star rating   \n",
       "9354   gILvQQigdI2m-HK6GgZkHw   Angelica R.  1.0 star rating   \n",
       "9355   kcnrIpa-PESeHmmL35uxJw      Erica S.  4.0 star rating   \n",
       "9356   P9UuEjxSw-zyBuNhjDi3TQ   Brittany G.  5.0 star rating   \n",
       "9357   lR1i6LY8N0o2SJ4nn10BHw        Ian B.  1.0 star rating   \n",
       "9358   n9SAYib5jJsLmn62uVOnYQ          J L.  5.0 star rating   \n",
       "10690  JDi9kmwEUMdWgkVI2asMFg      Milan S.  5.0 star rating   \n",
       "10691  pqz0rmDIWWszZcw7N_pD0w       Ravi P.  5.0 star rating   \n",
       "10692  3L5-jh0CIHplgBxyndgS2g       Arti G.  5.0 star rating   \n",
       "10693  YGuxRJ5cl_Wc_PTbXNwv2g     Dimple V.  5.0 star rating   \n",
       "10694  pgJx8_mYQ5jGFcgYu7U1BA      Karan R.  5.0 star rating   \n",
       "10695  ay5KighJOQrr-3V1CgsOYg      Ethan C.  5.0 star rating   \n",
       "10696  D_iNx74a5u3PYT1A5OkYdg       Omni V.  4.0 star rating   \n",
       "10697  j1mx6qFXOkZ2HlkXAD043A        Rey C.  5.0 star rating   \n",
       "12891  BhjYzEsEXXrkgTH-7-EJKA    Yosmery F.  5.0 star rating   \n",
       "12892  _3GXviI4n0q_R2pTcyXJbQ     Janice B.  5.0 star rating   \n",
       "12893  CLby1rP4dKTsPX0h32FMCA        Mia M.  5.0 star rating   \n",
       "...                       ...           ...              ...   \n",
       "69841  q7Mb8zPMTH3rlK4MFnj6CA        Meg F.  5.0 star rating   \n",
       "69842  iGZ4KHfjLncVMxqGyfW9_g      Susan N.  1.0 star rating   \n",
       "69843  P7eY9hVYNDuwa0yFNKiNiQ      Diego R.  2.0 star rating   \n",
       "69844  zZsdcMWv7MIds9L9N0oYOQ   Paulette D.  3.0 star rating   \n",
       "69845  oRaAsZbiMxDTGdax23qF5g        Ken C.  5.0 star rating   \n",
       "69846  NAw6FpBVjuHXpdkORUUtTw      Brian D.  5.0 star rating   \n",
       "69847  Zj8XjDvy0MVgY7oHIbNZhw    Heather T.  4.0 star rating   \n",
       "69848  q_jcK8QGr92rq3F_kqKsyQ          A B.  4.0 star rating   \n",
       "69849  9J-YLuaDCYmR6NJmIW0gaw       Paul L.  5.0 star rating   \n",
       "69850  ToFeE1toeTXB1VuS3uc0Xw      Robin R.  5.0 star rating   \n",
       "69851  seiQSja721EZ4CTr8sKU-Q  Alexandra M.  5.0 star rating   \n",
       "69852  mbxdo8Z59tcQc_FJMxHNeA      Trent T.  4.0 star rating   \n",
       "69853  dD-e4MWK3p5xUK9gcWpu9w       Emma P.  4.0 star rating   \n",
       "69854  DCsxVk5sQbWnvDw1wdXKJA       Maya R.  5.0 star rating   \n",
       "69855  5aZX8bTiD0k9vR60SG588Q     Alison C.  4.0 star rating   \n",
       "69856  FniXpErdQGfzxG4B-74dRw   Samantha D.  5.0 star rating   \n",
       "69857  AYQd0upkY7zxkj2-wVawYw         Al K.  1.0 star rating   \n",
       "69858  wU62o5mwLK14jtk0eRRvqg        Tom B.  5.0 star rating   \n",
       "69859  IPDqK7xVUFeizZKNJtuXIQ    Candace C.  5.0 star rating   \n",
       "69860  sdkWib964Wug9eWWQb6byg       Jeff D.  4.0 star rating   \n",
       "69861  q7Mb8zPMTH3rlK4MFnj6CA        Meg F.  5.0 star rating   \n",
       "69862  iGZ4KHfjLncVMxqGyfW9_g      Susan N.  1.0 star rating   \n",
       "69863  P7eY9hVYNDuwa0yFNKiNiQ      Diego R.  2.0 star rating   \n",
       "69864  zZsdcMWv7MIds9L9N0oYOQ   Paulette D.  3.0 star rating   \n",
       "69865  oRaAsZbiMxDTGdax23qF5g        Ken C.  5.0 star rating   \n",
       "69866  NAw6FpBVjuHXpdkORUUtTw      Brian D.  5.0 star rating   \n",
       "69867  Zj8XjDvy0MVgY7oHIbNZhw    Heather T.  4.0 star rating   \n",
       "69868  q_jcK8QGr92rq3F_kqKsyQ          A B.  4.0 star rating   \n",
       "69869  9J-YLuaDCYmR6NJmIW0gaw       Paul L.  5.0 star rating   \n",
       "69870  ToFeE1toeTXB1VuS3uc0Xw      Robin R.  5.0 star rating   \n",
       "\n",
       "                                               user_text     restaurant_name  \\\n",
       "5273   This is such a small place, but some great rea...             Funjabi   \n",
       "5274   Giving 1 star because theres no 0 star. This i...             Funjabi   \n",
       "6782   Wonderful!!! It was traditional with unique tw...                  奥田   \n",
       "6783   When I heard Chef Toru Okuda was going to open...                  奥田   \n",
       "6784   Soooo good. A must try if you can appreciate g...                  奥田   \n",
       "6785   It is with mixed emotion I write what follows....                  奥田   \n",
       "6786   It was memorable experience. It was hard to ma...                  奥田   \n",
       "6787   I travel a lot to Japan for work so when I rea...                  奥田   \n",
       "9348   Sad to hear they closed in The Heights, then t...      Mision Burrito   \n",
       "9349   What a awesome place!! It's located on the cor...      Mision Burrito   \n",
       "9350   Never delivered food when placed an order. The...      Mision Burrito   \n",
       "9351   Is it Mission Burrito or Marina Deli? When I w...      Mision Burrito   \n",
       "9352   They never delivered food despite telling me i...      Mision Burrito   \n",
       "9353   We placed an order through seamless and were e...      Mision Burrito   \n",
       "9354   Possibly the worst waiting time ever. All I or...      Mision Burrito   \n",
       "9355   Don't be confused by the deli sign. There's no...      Mision Burrito   \n",
       "9356   Seriously the best Mexican I have found since ...      Mision Burrito   \n",
       "9357   Delivery was inedible. My tacos had so much wa...      Mision Burrito   \n",
       "9358   Mission Burrito is open again!  This is Christ...      Mision Burrito   \n",
       "10690  Best authentic Indian food in the area. Order ...         Ujala Kabab   \n",
       "10691  This will be the best food you have ever had! ...         Ujala Kabab   \n",
       "10692  My to go spot when I need a last minute quick ...         Ujala Kabab   \n",
       "10693  Amazing food. Authentic Indian food . Been her...         Ujala Kabab   \n",
       "10694  Really awesome food, love the dishes, Chef is ...         Ujala Kabab   \n",
       "10695  This place has gone through a few iterations o...    The Heights Café   \n",
       "10696  This place deserved a good spot on Central Ave...    The Heights Café   \n",
       "10697  A place owned by people from the heights, sell...    The Heights Café   \n",
       "12891  Love this place! The food is great and the pri...  Ventura Restaurant   \n",
       "12892  I tried their pork with rice and beans and chi...  Ventura Restaurant   \n",
       "12893  I love the Cereza drink. I get the big bucket....  Ventura Restaurant   \n",
       "...                                                  ...                 ...   \n",
       "69841  Love the new location of Napoli's! Inside is c...      Napoli’s Pizza   \n",
       "69842  Love the pizza, hate the service. You're bette...      Napoli’s Pizza   \n",
       "69843  Went for the first time tonight, and ordered t...      Napoli’s Pizza   \n",
       "69844  This is where the other hoboken Grimaldi's was...      Napoli’s Pizza   \n",
       "69845  Always been a fan of the up-town location so w...      Napoli’s Pizza   \n",
       "69846  I've eaten here and taken out a few times sinc...      Napoli’s Pizza   \n",
       "69847  We've had deliveries from the uptown location ...      Napoli’s Pizza   \n",
       "69848  I'm glad they opened up a location downtown be...      Napoli’s Pizza   \n",
       "69849  Wow what a pizza!!! The pasta de napoli is ama...      Napoli’s Pizza   \n",
       "69850  We just returned home from an adult birthday p...      Napoli’s Pizza   \n",
       "69851  This place is BOMB!  Pizza is fresh and flavor...      Napoli’s Pizza   \n",
       "69852  I have not been to their other location, but h...      Napoli’s Pizza   \n",
       "69853  I used to go to the original Napoli's every co...      Napoli’s Pizza   \n",
       "69854  wowwww was this an amazing first experience at...      Napoli’s Pizza   \n",
       "69855  My friend and I were enjoying drinks at The Na...      Napoli’s Pizza   \n",
       "69856  I have been dying to try Napoli's and was so e...      Napoli’s Pizza   \n",
       "69857  Arrived early to pickup a personal pizza that ...      Napoli’s Pizza   \n",
       "69858  Consistently excellent pizza, they always have...      Napoli’s Pizza   \n",
       "69859  We'll definitely be coming back here! They hav...      Napoli’s Pizza   \n",
       "69860  We were excited and curious to see how the new...      Napoli’s Pizza   \n",
       "69861  Love the new location of Napoli's! Inside is c...      Napoli’s Pizza   \n",
       "69862  Love the pizza, hate the service. You're bette...      Napoli’s Pizza   \n",
       "69863  Went for the first time tonight, and ordered t...      Napoli’s Pizza   \n",
       "69864  This is where the other hoboken Grimaldi's was...      Napoli’s Pizza   \n",
       "69865  Always been a fan of the up-town location so w...      Napoli’s Pizza   \n",
       "69866  I've eaten here and taken out a few times sinc...      Napoli’s Pizza   \n",
       "69867  We've had deliveries from the uptown location ...      Napoli’s Pizza   \n",
       "69868  I'm glad they opened up a location downtown be...      Napoli’s Pizza   \n",
       "69869  Wow what a pizza!!! The pasta de napoli is ama...      Napoli’s Pizza   \n",
       "69870  We just returned home from an adult birthday p...      Napoli’s Pizza   \n",
       "\n",
       "      restaurant_rating restaurant_price  \\\n",
       "5273    2.5 star rating              NaN   \n",
       "5274    2.5 star rating              NaN   \n",
       "6782    4.5 star rating              NaN   \n",
       "6783    4.5 star rating              NaN   \n",
       "6784    4.5 star rating              NaN   \n",
       "6785    4.5 star rating              NaN   \n",
       "6786    4.5 star rating              NaN   \n",
       "6787    4.5 star rating              NaN   \n",
       "9348    2.5 star rating              NaN   \n",
       "9349    2.5 star rating              NaN   \n",
       "9350    2.5 star rating              NaN   \n",
       "9351    2.5 star rating              NaN   \n",
       "9352    2.5 star rating              NaN   \n",
       "9353    2.5 star rating              NaN   \n",
       "9354    2.5 star rating              NaN   \n",
       "9355    2.5 star rating              NaN   \n",
       "9356    2.5 star rating              NaN   \n",
       "9357    2.5 star rating              NaN   \n",
       "9358    2.5 star rating              NaN   \n",
       "10690   5.0 star rating              NaN   \n",
       "10691   5.0 star rating              NaN   \n",
       "10692   5.0 star rating              NaN   \n",
       "10693   5.0 star rating              NaN   \n",
       "10694   5.0 star rating              NaN   \n",
       "10695   4.5 star rating              NaN   \n",
       "10696   4.5 star rating              NaN   \n",
       "10697   4.5 star rating              NaN   \n",
       "12891   5.0 star rating              NaN   \n",
       "12892   5.0 star rating              NaN   \n",
       "12893   5.0 star rating              NaN   \n",
       "...                 ...              ...   \n",
       "69841   4.0 star rating              NaN   \n",
       "69842   4.0 star rating              NaN   \n",
       "69843   4.0 star rating              NaN   \n",
       "69844   4.0 star rating              NaN   \n",
       "69845   4.0 star rating              NaN   \n",
       "69846   4.0 star rating              NaN   \n",
       "69847   4.0 star rating              NaN   \n",
       "69848   4.0 star rating              NaN   \n",
       "69849   4.0 star rating              NaN   \n",
       "69850   4.0 star rating              NaN   \n",
       "69851   4.0 star rating              NaN   \n",
       "69852   4.0 star rating              NaN   \n",
       "69853   4.0 star rating              NaN   \n",
       "69854   4.0 star rating              NaN   \n",
       "69855   4.0 star rating              NaN   \n",
       "69856   4.0 star rating              NaN   \n",
       "69857   4.0 star rating              NaN   \n",
       "69858   4.0 star rating              NaN   \n",
       "69859   4.0 star rating              NaN   \n",
       "69860   4.0 star rating              NaN   \n",
       "69861   4.0 star rating              NaN   \n",
       "69862   4.0 star rating              NaN   \n",
       "69863   4.0 star rating              NaN   \n",
       "69864   4.0 star rating              NaN   \n",
       "69865   4.0 star rating              NaN   \n",
       "69866   4.0 star rating              NaN   \n",
       "69867   4.0 star rating              NaN   \n",
       "69868   4.0 star rating              NaN   \n",
       "69869   4.0 star rating              NaN   \n",
       "69870   4.0 star rating              NaN   \n",
       "\n",
       "                                  restaurant_type  \n",
       "5273                             Indian,, Chinese  \n",
       "5274                             Indian,, Chinese  \n",
       "6782                                     Japanese  \n",
       "6783                                     Japanese  \n",
       "6784                                     Japanese  \n",
       "6785                                     Japanese  \n",
       "6786                                     Japanese  \n",
       "6787                                     Japanese  \n",
       "9348      Mexican,, Grocery,, Convenience, Stores  \n",
       "9349      Mexican,, Grocery,, Convenience, Stores  \n",
       "9350      Mexican,, Grocery,, Convenience, Stores  \n",
       "9351      Mexican,, Grocery,, Convenience, Stores  \n",
       "9352      Mexican,, Grocery,, Convenience, Stores  \n",
       "9353      Mexican,, Grocery,, Convenience, Stores  \n",
       "9354      Mexican,, Grocery,, Convenience, Stores  \n",
       "9355      Mexican,, Grocery,, Convenience, Stores  \n",
       "9356      Mexican,, Grocery,, Convenience, Stores  \n",
       "9357      Mexican,, Grocery,, Convenience, Stores  \n",
       "9358      Mexican,, Grocery,, Convenience, Stores  \n",
       "10690                 Halal,, Indian,, Vegetarian  \n",
       "10691                 Halal,, Indian,, Vegetarian  \n",
       "10692                 Halal,, Indian,, Vegetarian  \n",
       "10693                 Halal,, Indian,, Vegetarian  \n",
       "10694                 Halal,, Indian,, Vegetarian  \n",
       "10695           Cafes,, Coffee, &, Tea,, Desserts  \n",
       "10696           Cafes,, Coffee, &, Tea,, Desserts  \n",
       "10697           Cafes,, Coffee, &, Tea,, Desserts  \n",
       "12891                                   Dominican  \n",
       "12892                                   Dominican  \n",
       "12893                                   Dominican  \n",
       "...                                           ...  \n",
       "69841  Pizza,, Italian,, Venues, &, Event, Spaces  \n",
       "69842  Pizza,, Italian,, Venues, &, Event, Spaces  \n",
       "69843  Pizza,, Italian,, Venues, &, Event, Spaces  \n",
       "69844  Pizza,, Italian,, Venues, &, Event, Spaces  \n",
       "69845  Pizza,, Italian,, Venues, &, Event, Spaces  \n",
       "69846  Pizza,, Italian,, Venues, &, Event, Spaces  \n",
       "69847  Pizza,, Italian,, Venues, &, Event, Spaces  \n",
       "69848  Pizza,, Italian,, Venues, &, Event, Spaces  \n",
       "69849  Pizza,, Italian,, Venues, &, Event, Spaces  \n",
       "69850  Pizza,, Italian,, Venues, &, Event, Spaces  \n",
       "69851  Pizza,, Italian,, Venues, &, Event, Spaces  \n",
       "69852  Pizza,, Italian,, Venues, &, Event, Spaces  \n",
       "69853  Pizza,, Italian,, Venues, &, Event, Spaces  \n",
       "69854  Pizza,, Italian,, Venues, &, Event, Spaces  \n",
       "69855  Pizza,, Italian,, Venues, &, Event, Spaces  \n",
       "69856  Pizza,, Italian,, Venues, &, Event, Spaces  \n",
       "69857  Pizza,, Italian,, Venues, &, Event, Spaces  \n",
       "69858  Pizza,, Italian,, Venues, &, Event, Spaces  \n",
       "69859  Pizza,, Italian,, Venues, &, Event, Spaces  \n",
       "69860  Pizza,, Italian,, Venues, &, Event, Spaces  \n",
       "69861  Pizza,, Italian,, Venues, &, Event, Spaces  \n",
       "69862  Pizza,, Italian,, Venues, &, Event, Spaces  \n",
       "69863  Pizza,, Italian,, Venues, &, Event, Spaces  \n",
       "69864  Pizza,, Italian,, Venues, &, Event, Spaces  \n",
       "69865  Pizza,, Italian,, Venues, &, Event, Spaces  \n",
       "69866  Pizza,, Italian,, Venues, &, Event, Spaces  \n",
       "69867  Pizza,, Italian,, Venues, &, Event, Spaces  \n",
       "69868  Pizza,, Italian,, Venues, &, Event, Spaces  \n",
       "69869  Pizza,, Italian,, Venues, &, Event, Spaces  \n",
       "69870  Pizza,, Italian,, Venues, &, Event, Spaces  \n",
       "\n",
       "[132 rows x 8 columns]"
      ]
     },
     "execution_count": 8,
     "metadata": {},
     "output_type": "execute_result"
    }
   ],
   "source": [
    "df[df.restaurant_price.isnull() == True]"
   ]
  },
  {
   "cell_type": "code",
   "execution_count": 9,
   "metadata": {},
   "outputs": [
    {
     "name": "stdout",
     "output_type": "stream",
     "text": [
      "number of missing value: 132\n"
     ]
    }
   ],
   "source": [
    "print('number of missing value:',len(df[df.restaurant_price.isnull() == True]))"
   ]
  },
  {
   "cell_type": "markdown",
   "metadata": {},
   "source": [
    "<center>**Table 3: Missing value**</center>"
   ]
  },
  {
   "cell_type": "markdown",
   "metadata": {},
   "source": [
    "### Part1 - 2 Data Cleaning and Preprocessing\n",
    "In this part, I will check each column one by one and prepare the dataset for recommendation system part.\n",
    "#### - user_id\n",
    "**Table 4** list the top 10 users who left most reviews to restaurants in Hoboken. Multiple customers left reviews for different restaurants more than one time which is valuable for the recommendation system. "
   ]
  },
  {
   "cell_type": "code",
   "execution_count": 10,
   "metadata": {
    "scrolled": false
   },
   "outputs": [
    {
     "data": {
      "text/html": [
       "<div>\n",
       "<style scoped>\n",
       "    .dataframe tbody tr th:only-of-type {\n",
       "        vertical-align: middle;\n",
       "    }\n",
       "\n",
       "    .dataframe tbody tr th {\n",
       "        vertical-align: top;\n",
       "    }\n",
       "\n",
       "    .dataframe thead th {\n",
       "        text-align: right;\n",
       "    }\n",
       "</style>\n",
       "<table border=\"1\" class=\"dataframe\">\n",
       "  <thead>\n",
       "    <tr style=\"text-align: right;\">\n",
       "      <th></th>\n",
       "      <th>user_id</th>\n",
       "      <th>count</th>\n",
       "    </tr>\n",
       "  </thead>\n",
       "  <tbody>\n",
       "    <tr>\n",
       "      <th>0</th>\n",
       "      <td>QxTNaHoxTL8f7jAK5nwQ1g</td>\n",
       "      <td>101</td>\n",
       "    </tr>\n",
       "    <tr>\n",
       "      <th>1</th>\n",
       "      <td>5aZX8bTiD0k9vR60SG588Q</td>\n",
       "      <td>76</td>\n",
       "    </tr>\n",
       "    <tr>\n",
       "      <th>2</th>\n",
       "      <td>GRY2acZtI5q4P1KdCWhcUQ</td>\n",
       "      <td>66</td>\n",
       "    </tr>\n",
       "    <tr>\n",
       "      <th>3</th>\n",
       "      <td>LcWOq7p7Mhtv9hIlDrhy9A</td>\n",
       "      <td>62</td>\n",
       "    </tr>\n",
       "    <tr>\n",
       "      <th>4</th>\n",
       "      <td>Y59HQNazSLR1EUMUmMOaFg</td>\n",
       "      <td>61</td>\n",
       "    </tr>\n",
       "    <tr>\n",
       "      <th>5</th>\n",
       "      <td>NWLqOKl0Vxi7qK-6EoBLbg</td>\n",
       "      <td>60</td>\n",
       "    </tr>\n",
       "    <tr>\n",
       "      <th>6</th>\n",
       "      <td>A5dqSwriUs8cV4DEzS_V9A</td>\n",
       "      <td>59</td>\n",
       "    </tr>\n",
       "    <tr>\n",
       "      <th>7</th>\n",
       "      <td>svFycHjXZYpNVutZ_0_gDQ</td>\n",
       "      <td>59</td>\n",
       "    </tr>\n",
       "    <tr>\n",
       "      <th>8</th>\n",
       "      <td>dl4ENy4Bk6-lCu59A8vxbg</td>\n",
       "      <td>57</td>\n",
       "    </tr>\n",
       "    <tr>\n",
       "      <th>9</th>\n",
       "      <td>94V-snVUg2Gd-OPd7rcZEg</td>\n",
       "      <td>54</td>\n",
       "    </tr>\n",
       "  </tbody>\n",
       "</table>\n",
       "</div>"
      ],
      "text/plain": [
       "                  user_id  count\n",
       "0  QxTNaHoxTL8f7jAK5nwQ1g    101\n",
       "1  5aZX8bTiD0k9vR60SG588Q     76\n",
       "2  GRY2acZtI5q4P1KdCWhcUQ     66\n",
       "3  LcWOq7p7Mhtv9hIlDrhy9A     62\n",
       "4  Y59HQNazSLR1EUMUmMOaFg     61\n",
       "5  NWLqOKl0Vxi7qK-6EoBLbg     60\n",
       "6  A5dqSwriUs8cV4DEzS_V9A     59\n",
       "7  svFycHjXZYpNVutZ_0_gDQ     59\n",
       "8  dl4ENy4Bk6-lCu59A8vxbg     57\n",
       "9  94V-snVUg2Gd-OPd7rcZEg     54"
      ]
     },
     "execution_count": 10,
     "metadata": {},
     "output_type": "execute_result"
    }
   ],
   "source": [
    "user_id = pd.DataFrame(df.user_id.value_counts().head(10))\n",
    "user_id.reset_index(level=0, inplace = True)\n",
    "user_id.columns = ['user_id', 'count']\n",
    "user_id"
   ]
  },
  {
   "cell_type": "markdown",
   "metadata": {},
   "source": [
    "**Table 4: Top 10 users left most reviews**\n",
    "\n",
    "#### - user_name\n",
    "Since different customers might have same name, in order to reduce the ambigurity, I will use user_id instead of user name in the recommendation system. There is nothing to do with the user_name column."
   ]
  },
  {
   "cell_type": "markdown",
   "metadata": {},
   "source": [
    "#### - user_rating\n",
    "I will convert the string into numerical format as I mentioned and include user_rating variable to calculate the weights or scores the given customer rated. **Table 5** shows the count of number of each rating star in the Hoboken_restaurants_reviews dataset."
   ]
  },
  {
   "cell_type": "code",
   "execution_count": 11,
   "metadata": {
    "scrolled": true
   },
   "outputs": [
    {
     "data": {
      "text/html": [
       "<div>\n",
       "<style scoped>\n",
       "    .dataframe tbody tr th:only-of-type {\n",
       "        vertical-align: middle;\n",
       "    }\n",
       "\n",
       "    .dataframe tbody tr th {\n",
       "        vertical-align: top;\n",
       "    }\n",
       "\n",
       "    .dataframe thead th {\n",
       "        text-align: right;\n",
       "    }\n",
       "</style>\n",
       "<table border=\"1\" class=\"dataframe\">\n",
       "  <thead>\n",
       "    <tr style=\"text-align: right;\">\n",
       "      <th></th>\n",
       "      <th>rating</th>\n",
       "      <th>count</th>\n",
       "    </tr>\n",
       "  </thead>\n",
       "  <tbody>\n",
       "    <tr>\n",
       "      <th>0</th>\n",
       "      <td>5</td>\n",
       "      <td>27702</td>\n",
       "    </tr>\n",
       "    <tr>\n",
       "      <th>1</th>\n",
       "      <td>4</td>\n",
       "      <td>23140</td>\n",
       "    </tr>\n",
       "    <tr>\n",
       "      <th>2</th>\n",
       "      <td>3</td>\n",
       "      <td>10916</td>\n",
       "    </tr>\n",
       "    <tr>\n",
       "      <th>3</th>\n",
       "      <td>1</td>\n",
       "      <td>6608</td>\n",
       "    </tr>\n",
       "    <tr>\n",
       "      <th>4</th>\n",
       "      <td>2</td>\n",
       "      <td>6245</td>\n",
       "    </tr>\n",
       "  </tbody>\n",
       "</table>\n",
       "</div>"
      ],
      "text/plain": [
       "   rating  count\n",
       "0       5  27702\n",
       "1       4  23140\n",
       "2       3  10916\n",
       "3       1   6608\n",
       "4       2   6245"
      ]
     },
     "execution_count": 11,
     "metadata": {},
     "output_type": "execute_result"
    }
   ],
   "source": [
    "df.user_rating.unique()\n",
    "df.user_rating = df.user_rating.replace({'5.0 star rating':5,\n",
    "                                         '4.0 star rating':4, \n",
    "                                         '3.0 star rating':3,\n",
    "                                         '2.0 star rating':2,\n",
    "                                         '1.0 star rating':1\n",
    "                                        })\n",
    "rating = pd.DataFrame(df.user_rating.value_counts().head())\n",
    "rating.reset_index(level=0, inplace = True)\n",
    "rating.columns=['rating', 'count']\n",
    "rating"
   ]
  },
  {
   "cell_type": "markdown",
   "metadata": {},
   "source": [
    "**Table 5: Count of rating**\n",
    "\n",
    "#### - Restaurant_name\n",
    "The restaurant's names are unique in this dataset. So I will use the restaurant name represent each restaurant in the following part. There are 302 different restaurants in the dataset in total. **Table 6 and Table 6.1** shows that some restaurants received more than 2 thousands revies in Yelp and some only received 1 or 2. This information might influence the accuracy of the recommendation system, since some types of recommendation methods will be limited by data sparsity. A restaurant with too seperated reviews might not be selected as a recommended result."
   ]
  },
  {
   "cell_type": "code",
   "execution_count": 12,
   "metadata": {
    "scrolled": true
   },
   "outputs": [
    {
     "name": "stdout",
     "output_type": "stream",
     "text": [
      "Number of restaurants: 302\n"
     ]
    }
   ],
   "source": [
    "print('Number of restaurants:', len(df.restaurant_name.unique()))"
   ]
  },
  {
   "cell_type": "code",
   "execution_count": 13,
   "metadata": {
    "scrolled": true
   },
   "outputs": [
    {
     "data": {
      "text/html": [
       "<div>\n",
       "<style scoped>\n",
       "    .dataframe tbody tr th:only-of-type {\n",
       "        vertical-align: middle;\n",
       "    }\n",
       "\n",
       "    .dataframe tbody tr th {\n",
       "        vertical-align: top;\n",
       "    }\n",
       "\n",
       "    .dataframe thead th {\n",
       "        text-align: right;\n",
       "    }\n",
       "</style>\n",
       "<table border=\"1\" class=\"dataframe\">\n",
       "  <thead>\n",
       "    <tr style=\"text-align: right;\">\n",
       "      <th></th>\n",
       "      <th>restaurant_name</th>\n",
       "      <th>count</th>\n",
       "    </tr>\n",
       "  </thead>\n",
       "  <tbody>\n",
       "    <tr>\n",
       "      <th>177</th>\n",
       "      <td>Morimoto</td>\n",
       "      <td>2740</td>\n",
       "    </tr>\n",
       "    <tr>\n",
       "      <th>261</th>\n",
       "      <td>The Spotted Pig</td>\n",
       "      <td>2640</td>\n",
       "    </tr>\n",
       "    <tr>\n",
       "      <th>153</th>\n",
       "      <td>Los Tacos No.1</td>\n",
       "      <td>2100</td>\n",
       "    </tr>\n",
       "    <tr>\n",
       "      <th>258</th>\n",
       "      <td>The Park</td>\n",
       "      <td>1640</td>\n",
       "    </tr>\n",
       "    <tr>\n",
       "      <th>287</th>\n",
       "      <td>Wafels &amp; Dinges</td>\n",
       "      <td>1500</td>\n",
       "    </tr>\n",
       "    <tr>\n",
       "      <th>46</th>\n",
       "      <td>Catch</td>\n",
       "      <td>1480</td>\n",
       "    </tr>\n",
       "    <tr>\n",
       "      <th>90</th>\n",
       "      <td>Employees Only</td>\n",
       "      <td>1300</td>\n",
       "    </tr>\n",
       "    <tr>\n",
       "      <th>15</th>\n",
       "      <td>Artichoke Basille’s Pizza &amp; Bar</td>\n",
       "      <td>1300</td>\n",
       "    </tr>\n",
       "    <tr>\n",
       "      <th>71</th>\n",
       "      <td>Del Posto</td>\n",
       "      <td>1260</td>\n",
       "    </tr>\n",
       "    <tr>\n",
       "      <th>93</th>\n",
       "      <td>Fig &amp; Olive</td>\n",
       "      <td>1220</td>\n",
       "    </tr>\n",
       "  </tbody>\n",
       "</table>\n",
       "</div>"
      ],
      "text/plain": [
       "                     restaurant_name  count\n",
       "177                         Morimoto   2740\n",
       "261                  The Spotted Pig   2640\n",
       "153                   Los Tacos No.1   2100\n",
       "258                         The Park   1640\n",
       "287                  Wafels & Dinges   1500\n",
       "46                             Catch   1480\n",
       "90                    Employees Only   1300\n",
       "15   Artichoke Basille’s Pizza & Bar   1300\n",
       "71                         Del Posto   1260\n",
       "93                       Fig & Olive   1220"
      ]
     },
     "execution_count": 13,
     "metadata": {},
     "output_type": "execute_result"
    }
   ],
   "source": [
    "restaurant_name = df.groupby(df['restaurant_name']).user_id.count()\n",
    "restaurant_name = pd.DataFrame(restaurant_name)\n",
    "restaurant_name = restaurant_name.reset_index()\n",
    "restaurant_name = restaurant_name.rename(index=str, columns={\"user_id\": \"count\"})\n",
    "top_10 = restaurant_name.sort_values(by=['count'], ascending=False).head(10)\n",
    "top_10"
   ]
  },
  {
   "cell_type": "markdown",
   "metadata": {},
   "source": [
    "**Table 6: Restaurants received most reviews**"
   ]
  },
  {
   "cell_type": "code",
   "execution_count": 14,
   "metadata": {
    "scrolled": true
   },
   "outputs": [
    {
     "data": {
      "text/html": [
       "<div>\n",
       "<style scoped>\n",
       "    .dataframe tbody tr th:only-of-type {\n",
       "        vertical-align: middle;\n",
       "    }\n",
       "\n",
       "    .dataframe tbody tr th {\n",
       "        vertical-align: top;\n",
       "    }\n",
       "\n",
       "    .dataframe thead th {\n",
       "        text-align: right;\n",
       "    }\n",
       "</style>\n",
       "<table border=\"1\" class=\"dataframe\">\n",
       "  <thead>\n",
       "    <tr style=\"text-align: right;\">\n",
       "      <th></th>\n",
       "      <th>restaurant_name</th>\n",
       "      <th>count</th>\n",
       "    </tr>\n",
       "  </thead>\n",
       "  <tbody>\n",
       "    <tr>\n",
       "      <th>165</th>\n",
       "      <td>Manhattan Bar Grill &amp; Lounge</td>\n",
       "      <td>1</td>\n",
       "    </tr>\n",
       "    <tr>\n",
       "      <th>18</th>\n",
       "      <td>Azteca Taqueria Restaurant</td>\n",
       "      <td>1</td>\n",
       "    </tr>\n",
       "    <tr>\n",
       "      <th>159</th>\n",
       "      <td>MONDO - DOGS</td>\n",
       "      <td>1</td>\n",
       "    </tr>\n",
       "    <tr>\n",
       "      <th>81</th>\n",
       "      <td>El Cantante</td>\n",
       "      <td>1</td>\n",
       "    </tr>\n",
       "    <tr>\n",
       "      <th>289</th>\n",
       "      <td>Wah Yoan</td>\n",
       "      <td>1</td>\n",
       "    </tr>\n",
       "    <tr>\n",
       "      <th>92</th>\n",
       "      <td>Field House Grill</td>\n",
       "      <td>1</td>\n",
       "    </tr>\n",
       "    <tr>\n",
       "      <th>1</th>\n",
       "      <td>52 Restaurant</td>\n",
       "      <td>1</td>\n",
       "    </tr>\n",
       "    <tr>\n",
       "      <th>87</th>\n",
       "      <td>El Salvador Restaurant</td>\n",
       "      <td>1</td>\n",
       "    </tr>\n",
       "    <tr>\n",
       "      <th>240</th>\n",
       "      <td>Taquitos Mexicanos</td>\n",
       "      <td>2</td>\n",
       "    </tr>\n",
       "    <tr>\n",
       "      <th>99</th>\n",
       "      <td>Funjabi</td>\n",
       "      <td>2</td>\n",
       "    </tr>\n",
       "  </tbody>\n",
       "</table>\n",
       "</div>"
      ],
      "text/plain": [
       "                  restaurant_name  count\n",
       "165  Manhattan Bar Grill & Lounge      1\n",
       "18     Azteca Taqueria Restaurant      1\n",
       "159                  MONDO - DOGS      1\n",
       "81                    El Cantante      1\n",
       "289                      Wah Yoan      1\n",
       "92              Field House Grill      1\n",
       "1                   52 Restaurant      1\n",
       "87         El Salvador Restaurant      1\n",
       "240            Taquitos Mexicanos      2\n",
       "99                        Funjabi      2"
      ]
     },
     "execution_count": 14,
     "metadata": {},
     "output_type": "execute_result"
    }
   ],
   "source": [
    "restaurant_name.sort_values(by=['count']).head(10)"
   ]
  },
  {
   "cell_type": "markdown",
   "metadata": {},
   "source": [
    "**Table 6.1: Restaurants received least reviews**\n",
    "\n",
    "#### -  restaurant_rating\n",
    "I will convert the restaurant_rating column into numerical data. **Table 7** shows the distribution of different rating scores. The restaurant_rating variable might influence the customer's decision making, so I will take this variable into account in the Neural Network method."
   ]
  },
  {
   "cell_type": "code",
   "execution_count": 15,
   "metadata": {
    "scrolled": true
   },
   "outputs": [
    {
     "name": "stdout",
     "output_type": "stream",
     "text": [
      "['4.0 star rating' '4.5 star rating' '3.5 star rating' '3.0 star rating'\n",
      " '2.5 star rating' '5.0 star rating' '1.5 star rating']\n"
     ]
    },
    {
     "data": {
      "text/html": [
       "<div>\n",
       "<style scoped>\n",
       "    .dataframe tbody tr th:only-of-type {\n",
       "        vertical-align: middle;\n",
       "    }\n",
       "\n",
       "    .dataframe tbody tr th {\n",
       "        vertical-align: top;\n",
       "    }\n",
       "\n",
       "    .dataframe thead th {\n",
       "        text-align: right;\n",
       "    }\n",
       "</style>\n",
       "<table border=\"1\" class=\"dataframe\">\n",
       "  <thead>\n",
       "    <tr style=\"text-align: right;\">\n",
       "      <th></th>\n",
       "      <th>restaurant_rating</th>\n",
       "      <th>count</th>\n",
       "    </tr>\n",
       "  </thead>\n",
       "  <tbody>\n",
       "    <tr>\n",
       "      <th>4</th>\n",
       "      <td>4.0</td>\n",
       "      <td>31568</td>\n",
       "    </tr>\n",
       "    <tr>\n",
       "      <th>3</th>\n",
       "      <td>3.5</td>\n",
       "      <td>26130</td>\n",
       "    </tr>\n",
       "    <tr>\n",
       "      <th>5</th>\n",
       "      <td>4.5</td>\n",
       "      <td>8866</td>\n",
       "    </tr>\n",
       "    <tr>\n",
       "      <th>2</th>\n",
       "      <td>3.0</td>\n",
       "      <td>7263</td>\n",
       "    </tr>\n",
       "    <tr>\n",
       "      <th>6</th>\n",
       "      <td>5.0</td>\n",
       "      <td>484</td>\n",
       "    </tr>\n",
       "    <tr>\n",
       "      <th>1</th>\n",
       "      <td>2.5</td>\n",
       "      <td>267</td>\n",
       "    </tr>\n",
       "    <tr>\n",
       "      <th>0</th>\n",
       "      <td>1.5</td>\n",
       "      <td>33</td>\n",
       "    </tr>\n",
       "  </tbody>\n",
       "</table>\n",
       "</div>"
      ],
      "text/plain": [
       "   restaurant_rating  count\n",
       "4                4.0  31568\n",
       "3                3.5  26130\n",
       "5                4.5   8866\n",
       "2                3.0   7263\n",
       "6                5.0    484\n",
       "1                2.5    267\n",
       "0                1.5     33"
      ]
     },
     "execution_count": 15,
     "metadata": {},
     "output_type": "execute_result"
    }
   ],
   "source": [
    "print(df.restaurant_rating.unique())\n",
    "\n",
    "df.restaurant_rating = df.restaurant_rating.replace({'5.0 star rating':5,\n",
    "                                                     '4.5 star rating':4.5,\n",
    "                                                     \n",
    "                                                     '4.0 star rating':4,\n",
    "                                                     '3.5 star rating':3.5,\n",
    "                                                     '3.0 star rating':3,\n",
    "                                                     '2.5 star rating':2.5,\n",
    "                                                     '2.0 star rating':2,\n",
    "                                                     '1.5 star rating':1.5,\n",
    "                                                     '1.0 star rating':1\n",
    "                                                    })\n",
    "restaurant_rating = df.groupby(df['restaurant_rating']).user_id.count()\n",
    "restaurant_rating = pd.DataFrame(restaurant_rating)\n",
    "restaurant_rating = restaurant_rating.reset_index()\n",
    "restaurant_rating = restaurant_rating.rename(index=str, columns={\"user_id\": \"count\"})\n",
    "restaurant_rating = restaurant_rating.sort_values(by=['count'], ascending=False).head(15)\n",
    "restaurant_rating"
   ]
  },
  {
   "cell_type": "markdown",
   "metadata": {},
   "source": [
    "**Table 7: Rating Distribution**\n",
    "\n",
    "#### - Restaurant_price\n",
    "I will convert the restaurant_price column into numerical data. **Table 8** shows the distribution of degree of restaurant's price. We could find that the level 2 degree is the most popular degree of restaurant's price."
   ]
  },
  {
   "cell_type": "code",
   "execution_count": 16,
   "metadata": {
    "scrolled": true
   },
   "outputs": [
    {
     "name": "stdout",
     "output_type": "stream",
     "text": [
      "['$$' '$' '$$$' nan '$$$$']\n"
     ]
    },
    {
     "data": {
      "text/html": [
       "<div>\n",
       "<style scoped>\n",
       "    .dataframe tbody tr th:only-of-type {\n",
       "        vertical-align: middle;\n",
       "    }\n",
       "\n",
       "    .dataframe tbody tr th {\n",
       "        vertical-align: top;\n",
       "    }\n",
       "\n",
       "    .dataframe thead th {\n",
       "        text-align: right;\n",
       "    }\n",
       "</style>\n",
       "<table border=\"1\" class=\"dataframe\">\n",
       "  <thead>\n",
       "    <tr style=\"text-align: right;\">\n",
       "      <th></th>\n",
       "      <th>restaurant_price</th>\n",
       "      <th>count</th>\n",
       "    </tr>\n",
       "  </thead>\n",
       "  <tbody>\n",
       "    <tr>\n",
       "      <th>1</th>\n",
       "      <td>2.0</td>\n",
       "      <td>38323</td>\n",
       "    </tr>\n",
       "    <tr>\n",
       "      <th>2</th>\n",
       "      <td>3.0</td>\n",
       "      <td>19809</td>\n",
       "    </tr>\n",
       "    <tr>\n",
       "      <th>0</th>\n",
       "      <td>1.0</td>\n",
       "      <td>10567</td>\n",
       "    </tr>\n",
       "    <tr>\n",
       "      <th>3</th>\n",
       "      <td>4.0</td>\n",
       "      <td>5780</td>\n",
       "    </tr>\n",
       "  </tbody>\n",
       "</table>\n",
       "</div>"
      ],
      "text/plain": [
       "   restaurant_price  count\n",
       "1               2.0  38323\n",
       "2               3.0  19809\n",
       "0               1.0  10567\n",
       "3               4.0   5780"
      ]
     },
     "execution_count": 16,
     "metadata": {},
     "output_type": "execute_result"
    }
   ],
   "source": [
    "print(df.restaurant_price.unique())\n",
    "\n",
    "df.restaurant_price = df.restaurant_price.replace({'$':1,\n",
    "                                                     '$$':2, \n",
    "                                                     '$$$':3,\n",
    "                                                     '$$$$':4})\n",
    "\n",
    "restaurant_price = df.groupby(df['restaurant_price']).user_id.count()\n",
    "restaurant_price = pd.DataFrame(restaurant_price)\n",
    "restaurant_price = restaurant_price.reset_index()\n",
    "restaurant_price = restaurant_price.rename(index=str, columns={\"user_id\": \"count\"})\n",
    "restaurant_price = restaurant_price.sort_values(by=['count'], ascending=False).head(15)\n",
    "restaurant_price"
   ]
  },
  {
   "cell_type": "markdown",
   "metadata": {},
   "source": [
    "**Table 8: Price Distribution**\n",
    "\n",
    "The restaurant_price variable might influence the customer's decision making. There are some missing restaurant_price for some restaurants, since yelp have not updated the price for these restaurants. I will use 2 to refill these cells according to the statistical result that there are most restaurants with restaurant price in level 2."
   ]
  },
  {
   "cell_type": "code",
   "execution_count": 17,
   "metadata": {
    "collapsed": true
   },
   "outputs": [
    {
     "name": "stdout",
     "output_type": "stream",
     "text": [
      "[2. 1. 3. 4.]\n"
     ]
    }
   ],
   "source": [
    "df.restaurant_price = df.restaurant_price.replace({None:2})\n",
    "print(df.restaurant_price.unique())"
   ]
  },
  {
   "cell_type": "markdown",
   "metadata": {},
   "source": [
    "#### - Restaurant_type\n",
    "I will do data cleaning for the restaurant_type column. The restaurant_type variable is significant to influence customer select a restaurant. So I will focus on this variable in the Neural Network method. **Table 9** shows the most popular restaurant type in this dataset, 4000 users have left reviews to a 'sushi japanese bars' restaurant."
   ]
  },
  {
   "cell_type": "code",
   "execution_count": 18,
   "metadata": {
    "collapsed": true
   },
   "outputs": [
    {
     "name": "stdout",
     "output_type": "stream",
     "text": [
      "Sample: ['Wine, Bars,, Italian,, Cocktail, Bars'\n",
      " 'American, (New),, Gastropubs,, Irish, Pub' 'Sports, Bars,, Seafood'\n",
      " 'Bakeries,, Coffee, &, Tea,, French' 'Bakeries,, Desserts,, Food, Stands']\n",
      "Number of types: 230\n"
     ]
    }
   ],
   "source": [
    "print('Sample:',df.restaurant_type.unique()[0:5])\n",
    "print('Number of types:',len(df.restaurant_type.unique()))"
   ]
  },
  {
   "cell_type": "code",
   "execution_count": 19,
   "metadata": {},
   "outputs": [
    {
     "data": {
      "text/html": [
       "<div>\n",
       "<style scoped>\n",
       "    .dataframe tbody tr th:only-of-type {\n",
       "        vertical-align: middle;\n",
       "    }\n",
       "\n",
       "    .dataframe tbody tr th {\n",
       "        vertical-align: top;\n",
       "    }\n",
       "\n",
       "    .dataframe thead th {\n",
       "        text-align: right;\n",
       "    }\n",
       "</style>\n",
       "<table border=\"1\" class=\"dataframe\">\n",
       "  <thead>\n",
       "    <tr style=\"text-align: right;\">\n",
       "      <th></th>\n",
       "      <th>restaurant_type</th>\n",
       "      <th>count</th>\n",
       "    </tr>\n",
       "  </thead>\n",
       "  <tbody>\n",
       "    <tr>\n",
       "      <th>204</th>\n",
       "      <td>sushi bars japanese</td>\n",
       "      <td>4080</td>\n",
       "    </tr>\n",
       "    <tr>\n",
       "      <th>169</th>\n",
       "      <td>pizza italian</td>\n",
       "      <td>3348</td>\n",
       "    </tr>\n",
       "    <tr>\n",
       "      <th>133</th>\n",
       "      <td>italian</td>\n",
       "      <td>3070</td>\n",
       "    </tr>\n",
       "    <tr>\n",
       "      <th>151</th>\n",
       "      <td>mexican</td>\n",
       "      <td>2988</td>\n",
       "    </tr>\n",
       "    <tr>\n",
       "      <th>122</th>\n",
       "      <td>gastropubs burgers</td>\n",
       "      <td>2640</td>\n",
       "    </tr>\n",
       "    <tr>\n",
       "      <th>98</th>\n",
       "      <td>cocktail new spaces venues american bars event</td>\n",
       "      <td>1640</td>\n",
       "    </tr>\n",
       "    <tr>\n",
       "      <th>116</th>\n",
       "      <td>food belgian trucks waffles</td>\n",
       "      <td>1500</td>\n",
       "    </tr>\n",
       "    <tr>\n",
       "      <th>186</th>\n",
       "      <td>seafood bars fusion sushi asian</td>\n",
       "      <td>1480</td>\n",
       "    </tr>\n",
       "    <tr>\n",
       "      <th>10</th>\n",
       "      <td>american new bars</td>\n",
       "      <td>1451</td>\n",
       "    </tr>\n",
       "    <tr>\n",
       "      <th>103</th>\n",
       "      <td>cuban</td>\n",
       "      <td>1320</td>\n",
       "    </tr>\n",
       "  </tbody>\n",
       "</table>\n",
       "</div>"
      ],
      "text/plain": [
       "                                    restaurant_type  count\n",
       "204                             sushi bars japanese   4080\n",
       "169                                   pizza italian   3348\n",
       "133                                         italian   3070\n",
       "151                                         mexican   2988\n",
       "122                              gastropubs burgers   2640\n",
       "98   cocktail new spaces venues american bars event   1640\n",
       "116                     food belgian trucks waffles   1500\n",
       "186                 seafood bars fusion sushi asian   1480\n",
       "10                                american new bars   1451\n",
       "103                                           cuban   1320"
      ]
     },
     "execution_count": 19,
     "metadata": {},
     "output_type": "execute_result"
    }
   ],
   "source": [
    "li = []\n",
    "for i in range(len(df)):\n",
    "    item = df.restaurant_type.loc[i].replace(',', '')\n",
    "    item = item.replace('&', '')\n",
    "    item = item.replace('(','')\n",
    "    item = item.replace(')','')\n",
    "    item = item.lower()\n",
    "    item = ' '.join(list(set(item.split())))\n",
    "    li.append(item)\n",
    "df['restaurant_type'] = li\n",
    "restaurant_type = df.groupby(df['restaurant_type']).user_id.count()\n",
    "restaurant_type = pd.DataFrame(restaurant_type)\n",
    "restaurant_type = restaurant_type.reset_index()\n",
    "restaurant_type = restaurant_type.rename(index=str, columns={\"user_id\": \"count\"})\n",
    "restaurant_type = restaurant_type.sort_values(by=['count'], ascending=False).head(10)\n",
    "restaurant_type"
   ]
  },
  {
   "cell_type": "markdown",
   "metadata": {},
   "source": [
    "**Table 9: Restaurant Type with most reviews**\n",
    "\n",
    "Now, I finish data cleaning and preprocessing part. I will store the cleaned dataset into 'Hoboken_restaurants_reviews_cleaned.csv'. This dataset will also be used in the method 4 - Neural Network methods."
   ]
  },
  {
   "cell_type": "code",
   "execution_count": 20,
   "metadata": {},
   "outputs": [
    {
     "data": {
      "text/html": [
       "<div>\n",
       "<style scoped>\n",
       "    .dataframe tbody tr th:only-of-type {\n",
       "        vertical-align: middle;\n",
       "    }\n",
       "\n",
       "    .dataframe tbody tr th {\n",
       "        vertical-align: top;\n",
       "    }\n",
       "\n",
       "    .dataframe thead th {\n",
       "        text-align: right;\n",
       "    }\n",
       "</style>\n",
       "<table border=\"1\" class=\"dataframe\">\n",
       "  <thead>\n",
       "    <tr style=\"text-align: right;\">\n",
       "      <th></th>\n",
       "      <th>user_id</th>\n",
       "      <th>user_name</th>\n",
       "      <th>user_rating</th>\n",
       "      <th>user_text</th>\n",
       "      <th>restaurant_name</th>\n",
       "      <th>restaurant_rating</th>\n",
       "      <th>restaurant_price</th>\n",
       "      <th>restaurant_type</th>\n",
       "    </tr>\n",
       "  </thead>\n",
       "  <tbody>\n",
       "    <tr>\n",
       "      <th>0</th>\n",
       "      <td>dRuCO4NYO7zyAF8-CeJmZg</td>\n",
       "      <td>Jason L.</td>\n",
       "      <td>5</td>\n",
       "      <td>We booked Grand Vin as our brunch location to ...</td>\n",
       "      <td>Grand Vin</td>\n",
       "      <td>4.0</td>\n",
       "      <td>2.0</td>\n",
       "      <td>cocktail bars wine italian</td>\n",
       "    </tr>\n",
       "    <tr>\n",
       "      <th>1</th>\n",
       "      <td>f36YZ1cA291bNtMHXWtu1Q</td>\n",
       "      <td>Danyale W.</td>\n",
       "      <td>4</td>\n",
       "      <td>Sooooo for date night it was his turn to pick ...</td>\n",
       "      <td>Grand Vin</td>\n",
       "      <td>4.0</td>\n",
       "      <td>2.0</td>\n",
       "      <td>cocktail bars wine italian</td>\n",
       "    </tr>\n",
       "    <tr>\n",
       "      <th>2</th>\n",
       "      <td>-xYUKfWQTaB-7BeizsQA3w</td>\n",
       "      <td>Robin G.</td>\n",
       "      <td>5</td>\n",
       "      <td>Adorable little wine bar with outdoor seating ...</td>\n",
       "      <td>Grand Vin</td>\n",
       "      <td>4.0</td>\n",
       "      <td>2.0</td>\n",
       "      <td>cocktail bars wine italian</td>\n",
       "    </tr>\n",
       "    <tr>\n",
       "      <th>3</th>\n",
       "      <td>tt1vLgAP5UpRXAKJLT2KWg</td>\n",
       "      <td>Alec K.</td>\n",
       "      <td>4</td>\n",
       "      <td>One of the top restaurants in Hoboken. Well ma...</td>\n",
       "      <td>Grand Vin</td>\n",
       "      <td>4.0</td>\n",
       "      <td>2.0</td>\n",
       "      <td>cocktail bars wine italian</td>\n",
       "    </tr>\n",
       "    <tr>\n",
       "      <th>4</th>\n",
       "      <td>-K79Xep4lElqIChsJYWuiQ</td>\n",
       "      <td>Robbie O.</td>\n",
       "      <td>5</td>\n",
       "      <td>Great space- service is on point -  short rib ...</td>\n",
       "      <td>Grand Vin</td>\n",
       "      <td>4.0</td>\n",
       "      <td>2.0</td>\n",
       "      <td>cocktail bars wine italian</td>\n",
       "    </tr>\n",
       "  </tbody>\n",
       "</table>\n",
       "</div>"
      ],
      "text/plain": [
       "                  user_id   user_name  user_rating  \\\n",
       "0  dRuCO4NYO7zyAF8-CeJmZg    Jason L.            5   \n",
       "1  f36YZ1cA291bNtMHXWtu1Q  Danyale W.            4   \n",
       "2  -xYUKfWQTaB-7BeizsQA3w    Robin G.            5   \n",
       "3  tt1vLgAP5UpRXAKJLT2KWg     Alec K.            4   \n",
       "4  -K79Xep4lElqIChsJYWuiQ   Robbie O.            5   \n",
       "\n",
       "                                           user_text restaurant_name  \\\n",
       "0  We booked Grand Vin as our brunch location to ...       Grand Vin   \n",
       "1  Sooooo for date night it was his turn to pick ...       Grand Vin   \n",
       "2  Adorable little wine bar with outdoor seating ...       Grand Vin   \n",
       "3  One of the top restaurants in Hoboken. Well ma...       Grand Vin   \n",
       "4  Great space- service is on point -  short rib ...       Grand Vin   \n",
       "\n",
       "   restaurant_rating  restaurant_price             restaurant_type  \n",
       "0                4.0               2.0  cocktail bars wine italian  \n",
       "1                4.0               2.0  cocktail bars wine italian  \n",
       "2                4.0               2.0  cocktail bars wine italian  \n",
       "3                4.0               2.0  cocktail bars wine italian  \n",
       "4                4.0               2.0  cocktail bars wine italian  "
      ]
     },
     "execution_count": 20,
     "metadata": {},
     "output_type": "execute_result"
    }
   ],
   "source": [
    "df.head()"
   ]
  },
  {
   "cell_type": "markdown",
   "metadata": {},
   "source": [
    "<center>**Table 10: Clean dataset and Dataset for Method 4**</center>"
   ]
  },
  {
   "cell_type": "code",
   "execution_count": 21,
   "metadata": {
    "scrolled": true
   },
   "outputs": [],
   "source": [
    "df.to_csv('Hoboken_restaurants_reviews_cleaned.csv', index=False)"
   ]
  },
  {
   "cell_type": "markdown",
   "metadata": {},
   "source": [
    "## Part 2. Data Preparation \n",
    "In this part I will prepare the data for co-occurence, collaborative filtering and matrix factorization methods. I will only keep the user_id, restaurant_name and user_rating column to build 3 basic recommendation system. **Table 11** shows a sample of this dataset."
   ]
  },
  {
   "cell_type": "code",
   "execution_count": 22,
   "metadata": {
    "scrolled": true
   },
   "outputs": [
    {
     "data": {
      "text/html": [
       "<div>\n",
       "<style scoped>\n",
       "    .dataframe tbody tr th:only-of-type {\n",
       "        vertical-align: middle;\n",
       "    }\n",
       "\n",
       "    .dataframe tbody tr th {\n",
       "        vertical-align: top;\n",
       "    }\n",
       "\n",
       "    .dataframe thead th {\n",
       "        text-align: right;\n",
       "    }\n",
       "</style>\n",
       "<table border=\"1\" class=\"dataframe\">\n",
       "  <thead>\n",
       "    <tr style=\"text-align: right;\">\n",
       "      <th></th>\n",
       "      <th>user_id</th>\n",
       "      <th>restaurant_name</th>\n",
       "      <th>user_rating</th>\n",
       "    </tr>\n",
       "  </thead>\n",
       "  <tbody>\n",
       "    <tr>\n",
       "      <th>0</th>\n",
       "      <td>dRuCO4NYO7zyAF8-CeJmZg</td>\n",
       "      <td>Grand Vin</td>\n",
       "      <td>5</td>\n",
       "    </tr>\n",
       "    <tr>\n",
       "      <th>1</th>\n",
       "      <td>f36YZ1cA291bNtMHXWtu1Q</td>\n",
       "      <td>Grand Vin</td>\n",
       "      <td>4</td>\n",
       "    </tr>\n",
       "    <tr>\n",
       "      <th>2</th>\n",
       "      <td>-xYUKfWQTaB-7BeizsQA3w</td>\n",
       "      <td>Grand Vin</td>\n",
       "      <td>5</td>\n",
       "    </tr>\n",
       "    <tr>\n",
       "      <th>3</th>\n",
       "      <td>tt1vLgAP5UpRXAKJLT2KWg</td>\n",
       "      <td>Grand Vin</td>\n",
       "      <td>4</td>\n",
       "    </tr>\n",
       "    <tr>\n",
       "      <th>4</th>\n",
       "      <td>-K79Xep4lElqIChsJYWuiQ</td>\n",
       "      <td>Grand Vin</td>\n",
       "      <td>5</td>\n",
       "    </tr>\n",
       "  </tbody>\n",
       "</table>\n",
       "</div>"
      ],
      "text/plain": [
       "                  user_id restaurant_name  user_rating\n",
       "0  dRuCO4NYO7zyAF8-CeJmZg       Grand Vin            5\n",
       "1  f36YZ1cA291bNtMHXWtu1Q       Grand Vin            4\n",
       "2  -xYUKfWQTaB-7BeizsQA3w       Grand Vin            5\n",
       "3  tt1vLgAP5UpRXAKJLT2KWg       Grand Vin            4\n",
       "4  -K79Xep4lElqIChsJYWuiQ       Grand Vin            5"
      ]
     },
     "execution_count": 22,
     "metadata": {},
     "output_type": "execute_result"
    }
   ],
   "source": [
    "df = pd.read_csv('Hoboken_restaurants_reviews_cleaned.csv')\n",
    "train_raw = df[['user_id','restaurant_name', 'user_rating']]\n",
    "train_raw.head()"
   ]
  },
  {
   "cell_type": "markdown",
   "metadata": {},
   "source": [
    "**Table 11: Sample of dataset**\n",
    "\n",
    "Customers might rate more than one time for one restaurant. I will use the average rating scores for the cases that customer rated more than one time. This group-by table, **Table 12**, will also be used in collaborative filtering recommendation system."
   ]
  },
  {
   "cell_type": "code",
   "execution_count": 23,
   "metadata": {
    "scrolled": true
   },
   "outputs": [
    {
     "data": {
      "text/html": [
       "<div>\n",
       "<style scoped>\n",
       "    .dataframe tbody tr th:only-of-type {\n",
       "        vertical-align: middle;\n",
       "    }\n",
       "\n",
       "    .dataframe tbody tr th {\n",
       "        vertical-align: top;\n",
       "    }\n",
       "\n",
       "    .dataframe thead th {\n",
       "        text-align: right;\n",
       "    }\n",
       "</style>\n",
       "<table border=\"1\" class=\"dataframe\">\n",
       "  <thead>\n",
       "    <tr style=\"text-align: right;\">\n",
       "      <th></th>\n",
       "      <th>user_id</th>\n",
       "      <th>restaurant_name</th>\n",
       "      <th>user_rating</th>\n",
       "    </tr>\n",
       "  </thead>\n",
       "  <tbody>\n",
       "    <tr>\n",
       "      <th>0</th>\n",
       "      <td>---xAZNw9fFPBoy7jmkA2A</td>\n",
       "      <td>Chef Of India</td>\n",
       "      <td>4</td>\n",
       "    </tr>\n",
       "    <tr>\n",
       "      <th>1</th>\n",
       "      <td>--68ZwhCrUJUmCXXkMTMKw</td>\n",
       "      <td>Prime Food Market</td>\n",
       "      <td>5</td>\n",
       "    </tr>\n",
       "    <tr>\n",
       "      <th>2</th>\n",
       "      <td>--8M2DZ9JkDwTveuRhLPTQ</td>\n",
       "      <td>Del Posto</td>\n",
       "      <td>5</td>\n",
       "    </tr>\n",
       "    <tr>\n",
       "      <th>3</th>\n",
       "      <td>--ARr3m5JsxaX3DTUVQW7w</td>\n",
       "      <td>Morimoto</td>\n",
       "      <td>2</td>\n",
       "    </tr>\n",
       "    <tr>\n",
       "      <th>4</th>\n",
       "      <td>--CZJeSIpxwQ0VULjnM57w</td>\n",
       "      <td>The Brass Rail</td>\n",
       "      <td>1</td>\n",
       "    </tr>\n",
       "  </tbody>\n",
       "</table>\n",
       "</div>"
      ],
      "text/plain": [
       "                  user_id    restaurant_name  user_rating\n",
       "0  ---xAZNw9fFPBoy7jmkA2A      Chef Of India            4\n",
       "1  --68ZwhCrUJUmCXXkMTMKw  Prime Food Market            5\n",
       "2  --8M2DZ9JkDwTveuRhLPTQ          Del Posto            5\n",
       "3  --ARr3m5JsxaX3DTUVQW7w           Morimoto            2\n",
       "4  --CZJeSIpxwQ0VULjnM57w     The Brass Rail            1"
      ]
     },
     "execution_count": 23,
     "metadata": {},
     "output_type": "execute_result"
    }
   ],
   "source": [
    "gb_df = pd.DataFrame(train_raw.groupby(['user_id', 'restaurant_name']).mean())\n",
    "gb_df = gb_df.reset_index()\n",
    "gb_df.head()"
   ]
  },
  {
   "cell_type": "markdown",
   "metadata": {},
   "source": [
    "**Table 12: A group-by Dataset(Method 2)**\n",
    "\n",
    "Based on the group-by dataset, I use pivot() function to convert it into a matrix like dataset. Each row represent each user and each column represent each restaurant. **Table 13** shows the sample of the matrix like dataset, which will be used for method 3, the matrix factorization recommendation system."
   ]
  },
  {
   "cell_type": "code",
   "execution_count": 24,
   "metadata": {
    "scrolled": true
   },
   "outputs": [
    {
     "data": {
      "text/html": [
       "<div>\n",
       "<style scoped>\n",
       "    .dataframe tbody tr th:only-of-type {\n",
       "        vertical-align: middle;\n",
       "    }\n",
       "\n",
       "    .dataframe tbody tr th {\n",
       "        vertical-align: top;\n",
       "    }\n",
       "\n",
       "    .dataframe thead th {\n",
       "        text-align: right;\n",
       "    }\n",
       "</style>\n",
       "<table border=\"1\" class=\"dataframe\">\n",
       "  <thead>\n",
       "    <tr style=\"text-align: right;\">\n",
       "      <th>restaurant_name</th>\n",
       "      <th>10th &amp; Willow Bar &amp; Grill</th>\n",
       "      <th>52 Restaurant</th>\n",
       "      <th>8th Street Tavern</th>\n",
       "      <th>Adoro Lei</th>\n",
       "      <th>Aether Game Cafe</th>\n",
       "      <th>Ahri’s Kitchen</th>\n",
       "      <th>Ainsworth Hoboken</th>\n",
       "      <th>Aldys Restaurant</th>\n",
       "      <th>Ali Baba</th>\n",
       "      <th>Amanda’s Restaurant</th>\n",
       "      <th>...</th>\n",
       "      <th>White Star Bar</th>\n",
       "      <th>Wicked Wolf Tavern</th>\n",
       "      <th>Willie McBrides</th>\n",
       "      <th>Yeung II Sushi Asian Cuisine</th>\n",
       "      <th>Zack’s Oak Bar &amp; Restaurant</th>\n",
       "      <th>Zafra Kitchen</th>\n",
       "      <th>Zap’s</th>\n",
       "      <th>bwè kafe</th>\n",
       "      <th>honeygrow</th>\n",
       "      <th>奥田</th>\n",
       "    </tr>\n",
       "    <tr>\n",
       "      <th>user_id</th>\n",
       "      <th></th>\n",
       "      <th></th>\n",
       "      <th></th>\n",
       "      <th></th>\n",
       "      <th></th>\n",
       "      <th></th>\n",
       "      <th></th>\n",
       "      <th></th>\n",
       "      <th></th>\n",
       "      <th></th>\n",
       "      <th></th>\n",
       "      <th></th>\n",
       "      <th></th>\n",
       "      <th></th>\n",
       "      <th></th>\n",
       "      <th></th>\n",
       "      <th></th>\n",
       "      <th></th>\n",
       "      <th></th>\n",
       "      <th></th>\n",
       "      <th></th>\n",
       "    </tr>\n",
       "  </thead>\n",
       "  <tbody>\n",
       "    <tr>\n",
       "      <th>---xAZNw9fFPBoy7jmkA2A</th>\n",
       "      <td>0.0</td>\n",
       "      <td>0.0</td>\n",
       "      <td>0.0</td>\n",
       "      <td>0.0</td>\n",
       "      <td>0.0</td>\n",
       "      <td>0.0</td>\n",
       "      <td>0.0</td>\n",
       "      <td>0.0</td>\n",
       "      <td>0.0</td>\n",
       "      <td>0.0</td>\n",
       "      <td>...</td>\n",
       "      <td>0.0</td>\n",
       "      <td>0.0</td>\n",
       "      <td>0.0</td>\n",
       "      <td>0.0</td>\n",
       "      <td>0.0</td>\n",
       "      <td>0.0</td>\n",
       "      <td>0.0</td>\n",
       "      <td>0.0</td>\n",
       "      <td>0.0</td>\n",
       "      <td>0.0</td>\n",
       "    </tr>\n",
       "    <tr>\n",
       "      <th>--68ZwhCrUJUmCXXkMTMKw</th>\n",
       "      <td>0.0</td>\n",
       "      <td>0.0</td>\n",
       "      <td>0.0</td>\n",
       "      <td>0.0</td>\n",
       "      <td>0.0</td>\n",
       "      <td>0.0</td>\n",
       "      <td>0.0</td>\n",
       "      <td>0.0</td>\n",
       "      <td>0.0</td>\n",
       "      <td>0.0</td>\n",
       "      <td>...</td>\n",
       "      <td>0.0</td>\n",
       "      <td>0.0</td>\n",
       "      <td>0.0</td>\n",
       "      <td>0.0</td>\n",
       "      <td>0.0</td>\n",
       "      <td>0.0</td>\n",
       "      <td>0.0</td>\n",
       "      <td>0.0</td>\n",
       "      <td>0.0</td>\n",
       "      <td>0.0</td>\n",
       "    </tr>\n",
       "    <tr>\n",
       "      <th>--8M2DZ9JkDwTveuRhLPTQ</th>\n",
       "      <td>0.0</td>\n",
       "      <td>0.0</td>\n",
       "      <td>0.0</td>\n",
       "      <td>0.0</td>\n",
       "      <td>0.0</td>\n",
       "      <td>0.0</td>\n",
       "      <td>0.0</td>\n",
       "      <td>0.0</td>\n",
       "      <td>0.0</td>\n",
       "      <td>0.0</td>\n",
       "      <td>...</td>\n",
       "      <td>0.0</td>\n",
       "      <td>0.0</td>\n",
       "      <td>0.0</td>\n",
       "      <td>0.0</td>\n",
       "      <td>0.0</td>\n",
       "      <td>0.0</td>\n",
       "      <td>0.0</td>\n",
       "      <td>0.0</td>\n",
       "      <td>0.0</td>\n",
       "      <td>0.0</td>\n",
       "    </tr>\n",
       "    <tr>\n",
       "      <th>--ARr3m5JsxaX3DTUVQW7w</th>\n",
       "      <td>0.0</td>\n",
       "      <td>0.0</td>\n",
       "      <td>0.0</td>\n",
       "      <td>0.0</td>\n",
       "      <td>0.0</td>\n",
       "      <td>0.0</td>\n",
       "      <td>0.0</td>\n",
       "      <td>0.0</td>\n",
       "      <td>0.0</td>\n",
       "      <td>0.0</td>\n",
       "      <td>...</td>\n",
       "      <td>0.0</td>\n",
       "      <td>0.0</td>\n",
       "      <td>0.0</td>\n",
       "      <td>0.0</td>\n",
       "      <td>0.0</td>\n",
       "      <td>0.0</td>\n",
       "      <td>0.0</td>\n",
       "      <td>0.0</td>\n",
       "      <td>0.0</td>\n",
       "      <td>0.0</td>\n",
       "    </tr>\n",
       "    <tr>\n",
       "      <th>--CZJeSIpxwQ0VULjnM57w</th>\n",
       "      <td>0.0</td>\n",
       "      <td>0.0</td>\n",
       "      <td>0.0</td>\n",
       "      <td>0.0</td>\n",
       "      <td>0.0</td>\n",
       "      <td>0.0</td>\n",
       "      <td>0.0</td>\n",
       "      <td>0.0</td>\n",
       "      <td>0.0</td>\n",
       "      <td>0.0</td>\n",
       "      <td>...</td>\n",
       "      <td>0.0</td>\n",
       "      <td>0.0</td>\n",
       "      <td>0.0</td>\n",
       "      <td>0.0</td>\n",
       "      <td>0.0</td>\n",
       "      <td>0.0</td>\n",
       "      <td>0.0</td>\n",
       "      <td>0.0</td>\n",
       "      <td>0.0</td>\n",
       "      <td>0.0</td>\n",
       "    </tr>\n",
       "  </tbody>\n",
       "</table>\n",
       "<p>5 rows × 302 columns</p>\n",
       "</div>"
      ],
      "text/plain": [
       "restaurant_name         10th & Willow Bar & Grill  52 Restaurant  \\\n",
       "user_id                                                            \n",
       "---xAZNw9fFPBoy7jmkA2A                        0.0            0.0   \n",
       "--68ZwhCrUJUmCXXkMTMKw                        0.0            0.0   \n",
       "--8M2DZ9JkDwTveuRhLPTQ                        0.0            0.0   \n",
       "--ARr3m5JsxaX3DTUVQW7w                        0.0            0.0   \n",
       "--CZJeSIpxwQ0VULjnM57w                        0.0            0.0   \n",
       "\n",
       "restaurant_name         8th Street Tavern  Adoro Lei  Aether Game Cafe  \\\n",
       "user_id                                                                  \n",
       "---xAZNw9fFPBoy7jmkA2A                0.0        0.0               0.0   \n",
       "--68ZwhCrUJUmCXXkMTMKw                0.0        0.0               0.0   \n",
       "--8M2DZ9JkDwTveuRhLPTQ                0.0        0.0               0.0   \n",
       "--ARr3m5JsxaX3DTUVQW7w                0.0        0.0               0.0   \n",
       "--CZJeSIpxwQ0VULjnM57w                0.0        0.0               0.0   \n",
       "\n",
       "restaurant_name         Ahri’s Kitchen  Ainsworth Hoboken  Aldys Restaurant  \\\n",
       "user_id                                                                       \n",
       "---xAZNw9fFPBoy7jmkA2A             0.0                0.0               0.0   \n",
       "--68ZwhCrUJUmCXXkMTMKw             0.0                0.0               0.0   \n",
       "--8M2DZ9JkDwTveuRhLPTQ             0.0                0.0               0.0   \n",
       "--ARr3m5JsxaX3DTUVQW7w             0.0                0.0               0.0   \n",
       "--CZJeSIpxwQ0VULjnM57w             0.0                0.0               0.0   \n",
       "\n",
       "restaurant_name         Ali Baba  Amanda’s Restaurant ...   White Star Bar  \\\n",
       "user_id                                               ...                    \n",
       "---xAZNw9fFPBoy7jmkA2A       0.0                  0.0 ...              0.0   \n",
       "--68ZwhCrUJUmCXXkMTMKw       0.0                  0.0 ...              0.0   \n",
       "--8M2DZ9JkDwTveuRhLPTQ       0.0                  0.0 ...              0.0   \n",
       "--ARr3m5JsxaX3DTUVQW7w       0.0                  0.0 ...              0.0   \n",
       "--CZJeSIpxwQ0VULjnM57w       0.0                  0.0 ...              0.0   \n",
       "\n",
       "restaurant_name         Wicked Wolf Tavern  Willie McBrides  \\\n",
       "user_id                                                       \n",
       "---xAZNw9fFPBoy7jmkA2A                 0.0              0.0   \n",
       "--68ZwhCrUJUmCXXkMTMKw                 0.0              0.0   \n",
       "--8M2DZ9JkDwTveuRhLPTQ                 0.0              0.0   \n",
       "--ARr3m5JsxaX3DTUVQW7w                 0.0              0.0   \n",
       "--CZJeSIpxwQ0VULjnM57w                 0.0              0.0   \n",
       "\n",
       "restaurant_name         Yeung II Sushi Asian Cuisine  \\\n",
       "user_id                                                \n",
       "---xAZNw9fFPBoy7jmkA2A                           0.0   \n",
       "--68ZwhCrUJUmCXXkMTMKw                           0.0   \n",
       "--8M2DZ9JkDwTveuRhLPTQ                           0.0   \n",
       "--ARr3m5JsxaX3DTUVQW7w                           0.0   \n",
       "--CZJeSIpxwQ0VULjnM57w                           0.0   \n",
       "\n",
       "restaurant_name         Zack’s Oak Bar & Restaurant  Zafra Kitchen  Zap’s  \\\n",
       "user_id                                                                     \n",
       "---xAZNw9fFPBoy7jmkA2A                          0.0            0.0    0.0   \n",
       "--68ZwhCrUJUmCXXkMTMKw                          0.0            0.0    0.0   \n",
       "--8M2DZ9JkDwTveuRhLPTQ                          0.0            0.0    0.0   \n",
       "--ARr3m5JsxaX3DTUVQW7w                          0.0            0.0    0.0   \n",
       "--CZJeSIpxwQ0VULjnM57w                          0.0            0.0    0.0   \n",
       "\n",
       "restaurant_name         bwè kafe  honeygrow   奥田  \n",
       "user_id                                           \n",
       "---xAZNw9fFPBoy7jmkA2A       0.0        0.0  0.0  \n",
       "--68ZwhCrUJUmCXXkMTMKw       0.0        0.0  0.0  \n",
       "--8M2DZ9JkDwTveuRhLPTQ       0.0        0.0  0.0  \n",
       "--ARr3m5JsxaX3DTUVQW7w       0.0        0.0  0.0  \n",
       "--CZJeSIpxwQ0VULjnM57w       0.0        0.0  0.0  \n",
       "\n",
       "[5 rows x 302 columns]"
      ]
     },
     "execution_count": 24,
     "metadata": {},
     "output_type": "execute_result"
    }
   ],
   "source": [
    "train_matrix_like_df = gb_df.pivot(index = 'user_id', columns ='restaurant_name', values = 'user_rating').fillna(0)\n",
    "train_matrix_like_df.head()"
   ]
  },
  {
   "cell_type": "markdown",
   "metadata": {},
   "source": [
    "<center>**Table 13: A Matrix Like dataset with rating(Method 3)**</center>\n",
    "\n",
    "The **Table 14** is similar with the **Table 13**, the only difference is that I convert all of the rating scores into 1, which represent the customers attended to the restaurants. "
   ]
  },
  {
   "cell_type": "code",
   "execution_count": 25,
   "metadata": {
    "scrolled": true
   },
   "outputs": [],
   "source": [
    "def get_dataset_co_occurence(df):\n",
    "    #replace the rating with 1\n",
    "    df = df.replace({5:1, 4:1, 3:1, 2:1})\n",
    "    return df"
   ]
  },
  {
   "cell_type": "code",
   "execution_count": 26,
   "metadata": {
    "scrolled": true
   },
   "outputs": [
    {
     "data": {
      "text/html": [
       "<div>\n",
       "<style scoped>\n",
       "    .dataframe tbody tr th:only-of-type {\n",
       "        vertical-align: middle;\n",
       "    }\n",
       "\n",
       "    .dataframe tbody tr th {\n",
       "        vertical-align: top;\n",
       "    }\n",
       "\n",
       "    .dataframe thead th {\n",
       "        text-align: right;\n",
       "    }\n",
       "</style>\n",
       "<table border=\"1\" class=\"dataframe\">\n",
       "  <thead>\n",
       "    <tr style=\"text-align: right;\">\n",
       "      <th>restaurant_name</th>\n",
       "      <th>10th &amp; Willow Bar &amp; Grill</th>\n",
       "      <th>52 Restaurant</th>\n",
       "      <th>8th Street Tavern</th>\n",
       "      <th>Adoro Lei</th>\n",
       "      <th>Aether Game Cafe</th>\n",
       "      <th>Ahri’s Kitchen</th>\n",
       "      <th>Ainsworth Hoboken</th>\n",
       "      <th>Aldys Restaurant</th>\n",
       "      <th>Ali Baba</th>\n",
       "      <th>Amanda’s Restaurant</th>\n",
       "      <th>...</th>\n",
       "      <th>White Star Bar</th>\n",
       "      <th>Wicked Wolf Tavern</th>\n",
       "      <th>Willie McBrides</th>\n",
       "      <th>Yeung II Sushi Asian Cuisine</th>\n",
       "      <th>Zack’s Oak Bar &amp; Restaurant</th>\n",
       "      <th>Zafra Kitchen</th>\n",
       "      <th>Zap’s</th>\n",
       "      <th>bwè kafe</th>\n",
       "      <th>honeygrow</th>\n",
       "      <th>奥田</th>\n",
       "    </tr>\n",
       "    <tr>\n",
       "      <th>user_id</th>\n",
       "      <th></th>\n",
       "      <th></th>\n",
       "      <th></th>\n",
       "      <th></th>\n",
       "      <th></th>\n",
       "      <th></th>\n",
       "      <th></th>\n",
       "      <th></th>\n",
       "      <th></th>\n",
       "      <th></th>\n",
       "      <th></th>\n",
       "      <th></th>\n",
       "      <th></th>\n",
       "      <th></th>\n",
       "      <th></th>\n",
       "      <th></th>\n",
       "      <th></th>\n",
       "      <th></th>\n",
       "      <th></th>\n",
       "      <th></th>\n",
       "      <th></th>\n",
       "    </tr>\n",
       "  </thead>\n",
       "  <tbody>\n",
       "    <tr>\n",
       "      <th>---xAZNw9fFPBoy7jmkA2A</th>\n",
       "      <td>0.0</td>\n",
       "      <td>0.0</td>\n",
       "      <td>0.0</td>\n",
       "      <td>0.0</td>\n",
       "      <td>0.0</td>\n",
       "      <td>0.0</td>\n",
       "      <td>0.0</td>\n",
       "      <td>0.0</td>\n",
       "      <td>0.0</td>\n",
       "      <td>0.0</td>\n",
       "      <td>...</td>\n",
       "      <td>0.0</td>\n",
       "      <td>0.0</td>\n",
       "      <td>0.0</td>\n",
       "      <td>0.0</td>\n",
       "      <td>0.0</td>\n",
       "      <td>0.0</td>\n",
       "      <td>0.0</td>\n",
       "      <td>0.0</td>\n",
       "      <td>0.0</td>\n",
       "      <td>0.0</td>\n",
       "    </tr>\n",
       "    <tr>\n",
       "      <th>--68ZwhCrUJUmCXXkMTMKw</th>\n",
       "      <td>0.0</td>\n",
       "      <td>0.0</td>\n",
       "      <td>0.0</td>\n",
       "      <td>0.0</td>\n",
       "      <td>0.0</td>\n",
       "      <td>0.0</td>\n",
       "      <td>0.0</td>\n",
       "      <td>0.0</td>\n",
       "      <td>0.0</td>\n",
       "      <td>0.0</td>\n",
       "      <td>...</td>\n",
       "      <td>0.0</td>\n",
       "      <td>0.0</td>\n",
       "      <td>0.0</td>\n",
       "      <td>0.0</td>\n",
       "      <td>0.0</td>\n",
       "      <td>0.0</td>\n",
       "      <td>0.0</td>\n",
       "      <td>0.0</td>\n",
       "      <td>0.0</td>\n",
       "      <td>0.0</td>\n",
       "    </tr>\n",
       "    <tr>\n",
       "      <th>--8M2DZ9JkDwTveuRhLPTQ</th>\n",
       "      <td>0.0</td>\n",
       "      <td>0.0</td>\n",
       "      <td>0.0</td>\n",
       "      <td>0.0</td>\n",
       "      <td>0.0</td>\n",
       "      <td>0.0</td>\n",
       "      <td>0.0</td>\n",
       "      <td>0.0</td>\n",
       "      <td>0.0</td>\n",
       "      <td>0.0</td>\n",
       "      <td>...</td>\n",
       "      <td>0.0</td>\n",
       "      <td>0.0</td>\n",
       "      <td>0.0</td>\n",
       "      <td>0.0</td>\n",
       "      <td>0.0</td>\n",
       "      <td>0.0</td>\n",
       "      <td>0.0</td>\n",
       "      <td>0.0</td>\n",
       "      <td>0.0</td>\n",
       "      <td>0.0</td>\n",
       "    </tr>\n",
       "    <tr>\n",
       "      <th>--ARr3m5JsxaX3DTUVQW7w</th>\n",
       "      <td>0.0</td>\n",
       "      <td>0.0</td>\n",
       "      <td>0.0</td>\n",
       "      <td>0.0</td>\n",
       "      <td>0.0</td>\n",
       "      <td>0.0</td>\n",
       "      <td>0.0</td>\n",
       "      <td>0.0</td>\n",
       "      <td>0.0</td>\n",
       "      <td>0.0</td>\n",
       "      <td>...</td>\n",
       "      <td>0.0</td>\n",
       "      <td>0.0</td>\n",
       "      <td>0.0</td>\n",
       "      <td>0.0</td>\n",
       "      <td>0.0</td>\n",
       "      <td>0.0</td>\n",
       "      <td>0.0</td>\n",
       "      <td>0.0</td>\n",
       "      <td>0.0</td>\n",
       "      <td>0.0</td>\n",
       "    </tr>\n",
       "    <tr>\n",
       "      <th>--CZJeSIpxwQ0VULjnM57w</th>\n",
       "      <td>0.0</td>\n",
       "      <td>0.0</td>\n",
       "      <td>0.0</td>\n",
       "      <td>0.0</td>\n",
       "      <td>0.0</td>\n",
       "      <td>0.0</td>\n",
       "      <td>0.0</td>\n",
       "      <td>0.0</td>\n",
       "      <td>0.0</td>\n",
       "      <td>0.0</td>\n",
       "      <td>...</td>\n",
       "      <td>0.0</td>\n",
       "      <td>0.0</td>\n",
       "      <td>0.0</td>\n",
       "      <td>0.0</td>\n",
       "      <td>0.0</td>\n",
       "      <td>0.0</td>\n",
       "      <td>0.0</td>\n",
       "      <td>0.0</td>\n",
       "      <td>0.0</td>\n",
       "      <td>0.0</td>\n",
       "    </tr>\n",
       "  </tbody>\n",
       "</table>\n",
       "<p>5 rows × 302 columns</p>\n",
       "</div>"
      ],
      "text/plain": [
       "restaurant_name         10th & Willow Bar & Grill  52 Restaurant  \\\n",
       "user_id                                                            \n",
       "---xAZNw9fFPBoy7jmkA2A                        0.0            0.0   \n",
       "--68ZwhCrUJUmCXXkMTMKw                        0.0            0.0   \n",
       "--8M2DZ9JkDwTveuRhLPTQ                        0.0            0.0   \n",
       "--ARr3m5JsxaX3DTUVQW7w                        0.0            0.0   \n",
       "--CZJeSIpxwQ0VULjnM57w                        0.0            0.0   \n",
       "\n",
       "restaurant_name         8th Street Tavern  Adoro Lei  Aether Game Cafe  \\\n",
       "user_id                                                                  \n",
       "---xAZNw9fFPBoy7jmkA2A                0.0        0.0               0.0   \n",
       "--68ZwhCrUJUmCXXkMTMKw                0.0        0.0               0.0   \n",
       "--8M2DZ9JkDwTveuRhLPTQ                0.0        0.0               0.0   \n",
       "--ARr3m5JsxaX3DTUVQW7w                0.0        0.0               0.0   \n",
       "--CZJeSIpxwQ0VULjnM57w                0.0        0.0               0.0   \n",
       "\n",
       "restaurant_name         Ahri’s Kitchen  Ainsworth Hoboken  Aldys Restaurant  \\\n",
       "user_id                                                                       \n",
       "---xAZNw9fFPBoy7jmkA2A             0.0                0.0               0.0   \n",
       "--68ZwhCrUJUmCXXkMTMKw             0.0                0.0               0.0   \n",
       "--8M2DZ9JkDwTveuRhLPTQ             0.0                0.0               0.0   \n",
       "--ARr3m5JsxaX3DTUVQW7w             0.0                0.0               0.0   \n",
       "--CZJeSIpxwQ0VULjnM57w             0.0                0.0               0.0   \n",
       "\n",
       "restaurant_name         Ali Baba  Amanda’s Restaurant ...   White Star Bar  \\\n",
       "user_id                                               ...                    \n",
       "---xAZNw9fFPBoy7jmkA2A       0.0                  0.0 ...              0.0   \n",
       "--68ZwhCrUJUmCXXkMTMKw       0.0                  0.0 ...              0.0   \n",
       "--8M2DZ9JkDwTveuRhLPTQ       0.0                  0.0 ...              0.0   \n",
       "--ARr3m5JsxaX3DTUVQW7w       0.0                  0.0 ...              0.0   \n",
       "--CZJeSIpxwQ0VULjnM57w       0.0                  0.0 ...              0.0   \n",
       "\n",
       "restaurant_name         Wicked Wolf Tavern  Willie McBrides  \\\n",
       "user_id                                                       \n",
       "---xAZNw9fFPBoy7jmkA2A                 0.0              0.0   \n",
       "--68ZwhCrUJUmCXXkMTMKw                 0.0              0.0   \n",
       "--8M2DZ9JkDwTveuRhLPTQ                 0.0              0.0   \n",
       "--ARr3m5JsxaX3DTUVQW7w                 0.0              0.0   \n",
       "--CZJeSIpxwQ0VULjnM57w                 0.0              0.0   \n",
       "\n",
       "restaurant_name         Yeung II Sushi Asian Cuisine  \\\n",
       "user_id                                                \n",
       "---xAZNw9fFPBoy7jmkA2A                           0.0   \n",
       "--68ZwhCrUJUmCXXkMTMKw                           0.0   \n",
       "--8M2DZ9JkDwTveuRhLPTQ                           0.0   \n",
       "--ARr3m5JsxaX3DTUVQW7w                           0.0   \n",
       "--CZJeSIpxwQ0VULjnM57w                           0.0   \n",
       "\n",
       "restaurant_name         Zack’s Oak Bar & Restaurant  Zafra Kitchen  Zap’s  \\\n",
       "user_id                                                                     \n",
       "---xAZNw9fFPBoy7jmkA2A                          0.0            0.0    0.0   \n",
       "--68ZwhCrUJUmCXXkMTMKw                          0.0            0.0    0.0   \n",
       "--8M2DZ9JkDwTveuRhLPTQ                          0.0            0.0    0.0   \n",
       "--ARr3m5JsxaX3DTUVQW7w                          0.0            0.0    0.0   \n",
       "--CZJeSIpxwQ0VULjnM57w                          0.0            0.0    0.0   \n",
       "\n",
       "restaurant_name         bwè kafe  honeygrow   奥田  \n",
       "user_id                                           \n",
       "---xAZNw9fFPBoy7jmkA2A       0.0        0.0  0.0  \n",
       "--68ZwhCrUJUmCXXkMTMKw       0.0        0.0  0.0  \n",
       "--8M2DZ9JkDwTveuRhLPTQ       0.0        0.0  0.0  \n",
       "--ARr3m5JsxaX3DTUVQW7w       0.0        0.0  0.0  \n",
       "--CZJeSIpxwQ0VULjnM57w       0.0        0.0  0.0  \n",
       "\n",
       "[5 rows x 302 columns]"
      ]
     },
     "execution_count": 26,
     "metadata": {},
     "output_type": "execute_result"
    }
   ],
   "source": [
    "Method_1 = get_dataset_co_occurence(train_matrix_like_df)\n",
    "Method_1.head()"
   ]
  },
  {
   "cell_type": "markdown",
   "metadata": {},
   "source": [
    "<center>**Table 14: A matrix Like dataset without rating(Method 1)**</center>\n",
    "\n",
    "After preparing the dataset for following part, I will store these dataset as 'Method_1_dataset.csv', 'Method_2_dataset.csv' and 'Method_3_dataset.csv'."
   ]
  },
  {
   "cell_type": "code",
   "execution_count": 27,
   "metadata": {},
   "outputs": [],
   "source": [
    "Method_1.to_csv('Method_1_dataset.csv',index=True)\n",
    "gb_df.to_csv('Method_2_dataset.csv', index=False)\n",
    "train_matrix_like_df.to_csv('Method_3_dataset.csv',index=True)"
   ]
  },
  {
   "cell_type": "markdown",
   "metadata": {},
   "source": [
    "## Part 3  Recommendation System Methods:\n",
    "#### In this part I will use following methods to build recommendation system model:\n",
    "- co-occurrence matrices\n",
    "- collaborative filtering\n",
    "- matrix decomposition\n",
    "- Neural Network"
   ]
  },
  {
   "cell_type": "markdown",
   "metadata": {},
   "source": [
    "### Part3 - 1 co-occurrence Matrices\n",
    "\n",
    "- Background:\n",
    "This is the simpliest method I use to build the recommendation system. The underlying assumption is that the customers will be interested in the restaurants that the other customers who have similar interest.\n",
    "\n",
    "- Algorithms/equations:  \n",
    "    - Co-occurrence Matrix = A.T * A\n",
    "    - Recommendation = Co-occurrence Matrix * u  \n",
    "    Following chart will show a simple sample to apply co-occurrence matrix for recommendation system.\n",
    "    ![](Image/co_occurrence_matrices.png)\n",
    "    'A' represent the user-item matrix, which summarizes the interactions between users and items. The matrix is just from the raw data, with one row for each user, and one column for each item. 'A.T' is the transpose of this matrix. In 'A.T', rows means item and the column means user. In the first step, we should multiple 'A' and transposed 'A' and will get the co-occurrence Matrix, which is also the recommender to recommend the item to user.  Assume that we have a new user, this new user have bought the item 2. We multiple the co-occurrence matrix and the array represent the new user. Finally, we will obtain the recommendation result which shows we should recommend the Item 3 to this new user. The reason why we ignore the item 2 is that this user have already bought it.\n",
    "    \n",
    "- Tools:\n",
    "    - Specifically, I will use numpy, pandas in python to build the recommendation model."
   ]
  },
  {
   "cell_type": "markdown",
   "metadata": {},
   "source": [
    "#### - Step 1: Data Loading\n",
    "The data I input is the **Table 14**, a matrix like dataset without rating scores."
   ]
  },
  {
   "cell_type": "code",
   "execution_count": 28,
   "metadata": {
    "scrolled": true
   },
   "outputs": [],
   "source": [
    "co_occurrence_dataset =  pd.read_csv('Method_1_dataset.csv')"
   ]
  },
  {
   "cell_type": "markdown",
   "metadata": {},
   "source": [
    "#### - Step 2: build co-occurrence matrix\n",
    "I use numpy to convert the matrix like dataset into numpy matrix and then obtain the transpose of this numpy matrix. Now I have two matrices, one original matrix and one transposed matrix. I multiple these two matrices and then eliminate the value in the diagonal cell of the result matrix to avoid repeadedly take attended restaurants into account. And then, I obtain the co-occurrence matrix like **chart 2**."
   ]
  },
  {
   "cell_type": "code",
   "execution_count": 29,
   "metadata": {
    "scrolled": true
   },
   "outputs": [],
   "source": [
    "def get_co_occurrence_matrices(co_occurrence_dataset):\n",
    "    #convert df to matix\n",
    "    co_matrices =np.matrix(co_occurrence_dataset.iloc[:,1:])\n",
    "    \n",
    "    #A.T\n",
    "    co_matrices_t = co_matrices.getT()\n",
    "    \n",
    "    #co_occurrence matrix\n",
    "    co_occurrence_matrix = co_matrices_t * co_matrices\n",
    "    \n",
    "    #ignore the diagonal cell and avoid to repeadedly calculate the restaurants the user have already attended\n",
    "    np.fill_diagonal(co_occurrence_matrix, 0)\n",
    "    return co_occurrence_matrix"
   ]
  },
  {
   "cell_type": "code",
   "execution_count": 30,
   "metadata": {
    "scrolled": true
   },
   "outputs": [
    {
     "data": {
      "text/plain": [
       "matrix([[ 0.,  0.,  9., ..., 11.,  3.,  0.],\n",
       "        [ 0.,  0.,  0., ...,  0.,  0.,  0.],\n",
       "        [ 9.,  0.,  0., ...,  6.,  0.,  0.],\n",
       "        ...,\n",
       "        [11.,  0.,  6., ...,  0., 13.,  0.],\n",
       "        [ 3.,  0.,  0., ..., 13.,  0.,  0.],\n",
       "        [ 0.,  0.,  0., ...,  0.,  0.,  0.]])"
      ]
     },
     "execution_count": 30,
     "metadata": {},
     "output_type": "execute_result"
    }
   ],
   "source": [
    "co_occurrence_matrix = get_co_occurrence_matrices(co_occurrence_dataset)\n",
    "co_occurrence_matrix "
   ]
  },
  {
   "cell_type": "markdown",
   "metadata": {},
   "source": [
    "**Chart 2: co-occurrence matrix**\n",
    "\n",
    "\n",
    "#### - Step 3: Recommend restaurant for each user\n",
    "In order to reach our target, to provide 3 more restaurants to each customer, I build a function could use co-occurrence matrix to provide recommended restaurants for each user. The underlying method is multiple the numpy array represented each user and the co-occurrence matrix we obtained in step 2."
   ]
  },
  {
   "cell_type": "code",
   "execution_count": 31,
   "metadata": {
    "scrolled": true
   },
   "outputs": [],
   "source": [
    "def get_co_occurrence_result(co_occurrence_dataset, user_idx=None, user_id=None, top_n=None):\n",
    "    \n",
    "    \"\"\"\n",
    "    Args:\n",
    "    \n",
    "    co_occurrence_dataset: User and Items dataset\n",
    "    co_occurrence_matrix: \n",
    "    \n",
    "    \"\"\"\n",
    "    \n",
    "    ##input is index\n",
    "    if user_idx is not None:\n",
    "        user = co_occurrence_dataset.iloc[user_idx, 1:]\n",
    "    ##input is id\n",
    "    elif user_id is not None:\n",
    "        user = co_occurrence_dataset[co_occurrence_dataset.user_id == user_id].iloc[0, 1:]\n",
    "\n",
    "    ##convert Series to array\n",
    "    user_vector = np.array(user)\n",
    "\n",
    "    ##get co occurence recommender\n",
    "    co_occurrence_matrix = get_co_occurrence_matrices(co_occurrence_dataset)\n",
    "    recommender = user_vector * co_occurrence_matrix\n",
    "    # matrix to array\n",
    "    recommender = np.array(recommender).reshape(-1, )\n",
    "    # array to list\n",
    "    recommender = recommender.tolist()\n",
    "\n",
    "    ##export the result list for one user\n",
    "    # create result dataframe\n",
    "    user_result = pd.DataFrame(user)\n",
    "    # append recommender list to this result dataframe\n",
    "    user_result['recommender'] = recommender\n",
    "\n",
    "    # check if the user have already attended this restaurant\n",
    "    # only rank the restaurant they did not attend\n",
    "    result_for_user = user_result[user_result.iloc[:, 0] != 1].sort_values(by='recommender', ascending=False)\n",
    "\n",
    "    # create recommendation list with rating with n recommendations for each user\n",
    "    result_for_user_restaurant = list(result_for_user.head(top_n).index.values)\n",
    "    result_for_user_rating = list(result_for_user.recommender.head(top_n))\n",
    "    recommend_restaurant_rating_li = []\n",
    "    for i in range(len(result_for_user_restaurant)):\n",
    "        recommend_rank_restaurant_rating = [str(i+1), result_for_user_restaurant[i], result_for_user_rating[i] ]\n",
    "        recommend_restaurant_rating_li.append(recommend_rank_restaurant_rating)\n",
    "    \n",
    "    return recommend_restaurant_rating_li"
   ]
  },
  {
   "cell_type": "markdown",
   "metadata": {},
   "source": [
    "I designed two options to select the user, user's index in the dataset or user's id. Following list show a sample result to recommend 3 more restaurants for a user with index 2. For this user, Morimoto is the first restaurant we will recommend with highest scores in 118.0 and so on."
   ]
  },
  {
   "cell_type": "code",
   "execution_count": 32,
   "metadata": {
    "scrolled": true
   },
   "outputs": [
    {
     "data": {
      "text/plain": [
       "[['1', 'Morimoto', 118.0],\n",
       " ['2', 'The Spotted Pig', 106.0],\n",
       " ['3', 'EN Japanese Brasserie', 66.0]]"
      ]
     },
     "execution_count": 32,
     "metadata": {},
     "output_type": "execute_result"
    }
   ],
   "source": [
    "given_user = get_co_occurrence_result(co_occurrence_dataset,  user_idx=2, user_id=None, top_n=3)\n",
    "given_user"
   ]
  },
  {
   "cell_type": "markdown",
   "metadata": {},
   "source": [
    "In addition, I build a function with using for loop to recommend the restaurant for each user in the dataset. So the co-occurrence matrix could provide recommend for each customer in the Hoboken_restaurants_reviews_cleaned.csv dataset."
   ]
  },
  {
   "cell_type": "code",
   "execution_count": 33,
   "metadata": {
    "scrolled": true
   },
   "outputs": [],
   "source": [
    "def store_result(co_occurrence_dataset):\n",
    "    # use for loop to get each user's recommendation list in the dataset\n",
    "    co_occurrence_matrix = get_co_occurrence_matrices(co_occurrence_dataset)\n",
    "    recommendation_li = []\n",
    "    for i in range(len(co_occurrence_dataset)):\n",
    "        # top_n = 3 according to the target of the project\n",
    "        recommendation_for_user = get_co_occurrence_result(co_occurrence_dataset, user_id=co_occurrence_dataset.user_id[i], top_n=3)\n",
    "        recommendation_li.append(recommendation_for_user)\n",
    "        print(i)\n",
    "        \n",
    "    print('get list!')\n",
    "    # create output dataset\n",
    "    df = pd.read_csv('Method_1_dataset.csv')\n",
    "    # first column\n",
    "    df = pd.DataFrame(df.user_id)\n",
    "    # second column\n",
    "    df['recommendation'] = recommendation_li\n",
    "    # save\n",
    "    df.to_csv('co_occurence_result.csv', index = False)\n",
    "    return None"
   ]
  },
  {
   "cell_type": "code",
   "execution_count": 34,
   "metadata": {
    "scrolled": true
   },
   "outputs": [],
   "source": [
    "#%%time\n",
    "#store_result(co_occurrence_dataset)"
   ]
  },
  {
   "cell_type": "markdown",
   "metadata": {},
   "source": [
    "#### - Step 4: Check the result\n",
    "**Table 15** shows a sample of the recommendation result dataset for co-occurrence matrix method. Each user will receive recommendation of restaurants specifically."
   ]
  },
  {
   "cell_type": "code",
   "execution_count": 35,
   "metadata": {
    "scrolled": true
   },
   "outputs": [
    {
     "data": {
      "text/html": [
       "<div>\n",
       "<style scoped>\n",
       "    .dataframe tbody tr th:only-of-type {\n",
       "        vertical-align: middle;\n",
       "    }\n",
       "\n",
       "    .dataframe tbody tr th {\n",
       "        vertical-align: top;\n",
       "    }\n",
       "\n",
       "    .dataframe thead th {\n",
       "        text-align: right;\n",
       "    }\n",
       "</style>\n",
       "<table border=\"1\" class=\"dataframe\">\n",
       "  <thead>\n",
       "    <tr style=\"text-align: right;\">\n",
       "      <th></th>\n",
       "      <th>user_id</th>\n",
       "      <th>recommendation</th>\n",
       "    </tr>\n",
       "  </thead>\n",
       "  <tbody>\n",
       "    <tr>\n",
       "      <th>0</th>\n",
       "      <td>---xAZNw9fFPBoy7jmkA2A</td>\n",
       "      <td>[['1', 'Gino’s Pizzeria', 9.0], ['2', 'Noodlef...</td>\n",
       "    </tr>\n",
       "    <tr>\n",
       "      <th>1</th>\n",
       "      <td>--68ZwhCrUJUmCXXkMTMKw</td>\n",
       "      <td>[['1', 'The Cheesecake Factory', 3.0], ['2', '...</td>\n",
       "    </tr>\n",
       "    <tr>\n",
       "      <th>2</th>\n",
       "      <td>--8M2DZ9JkDwTveuRhLPTQ</td>\n",
       "      <td>[['1', 'Morimoto', 118.0], ['2', 'The Spotted ...</td>\n",
       "    </tr>\n",
       "    <tr>\n",
       "      <th>3</th>\n",
       "      <td>--ARr3m5JsxaX3DTUVQW7w</td>\n",
       "      <td>[['1', 'The Spotted Pig', 143.0], ['2', 'EN Ja...</td>\n",
       "    </tr>\n",
       "    <tr>\n",
       "      <th>4</th>\n",
       "      <td>--CZJeSIpxwQ0VULjnM57w</td>\n",
       "      <td>[['1', 'La Isla Restaurant', 48.0], ['2', 'Ama...</td>\n",
       "    </tr>\n",
       "  </tbody>\n",
       "</table>\n",
       "</div>"
      ],
      "text/plain": [
       "                  user_id                                     recommendation\n",
       "0  ---xAZNw9fFPBoy7jmkA2A  [['1', 'Gino’s Pizzeria', 9.0], ['2', 'Noodlef...\n",
       "1  --68ZwhCrUJUmCXXkMTMKw  [['1', 'The Cheesecake Factory', 3.0], ['2', '...\n",
       "2  --8M2DZ9JkDwTveuRhLPTQ  [['1', 'Morimoto', 118.0], ['2', 'The Spotted ...\n",
       "3  --ARr3m5JsxaX3DTUVQW7w  [['1', 'The Spotted Pig', 143.0], ['2', 'EN Ja...\n",
       "4  --CZJeSIpxwQ0VULjnM57w  [['1', 'La Isla Restaurant', 48.0], ['2', 'Ama..."
      ]
     },
     "execution_count": 35,
     "metadata": {},
     "output_type": "execute_result"
    }
   ],
   "source": [
    "co_occurence_result = pd.read_csv('Method_1_Co-Occurrence/co_occurrence_result.csv')\n",
    "co_occurence_result.head()"
   ]
  },
  {
   "cell_type": "markdown",
   "metadata": {},
   "source": [
    "<center>**Table 15: co-occurrence matrix result**</center>\n",
    "\n",
    "These are two samples of recommendation result for the user with id '---xAZNw9fFPBoy7jmkA2A' and '--ARr3m5JsxaX3DTUVQW7w'. The model recommended three more restaurants for each user which stored in the recommendation column. Each cell is a list include three results. The first item (1, 2, 3) in the list means the ranking, the second item represent the name of restaurant, and the third item(9.0, 8.0, 6.0) means the weights/scores for each restaurant.\n",
    "\n",
    "The weights/scores for different users are in different range according to the shape and values of co-occurrence matrix. For example, for the user with id '---xAZNw9fFPBoy7jmkA2A', the weights are 9.0, 8.0 and 6.0, while the weights are 143.0, 127.0 and 118.0 for the user with id '--ARr3m5JsxaX3DTUVQW7w'. "
   ]
  },
  {
   "cell_type": "code",
   "execution_count": 36,
   "metadata": {
    "scrolled": true
   },
   "outputs": [
    {
     "name": "stdout",
     "output_type": "stream",
     "text": [
      "[['1', 'Gino’s Pizzeria', 9.0], ['2', 'Noodlefan', 8.0], ['3', 'Fox and Crow', 6.0]]\n"
     ]
    }
   ],
   "source": [
    "print(co_occurence_result.loc[0,'recommendation'])"
   ]
  },
  {
   "cell_type": "code",
   "execution_count": 37,
   "metadata": {
    "scrolled": true
   },
   "outputs": [
    {
     "name": "stdout",
     "output_type": "stream",
     "text": [
      "[['1', 'The Spotted Pig', 143.0], ['2', 'EN Japanese Brasserie', 127.0], ['3', 'Del Posto', 118.0]]\n"
     ]
    }
   ],
   "source": [
    "print(co_occurence_result.loc[3,'recommendation'])"
   ]
  },
  {
   "cell_type": "markdown",
   "metadata": {},
   "source": [
    "### co-occurrence matrix summary:\n",
    "In general, the co-occurrence matrix is easier to build than the other methods and it could build with dataset in any size, so it could be used for sparse dataset. However, the limitations for co-occurrence matrix is obvious. For example, It can only be built based on the user's past behaviors and it will ignore the user's rating for restaurants."
   ]
  },
  {
   "cell_type": "markdown",
   "metadata": {},
   "source": [
    "### Part 3 - 2 Collaborative Filtering\n",
    "- My second recommendation system is collaborative filtering recommednation system. This method is tring to find similar users or items, evaluate the scores of those users/items, and recommend given user the items they will probably rate high. There are two different approaches in Collaborative Filtering: user-based collaborative filtering and item-based collaborative filtering. Basically, all of those two methods contains two steps:\n",
    "    - First Step: Find out how many users/items in the database are similar to the given user/item.  \n",
    "    - Second Step: Assess other users/items to predict what grade you would give the user of this product, given the total weight of the users/items that are more similar to this one.\n",
    "I will include the user-based collaborative filtering in this project.     \n",
    "\n",
    "- Algorithms/Equations:\n",
    "    - Similarity Calculation: \n",
    "    The first step for collaborative filtering is calculate the similarity between the given user and the users in the dataset. There are multiple different methods to calculate the similarity and I will compare three popular methods, cosine similarity, jaccard similarity and pearson similarity.\n",
    "    <script type=\"text/javascript\" src=\"http://cdn.mathjax.org/mathjax/latest/MathJax.js?config=default\"></script>\n",
    "        1. cosine similarity:\n",
    "        $${\\text{Cosine similarity}}=\\cos(\\theta )={\\mathbf {A} \\cdot \\mathbf {B}  \\over \\|\\mathbf {A} \\|\\|\\mathbf {B} \\|}={\\frac {\\sum \\limits _{i=1}^{n}{A_{i}B_{i}}}{{\\sqrt {\\sum \\limits _{i=1}^{n}{A_{i}^{2}}}}{\\sqrt {\\sum \\limits _{i=1}^{n}{B_{i}^{2}}}}}}$$\n",
    "\n",
    "        2. Jaccard Similarity: \n",
    "        $${\\text{Jaccard similarity}} = J(\\mathbf{x}, \\mathbf{y}) = \\frac{\\sum_i \\min(x_i, y_i)}{\\sum_i \\max(x_i, y_i)}$$\n",
    "   \n",
    "        3. Pearson Similarity:\n",
    "        $${\\text{Pearson similarity}}={\\frac {\\sum _{i=1}^{n}(x_{i}-{\\bar {x}})(y_{i}-{\\bar {y}})}{{\\sqrt {\\sum _{i=1}^{n}(x_{i}-{\\bar {x}})^{2}}}{\\sqrt {\\sum _{i=1}^{n}(y_{i}-{\\bar {y}})^{2}}}}}$$\n",
    "   \n",
    "    - Recommend_items: \n",
    "    I will use weighted arithmetic mean according to the degree of similarity to fill empty cells in the recommendation-result table. The equation will be showed as follows:  \n",
    "    \n",
    "    $${\\bar {x}}={\\frac {w_{1}x_{1}+w_{2}x_{2}+\\cdots +w_{n}x_{n}}{w_{1}+w_{2}+\\cdots +w_{n}}}.$$\n",
    "    \n",
    "      \n",
    "- Tools:  \n",
    "I will use graphlab libaray in Python to build the recommendation system."
   ]
  },
  {
   "cell_type": "markdown",
   "metadata": {},
   "source": [
    "#### - Step 1: Data Loading\n",
    "The data I input is the **Table 12**, a groub-by dataset for collaborative filtering."
   ]
  },
  {
   "cell_type": "code",
   "execution_count": 2,
   "metadata": {
    "scrolled": true
   },
   "outputs": [],
   "source": [
    "df = pd.read_csv('Method_2_Collaborative_Filtering/Method_2_dataset.csv')"
   ]
  },
  {
   "cell_type": "markdown",
   "metadata": {},
   "source": [
    "Since I use the graphlab library to build the collaborative filtering recommendation, I convert the pandas dataframe into graphlab dataframe, which is similar with the pandas dataframe but is suitable for function in graphlab library. In order to evaluate the performance of different methods to calculate similarity, I split the dataset into training set and test set with a ratio in 80/20."
   ]
  },
  {
   "cell_type": "code",
   "execution_count": 3,
   "metadata": {},
   "outputs": [
    {
     "name": "stderr",
     "output_type": "stream",
     "text": [
      "[INFO] graphlab.cython.cy_server: GraphLab Create v2.1 started. Logging: C:\\Users\\manim\\AppData\\Local\\Temp\\graphlab_server_1525842408.log.0\n"
     ]
    },
    {
     "name": "stdout",
     "output_type": "stream",
     "text": [
      "This non-commercial license of GraphLab Create for academic use is assigned to nman@stevens.edu and will expire on April 25, 2019.\n"
     ]
    }
   ],
   "source": [
    "train_data, test_data = train_test_split(df, test_size=0.2)\n",
    "train_data_gl = graphlab.SFrame(train_data)\n",
    "test_data_gl = graphlab.SFrame(test_data)"
   ]
  },
  {
   "cell_type": "markdown",
   "metadata": {},
   "source": [
    "#### - Step 2: calculate similarity \n",
    "In this part I will test three different methods to calculate similarity and compare the precision and recall for each method.\n",
    "The three methods will be showed as follows:\n",
    "    1. cosine similarity; \n",
    "    2. Jaccard Similarity; \n",
    "    3. Pearson Similarity.\n",
    "The definition of precision and recall will be showed as follows:\n",
    "- Recall: It represent the ratio of items that a user likes were actually recommended.\n",
    "- Precision: It means the user actually liked how many items out of all the recommended items."
   ]
  },
  {
   "cell_type": "markdown",
   "metadata": {},
   "source": [
    "#### - Cosine similarity\n",
    "Similarity is the cosine of the angle between the 2 vectors of the item vectors of A and B. $${\\text{Cosine similarity}}=\\cos(\\theta )={\\mathbf {A} \\cdot \\mathbf {B}  \\over \\|\\mathbf {A} \\|\\|\\mathbf {B} \\|}={\\frac {\\sum \\limits _{i=1}^{n}{A_{i}B_{i}}}{{\\sqrt {\\sum \\limits _{i=1}^{n}{A_{i}^{2}}}}{\\sqrt {\\sum \\limits _{i=1}^{n}{B_{i}^{2}}}}}}$$\n",
    "![](Image/cosine.png)\n",
    "<center>**Table 16: Cosine precision and recall**</center>"
   ]
  },
  {
   "cell_type": "code",
   "execution_count": 4,
   "metadata": {
    "collapsed": true
   },
   "outputs": [
    {
     "data": {
      "text/html": [
       "<pre>Recsys training: model = item_similarity</pre>"
      ],
      "text/plain": [
       "Recsys training: model = item_similarity"
      ]
     },
     "metadata": {},
     "output_type": "display_data"
    }
   ],
   "source": [
    "Cosine_model = graphlab.item_similarity_recommender.create(train_data_gl, user_id='user_id', \n",
    "                                                           item_id='restaurant_name', \n",
    "                                                           target='user_rating', \n",
    "                                                           similarity_type='cosine',\n",
    "                                                           verbose=False)"
   ]
  },
  {
   "cell_type": "markdown",
   "metadata": {},
   "source": [
    "In **Table 16**, along with the increase of training epoches, the scores of precision and recall are enhance accordingly. In the cutoff 10, the precision is 0.0170 and recall is 0.1286.\n",
    "\n",
    "#### - Jaccard Similarity\n",
    "Jaccard similarity is based on the number of users which have rated item A and B divided by the number of users who have rated either A or B.clicked.$${\\text{Jaccard similarity}} = J(\\mathbf{x}, \\mathbf{y}) = \\frac{\\sum_i \\min(x_i, y_i)}{\\sum_i \\max(x_i, y_i)}$$\n",
    "![](Image/jaccard.png)\n",
    "<center>**Table 17: Jaccard precision and recall**</center>"
   ]
  },
  {
   "cell_type": "code",
   "execution_count": 5,
   "metadata": {
    "collapsed": true
   },
   "outputs": [
    {
     "data": {
      "text/html": [
       "<pre>Recsys training: model = item_similarity</pre>"
      ],
      "text/plain": [
       "Recsys training: model = item_similarity"
      ]
     },
     "metadata": {},
     "output_type": "display_data"
    }
   ],
   "source": [
    "Jaccard_model = graphlab.item_similarity_recommender.create(train_data_gl, user_id='user_id', \n",
    "                                                            item_id='restaurant_name', \n",
    "                                                            target='user_rating', \n",
    "                                                            similarity_type='jaccard',\n",
    "                                                            verbose=False)"
   ]
  },
  {
   "cell_type": "markdown",
   "metadata": {},
   "source": [
    "**Table 17** shows that along with the increase of training epoches, the scores of precision and recall are enhance accordingly. In the cutoff 10, the precision is 0.0167 and recall is 0.1274.\n",
    "\n",
    "#### - Pearson Similarity\n",
    "Pearson Similarity is the pearson coefficient between the two vectors. $${\\text{Pearson similarity}}={\\frac {\\sum _{i=1}^{n}(x_{i}-{\\bar {x}})(y_{i}-{\\bar {y}})}{{\\sqrt {\\sum _{i=1}^{n}(x_{i}-{\\bar {x}})^{2}}}{\\sqrt {\\sum _{i=1}^{n}(y_{i}-{\\bar {y}})^{2}}}}}$$\n",
    "![](Image/pearson.png)\n",
    "<center>**Table 18: Pearson precision and recall**</center>"
   ]
  },
  {
   "cell_type": "code",
   "execution_count": 6,
   "metadata": {
    "collapsed": true
   },
   "outputs": [
    {
     "data": {
      "text/html": [
       "<pre>Recsys training: model = item_similarity</pre>"
      ],
      "text/plain": [
       "Recsys training: model = item_similarity"
      ]
     },
     "metadata": {},
     "output_type": "display_data"
    }
   ],
   "source": [
    "Pearson_model = graphlab.item_similarity_recommender.create(train_data_gl, user_id='user_id', \n",
    "                                                            item_id='restaurant_name', \n",
    "                                                            target='user_rating', \n",
    "                                                            similarity_type='pearson',\n",
    "                                                            verbose=False)"
   ]
  },
  {
   "cell_type": "code",
   "execution_count": 7,
   "metadata": {
    "collapsed": true
   },
   "outputs": [
    {
     "name": "stdout",
     "output_type": "stream",
     "text": [
      "PROGRESS: Evaluate model M0\n"
     ]
    },
    {
     "data": {
      "text/html": [
       "<pre>recommendations finished on 1000/11633 queries. users per second: 104998</pre>"
      ],
      "text/plain": [
       "recommendations finished on 1000/11633 queries. users per second: 104998"
      ]
     },
     "metadata": {},
     "output_type": "display_data"
    },
    {
     "data": {
      "text/html": [
       "<pre>recommendations finished on 2000/11633 queries. users per second: 120904</pre>"
      ],
      "text/plain": [
       "recommendations finished on 2000/11633 queries. users per second: 120904"
      ]
     },
     "metadata": {},
     "output_type": "display_data"
    },
    {
     "data": {
      "text/html": [
       "<pre>recommendations finished on 3000/11633 queries. users per second: 127329</pre>"
      ],
      "text/plain": [
       "recommendations finished on 3000/11633 queries. users per second: 127329"
      ]
     },
     "metadata": {},
     "output_type": "display_data"
    },
    {
     "data": {
      "text/html": [
       "<pre>recommendations finished on 4000/11633 queries. users per second: 132983</pre>"
      ],
      "text/plain": [
       "recommendations finished on 4000/11633 queries. users per second: 132983"
      ]
     },
     "metadata": {},
     "output_type": "display_data"
    },
    {
     "data": {
      "text/html": [
       "<pre>recommendations finished on 5000/11633 queries. users per second: 123135</pre>"
      ],
      "text/plain": [
       "recommendations finished on 5000/11633 queries. users per second: 123135"
      ]
     },
     "metadata": {},
     "output_type": "display_data"
    },
    {
     "data": {
      "text/html": [
       "<pre>recommendations finished on 6000/11633 queries. users per second: 111853</pre>"
      ],
      "text/plain": [
       "recommendations finished on 6000/11633 queries. users per second: 111853"
      ]
     },
     "metadata": {},
     "output_type": "display_data"
    },
    {
     "data": {
      "text/html": [
       "<pre>recommendations finished on 7000/11633 queries. users per second: 110817</pre>"
      ],
      "text/plain": [
       "recommendations finished on 7000/11633 queries. users per second: 110817"
      ]
     },
     "metadata": {},
     "output_type": "display_data"
    },
    {
     "data": {
      "text/html": [
       "<pre>recommendations finished on 8000/11633 queries. users per second: 111592</pre>"
      ],
      "text/plain": [
       "recommendations finished on 8000/11633 queries. users per second: 111592"
      ]
     },
     "metadata": {},
     "output_type": "display_data"
    },
    {
     "data": {
      "text/html": [
       "<pre>recommendations finished on 9000/11633 queries. users per second: 112203</pre>"
      ],
      "text/plain": [
       "recommendations finished on 9000/11633 queries. users per second: 112203"
      ]
     },
     "metadata": {},
     "output_type": "display_data"
    },
    {
     "data": {
      "text/html": [
       "<pre>recommendations finished on 10000/11633 queries. users per second: 111437</pre>"
      ],
      "text/plain": [
       "recommendations finished on 10000/11633 queries. users per second: 111437"
      ]
     },
     "metadata": {},
     "output_type": "display_data"
    },
    {
     "data": {
      "text/html": [
       "<pre>recommendations finished on 11000/11633 queries. users per second: 109163</pre>"
      ],
      "text/plain": [
       "recommendations finished on 11000/11633 queries. users per second: 109163"
      ]
     },
     "metadata": {},
     "output_type": "display_data"
    },
    {
     "name": "stdout",
     "output_type": "stream",
     "text": [
      "\n",
      "Precision and recall summary statistics by cutoff\n",
      "+--------+-----------------+-----------------+\n",
      "| cutoff |  mean_precision |   mean_recall   |\n",
      "+--------+-----------------+-----------------+\n",
      "|   1    | 0.0245852316685 | 0.0193018508565 |\n",
      "|   2    | 0.0246282128428 | 0.0386725592924 |\n",
      "|   3    | 0.0233531046735 | 0.0550763191953 |\n",
      "|   4    | 0.0225006447176 | 0.0707991738548 |\n",
      "|   5    | 0.0213358548956 | 0.0837178852283 |\n",
      "|   6    |  0.019771340153 | 0.0924741344234 |\n",
      "|   7    | 0.0188503149906 |  0.102133689995 |\n",
      "|   8    | 0.0181165649446 |  0.112259168688 |\n",
      "|   9    | 0.0173070861629 |  0.119712758634 |\n",
      "|   10   | 0.0167884466604 |  0.129171110248 |\n",
      "+--------+-----------------+-----------------+\n",
      "[10 rows x 3 columns]\n",
      "\n",
      "PROGRESS: Evaluate model M1\n"
     ]
    },
    {
     "data": {
      "text/html": [
       "<pre>recommendations finished on 1000/11633 queries. users per second: 105296</pre>"
      ],
      "text/plain": [
       "recommendations finished on 1000/11633 queries. users per second: 105296"
      ]
     },
     "metadata": {},
     "output_type": "display_data"
    },
    {
     "data": {
      "text/html": [
       "<pre>recommendations finished on 2000/11633 queries. users per second: 117530</pre>"
      ],
      "text/plain": [
       "recommendations finished on 2000/11633 queries. users per second: 117530"
      ]
     },
     "metadata": {},
     "output_type": "display_data"
    },
    {
     "data": {
      "text/html": [
       "<pre>recommendations finished on 3000/11633 queries. users per second: 124818</pre>"
      ],
      "text/plain": [
       "recommendations finished on 3000/11633 queries. users per second: 124818"
      ]
     },
     "metadata": {},
     "output_type": "display_data"
    },
    {
     "data": {
      "text/html": [
       "<pre>recommendations finished on 4000/11633 queries. users per second: 130920</pre>"
      ],
      "text/plain": [
       "recommendations finished on 4000/11633 queries. users per second: 130920"
      ]
     },
     "metadata": {},
     "output_type": "display_data"
    },
    {
     "data": {
      "text/html": [
       "<pre>recommendations finished on 5000/11633 queries. users per second: 124757</pre>"
      ],
      "text/plain": [
       "recommendations finished on 5000/11633 queries. users per second: 124757"
      ]
     },
     "metadata": {},
     "output_type": "display_data"
    },
    {
     "data": {
      "text/html": [
       "<pre>recommendations finished on 6000/11633 queries. users per second: 109854</pre>"
      ],
      "text/plain": [
       "recommendations finished on 6000/11633 queries. users per second: 109854"
      ]
     },
     "metadata": {},
     "output_type": "display_data"
    },
    {
     "data": {
      "text/html": [
       "<pre>recommendations finished on 7000/11633 queries. users per second: 107453</pre>"
      ],
      "text/plain": [
       "recommendations finished on 7000/11633 queries. users per second: 107453"
      ]
     },
     "metadata": {},
     "output_type": "display_data"
    },
    {
     "data": {
      "text/html": [
       "<pre>recommendations finished on 8000/11633 queries. users per second: 107862</pre>"
      ],
      "text/plain": [
       "recommendations finished on 8000/11633 queries. users per second: 107862"
      ]
     },
     "metadata": {},
     "output_type": "display_data"
    },
    {
     "data": {
      "text/html": [
       "<pre>recommendations finished on 9000/11633 queries. users per second: 105018</pre>"
      ],
      "text/plain": [
       "recommendations finished on 9000/11633 queries. users per second: 105018"
      ]
     },
     "metadata": {},
     "output_type": "display_data"
    },
    {
     "data": {
      "text/html": [
       "<pre>recommendations finished on 10000/11633 queries. users per second: 103382</pre>"
      ],
      "text/plain": [
       "recommendations finished on 10000/11633 queries. users per second: 103382"
      ]
     },
     "metadata": {},
     "output_type": "display_data"
    },
    {
     "data": {
      "text/html": [
       "<pre>recommendations finished on 11000/11633 queries. users per second: 99307.6</pre>"
      ],
      "text/plain": [
       "recommendations finished on 11000/11633 queries. users per second: 99307.6"
      ]
     },
     "metadata": {},
     "output_type": "display_data"
    },
    {
     "name": "stdout",
     "output_type": "stream",
     "text": [
      "\n",
      "Precision and recall summary statistics by cutoff\n",
      "+--------+-----------------+-----------------+\n",
      "| cutoff |  mean_precision |   mean_recall   |\n",
      "+--------+-----------------+-----------------+\n",
      "|   1    | 0.0240694575776 | 0.0196037135735 |\n",
      "|   2    | 0.0252729304565 | 0.0399515924935 |\n",
      "|   3    | 0.0238115705321 | 0.0567856758195 |\n",
      "|   4    |  0.022737041176 | 0.0715928556594 |\n",
      "|   5    | 0.0216281268804 | 0.0851908091352 |\n",
      "|   6    | 0.0207599071607 | 0.0981764824493 |\n",
      "|   7    |  0.01945205143  |  0.106327026674 |\n",
      "|   8    | 0.0185356313934 |  0.115766787224 |\n",
      "|   9    | 0.0177560006495 |  0.124215592925 |\n",
      "|   10   | 0.0172526433422 |  0.134075550547 |\n",
      "+--------+-----------------+-----------------+\n",
      "[10 rows x 3 columns]\n",
      "\n",
      "PROGRESS: Evaluate model M2\n"
     ]
    },
    {
     "data": {
      "text/html": [
       "<pre>recommendations finished on 1000/11633 queries. users per second: 95002.9</pre>"
      ],
      "text/plain": [
       "recommendations finished on 1000/11633 queries. users per second: 95002.9"
      ]
     },
     "metadata": {},
     "output_type": "display_data"
    },
    {
     "data": {
      "text/html": [
       "<pre>recommendations finished on 2000/11633 queries. users per second: 104992</pre>"
      ],
      "text/plain": [
       "recommendations finished on 2000/11633 queries. users per second: 104992"
      ]
     },
     "metadata": {},
     "output_type": "display_data"
    },
    {
     "data": {
      "text/html": [
       "<pre>recommendations finished on 3000/11633 queries. users per second: 104987</pre>"
      ],
      "text/plain": [
       "recommendations finished on 3000/11633 queries. users per second: 104987"
      ]
     },
     "metadata": {},
     "output_type": "display_data"
    },
    {
     "data": {
      "text/html": [
       "<pre>recommendations finished on 4000/11633 queries. users per second: 104918</pre>"
      ],
      "text/plain": [
       "recommendations finished on 4000/11633 queries. users per second: 104918"
      ]
     },
     "metadata": {},
     "output_type": "display_data"
    },
    {
     "data": {
      "text/html": [
       "<pre>recommendations finished on 5000/11633 queries. users per second: 102821</pre>"
      ],
      "text/plain": [
       "recommendations finished on 5000/11633 queries. users per second: 102821"
      ]
     },
     "metadata": {},
     "output_type": "display_data"
    },
    {
     "data": {
      "text/html": [
       "<pre>recommendations finished on 6000/11633 queries. users per second: 98910.3</pre>"
      ],
      "text/plain": [
       "recommendations finished on 6000/11633 queries. users per second: 98910.3"
      ]
     },
     "metadata": {},
     "output_type": "display_data"
    },
    {
     "data": {
      "text/html": [
       "<pre>recommendations finished on 7000/11633 queries. users per second: 88936.3</pre>"
      ],
      "text/plain": [
       "recommendations finished on 7000/11633 queries. users per second: 88936.3"
      ]
     },
     "metadata": {},
     "output_type": "display_data"
    },
    {
     "data": {
      "text/html": [
       "<pre>recommendations finished on 8000/11633 queries. users per second: 88653.5</pre>"
      ],
      "text/plain": [
       "recommendations finished on 8000/11633 queries. users per second: 88653.5"
      ]
     },
     "metadata": {},
     "output_type": "display_data"
    },
    {
     "data": {
      "text/html": [
       "<pre>recommendations finished on 9000/11633 queries. users per second: 89762.1</pre>"
      ],
      "text/plain": [
       "recommendations finished on 9000/11633 queries. users per second: 89762.1"
      ]
     },
     "metadata": {},
     "output_type": "display_data"
    },
    {
     "data": {
      "text/html": [
       "<pre>recommendations finished on 10000/11633 queries. users per second: 89049.6</pre>"
      ],
      "text/plain": [
       "recommendations finished on 10000/11633 queries. users per second: 89049.6"
      ]
     },
     "metadata": {},
     "output_type": "display_data"
    },
    {
     "data": {
      "text/html": [
       "<pre>recommendations finished on 11000/11633 queries. users per second: 87070.8</pre>"
      ],
      "text/plain": [
       "recommendations finished on 11000/11633 queries. users per second: 87070.8"
      ]
     },
     "metadata": {},
     "output_type": "display_data"
    },
    {
     "name": "stdout",
     "output_type": "stream",
     "text": [
      "\n",
      "Precision and recall summary statistics by cutoff\n",
      "+--------+-------------------+-------------------+\n",
      "| cutoff |   mean_precision  |    mean_recall    |\n",
      "+--------+-------------------+-------------------+\n",
      "|   1    |        0.0        |        0.0        |\n",
      "|   2    |        0.0        |        0.0        |\n",
      "|   3    | 2.86541161638e-05 | 6.61248834549e-06 |\n",
      "|   4    | 2.14905871228e-05 | 6.61248834549e-06 |\n",
      "|   5    | 3.43849393965e-05 | 1.73577819069e-05 |\n",
      "|   6    | 2.86541161638e-05 | 1.73577819069e-05 |\n",
      "|   7    | 3.68410064963e-05 | 0.000103320130398 |\n",
      "|   8    | 5.37264678071e-05 | 0.000174955420808 |\n",
      "|   9    | 6.68596043822e-05 | 0.000303898943545 |\n",
      "|   10   | 7.73661136422e-05 | 0.000475823640528 |\n",
      "+--------+-------------------+-------------------+\n",
      "[10 rows x 3 columns]\n",
      "\n",
      "Model compare metric: precision_recall\n"
     ]
    }
   ],
   "source": [
    "model_performance = graphlab.compare(test_data_gl, [Cosine_model, Jaccard_model, Pearson_model])"
   ]
  },
  {
   "cell_type": "markdown",
   "metadata": {},
   "source": [
    "In **table 18**, along with the increase of training epoches, the scores of precision and recall are enhance accordingly. In the cutoff 10, the precision is 0.0001 and recall is 0.0011.\n",
    "\n",
    "So, with comparison of these three methods to calculate similarity, the cosine similarity perform better than the others, while the Jaccard similarity only slightly lower than cosine similarity. So either cosine similarity or jaccard similarity would be good for the collaborative filtering.\n",
    "\n",
    "Now I will use cosine similarity and jaccard similarity to recommend restaurants for each customer in the dataset."
   ]
  },
  {
   "cell_type": "markdown",
   "metadata": {},
   "source": [
    "#### - Step 4: Recommend top 3 rating restaurants to each customer\n",
    "Cosine Similarity Result looks like **Table 19**. Jaccard Similarity result looks like **Table 20**. **Table 21** is the Pearson similarity result. Each customer receive three recommended restaurants ranking by the score."
   ]
  },
  {
   "cell_type": "code",
   "execution_count": 8,
   "metadata": {},
   "outputs": [],
   "source": [
    "train_data, test_data = train_test_split(df, test_size=0)\n",
    "train_data_gl = graphlab.SFrame(train_data)\n",
    "test_data_gl = graphlab.SFrame(test_data)"
   ]
  },
  {
   "cell_type": "code",
   "execution_count": 9,
   "metadata": {
    "scrolled": false
   },
   "outputs": [
    {
     "name": "stdout",
     "output_type": "stream",
     "text": [
      "+------------------------+-------------------------------+-----------------+------+\n",
      "|        user_id         |        restaurant_name        |      score      | rank |\n",
      "+------------------------+-------------------------------+-----------------+------+\n",
      "| fsq7a4Mog2pJ00er6DuHvw |         Los Tacos No.1        |  0.160737276077 |  1   |\n",
      "| fsq7a4Mog2pJ00er6DuHvw |             Decoy             | 0.0817471146584 |  2   |\n",
      "| fsq7a4Mog2pJ00er6DuHvw | Artichoke Basille’s Pizza ... | 0.0772345662117 |  3   |\n",
      "| J_nwnpiV4ZqohauRp7XgEQ |         Los Tacos No.1        |  0.267895460129 |  1   |\n",
      "| J_nwnpiV4ZqohauRp7XgEQ |             Decoy             |  0.136245191097 |  2   |\n",
      "| J_nwnpiV4ZqohauRp7XgEQ | Artichoke Basille’s Pizza ... |  0.12872427702  |  3   |\n",
      "+------------------------+-------------------------------+-----------------+------+\n",
      "[113163 rows x 4 columns]\n",
      "\n"
     ]
    }
   ],
   "source": [
    "Cosine_recommendation = Cosine_model.recommend(k=3,verbose=False)\n",
    "Cosine_recommendation.print_rows(num_rows=6)"
   ]
  },
  {
   "cell_type": "markdown",
   "metadata": {},
   "source": [
    "**Table 19: Cosine Result**"
   ]
  },
  {
   "cell_type": "code",
   "execution_count": 10,
   "metadata": {
    "scrolled": true
   },
   "outputs": [],
   "source": [
    "Cosine_recommendation.save('Cosine_recommendation_result.csv')"
   ]
  },
  {
   "cell_type": "code",
   "execution_count": 11,
   "metadata": {
    "scrolled": false
   },
   "outputs": [
    {
     "name": "stdout",
     "output_type": "stream",
     "text": [
      "+------------------------+-------------------------------+-----------------+------+\n",
      "|        user_id         |        restaurant_name        |      score      | rank |\n",
      "+------------------------+-------------------------------+-----------------+------+\n",
      "| fsq7a4Mog2pJ00er6DuHvw |         Los Tacos No.1        | 0.0233147740364 |  1   |\n",
      "| fsq7a4Mog2pJ00er6DuHvw |             Decoy             | 0.0152284502983 |  2   |\n",
      "| fsq7a4Mog2pJ00er6DuHvw | Artichoke Basille’s Pizza ... | 0.0133729577065 |  3   |\n",
      "| J_nwnpiV4ZqohauRp7XgEQ |         Los Tacos No.1        | 0.0233147740364 |  1   |\n",
      "| J_nwnpiV4ZqohauRp7XgEQ |             Decoy             | 0.0152284502983 |  2   |\n",
      "| J_nwnpiV4ZqohauRp7XgEQ | Artichoke Basille’s Pizza ... | 0.0133729577065 |  3   |\n",
      "+------------------------+-------------------------------+-----------------+------+\n",
      "[113163 rows x 4 columns]\n",
      "\n"
     ]
    }
   ],
   "source": [
    "Jaccard_recommendation = Jaccard_model.recommend(k=3,verbose=False)\n",
    "Jaccard_recommendation.print_rows(num_rows=6)"
   ]
  },
  {
   "cell_type": "markdown",
   "metadata": {},
   "source": [
    "**Table 20：Jaccard Result**"
   ]
  },
  {
   "cell_type": "code",
   "execution_count": 12,
   "metadata": {
    "scrolled": true
   },
   "outputs": [],
   "source": [
    "Jaccard_recommendation.save('Jaccard_recommendation_result.csv')"
   ]
  },
  {
   "cell_type": "code",
   "execution_count": 13,
   "metadata": {
    "scrolled": false
   },
   "outputs": [
    {
     "name": "stdout",
     "output_type": "stream",
     "text": [
      "+------------------------+------------------------------+-------+------+\n",
      "|        user_id         |       restaurant_name        | score | rank |\n",
      "+------------------------+------------------------------+-------+------+\n",
      "| fsq7a4Mog2pJ00er6DuHvw |       Gold Roast Cafe        |  5.0  |  1   |\n",
      "| fsq7a4Mog2pJ00er6DuHvw |        52 Restaurant         |  5.0  |  2   |\n",
      "| fsq7a4Mog2pJ00er6DuHvw | Luna’s Pizzeria & Restaurant |  5.0  |  3   |\n",
      "| J_nwnpiV4ZqohauRp7XgEQ |       Gold Roast Cafe        |  5.0  |  1   |\n",
      "| J_nwnpiV4ZqohauRp7XgEQ |        52 Restaurant         |  5.0  |  2   |\n",
      "| J_nwnpiV4ZqohauRp7XgEQ | Luna’s Pizzeria & Restaurant |  5.0  |  3   |\n",
      "+------------------------+------------------------------+-------+------+\n",
      "[113163 rows x 4 columns]\n",
      "\n"
     ]
    }
   ],
   "source": [
    "Pearson_recommendation = Pearson_model.recommend(k=3,verbose=False)\n",
    "Pearson_recommendation.print_rows(num_rows=6)"
   ]
  },
  {
   "cell_type": "markdown",
   "metadata": {},
   "source": [
    "**Table 21: Pearson Result**"
   ]
  },
  {
   "cell_type": "code",
   "execution_count": 14,
   "metadata": {
    "scrolled": true
   },
   "outputs": [],
   "source": [
    "Pearson_recommendation.save('Pearson_recommendation_result.csv')"
   ]
  },
  {
   "cell_type": "markdown",
   "metadata": {},
   "source": [
    "I am curious about why the Pearson similarity result seems similar for different users."
   ]
  },
  {
   "cell_type": "code",
   "execution_count": 15,
   "metadata": {
    "scrolled": false
   },
   "outputs": [
    {
     "data": {
      "text/plain": [
       "restaurant_name\n",
       "Manà Restaurant                    5.000000\n",
       "Wah Yoan                           5.000000\n",
       "Taquitos Mexicanos                 5.000000\n",
       "Bocata’s Deli                      5.000000\n",
       "Azteca Taqueria Restaurant         5.000000\n",
       "Ujala Kabab                        5.000000\n",
       "Manhattan Bar Grill & Lounge       5.000000\n",
       "MONDO - DOGS                       5.000000\n",
       "Ventura Restaurant                 5.000000\n",
       "Terranova Deli                     5.000000\n",
       "El Salvador Restaurant             5.000000\n",
       "52 Restaurant                      5.000000\n",
       "Gold Roast Cafe                    5.000000\n",
       "Griot Cafe                         5.000000\n",
       "Taste of Greece                    4.857143\n",
       "Andrea Salumeria                   4.840000\n",
       "Toscana                            4.789474\n",
       "Royal Grill Halal Food             4.785714\n",
       "Salerno Salumeria                  4.700000\n",
       "Losurdo’s Italian Bakery & Deli    4.700000\n",
       "Name: user_rating, dtype: float64"
      ]
     },
     "execution_count": 15,
     "metadata": {},
     "output_type": "execute_result"
    }
   ],
   "source": [
    "train_data.groupby(by='restaurant_name')['user_rating'].mean().sort_values(ascending=False).head(20)"
   ]
  },
  {
   "cell_type": "code",
   "execution_count": 16,
   "metadata": {
    "scrolled": true
   },
   "outputs": [],
   "source": [
    "Cosine_recommendation_result = pd.read_csv('Cosine_recommendation_result.csv')\n",
    "Jaccard_recommendation_result = pd.read_csv('Jaccard_recommendation_result.csv')\n",
    "Pearson_recommendation_result = pd.read_csv('Pearson_recommendation_result.csv')"
   ]
  },
  {
   "cell_type": "markdown",
   "metadata": {},
   "source": [
    "We could find that all the results are almost same when using pearson model. Since all the recommended restaurant have an average rating of 5. So the pearson recommender is not accurate enough. \n",
    "\n",
    "\n",
    "#### Collaborative Filtering Summary:\n",
    "\n",
    "The collaborative filtering method seems better than the co-occurrence matrix, since it take the user's rating into account, which means it would be more relative to customers' real demand and it is still easy to understand. In addition, the collaborative filtering system will perform better and better with more and more users in the dataset. However,  it also only focus on the privious user's behaviors like the co-occurrence matrix method, so it doesn't have the ability to update accordingly. Moreover, it will be limited by data sparsity. If we could not collect enough data and the data sparsity is too low, the collaborative filtering will not perform well.\n",
    "\n",
    "\n"
   ]
  },
  {
   "cell_type": "markdown",
   "metadata": {},
   "source": [
    "### Part 3 - 3 Matrix Factorization\n",
    "- Background: The Matrix Factorization is the third method I used to build recommendation system. The assumption of matrix factorization is that each user have tendency to like different features of item. For example, in Hoboken restaurant dataset, the features might be theme and style of the restaurant, environment, service quality, food quality of restaurants and so on. Different user have different expectation and preferences for different features. In addition, each item, restaurant in this case, have features in different degree. We assume that the user will rate higher to a new restaurant with more features this user like and will rate lower to a new restaurant with less features this user like. \n",
    "\n",
    "- Algorithms/equation:\n",
    "    - Basic Algorithm:\n",
    "     $$\\begin{equation}\\hat{r}_{ui}=\\sum_{k=1}^{K}{U_{uk}V_{ki}}\\label{lfm}\\end{equation}$$\n",
    "            - R_ui: user u's rating for item i\n",
    "            - U_uk:item i's similarity with a feature k\n",
    "            - V_ki:user u's preference for a feature k \n",
    "    - Algorithm with bias:\n",
    "    $$\\begin{equation}\\hat{r}_{ui}=\\sum_{k=1}^{K}{U_{uk}V_{ki}}+\\mu+b_u+b_i\\label{bias_lfm}\\end{equation}$$\n",
    "    - This algorithm could also include more parameters like customer's feedback, taste changes according to time and so on.\n",
    "\n",
    "- Tools: \n",
    "    - I will use sklearn and numpy in python to build the matrix factorization recommendation system.\n",
    "    - The input data looks like the example as follows:  \n",
    "     ![](Image/collaborative_filtering_1.png)\n",
    "     \n",
    "    - And then I will seperate this user and item matrix into two marix look like follows:\n",
    "     ![](Image/collaborative_filtering_2.png)\n",
    "    - K means features in this case so each row in the users and features matrix will represent the customer's preference for different features and each column in the features and items matrix will represent the degree of a restaurant have such features."
   ]
  },
  {
   "cell_type": "markdown",
   "metadata": {},
   "source": [
    "#### - Step 1: Data Preparation\n",
    "In this step, I will convert the input data, **Table 13: A matrix like table with rating scores** into a numpy matrix. "
   ]
  },
  {
   "cell_type": "code",
   "execution_count": 2,
   "metadata": {
    "scrolled": true
   },
   "outputs": [],
   "source": [
    "def get_matrix(file_name):\n",
    "    df = pd.read_csv(file_name)\n",
    "    #convert df to matrix\n",
    "    matrix =np.matrix(df.iloc[:,1:])\n",
    "    return matrix"
   ]
  },
  {
   "cell_type": "code",
   "execution_count": 3,
   "metadata": {
    "collapsed": true
   },
   "outputs": [
    {
     "data": {
      "text/plain": [
       "matrix([[0., 0., 0., ..., 0., 0., 0.],\n",
       "        [0., 0., 0., ..., 0., 0., 0.],\n",
       "        [0., 0., 0., ..., 0., 0., 0.],\n",
       "        ...,\n",
       "        [0., 0., 0., ..., 0., 0., 0.],\n",
       "        [0., 0., 0., ..., 0., 0., 0.],\n",
       "        [0., 0., 0., ..., 0., 0., 0.]])"
      ]
     },
     "execution_count": 3,
     "metadata": {},
     "output_type": "execute_result"
    }
   ],
   "source": [
    "matrices =get_matrix('Method_3_dataset.csv')\n",
    "matrices"
   ]
  },
  {
   "cell_type": "markdown",
   "metadata": {},
   "source": [
    "#### - Step 2: Extract features k  \n",
    "I could use sklearn library to extract features k and seperate the matrix into two matrices, the user and features matrix as well as the features and items matrix. In this part, we reduce the dimension of original matrices and got two new matrices.\n",
    "    - new matrix 1: represent user i's preference of different features k\n",
    "    - new matrix 2: represent the item j's similarity to features k"
   ]
  },
  {
   "cell_type": "code",
   "execution_count": 4,
   "metadata": {
    "scrolled": true
   },
   "outputs": [],
   "source": [
    "def get_features_matrix(matrices, features_no):\n",
    "    #NMF is a function could seperate one user and item matrix to two matrix, user and feature matrix as well as item and feature matrix.\n",
    "    k_model = NMF(n_components=features_no, init='random', random_state=0)\n",
    "    W = k_model.fit_transform(matrices)\n",
    "    H = k_model.components_\n",
    "    return W, H"
   ]
  },
  {
   "cell_type": "markdown",
   "metadata": {},
   "source": [
    "After building the function, I randomly use features_no= 10 at the first try to create two new matrices. The shape of first matrix is (44949, 10) and second matrix is (10, 302)."
   ]
  },
  {
   "cell_type": "code",
   "execution_count": 38,
   "metadata": {
    "scrolled": true
   },
   "outputs": [],
   "source": [
    "W, H = get_features_matrix(matrices, 10)\n",
    "print('Shape of matrix 1:', W.shape)\n",
    "print('Shape of matrix 2:', H.shape)"
   ]
  },
  {
   "cell_type": "markdown",
   "metadata": {},
   "source": [
    "#### - Step 3: Recommender\n",
    "In this part, I will get the recommender matrix by dot product of these two matrices with using numpy.dot()function. The recommender matrix will look like **table 22**."
   ]
  },
  {
   "cell_type": "code",
   "execution_count": 8,
   "metadata": {
    "scrolled": true
   },
   "outputs": [],
   "source": [
    "def get_recommender_df( W, H):\n",
    "    df = pd.read_csv('Method_3_dataset.csv')\n",
    "    #dot multiple user and feature matrix and item and feature matrix\n",
    "    predict_matrix = np.matrix(np.dot(W,H))\n",
    "    result_df = pd.DataFrame(predict_matrix)\n",
    "    result_df.columns = df.columns[1:]\n",
    "    result_df.insert(0, 'user_id', df.iloc[:, 0])\n",
    "    return result_df"
   ]
  },
  {
   "cell_type": "code",
   "execution_count": 10,
   "metadata": {
    "scrolled": true
   },
   "outputs": [
    {
     "data": {
      "text/html": [
       "<div>\n",
       "<style scoped>\n",
       "    .dataframe tbody tr th:only-of-type {\n",
       "        vertical-align: middle;\n",
       "    }\n",
       "\n",
       "    .dataframe tbody tr th {\n",
       "        vertical-align: top;\n",
       "    }\n",
       "\n",
       "    .dataframe thead th {\n",
       "        text-align: right;\n",
       "    }\n",
       "</style>\n",
       "<table border=\"1\" class=\"dataframe\">\n",
       "  <thead>\n",
       "    <tr style=\"text-align: right;\">\n",
       "      <th></th>\n",
       "      <th>user_id</th>\n",
       "      <th>10th &amp; Willow Bar &amp; Grill</th>\n",
       "      <th>52 Restaurant</th>\n",
       "      <th>8th Street Tavern</th>\n",
       "      <th>Adoro Lei</th>\n",
       "      <th>Aether Game Cafe</th>\n",
       "      <th>Ahri’s Kitchen</th>\n",
       "      <th>Ainsworth Hoboken</th>\n",
       "      <th>Aldys Restaurant</th>\n",
       "      <th>Ali Baba</th>\n",
       "      <th>...</th>\n",
       "      <th>White Star Bar</th>\n",
       "      <th>Wicked Wolf Tavern</th>\n",
       "      <th>Willie McBrides</th>\n",
       "      <th>Yeung II Sushi Asian Cuisine</th>\n",
       "      <th>Zack’s Oak Bar &amp; Restaurant</th>\n",
       "      <th>Zafra Kitchen</th>\n",
       "      <th>Zap’s</th>\n",
       "      <th>bwè kafe</th>\n",
       "      <th>honeygrow</th>\n",
       "      <th>奥田</th>\n",
       "    </tr>\n",
       "  </thead>\n",
       "  <tbody>\n",
       "    <tr>\n",
       "      <th>0</th>\n",
       "      <td>---xAZNw9fFPBoy7jmkA2A</td>\n",
       "      <td>0.003127</td>\n",
       "      <td>8.309046e-07</td>\n",
       "      <td>0.000713</td>\n",
       "      <td>0.000139</td>\n",
       "      <td>0.000200</td>\n",
       "      <td>0.000706</td>\n",
       "      <td>0.001725</td>\n",
       "      <td>0.000039</td>\n",
       "      <td>0.001400</td>\n",
       "      <td>...</td>\n",
       "      <td>0.002331</td>\n",
       "      <td>0.003011</td>\n",
       "      <td>0.001201</td>\n",
       "      <td>0.002167</td>\n",
       "      <td>0.004118</td>\n",
       "      <td>0.004056</td>\n",
       "      <td>0.000054</td>\n",
       "      <td>0.003183</td>\n",
       "      <td>0.001825</td>\n",
       "      <td>2.226274e-08</td>\n",
       "    </tr>\n",
       "    <tr>\n",
       "      <th>1</th>\n",
       "      <td>--68ZwhCrUJUmCXXkMTMKw</td>\n",
       "      <td>0.000378</td>\n",
       "      <td>9.981413e-08</td>\n",
       "      <td>0.000086</td>\n",
       "      <td>0.000032</td>\n",
       "      <td>0.000024</td>\n",
       "      <td>0.000096</td>\n",
       "      <td>0.000209</td>\n",
       "      <td>0.000005</td>\n",
       "      <td>0.000168</td>\n",
       "      <td>...</td>\n",
       "      <td>0.000285</td>\n",
       "      <td>0.000365</td>\n",
       "      <td>0.000145</td>\n",
       "      <td>0.000260</td>\n",
       "      <td>0.000495</td>\n",
       "      <td>0.000487</td>\n",
       "      <td>0.000007</td>\n",
       "      <td>0.000386</td>\n",
       "      <td>0.000220</td>\n",
       "      <td>0.000000e+00</td>\n",
       "    </tr>\n",
       "    <tr>\n",
       "      <th>2</th>\n",
       "      <td>--8M2DZ9JkDwTveuRhLPTQ</td>\n",
       "      <td>0.000000</td>\n",
       "      <td>0.000000e+00</td>\n",
       "      <td>0.000000</td>\n",
       "      <td>0.005092</td>\n",
       "      <td>0.000000</td>\n",
       "      <td>0.000156</td>\n",
       "      <td>0.000000</td>\n",
       "      <td>0.000000</td>\n",
       "      <td>0.000000</td>\n",
       "      <td>...</td>\n",
       "      <td>0.000000</td>\n",
       "      <td>0.000000</td>\n",
       "      <td>0.000000</td>\n",
       "      <td>0.000000</td>\n",
       "      <td>0.000000</td>\n",
       "      <td>0.013652</td>\n",
       "      <td>0.000000</td>\n",
       "      <td>0.000000</td>\n",
       "      <td>0.000000</td>\n",
       "      <td>0.000000e+00</td>\n",
       "    </tr>\n",
       "    <tr>\n",
       "      <th>3</th>\n",
       "      <td>--ARr3m5JsxaX3DTUVQW7w</td>\n",
       "      <td>0.000000</td>\n",
       "      <td>0.000000e+00</td>\n",
       "      <td>0.000000</td>\n",
       "      <td>0.000000</td>\n",
       "      <td>0.000000</td>\n",
       "      <td>0.001011</td>\n",
       "      <td>0.000159</td>\n",
       "      <td>0.000000</td>\n",
       "      <td>0.000000</td>\n",
       "      <td>...</td>\n",
       "      <td>0.000000</td>\n",
       "      <td>0.000000</td>\n",
       "      <td>0.000000</td>\n",
       "      <td>0.000000</td>\n",
       "      <td>0.000000</td>\n",
       "      <td>0.000000</td>\n",
       "      <td>0.000532</td>\n",
       "      <td>0.000000</td>\n",
       "      <td>0.001081</td>\n",
       "      <td>0.000000e+00</td>\n",
       "    </tr>\n",
       "    <tr>\n",
       "      <th>4</th>\n",
       "      <td>--CZJeSIpxwQ0VULjnM57w</td>\n",
       "      <td>0.007670</td>\n",
       "      <td>2.037205e-06</td>\n",
       "      <td>0.001752</td>\n",
       "      <td>0.000336</td>\n",
       "      <td>0.000491</td>\n",
       "      <td>0.001732</td>\n",
       "      <td>0.004230</td>\n",
       "      <td>0.000096</td>\n",
       "      <td>0.003434</td>\n",
       "      <td>...</td>\n",
       "      <td>0.005721</td>\n",
       "      <td>0.007383</td>\n",
       "      <td>0.002947</td>\n",
       "      <td>0.005315</td>\n",
       "      <td>0.010097</td>\n",
       "      <td>0.009941</td>\n",
       "      <td>0.000132</td>\n",
       "      <td>0.007803</td>\n",
       "      <td>0.004473</td>\n",
       "      <td>7.965329e-07</td>\n",
       "    </tr>\n",
       "  </tbody>\n",
       "</table>\n",
       "<p>5 rows × 303 columns</p>\n",
       "</div>"
      ],
      "text/plain": [
       "                  user_id  10th & Willow Bar & Grill  52 Restaurant  \\\n",
       "0  ---xAZNw9fFPBoy7jmkA2A                   0.003127   8.309046e-07   \n",
       "1  --68ZwhCrUJUmCXXkMTMKw                   0.000378   9.981413e-08   \n",
       "2  --8M2DZ9JkDwTveuRhLPTQ                   0.000000   0.000000e+00   \n",
       "3  --ARr3m5JsxaX3DTUVQW7w                   0.000000   0.000000e+00   \n",
       "4  --CZJeSIpxwQ0VULjnM57w                   0.007670   2.037205e-06   \n",
       "\n",
       "   8th Street Tavern  Adoro Lei  Aether Game Cafe  Ahri’s Kitchen  \\\n",
       "0           0.000713   0.000139          0.000200        0.000706   \n",
       "1           0.000086   0.000032          0.000024        0.000096   \n",
       "2           0.000000   0.005092          0.000000        0.000156   \n",
       "3           0.000000   0.000000          0.000000        0.001011   \n",
       "4           0.001752   0.000336          0.000491        0.001732   \n",
       "\n",
       "   Ainsworth Hoboken  Aldys Restaurant  Ali Baba      ...       \\\n",
       "0           0.001725          0.000039  0.001400      ...        \n",
       "1           0.000209          0.000005  0.000168      ...        \n",
       "2           0.000000          0.000000  0.000000      ...        \n",
       "3           0.000159          0.000000  0.000000      ...        \n",
       "4           0.004230          0.000096  0.003434      ...        \n",
       "\n",
       "   White Star Bar  Wicked Wolf Tavern  Willie McBrides  \\\n",
       "0        0.002331            0.003011         0.001201   \n",
       "1        0.000285            0.000365         0.000145   \n",
       "2        0.000000            0.000000         0.000000   \n",
       "3        0.000000            0.000000         0.000000   \n",
       "4        0.005721            0.007383         0.002947   \n",
       "\n",
       "   Yeung II Sushi Asian Cuisine  Zack’s Oak Bar & Restaurant  Zafra Kitchen  \\\n",
       "0                      0.002167                     0.004118       0.004056   \n",
       "1                      0.000260                     0.000495       0.000487   \n",
       "2                      0.000000                     0.000000       0.013652   \n",
       "3                      0.000000                     0.000000       0.000000   \n",
       "4                      0.005315                     0.010097       0.009941   \n",
       "\n",
       "      Zap’s  bwè kafe  honeygrow            奥田  \n",
       "0  0.000054  0.003183   0.001825  2.226274e-08  \n",
       "1  0.000007  0.000386   0.000220  0.000000e+00  \n",
       "2  0.000000  0.000000   0.000000  0.000000e+00  \n",
       "3  0.000532  0.000000   0.001081  0.000000e+00  \n",
       "4  0.000132  0.007803   0.004473  7.965329e-07  \n",
       "\n",
       "[5 rows x 303 columns]"
      ]
     },
     "execution_count": 10,
     "metadata": {},
     "output_type": "execute_result"
    }
   ],
   "source": [
    "result_df = get_recommender_df( W, H)\n",
    "result_df.head()"
   ]
  },
  {
   "cell_type": "markdown",
   "metadata": {},
   "source": [
    "<center>**Table 22: recommender matrix**</center>\n",
    "\n",
    "#### - Step 4: Export the Result\n",
    "In order to recommend new restaurants to each customer, I will remove the score for the restaurant each customer have already attended. And then each customer will receive three recommended restaurants. A sample result will look like following list:"
   ]
  },
  {
   "cell_type": "code",
   "execution_count": 11,
   "metadata": {
    "scrolled": true
   },
   "outputs": [],
   "source": [
    "def remove_attended_restaurant(result_df):\n",
    "    df = pd.read_csv('Method_3_dataset.csv')\n",
    "    for i in range(len(df)):\n",
    "        attended_res_li = None\n",
    "        # if attend, then the cell equal to 0\n",
    "        attended_res_li = list(df.iloc[i, 1:][df.iloc[i, 1:] != 0].index)\n",
    "        for res in attended_res_li:\n",
    "            result_df.loc[i, res] = 0\n",
    "    print('Remove Attended Restaurant!')\n",
    "    return None"
   ]
  },
  {
   "cell_type": "code",
   "execution_count": 12,
   "metadata": {
    "collapsed": true
   },
   "outputs": [
    {
     "name": "stdout",
     "output_type": "stream",
     "text": [
      "Remove Attended Restaurant!\n"
     ]
    }
   ],
   "source": [
    "remove_attended_restaurant(result_df)"
   ]
  },
  {
   "cell_type": "code",
   "execution_count": 13,
   "metadata": {
    "scrolled": true
   },
   "outputs": [],
   "source": [
    "def recommend_for_user(result_df, top_n, idx=None, user_id = None):\n",
    "    if idx is not None:\n",
    "        recommend_restaurant = list(result_df.iloc[idx,1:].sort_values(ascending=False).head(top_n).index)\n",
    "        recommend_scores = list(result_df.iloc[idx,1:].sort_values(ascending=False).head(top_n))\n",
    "    elif user_id is not None:\n",
    "        recommend_restaurant = list(result_df[result_df.user_id == user_id].iloc[0, 1:].sort_values(ascending=False).head(top_n).index)\n",
    "        recommend_scores = list(result_df[result_df.user_id == user_id].iloc[0,1:].sort_values(ascending=False).head(top_n))\n",
    "    else:\n",
    "        print('Unknown Error!')\n",
    "    \n",
    "    recommend_rank_restaurant_scores_li = []\n",
    "    for i in range(len(recommend_restaurant)):\n",
    "        item = [str(i+1), recommend_restaurant[i], recommend_scores[i]]\n",
    "        recommend_rank_restaurant_scores_li.append(item)\n",
    "        \n",
    "    return recommend_rank_restaurant_scores_li"
   ]
  },
  {
   "cell_type": "code",
   "execution_count": 14,
   "metadata": {
    "scrolled": true
   },
   "outputs": [],
   "source": [
    "re_li = recommend_for_user(result_df, top_n=3, idx=1, user_id = None)"
   ]
  },
  {
   "cell_type": "code",
   "execution_count": 15,
   "metadata": {
    "scrolled": true
   },
   "outputs": [
    {
     "data": {
      "text/plain": [
       "[['1', 'The Cuban Restaurant and Bar', 0.0017525621561418668],\n",
       " ['2', 'La Isla Restaurant', 0.0015292799793646238],\n",
       " ['3', 'Morimoto', 0.0014210628091436324]]"
      ]
     },
     "execution_count": 15,
     "metadata": {},
     "output_type": "execute_result"
    }
   ],
   "source": [
    "re_li"
   ]
  },
  {
   "cell_type": "markdown",
   "metadata": {},
   "source": [
    "I build a function with using for loop to recommend the restaurants for each customer in the dataset and save the result as 'matrix_factorization_result.csv'."
   ]
  },
  {
   "cell_type": "code",
   "execution_count": 16,
   "metadata": {
    "scrolled": true
   },
   "outputs": [],
   "source": [
    "def export_result(result_df):\n",
    "    recommendation_li = []\n",
    "    for i in range(len(result_df)):\n",
    "        recommend_for_each_user = recommend_for_user(result_df, top_n=3, idx=i, user_id=None)\n",
    "        recommendation_li.append(recommend_for_each_user)\n",
    "        print(i)\n",
    "    print('Done!')\n",
    "    export_df = pd.DataFrame(result_df.user_id)\n",
    "    export_df['Recommendation'] = recommendation_li\n",
    "    export_df.to_csv('matrix_factorization_result.csv')\n",
    "    return None"
   ]
  },
  {
   "cell_type": "code",
   "execution_count": 17,
   "metadata": {
    "scrolled": true
   },
   "outputs": [],
   "source": [
    "#%%time\n",
    "#export_result(result_df)"
   ]
  },
  {
   "cell_type": "markdown",
   "metadata": {},
   "source": [
    "#### - Step 5 Check the result\n",
    "The **Table 23** shows a sample result of matrix factorization recommendation. The first item in the result list represent the ranking, the second item is the restaurant's name and the third item is the scores of each restaurant."
   ]
  },
  {
   "cell_type": "code",
   "execution_count": 18,
   "metadata": {
    "scrolled": true
   },
   "outputs": [
    {
     "data": {
      "text/html": [
       "<div>\n",
       "<style scoped>\n",
       "    .dataframe tbody tr th:only-of-type {\n",
       "        vertical-align: middle;\n",
       "    }\n",
       "\n",
       "    .dataframe tbody tr th {\n",
       "        vertical-align: top;\n",
       "    }\n",
       "\n",
       "    .dataframe thead th {\n",
       "        text-align: right;\n",
       "    }\n",
       "</style>\n",
       "<table border=\"1\" class=\"dataframe\">\n",
       "  <thead>\n",
       "    <tr style=\"text-align: right;\">\n",
       "      <th></th>\n",
       "      <th>Unnamed: 0</th>\n",
       "      <th>user_id</th>\n",
       "      <th>Recommendation</th>\n",
       "    </tr>\n",
       "  </thead>\n",
       "  <tbody>\n",
       "    <tr>\n",
       "      <th>0</th>\n",
       "      <td>0</td>\n",
       "      <td>---xAZNw9fFPBoy7jmkA2A</td>\n",
       "      <td>[['1', 'The Cuban Restaurant and Bar', 0.01458...</td>\n",
       "    </tr>\n",
       "    <tr>\n",
       "      <th>1</th>\n",
       "      <td>1</td>\n",
       "      <td>--68ZwhCrUJUmCXXkMTMKw</td>\n",
       "      <td>[['1', 'The Cuban Restaurant and Bar', 0.00175...</td>\n",
       "    </tr>\n",
       "    <tr>\n",
       "      <th>2</th>\n",
       "      <td>2</td>\n",
       "      <td>--8M2DZ9JkDwTveuRhLPTQ</td>\n",
       "      <td>[['1', 'Perry St', 0.23603528958327633], ['2',...</td>\n",
       "    </tr>\n",
       "    <tr>\n",
       "      <th>3</th>\n",
       "      <td>3</td>\n",
       "      <td>--ARr3m5JsxaX3DTUVQW7w</td>\n",
       "      <td>[['1', 'STK Downtown', 0.037760289982801606], ...</td>\n",
       "    </tr>\n",
       "    <tr>\n",
       "      <th>4</th>\n",
       "      <td>4</td>\n",
       "      <td>--CZJeSIpxwQ0VULjnM57w</td>\n",
       "      <td>[['1', 'The Cuban Restaurant and Bar', 0.03576...</td>\n",
       "    </tr>\n",
       "  </tbody>\n",
       "</table>\n",
       "</div>"
      ],
      "text/plain": [
       "   Unnamed: 0                 user_id  \\\n",
       "0           0  ---xAZNw9fFPBoy7jmkA2A   \n",
       "1           1  --68ZwhCrUJUmCXXkMTMKw   \n",
       "2           2  --8M2DZ9JkDwTveuRhLPTQ   \n",
       "3           3  --ARr3m5JsxaX3DTUVQW7w   \n",
       "4           4  --CZJeSIpxwQ0VULjnM57w   \n",
       "\n",
       "                                      Recommendation  \n",
       "0  [['1', 'The Cuban Restaurant and Bar', 0.01458...  \n",
       "1  [['1', 'The Cuban Restaurant and Bar', 0.00175...  \n",
       "2  [['1', 'Perry St', 0.23603528958327633], ['2',...  \n",
       "3  [['1', 'STK Downtown', 0.037760289982801606], ...  \n",
       "4  [['1', 'The Cuban Restaurant and Bar', 0.03576...  "
      ]
     },
     "execution_count": 18,
     "metadata": {},
     "output_type": "execute_result"
    }
   ],
   "source": [
    "matrix_factorization_result = pd.read_csv('Method_3_Matrix_Factorization/matrix_factorization_result.csv')\n",
    "matrix_factorization_result.head()"
   ]
  },
  {
   "cell_type": "code",
   "execution_count": 19,
   "metadata": {
    "scrolled": true
   },
   "outputs": [
    {
     "data": {
      "text/plain": [
       "\"[['1', 'The Cuban Restaurant and Bar', 0.01458922419511693], ['2', 'La Isla Restaurant', 0.012734421654190975], ['3', 'Pilsener Haus & Biergarten', 0.00954516675514815]]\""
      ]
     },
     "execution_count": 19,
     "metadata": {},
     "output_type": "execute_result"
    }
   ],
   "source": [
    "matrix_factorization_result.loc[0, 'Recommendation']"
   ]
  },
  {
   "cell_type": "markdown",
   "metadata": {},
   "source": [
    "<center>**Table 23: A sample of matrix factorization result**</center>\n",
    "\n",
    "#### Matrix Factorization Summary：\n",
    "\n",
    "In general, matrix factorization method is more elegant than previous two methods. It could easily apply to masive dataset and we could add more new parameter(bias, historical feedback, time changes and so on) to the algorithms accordindly. However, the data sparisity will also limit its performance.\n"
   ]
  },
  {
   "cell_type": "markdown",
   "metadata": {},
   "source": [
    "### Part 3 - 4. Deep Learning - neural network:\n",
    "I have already build three recommendation systems with popular recommendation algorithms. Now, I will try to use deep learning method - Neural Networks to build a recommendation system. The objective is same as previous methods. I will recommend 3 resturants each customer most likely to be interested to them.\n",
    "\n",
    "Neural Network method simulate the processes that human or animal recognized the object.  An artificial neural network includes one input layer, at least one hidden layer with nodes(kernel) and bias,  one output layer including defined target classes. Each layers and nodes will be randomly generated when launching the training process. Or if we apply transfer learning, the layers and nodes could be like a pre-trained model. Input variables will be normalized firstly, multiple with each neural weights, sum together, plus an bias and connect with the next layer. The target of each training process is trying to reduce the differences between real labels and the predicted results. We could use sigmoid, adam or other methods to optimize the reducing process. The revised information will transfer back to each layer and nodes as well as modify the weights and bias. Finally, we will get a neural network with relatively accurate weights and bias for each node on each layer.\n",
    "\n",
    "![](Image/NN.png)\n",
    "\n",
    "Before fiting the variable into neural network, we should normalize the input variables for each row first, since the Neural Network Algorithm assume that the input variable is an number between 0 to 1.\n",
    "\n",
    "Tools: \n",
    "- I will use sklearn in python to build the NN recommendation system.\n",
    "\n",
    "Model design:\n",
    "- Label:\n",
    "    - Restaurants Name (302 classes in total)\n",
    "\n",
    "- According to the EDA part, I will include some variables in the model. \n",
    "- Input variables:\n",
    "    - user_rating\n",
    "    - restaurant rating\n",
    "    - restaurant price\n",
    "    - restaurant type\n",
    "    \n",
    "- The first three variables are numerical data and the restaurant type is data in text format. So I will also apply NLP to convert the restaurant_variables into the data type that NN could recognize.\n",
    "\n",
    "- I design this model because the Neural Network model will return a restaurant that most likely match with the input variables. In a situation that accuracy eaqual to 100%, NN model will return the label (restaurant) we inputed. At the same time, it will also give a probability for each class in the dataset, which will show how does one restaurant is likely to be the accurate one. In another word, in order to build a recommendation system based on NN, I could rank both of these classes(302 restaurants) by the probability rate. And then, I could remove the accurate label in the ranking list and return other classes from higer probability to lower. So, the top n restaurants in this ranking will be the restaurants that are most similar to the accurate one."
   ]
  },
  {
   "cell_type": "markdown",
   "metadata": {},
   "source": [
    "### Part 3 - 4 - 1: Data Preparation\n",
    "**Table 24** is the dataset I use to build the Neural Network recommendation system. I will use the restaurant_name as the label and use user_rating, restaurant_rating, restaurant_price and restaurant_type as the independent variables."
   ]
  },
  {
   "cell_type": "code",
   "execution_count": 2,
   "metadata": {
    "scrolled": true
   },
   "outputs": [],
   "source": [
    "df = pd.read_csv('Method_4_Neural_Network/Hoboken_restaurants_reviews_cleaned.csv')"
   ]
  },
  {
   "cell_type": "code",
   "execution_count": 3,
   "metadata": {
    "scrolled": true
   },
   "outputs": [
    {
     "data": {
      "text/html": [
       "<div>\n",
       "<style scoped>\n",
       "    .dataframe tbody tr th:only-of-type {\n",
       "        vertical-align: middle;\n",
       "    }\n",
       "\n",
       "    .dataframe tbody tr th {\n",
       "        vertical-align: top;\n",
       "    }\n",
       "\n",
       "    .dataframe thead th {\n",
       "        text-align: right;\n",
       "    }\n",
       "</style>\n",
       "<table border=\"1\" class=\"dataframe\">\n",
       "  <thead>\n",
       "    <tr style=\"text-align: right;\">\n",
       "      <th></th>\n",
       "      <th>user_id</th>\n",
       "      <th>restaurant_name</th>\n",
       "      <th>user_rating</th>\n",
       "      <th>restaurant_rating</th>\n",
       "      <th>restaurant_price</th>\n",
       "      <th>restaurant_type</th>\n",
       "    </tr>\n",
       "  </thead>\n",
       "  <tbody>\n",
       "    <tr>\n",
       "      <th>0</th>\n",
       "      <td>dRuCO4NYO7zyAF8-CeJmZg</td>\n",
       "      <td>Grand Vin</td>\n",
       "      <td>5</td>\n",
       "      <td>4.0</td>\n",
       "      <td>2.0</td>\n",
       "      <td>cocktail bars wine italian</td>\n",
       "    </tr>\n",
       "    <tr>\n",
       "      <th>1</th>\n",
       "      <td>f36YZ1cA291bNtMHXWtu1Q</td>\n",
       "      <td>Grand Vin</td>\n",
       "      <td>4</td>\n",
       "      <td>4.0</td>\n",
       "      <td>2.0</td>\n",
       "      <td>cocktail bars wine italian</td>\n",
       "    </tr>\n",
       "    <tr>\n",
       "      <th>2</th>\n",
       "      <td>-xYUKfWQTaB-7BeizsQA3w</td>\n",
       "      <td>Grand Vin</td>\n",
       "      <td>5</td>\n",
       "      <td>4.0</td>\n",
       "      <td>2.0</td>\n",
       "      <td>cocktail bars wine italian</td>\n",
       "    </tr>\n",
       "    <tr>\n",
       "      <th>3</th>\n",
       "      <td>tt1vLgAP5UpRXAKJLT2KWg</td>\n",
       "      <td>Grand Vin</td>\n",
       "      <td>4</td>\n",
       "      <td>4.0</td>\n",
       "      <td>2.0</td>\n",
       "      <td>cocktail bars wine italian</td>\n",
       "    </tr>\n",
       "    <tr>\n",
       "      <th>4</th>\n",
       "      <td>-K79Xep4lElqIChsJYWuiQ</td>\n",
       "      <td>Grand Vin</td>\n",
       "      <td>5</td>\n",
       "      <td>4.0</td>\n",
       "      <td>2.0</td>\n",
       "      <td>cocktail bars wine italian</td>\n",
       "    </tr>\n",
       "  </tbody>\n",
       "</table>\n",
       "</div>"
      ],
      "text/plain": [
       "                  user_id restaurant_name  user_rating  restaurant_rating  \\\n",
       "0  dRuCO4NYO7zyAF8-CeJmZg       Grand Vin            5                4.0   \n",
       "1  f36YZ1cA291bNtMHXWtu1Q       Grand Vin            4                4.0   \n",
       "2  -xYUKfWQTaB-7BeizsQA3w       Grand Vin            5                4.0   \n",
       "3  tt1vLgAP5UpRXAKJLT2KWg       Grand Vin            4                4.0   \n",
       "4  -K79Xep4lElqIChsJYWuiQ       Grand Vin            5                4.0   \n",
       "\n",
       "   restaurant_price             restaurant_type  \n",
       "0               2.0  cocktail bars wine italian  \n",
       "1               2.0  cocktail bars wine italian  \n",
       "2               2.0  cocktail bars wine italian  \n",
       "3               2.0  cocktail bars wine italian  \n",
       "4               2.0  cocktail bars wine italian  "
      ]
     },
     "execution_count": 3,
     "metadata": {},
     "output_type": "execute_result"
    }
   ],
   "source": [
    "nn_df = df[['user_id','restaurant_name','user_rating','restaurant_rating','restaurant_price','restaurant_type']]\n",
    "nn_df.head()"
   ]
  },
  {
   "cell_type": "markdown",
   "metadata": {},
   "source": [
    "<center>**Table 24: Neural Network input data**</center>\n",
    "\n",
    "#### Step 1: Normalized numerical data\n",
    "In this step, I use 'max and min' normalized method to encode the user_rating, restaurant_rating and restaurant_price column into normalized value."
   ]
  },
  {
   "cell_type": "code",
   "execution_count": 4,
   "metadata": {
    "scrolled": true
   },
   "outputs": [],
   "source": [
    "def normalize_variable(nn_df,variable_names):\n",
    "    variables_li = []\n",
    "    for variable in variable_names:\n",
    "        variables_li.append(nn_df[variable])\n",
    "    encoder = Normalizer()\n",
    "    to_array = np.asarray(variables_li)\n",
    "    norm_result = encoder.fit_transform(to_array)\n",
    "    norm_result = norm_result.T\n",
    "    return norm_result"
   ]
  },
  {
   "cell_type": "code",
   "execution_count": 5,
   "metadata": {},
   "outputs": [],
   "source": [
    "variable_names = ['user_rating', 'restaurant_rating', 'restaurant_price']\n",
    "norm_result = normalize_variable(nn_df,variable_names)"
   ]
  },
  {
   "cell_type": "markdown",
   "metadata": {},
   "source": [
    "#### Step 2: Normalized text data by applying NLP- tf-idf\n",
    "In this step, I use 'tf-idf' to convert the restaurant_type data into weights. "
   ]
  },
  {
   "cell_type": "code",
   "execution_count": 6,
   "metadata": {
    "scrolled": true
   },
   "outputs": [],
   "source": [
    "stemmer = SnowballStemmer(\"english\")\n",
    "tokenizer = RegexpTokenizer(\"[a-z']+\")\n",
    "\n",
    "def tokenize(text):\n",
    "    tokens = tokenizer.tokenize(text)\n",
    "    return [stemmer.stem(t) for t in tokens] \n",
    "\n",
    "def get_tf(data, idf, max_df=1.0, min_df=1, ngram_range=(1,1)):\n",
    "    if idf:\n",
    "        \"\"\"Convert a collection of raw documents to a matrix of TF-IDF features.\"\"\"\n",
    "        m = TfidfVectorizer(max_df=max_df, min_df=min_df, stop_words='english', ngram_range=ngram_range, tokenizer=tokenize,lowercase=True)\n",
    "    d = m.fit_transform(data)\n",
    "    return m, d"
   ]
  },
  {
   "cell_type": "code",
   "execution_count": 7,
   "metadata": {
    "scrolled": true
   },
   "outputs": [],
   "source": [
    "tfidf_m, tfidf_d = get_tf(nn_df['restaurant_type'], idf=True, max_df=0.5, min_df=10)"
   ]
  },
  {
   "cell_type": "markdown",
   "metadata": {},
   "source": [
    "#### Step 3: Combine step 1 and step 2 and store the new matrix like dataframe\n",
    "**Table 25** shows the new matrix like dataframe. Each row represent each customer. The 0 to 128 columns(129 in total) represent 129 features of restaurant type and the weight of preferences that each customer tend to like each feature. User_rating, restaurant_rating and restaurant_type columns are the encoded value according to original dataframe. Output column is the restaurant_name and will also be the label for each observation."
   ]
  },
  {
   "cell_type": "code",
   "execution_count": 8,
   "metadata": {
    "scrolled": true
   },
   "outputs": [],
   "source": [
    "def get_nn_df(nn_df, norm_result, tfidf_d, variable_names):\n",
    "    norm_result = pd.DataFrame(norm_result)\n",
    "    tfidf_d = pd.DataFrame(tfidf_d.toarray())\n",
    "    for index, name in enumerate(variable_names):\n",
    "        tfidf_d[name] = norm_result.iloc[:,index]\n",
    "    tfidf_d.index = nn_df.user_id\n",
    "    tfidf_d['output'] = list(nn_df.restaurant_name)\n",
    "    return tfidf_d"
   ]
  },
  {
   "cell_type": "code",
   "execution_count": 9,
   "metadata": {
    "scrolled": true
   },
   "outputs": [
    {
     "data": {
      "text/html": [
       "<div>\n",
       "<style scoped>\n",
       "    .dataframe tbody tr th:only-of-type {\n",
       "        vertical-align: middle;\n",
       "    }\n",
       "\n",
       "    .dataframe tbody tr th {\n",
       "        vertical-align: top;\n",
       "    }\n",
       "\n",
       "    .dataframe thead th {\n",
       "        text-align: right;\n",
       "    }\n",
       "</style>\n",
       "<table border=\"1\" class=\"dataframe\">\n",
       "  <thead>\n",
       "    <tr style=\"text-align: right;\">\n",
       "      <th></th>\n",
       "      <th>0</th>\n",
       "      <th>1</th>\n",
       "      <th>2</th>\n",
       "      <th>3</th>\n",
       "      <th>4</th>\n",
       "      <th>5</th>\n",
       "      <th>6</th>\n",
       "      <th>7</th>\n",
       "      <th>8</th>\n",
       "      <th>9</th>\n",
       "      <th>...</th>\n",
       "      <th>123</th>\n",
       "      <th>124</th>\n",
       "      <th>125</th>\n",
       "      <th>126</th>\n",
       "      <th>127</th>\n",
       "      <th>128</th>\n",
       "      <th>user_rating</th>\n",
       "      <th>restaurant_rating</th>\n",
       "      <th>restaurant_price</th>\n",
       "      <th>output</th>\n",
       "    </tr>\n",
       "    <tr>\n",
       "      <th>user_id</th>\n",
       "      <th></th>\n",
       "      <th></th>\n",
       "      <th></th>\n",
       "      <th></th>\n",
       "      <th></th>\n",
       "      <th></th>\n",
       "      <th></th>\n",
       "      <th></th>\n",
       "      <th></th>\n",
       "      <th></th>\n",
       "      <th></th>\n",
       "      <th></th>\n",
       "      <th></th>\n",
       "      <th></th>\n",
       "      <th></th>\n",
       "      <th></th>\n",
       "      <th></th>\n",
       "      <th></th>\n",
       "      <th></th>\n",
       "      <th></th>\n",
       "      <th></th>\n",
       "    </tr>\n",
       "  </thead>\n",
       "  <tbody>\n",
       "    <tr>\n",
       "      <th>dRuCO4NYO7zyAF8-CeJmZg</th>\n",
       "      <td>0.0</td>\n",
       "      <td>0.0</td>\n",
       "      <td>0.0</td>\n",
       "      <td>0.0</td>\n",
       "      <td>0.0</td>\n",
       "      <td>0.0</td>\n",
       "      <td>0.0</td>\n",
       "      <td>0.309521</td>\n",
       "      <td>0.0</td>\n",
       "      <td>0.0</td>\n",
       "      <td>...</td>\n",
       "      <td>0.0</td>\n",
       "      <td>0.0</td>\n",
       "      <td>0.0</td>\n",
       "      <td>0.670605</td>\n",
       "      <td>0.0</td>\n",
       "      <td>0.0</td>\n",
       "      <td>0.004578</td>\n",
       "      <td>0.003842</td>\n",
       "      <td>0.003032</td>\n",
       "      <td>Grand Vin</td>\n",
       "    </tr>\n",
       "    <tr>\n",
       "      <th>f36YZ1cA291bNtMHXWtu1Q</th>\n",
       "      <td>0.0</td>\n",
       "      <td>0.0</td>\n",
       "      <td>0.0</td>\n",
       "      <td>0.0</td>\n",
       "      <td>0.0</td>\n",
       "      <td>0.0</td>\n",
       "      <td>0.0</td>\n",
       "      <td>0.309521</td>\n",
       "      <td>0.0</td>\n",
       "      <td>0.0</td>\n",
       "      <td>...</td>\n",
       "      <td>0.0</td>\n",
       "      <td>0.0</td>\n",
       "      <td>0.0</td>\n",
       "      <td>0.670605</td>\n",
       "      <td>0.0</td>\n",
       "      <td>0.0</td>\n",
       "      <td>0.003663</td>\n",
       "      <td>0.003842</td>\n",
       "      <td>0.003032</td>\n",
       "      <td>Grand Vin</td>\n",
       "    </tr>\n",
       "    <tr>\n",
       "      <th>-xYUKfWQTaB-7BeizsQA3w</th>\n",
       "      <td>0.0</td>\n",
       "      <td>0.0</td>\n",
       "      <td>0.0</td>\n",
       "      <td>0.0</td>\n",
       "      <td>0.0</td>\n",
       "      <td>0.0</td>\n",
       "      <td>0.0</td>\n",
       "      <td>0.309521</td>\n",
       "      <td>0.0</td>\n",
       "      <td>0.0</td>\n",
       "      <td>...</td>\n",
       "      <td>0.0</td>\n",
       "      <td>0.0</td>\n",
       "      <td>0.0</td>\n",
       "      <td>0.670605</td>\n",
       "      <td>0.0</td>\n",
       "      <td>0.0</td>\n",
       "      <td>0.004578</td>\n",
       "      <td>0.003842</td>\n",
       "      <td>0.003032</td>\n",
       "      <td>Grand Vin</td>\n",
       "    </tr>\n",
       "    <tr>\n",
       "      <th>tt1vLgAP5UpRXAKJLT2KWg</th>\n",
       "      <td>0.0</td>\n",
       "      <td>0.0</td>\n",
       "      <td>0.0</td>\n",
       "      <td>0.0</td>\n",
       "      <td>0.0</td>\n",
       "      <td>0.0</td>\n",
       "      <td>0.0</td>\n",
       "      <td>0.309521</td>\n",
       "      <td>0.0</td>\n",
       "      <td>0.0</td>\n",
       "      <td>...</td>\n",
       "      <td>0.0</td>\n",
       "      <td>0.0</td>\n",
       "      <td>0.0</td>\n",
       "      <td>0.670605</td>\n",
       "      <td>0.0</td>\n",
       "      <td>0.0</td>\n",
       "      <td>0.003663</td>\n",
       "      <td>0.003842</td>\n",
       "      <td>0.003032</td>\n",
       "      <td>Grand Vin</td>\n",
       "    </tr>\n",
       "    <tr>\n",
       "      <th>-K79Xep4lElqIChsJYWuiQ</th>\n",
       "      <td>0.0</td>\n",
       "      <td>0.0</td>\n",
       "      <td>0.0</td>\n",
       "      <td>0.0</td>\n",
       "      <td>0.0</td>\n",
       "      <td>0.0</td>\n",
       "      <td>0.0</td>\n",
       "      <td>0.309521</td>\n",
       "      <td>0.0</td>\n",
       "      <td>0.0</td>\n",
       "      <td>...</td>\n",
       "      <td>0.0</td>\n",
       "      <td>0.0</td>\n",
       "      <td>0.0</td>\n",
       "      <td>0.670605</td>\n",
       "      <td>0.0</td>\n",
       "      <td>0.0</td>\n",
       "      <td>0.004578</td>\n",
       "      <td>0.003842</td>\n",
       "      <td>0.003032</td>\n",
       "      <td>Grand Vin</td>\n",
       "    </tr>\n",
       "  </tbody>\n",
       "</table>\n",
       "<p>5 rows × 133 columns</p>\n",
       "</div>"
      ],
      "text/plain": [
       "                          0    1    2    3    4    5    6         7    8    9  \\\n",
       "user_id                                                                         \n",
       "dRuCO4NYO7zyAF8-CeJmZg  0.0  0.0  0.0  0.0  0.0  0.0  0.0  0.309521  0.0  0.0   \n",
       "f36YZ1cA291bNtMHXWtu1Q  0.0  0.0  0.0  0.0  0.0  0.0  0.0  0.309521  0.0  0.0   \n",
       "-xYUKfWQTaB-7BeizsQA3w  0.0  0.0  0.0  0.0  0.0  0.0  0.0  0.309521  0.0  0.0   \n",
       "tt1vLgAP5UpRXAKJLT2KWg  0.0  0.0  0.0  0.0  0.0  0.0  0.0  0.309521  0.0  0.0   \n",
       "-K79Xep4lElqIChsJYWuiQ  0.0  0.0  0.0  0.0  0.0  0.0  0.0  0.309521  0.0  0.0   \n",
       "\n",
       "                          ...      123  124  125       126  127  128  \\\n",
       "user_id                   ...                                          \n",
       "dRuCO4NYO7zyAF8-CeJmZg    ...      0.0  0.0  0.0  0.670605  0.0  0.0   \n",
       "f36YZ1cA291bNtMHXWtu1Q    ...      0.0  0.0  0.0  0.670605  0.0  0.0   \n",
       "-xYUKfWQTaB-7BeizsQA3w    ...      0.0  0.0  0.0  0.670605  0.0  0.0   \n",
       "tt1vLgAP5UpRXAKJLT2KWg    ...      0.0  0.0  0.0  0.670605  0.0  0.0   \n",
       "-K79Xep4lElqIChsJYWuiQ    ...      0.0  0.0  0.0  0.670605  0.0  0.0   \n",
       "\n",
       "                        user_rating  restaurant_rating  restaurant_price  \\\n",
       "user_id                                                                    \n",
       "dRuCO4NYO7zyAF8-CeJmZg     0.004578           0.003842          0.003032   \n",
       "f36YZ1cA291bNtMHXWtu1Q     0.003663           0.003842          0.003032   \n",
       "-xYUKfWQTaB-7BeizsQA3w     0.004578           0.003842          0.003032   \n",
       "tt1vLgAP5UpRXAKJLT2KWg     0.003663           0.003842          0.003032   \n",
       "-K79Xep4lElqIChsJYWuiQ     0.004578           0.003842          0.003032   \n",
       "\n",
       "                           output  \n",
       "user_id                            \n",
       "dRuCO4NYO7zyAF8-CeJmZg  Grand Vin  \n",
       "f36YZ1cA291bNtMHXWtu1Q  Grand Vin  \n",
       "-xYUKfWQTaB-7BeizsQA3w  Grand Vin  \n",
       "tt1vLgAP5UpRXAKJLT2KWg  Grand Vin  \n",
       "-K79Xep4lElqIChsJYWuiQ  Grand Vin  \n",
       "\n",
       "[5 rows x 133 columns]"
      ]
     },
     "execution_count": 9,
     "metadata": {},
     "output_type": "execute_result"
    }
   ],
   "source": [
    "df = get_nn_df(nn_df, norm_result, tfidf_d, variable_names)\n",
    "df.to_csv('Method_4_Neural_Network/normalized_neural_network_dataset.csv')\n",
    "df.head()"
   ]
  },
  {
   "cell_type": "markdown",
   "metadata": {},
   "source": [
    "<center>**Table 25: Neural Network dataset**</center>\n",
    "\n",
    "### Part 3 - 4 - 2: Build Neural Network model and tune to find a best model"
   ]
  },
  {
   "cell_type": "markdown",
   "metadata": {},
   "source": [
    "#### Step 1: Data loading and spliting\n",
    "The first target in this step is to figure out a best model, so I split the input data into two set with ratio, 80/20."
   ]
  },
  {
   "cell_type": "code",
   "execution_count": 10,
   "metadata": {
    "scrolled": true
   },
   "outputs": [],
   "source": [
    "X = df.iloc[:,:-1]\n",
    "y = df.output\n",
    "X_train, X_test, y_train, y_test = train_test_split(X, y, test_size=0.2, random_state=222)"
   ]
  },
  {
   "cell_type": "markdown",
   "metadata": {},
   "source": [
    "#### Step 2: Build the model\n",
    "At the first try, I randomly generate a neural network model with following parameters: \n",
    "    - hidden layer siz e= (16,6)  \n",
    "    - solver = adam  \n",
    "    - learning rate = 0.001\n",
    "\n",
    "After training the model with training set and predicting the model with test set, the accuracy rate is 86.28% for the test set."
   ]
  },
  {
   "cell_type": "code",
   "execution_count": 12,
   "metadata": {
    "scrolled": true
   },
   "outputs": [
    {
     "name": "stdout",
     "output_type": "stream",
     "text": [
      "Accuracy: 0.8628962004958789\n",
      "Wall time: 3min 10s\n"
     ]
    }
   ],
   "source": [
    "%%time\n",
    "nn= MLPClassifier(solver='adam', alpha=1e-5, hidden_layer_sizes=(16, 6), random_state=1, learning_rate='adaptive', max_iter=1000)\n",
    "nn = nn.fit(X_train, y_train)\n",
    "#Predict\n",
    "nn_prediction = nn.predict(X_test)\n",
    "nn_acc = accuracy_score(y_test, nn_prediction)\n",
    "print('Accuracy:',nn_acc)"
   ]
  },
  {
   "cell_type": "markdown",
   "metadata": {},
   "source": [
    "#### Step 3:Tuning\n",
    "In order to get a better model, I tune some parameters and obtain a better model with 87.77% accuracy rate and parameters as follows:\n",
    "    - hidden layer siz e= (25,6)  \n",
    "    - solver = adam  \n",
    "    - learning rate = 0.005"
   ]
  },
  {
   "cell_type": "code",
   "execution_count": 30,
   "metadata": {
    "scrolled": true
   },
   "outputs": [
    {
     "name": "stderr",
     "output_type": "stream",
     "text": [
      "c:\\programdata\\anaconda3\\lib\\site-packages\\sklearn\\model_selection\\_split.py:605: Warning: The least populated class in y has only 1 members, which is too few. The minimum number of members in any class cannot be less than n_splits=3.\n",
      "  % (min_groups, self.n_splits)), Warning)\n"
     ]
    },
    {
     "name": "stdout",
     "output_type": "stream",
     "text": [
      "{'hidden_layer_sizes': (25, 6), 'learning_rate_init': 0.005}\n",
      "Wall time: 2h 56min 34s\n"
     ]
    }
   ],
   "source": [
    "%%time\n",
    "#Tune\n",
    "nn= MLPClassifier(solver='adam', alpha=1e-5, hidden_layer_sizes=(16, 6), random_state=1, learning_rate='adaptive', max_iter=10000)\n",
    "param_grid = {'hidden_layer_sizes':[(16,3), (20,3),(20,6),(25,3),(25,6)], \n",
    "             'learning_rate_init': [0.0001, 0.0005, 0.001, 0.005]}\n",
    "CV_nn = GridSearchCV(nn, param_grid,refit = True)\n",
    "CV_nn.fit(X_train, y_train)\n",
    "print (CV_nn.best_params_)"
   ]
  },
  {
   "cell_type": "code",
   "execution_count": 31,
   "metadata": {},
   "outputs": [
    {
     "name": "stdout",
     "output_type": "stream",
     "text": [
      "Accuracy: 0.8777055551832741\n"
     ]
    }
   ],
   "source": [
    "nn_best = CV_nn.best_estimator_\n",
    "nn_best = nn_best.fit(X_train, y_train)\n",
    "nn_best_prediction = nn_best.predict(X_test)\n",
    "nn_best_acc = accuracy_score(y_test, nn_best_prediction)\n",
    "print('Accuracy:',nn_best_acc)"
   ]
  },
  {
   "cell_type": "code",
   "execution_count": 13,
   "metadata": {},
   "outputs": [],
   "source": [
    "nn_best = nn"
   ]
  },
  {
   "cell_type": "code",
   "execution_count": 14,
   "metadata": {},
   "outputs": [],
   "source": [
    "X_train = df.iloc[:,:-1]\n",
    "y_train = df.output"
   ]
  },
  {
   "cell_type": "markdown",
   "metadata": {},
   "source": [
    "#### Step 4: Get recommendation result with best estimator\n",
    "Following table shows a sample result of the neural network model."
   ]
  },
  {
   "cell_type": "code",
   "execution_count": 15,
   "metadata": {},
   "outputs": [],
   "source": [
    "def get_recommendation_df(model, X_test):\n",
    "    probability = model.predict_proba(X_test)\n",
    "    recommendation_df = pd.DataFrame({'restaurant_name':model.classes_,'probability':probability[0]})\n",
    "    return recommendation_df"
   ]
  },
  {
   "cell_type": "code",
   "execution_count": 16,
   "metadata": {
    "scrolled": true
   },
   "outputs": [],
   "source": [
    "def get_output(top_n, y_test,recommendation_df):\n",
    "    top_n_df = recommendation_df[recommendation_df.restaurant_name != y_test].sort_values(by='probability', ascending=False).head(top_n)\n",
    "\n",
    "    recommend_restaurant = list(top_n_df.loc[:,'restaurant_name'])\n",
    "    recommend_score = list(top_n_df.loc[:,'probability'])\n",
    "    recommendation_li = []\n",
    "    for i in range(len(recommend_restaurant)):\n",
    "        rank_restaurant_score = [str(i+1), recommend_restaurant[i], recommend_score[i]]\n",
    "        recommendation_li.append(rank_restaurant_score)\n",
    "    return recommendation_li"
   ]
  },
  {
   "cell_type": "code",
   "execution_count": 17,
   "metadata": {
    "scrolled": true
   },
   "outputs": [
    {
     "data": {
      "text/html": [
       "<div>\n",
       "<style scoped>\n",
       "    .dataframe tbody tr th:only-of-type {\n",
       "        vertical-align: middle;\n",
       "    }\n",
       "\n",
       "    .dataframe tbody tr th {\n",
       "        vertical-align: top;\n",
       "    }\n",
       "\n",
       "    .dataframe thead th {\n",
       "        text-align: right;\n",
       "    }\n",
       "</style>\n",
       "<table border=\"1\" class=\"dataframe\">\n",
       "  <thead>\n",
       "    <tr style=\"text-align: right;\">\n",
       "      <th></th>\n",
       "      <th>probability</th>\n",
       "      <th>restaurant_name</th>\n",
       "    </tr>\n",
       "  </thead>\n",
       "  <tbody>\n",
       "    <tr>\n",
       "      <th>0</th>\n",
       "      <td>1.504943e-37</td>\n",
       "      <td>10th &amp; Willow Bar &amp; Grill</td>\n",
       "    </tr>\n",
       "    <tr>\n",
       "      <th>1</th>\n",
       "      <td>4.619613e-58</td>\n",
       "      <td>52 Restaurant</td>\n",
       "    </tr>\n",
       "    <tr>\n",
       "      <th>2</th>\n",
       "      <td>5.929570e-134</td>\n",
       "      <td>8th Street Tavern</td>\n",
       "    </tr>\n",
       "    <tr>\n",
       "      <th>3</th>\n",
       "      <td>7.670625e-54</td>\n",
       "      <td>Adoro Lei</td>\n",
       "    </tr>\n",
       "    <tr>\n",
       "      <th>4</th>\n",
       "      <td>2.107623e-145</td>\n",
       "      <td>Aether Game Cafe</td>\n",
       "    </tr>\n",
       "  </tbody>\n",
       "</table>\n",
       "</div>"
      ],
      "text/plain": [
       "     probability            restaurant_name\n",
       "0   1.504943e-37  10th & Willow Bar & Grill\n",
       "1   4.619613e-58              52 Restaurant\n",
       "2  5.929570e-134          8th Street Tavern\n",
       "3   7.670625e-54                  Adoro Lei\n",
       "4  2.107623e-145           Aether Game Cafe"
      ]
     },
     "execution_count": 17,
     "metadata": {},
     "output_type": "execute_result"
    }
   ],
   "source": [
    "top_n = 3\n",
    "X_test = np.asarray(X_train.iloc[8888,:])\n",
    "X_test = X_test.reshape(-1,1).T\n",
    "y_test = y_train.iloc[8888]\n",
    "recommendation_df = get_recommendation_df(nn_best, X_test)\n",
    "recommendation_df.head()"
   ]
  },
  {
   "cell_type": "code",
   "execution_count": 18,
   "metadata": {
    "scrolled": true
   },
   "outputs": [
    {
     "data": {
      "text/plain": [
       "[['1', 'Augustino’s', 0.022578243355864183],\n",
       " ['2', 'Hudson Clearwater', 0.0003665265326626242],\n",
       " ['3', 'The Lobster Place', 0.00035943076450474433]]"
      ]
     },
     "execution_count": 18,
     "metadata": {},
     "output_type": "execute_result"
    }
   ],
   "source": [
    "output = get_output(top_n, y_test,recommendation_df)\n",
    "output"
   ]
  },
  {
   "cell_type": "code",
   "execution_count": 19,
   "metadata": {
    "scrolled": true
   },
   "outputs": [],
   "source": [
    "def store_the_recommendation(X_train, y_train,nn_df, top_n, nn_best):\n",
    "    export_df = pd.DataFrame(nn_df.user_id)\n",
    "    recommendation_li = []\n",
    "    for i in range(len(X_train)):\n",
    "        X_test = np.asarray(X_train.iloc[i, :])\n",
    "        X_test = X_test.reshape(-1, 1).T\n",
    "        y_test = y_train.iloc[i]\n",
    "        recommendation_df = get_recommendation_df(nn_best, X_test)\n",
    "        output = get_output(top_n, y_test, recommendation_df)\n",
    "        recommendation_li.append(output)\n",
    "    export_df['Recommendation'] = recommendation_li\n",
    "    export_df.to_csv('Neural_Network_result.csv', index=False)\n",
    "    return None"
   ]
  },
  {
   "cell_type": "code",
   "execution_count": 20,
   "metadata": {
    "scrolled": true
   },
   "outputs": [],
   "source": [
    "#%%time\n",
    "#store_the_recommendation(X_train, y_train ,nn_df, top_n, nn_best)"
   ]
  },
  {
   "cell_type": "markdown",
   "metadata": {},
   "source": [
    "#### Step 5: Check the result\n",
    "Following table shows the final result that recommend 3 restaurants to each customers. The shape of the result is similar with the co-occurrence result and matrix factarization result. The only different is that the third item means the probability that the recommended restaurant match with the restaurants the user attended."
   ]
  },
  {
   "cell_type": "code",
   "execution_count": 21,
   "metadata": {},
   "outputs": [
    {
     "data": {
      "text/html": [
       "<div>\n",
       "<style scoped>\n",
       "    .dataframe tbody tr th:only-of-type {\n",
       "        vertical-align: middle;\n",
       "    }\n",
       "\n",
       "    .dataframe tbody tr th {\n",
       "        vertical-align: top;\n",
       "    }\n",
       "\n",
       "    .dataframe thead th {\n",
       "        text-align: right;\n",
       "    }\n",
       "</style>\n",
       "<table border=\"1\" class=\"dataframe\">\n",
       "  <thead>\n",
       "    <tr style=\"text-align: right;\">\n",
       "      <th></th>\n",
       "      <th>user_id</th>\n",
       "      <th>Recommendation</th>\n",
       "    </tr>\n",
       "  </thead>\n",
       "  <tbody>\n",
       "    <tr>\n",
       "      <th>0</th>\n",
       "      <td>dRuCO4NYO7zyAF8-CeJmZg</td>\n",
       "      <td>[['1', 'Barbuto', 0.0034586612971036304], ['2'...</td>\n",
       "    </tr>\n",
       "    <tr>\n",
       "      <th>1</th>\n",
       "      <td>f36YZ1cA291bNtMHXWtu1Q</td>\n",
       "      <td>[['1', 'Barbuto', 0.0032257489325294257], ['2'...</td>\n",
       "    </tr>\n",
       "    <tr>\n",
       "      <th>2</th>\n",
       "      <td>-xYUKfWQTaB-7BeizsQA3w</td>\n",
       "      <td>[['1', 'Barbuto', 0.0034586612971036304], ['2'...</td>\n",
       "    </tr>\n",
       "    <tr>\n",
       "      <th>3</th>\n",
       "      <td>tt1vLgAP5UpRXAKJLT2KWg</td>\n",
       "      <td>[['1', 'Barbuto', 0.0032257489325294257], ['2'...</td>\n",
       "    </tr>\n",
       "    <tr>\n",
       "      <th>4</th>\n",
       "      <td>-K79Xep4lElqIChsJYWuiQ</td>\n",
       "      <td>[['1', 'Barbuto', 0.0034586612971036304], ['2'...</td>\n",
       "    </tr>\n",
       "  </tbody>\n",
       "</table>\n",
       "</div>"
      ],
      "text/plain": [
       "                  user_id                                     Recommendation\n",
       "0  dRuCO4NYO7zyAF8-CeJmZg  [['1', 'Barbuto', 0.0034586612971036304], ['2'...\n",
       "1  f36YZ1cA291bNtMHXWtu1Q  [['1', 'Barbuto', 0.0032257489325294257], ['2'...\n",
       "2  -xYUKfWQTaB-7BeizsQA3w  [['1', 'Barbuto', 0.0034586612971036304], ['2'...\n",
       "3  tt1vLgAP5UpRXAKJLT2KWg  [['1', 'Barbuto', 0.0032257489325294257], ['2'...\n",
       "4  -K79Xep4lElqIChsJYWuiQ  [['1', 'Barbuto', 0.0034586612971036304], ['2'..."
      ]
     },
     "execution_count": 21,
     "metadata": {},
     "output_type": "execute_result"
    }
   ],
   "source": [
    "NN_result = pd.read_csv('Method_4_Neural_Network/Neural_Network_result.csv')\n",
    "NN_result.head()"
   ]
  },
  {
   "cell_type": "code",
   "execution_count": 22,
   "metadata": {},
   "outputs": [
    {
     "data": {
      "text/plain": [
       "\"[['1', 'Barbuto', 0.0034586612971036304], ['2', 'Zack’s Oak Bar & Restaurant', 0.00043441651480210933], ['3', 'The Ear Inn', 0.0002991082358883752]]\""
      ]
     },
     "execution_count": 22,
     "metadata": {},
     "output_type": "execute_result"
    }
   ],
   "source": [
    "NN_result.loc[0, 'Recommendation']"
   ]
  },
  {
   "cell_type": "markdown",
   "metadata": {},
   "source": [
    "#### Neural Network Summary:\n",
    "Neural Network recommendation system is different from previous three methods. The underlying concept is to predict the probability a restaurant matched with a customer's interests. This method could include more and take into account more parameters like customer's gender, their consumer behaviors, their social network relationship and so on. Also, along with more and more observations are using to feed the model, the accuracy of the model will be better and better. In addition, we could tune the model to find better parameters to build the neural network model. There are still space to tune and find a better model. However, the neural network recommendation system also have limitation that it could not perform well for a sparse dataset."
   ]
  },
  {
   "cell_type": "markdown",
   "metadata": {},
   "source": [
    "## Part 4: Comparison of the Recommendation System methods\n",
    "In real world, there are multiple parameters to evaluate the performance of recommendation system, such as customer's satisfaction, diversity of recommendation, creativity, innovation, surprice degree, real time updated and cold start, profit of project. However, this project was built in offline sandbox, it is hard to use the online evaluation to detect the performance of these methods. \n",
    "\n",
    "So I will compare these four recommendation system methods through describing their limitaions, advantages and application scenarios.\n",
    "\n",
    "- Co-occurrencce Matrix\n",
    "    - Advantage： Easy to understand; Start with any size dataset\n",
    "    - Limitation： Only focus on previous behaviors; ignore customer's rating\n",
    "- Collaborative Filtering\n",
    "    - Advantage：Perform well in masive dataset; Take customer's rating into account\n",
    "    - Limitation: Only focus on previous behaviors; rely on customer's rating ; Limited by data sparsity\n",
    "- Matrix Factorization\n",
    "    - Advantage：Take more parameters like bias, customer's feed back, changes of taste into account\n",
    "    - Limitation: Limited by data sparsity\n",
    "- Neural Network |\n",
    "    - Advantage：Easy to add more independent variables to build the NN model; Performance could be elevated with more data; Performance could be enhanced by tuning\n",
    "    - Limitation: Limited by data sparsity"
   ]
  },
  {
   "cell_type": "markdown",
   "metadata": {},
   "source": [
    "# V. Project Conclusion (Ni)\n",
    "Our main target of this project is to explore the insight from customer reviews from Yelp.com. We have two data sources, 1. Customer Reviews of Restaurants at Hoboken (74, 611 rows). We build a Web Scraper to scrape this dataset. 2. Full dataset yelp provided (321 million rows). we use yelp open source API to collect this dataset.\n",
    "\n",
    "In addition, we have tree sub objectives. The first one is predicting stars based on customer’s reviews and historical data. We use Random Forest algorithm in to predict the result. Our second sub objective is figuring out popular topics customer cared about, which will benefit owners of restaurants to improve their service quality. In this part, we applied NLP & Sentiment Analysis with using CV, tf-idf, LDA methods and machine Learning algotithms like Logistic Regression and Random Forest. The thrid sub target is recommending top 3 restaurants to each customer in the Hoboken dataset. In this part, we use four different recommendation methods including Co-occurrence Matrix, Collaborative Filtering, Matrix Factorization and a deep learning method Neural Network. \n",
    "\n",
    "In general, we reach the main target we setup and figure out the insight from reviews data. We provide scores prediction, help owners of restaurants modify their services and products and create profit for both restaurateurs and yelp.com."
   ]
  },
  {
   "cell_type": "markdown",
   "metadata": {},
   "source": [
    "# VI. Reference:\n",
    "- Recommendation System part:\n",
    "    1. Collaborative Filtering Recommender Based on Co-occurrence Matrix - Marjan Sterjev\n",
    "    2. Moviex.ai - Movie recommendations with Deep Learning\n",
    "    3. Deep Neural Networks for YouTube Recommendations - Paul Covington, Jay Adams, Emre Sargin\n",
    "    4. Matrix Factorization Techniques for recommender system - Yehuda Koren, Robert Bell, Chris Volinsky\n",
    "    5. https://learnforeverlearn.com/cooccurrence/\n",
    "    6. https://www.analyticsvidhya.com/blog/2016/06/quick-guide-build-recommendation-engine-python/\n",
    "    7. https://hub.packtpub.com/building-recommendation-engine-spark/\n"
   ]
  },
  {
   "cell_type": "code",
   "execution_count": null,
   "metadata": {},
   "outputs": [],
   "source": []
  }
 ],
 "metadata": {
  "kernelspec": {
   "display_name": "Python 3",
   "language": "python",
   "name": "python3"
  },
  "language_info": {
   "codemirror_mode": {
    "name": "ipython",
    "version": 3
   },
   "file_extension": ".py",
   "mimetype": "text/x-python",
   "name": "python",
   "nbconvert_exporter": "python",
   "pygments_lexer": "ipython3",
   "version": "3.6.4"
  }
 },
 "nbformat": 4,
 "nbformat_minor": 1
}
